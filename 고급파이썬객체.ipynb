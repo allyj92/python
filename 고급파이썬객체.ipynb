{
 "cells": [
  {
   "cell_type": "code",
   "execution_count": 15,
   "id": "12d5e6fe",
   "metadata": {},
   "outputs": [],
   "source": [
    "class Person:\n",
    "    department = 'School of Information'\n",
    "    \n",
    "    def set_name(self,new_name):\n",
    "        self.name = new_name\n",
    "    def set_location(self, new_location):\n",
    "        self.location = new_location\n",
    "    def set_department(self,new_department):\n",
    "        self.department = new_department"
   ]
  },
  {
   "cell_type": "code",
   "execution_count": 17,
   "id": "24c2d861",
   "metadata": {},
   "outputs": [
    {
     "name": "stdout",
     "output_type": "stream",
     "text": [
      "Christoper Brooks live in Ann Arbor,MI, USA and works in the departmentSchool\n"
     ]
    }
   ],
   "source": [
    "person = Person()\n",
    "person.set_name('Christoper Brooks')\n",
    "person.set_location('Ann Arbor,MI, USA')\n",
    "person.set_department('School')\n",
    "print('{} live in {} and works in the department{}'.format(person.name,person.location,person.department))"
   ]
  },
  {
   "cell_type": "code",
   "execution_count": 23,
   "id": "eb435972",
   "metadata": {},
   "outputs": [
    {
     "data": {
      "text/plain": [
       "<map at 0x1689b4135e0>"
      ]
     },
     "execution_count": 23,
     "metadata": {},
     "output_type": "execute_result"
    }
   ],
   "source": [
    "# map함수를 사용하면 하나의 구문으로 비교 가능\n",
    "\n",
    "store1 = [10.00,11.00,12.34,2.34]\n",
    "store2 = [9.00,11.10,12.34,2.01]\n",
    "cheapest = map(min, store1,store2) \n",
    "cheapest"
   ]
  },
  {
   "cell_type": "code",
   "execution_count": 25,
   "id": "d6efe19b",
   "metadata": {},
   "outputs": [
    {
     "data": {
      "text/plain": [
       "['Dr. Brooks', 'Dr. Collins-Thompson', 'Dr. Romero']"
      ]
     },
     "execution_count": 25,
     "metadata": {},
     "output_type": "execute_result"
    }
   ],
   "source": [
    "people = ['Dr. christopher Brooks','Dr. kevin Collins-Thompson','Dr. Daniel Romero']\n",
    "\n",
    "def split_title_and_name(person):\n",
    "    title = person.split()[0]\n",
    "    lastname = person.split()[-1]\n",
    "    return '{} {}'.format(title,lastname)\n",
    "list(map(split_title_and_name,people))"
   ]
  }
 ],
 "metadata": {
  "kernelspec": {
   "display_name": "Python 3 (ipykernel)",
   "language": "python",
   "name": "python3"
  },
  "language_info": {
   "codemirror_mode": {
    "name": "ipython",
    "version": 3
   },
   "file_extension": ".py",
   "mimetype": "text/x-python",
   "name": "python",
   "nbconvert_exporter": "python",
   "pygments_lexer": "ipython3",
   "version": "3.9.12"
  }
 },
 "nbformat": 4,
 "nbformat_minor": 5
}
