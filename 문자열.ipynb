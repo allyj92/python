{
 "cells": [
  {
   "cell_type": "code",
   "execution_count": 3,
   "id": "4c5de0ca",
   "metadata": {},
   "outputs": [
    {
     "name": "stdout",
     "output_type": "stream",
     "text": [
      "Chris bought 4 items(s) at a price of 3.24 each for a total of 12.96\n"
     ]
    }
   ],
   "source": [
    "# 구매 세부사항\n",
    "\n",
    "sales_record = {'price' : 3.24,\n",
    "                'num_items':4,\n",
    "                'person':'Chris'}\n",
    "\n",
    "sales_statement = '{} bought {} items(s) at a price of {} each for a total of {}'\n",
    "\n",
    "print(sales_statement.format(\n",
    "        sales_record['person'],\n",
    "        sales_record['num_items'],\n",
    "        sales_record['price'],\n",
    "        sales_record['num_items']*sales_record['price']\n",
    ")      \n",
    ")"
   ]
  }
 ],
 "metadata": {
  "kernelspec": {
   "display_name": "Python 3 (ipykernel)",
   "language": "python",
   "name": "python3"
  },
  "language_info": {
   "codemirror_mode": {
    "name": "ipython",
    "version": 3
   },
   "file_extension": ".py",
   "mimetype": "text/x-python",
   "name": "python",
   "nbconvert_exporter": "python",
   "pygments_lexer": "ipython3",
   "version": "3.9.12"
  }
 },
 "nbformat": 4,
 "nbformat_minor": 5
}
