{
 "cells": [
  {
   "cell_type": "code",
   "execution_count": 1,
   "id": "d9d617e9",
   "metadata": {},
   "outputs": [],
   "source": [
    "import numpy as np"
   ]
  },
  {
   "cell_type": "code",
   "execution_count": 2,
   "id": "292ea01d",
   "metadata": {},
   "outputs": [],
   "source": [
    "data = np.array([1,2,3,4,5])\n",
    "data_2d = np.array([[1,2,3],[1,2,6]])\n",
    "data_random = np.random.randn(2,3)\n",
    "data_zeros = np.zeros(5)\n",
    "data_ones = np.ones((2,3))"
   ]
  },
  {
   "cell_type": "code",
   "execution_count": 3,
   "id": "feceb9f0",
   "metadata": {},
   "outputs": [
    {
     "name": "stdout",
     "output_type": "stream",
     "text": [
      "[1 2 3 4 5]\n",
      "[[1 2 3]\n",
      " [1 2 6]]\n",
      "[[ 1.29174639 -0.08445739 -0.89542767]\n",
      " [-1.11522535 -0.00935516  1.94628906]]\n",
      "[0. 0. 0. 0. 0.]\n",
      "[[1. 1. 1.]\n",
      " [1. 1. 1.]]\n"
     ]
    }
   ],
   "source": [
    "print(data)\n",
    "print(data_2d)\n",
    "print(data_random)\n",
    "print(data_zeros)\n",
    "print(data_ones)"
   ]
  },
  {
   "cell_type": "code",
   "execution_count": 4,
   "id": "4a7e59c8",
   "metadata": {},
   "outputs": [],
   "source": [
    "data = np.array([[1,2,3],\n",
    "                [4,5,6],\n",
    "                [7,8,9]])"
   ]
  },
  {
   "cell_type": "code",
   "execution_count": 5,
   "id": "0ea14846",
   "metadata": {},
   "outputs": [
    {
     "name": "stdout",
     "output_type": "stream",
     "text": [
      "[[1 2 3]\n",
      " [4 5 6]\n",
      " [7 8 9]]\n"
     ]
    }
   ],
   "source": [
    "print(data)"
   ]
  },
  {
   "cell_type": "code",
   "execution_count": 6,
   "id": "f5aeb78f",
   "metadata": {},
   "outputs": [
    {
     "name": "stdout",
     "output_type": "stream",
     "text": [
      "2\n"
     ]
    }
   ],
   "source": [
    "print(data[0,1])"
   ]
  },
  {
   "cell_type": "code",
   "execution_count": 7,
   "id": "9deabed7",
   "metadata": {},
   "outputs": [
    {
     "name": "stdout",
     "output_type": "stream",
     "text": [
      "2\n"
     ]
    }
   ],
   "source": [
    "print(data[0][1])"
   ]
  },
  {
   "cell_type": "code",
   "execution_count": 8,
   "id": "a5efe486",
   "metadata": {},
   "outputs": [
    {
     "name": "stdout",
     "output_type": "stream",
     "text": [
      "[2 3]\n"
     ]
    }
   ],
   "source": [
    "print(data[0][1:])"
   ]
  },
  {
   "cell_type": "code",
   "execution_count": 9,
   "id": "b6b19990",
   "metadata": {},
   "outputs": [],
   "source": [
    "data[0]=100"
   ]
  },
  {
   "cell_type": "code",
   "execution_count": 10,
   "id": "8aaee035",
   "metadata": {},
   "outputs": [
    {
     "data": {
      "text/plain": [
       "array([[100, 100, 100],\n",
       "       [  4,   5,   6],\n",
       "       [  7,   8,   9]])"
      ]
     },
     "execution_count": 10,
     "metadata": {},
     "output_type": "execute_result"
    }
   ],
   "source": [
    "data"
   ]
  },
  {
   "cell_type": "code",
   "execution_count": 11,
   "id": "cbeacb69",
   "metadata": {},
   "outputs": [
    {
     "data": {
      "text/plain": [
       "array([[300, 300, 300],\n",
       "       [300, 300, 300],\n",
       "       [300, 300, 300]])"
      ]
     },
     "execution_count": 11,
     "metadata": {},
     "output_type": "execute_result"
    }
   ],
   "source": [
    "data[:]=300\n",
    "data"
   ]
  },
  {
   "cell_type": "code",
   "execution_count": 13,
   "id": "40b4e97d",
   "metadata": {},
   "outputs": [
    {
     "name": "stdout",
     "output_type": "stream",
     "text": [
      "0    10\n",
      "1    20\n",
      "2    30\n",
      "3    40\n",
      "4    50\n",
      "dtype: int64\n"
     ]
    }
   ],
   "source": [
    "import pandas as pd\n",
    "obj = pd.Series([10,20,30,40,50])\n",
    "obj_2 = pd.Series([10,20,30,40,50],index = ['a','b','c','d','e'])"
   ]
  },
  {
   "cell_type": "code",
   "execution_count": 14,
   "id": "a5e9ee86",
   "metadata": {},
   "outputs": [
    {
     "name": "stdout",
     "output_type": "stream",
     "text": [
      "0    10\n",
      "1    20\n",
      "2    30\n",
      "3    40\n",
      "4    50\n",
      "dtype: int64\n"
     ]
    }
   ],
   "source": [
    "print(obj)"
   ]
  },
  {
   "cell_type": "code",
   "execution_count": 15,
   "id": "c0ec1b27",
   "metadata": {},
   "outputs": [
    {
     "name": "stdout",
     "output_type": "stream",
     "text": [
      "RangeIndex(start=0, stop=5, step=1)\n"
     ]
    }
   ],
   "source": [
    "print(obj.index)"
   ]
  },
  {
   "cell_type": "code",
   "execution_count": 16,
   "id": "9002eeb1",
   "metadata": {},
   "outputs": [
    {
     "name": "stdout",
     "output_type": "stream",
     "text": [
      "[10 20 30 40 50]\n"
     ]
    }
   ],
   "source": [
    "print(obj.values)"
   ]
  },
  {
   "cell_type": "code",
   "execution_count": 18,
   "id": "00407b13",
   "metadata": {},
   "outputs": [
    {
     "name": "stdout",
     "output_type": "stream",
     "text": [
      "20\n"
     ]
    }
   ],
   "source": [
    "print(obj[1])"
   ]
  },
  {
   "cell_type": "code",
   "execution_count": 19,
   "id": "3fc4f3bb",
   "metadata": {},
   "outputs": [
    {
     "name": "stdout",
     "output_type": "stream",
     "text": [
      "a    10\n",
      "b    20\n",
      "c    30\n",
      "d    40\n",
      "e    50\n",
      "dtype: int64\n"
     ]
    }
   ],
   "source": [
    "print(obj_2)"
   ]
  },
  {
   "cell_type": "code",
   "execution_count": 21,
   "id": "c134e5db",
   "metadata": {},
   "outputs": [
    {
     "name": "stdout",
     "output_type": "stream",
     "text": [
      "a    10\n",
      "e    50\n",
      "dtype: int64\n"
     ]
    }
   ],
   "source": [
    "print(obj_2[['a','e']])"
   ]
  },
  {
   "cell_type": "code",
   "execution_count": 22,
   "id": "fb86b922",
   "metadata": {},
   "outputs": [
    {
     "name": "stdout",
     "output_type": "stream",
     "text": [
      "b    20\n",
      "c    30\n",
      "dtype: int64\n"
     ]
    }
   ],
   "source": [
    "print(obj_2[1:3])"
   ]
  },
  {
   "cell_type": "code",
   "execution_count": 24,
   "id": "dd2fb08e",
   "metadata": {},
   "outputs": [
    {
     "name": "stdout",
     "output_type": "stream",
     "text": [
      "     이름  나이    키\n",
      "첫째  유재석  35  180\n",
      "둘째  박명수  60  175\n",
      "셋째  정형돈  52  160\n",
      "넷째   하하  38  150\n"
     ]
    }
   ],
   "source": [
    "data = {\"이름\":['유재석','박명수','정형돈','하하'],\n",
    "       \"나이\":[35,60,52,38],\n",
    "       '키':[180,175,160,150]}\n",
    "frame= pd.DataFrame(data,index = ['첫째','둘째','셋째','넷째'])\n",
    "print(frame)"
   ]
  },
  {
   "cell_type": "code",
   "execution_count": 25,
   "id": "3afd897b",
   "metadata": {},
   "outputs": [
    {
     "name": "stdout",
     "output_type": "stream",
     "text": [
      "박명수\n"
     ]
    }
   ],
   "source": [
    "print(frame.loc['둘째','이름'])"
   ]
  },
  {
   "cell_type": "code",
   "execution_count": 26,
   "id": "278cfcad",
   "metadata": {},
   "outputs": [
    {
     "name": "stdout",
     "output_type": "stream",
     "text": [
      "나이     38\n",
      "키     150\n",
      "Name: 넷째, dtype: object\n"
     ]
    }
   ],
   "source": [
    "print(frame.loc['넷째',['나이','키']])"
   ]
  },
  {
   "cell_type": "code",
   "execution_count": 27,
   "id": "789a445d",
   "metadata": {},
   "outputs": [
    {
     "name": "stdout",
     "output_type": "stream",
     "text": [
      "180\n"
     ]
    }
   ],
   "source": [
    "print(frame.iloc[0,2])"
   ]
  },
  {
   "cell_type": "code",
   "execution_count": 28,
   "id": "a9da8bef",
   "metadata": {},
   "outputs": [
    {
     "name": "stdout",
     "output_type": "stream",
     "text": [
      "이름    하하\n",
      "나이    38\n",
      "Name: 넷째, dtype: object\n"
     ]
    }
   ],
   "source": [
    "print(frame.iloc[3,:2])"
   ]
  },
  {
   "cell_type": "code",
   "execution_count": 29,
   "id": "1abb5c3d",
   "metadata": {},
   "outputs": [
    {
     "name": "stdout",
     "output_type": "stream",
     "text": [
      "     이름    키\n",
      "첫째  유재석  180\n",
      "둘째  박명수  175\n",
      "셋째  정형돈  160\n",
      "넷째   하하  150\n"
     ]
    }
   ],
   "source": [
    "print(frame.iloc[:,[0,2]])"
   ]
  },
  {
   "cell_type": "code",
   "execution_count": 32,
   "id": "0182809e",
   "metadata": {},
   "outputs": [
    {
     "data": {
      "text/html": [
       "<div>\n",
       "<style scoped>\n",
       "    .dataframe tbody tr th:only-of-type {\n",
       "        vertical-align: middle;\n",
       "    }\n",
       "\n",
       "    .dataframe tbody tr th {\n",
       "        vertical-align: top;\n",
       "    }\n",
       "\n",
       "    .dataframe thead th {\n",
       "        text-align: right;\n",
       "    }\n",
       "</style>\n",
       "<table border=\"1\" class=\"dataframe\">\n",
       "  <thead>\n",
       "    <tr style=\"text-align: right;\">\n",
       "      <th></th>\n",
       "      <th>이름</th>\n",
       "      <th>나이</th>\n",
       "      <th>키</th>\n",
       "    </tr>\n",
       "  </thead>\n",
       "  <tbody>\n",
       "    <tr>\n",
       "      <th>첫째</th>\n",
       "      <td>유재석</td>\n",
       "      <td>35</td>\n",
       "      <td>180</td>\n",
       "    </tr>\n",
       "    <tr>\n",
       "      <th>넷째</th>\n",
       "      <td>하하</td>\n",
       "      <td>38</td>\n",
       "      <td>150</td>\n",
       "    </tr>\n",
       "    <tr>\n",
       "      <th>셋째</th>\n",
       "      <td>정형돈</td>\n",
       "      <td>52</td>\n",
       "      <td>160</td>\n",
       "    </tr>\n",
       "    <tr>\n",
       "      <th>둘째</th>\n",
       "      <td>박명수</td>\n",
       "      <td>60</td>\n",
       "      <td>175</td>\n",
       "    </tr>\n",
       "  </tbody>\n",
       "</table>\n",
       "</div>"
      ],
      "text/plain": [
       "     이름  나이    키\n",
       "첫째  유재석  35  180\n",
       "넷째   하하  38  150\n",
       "셋째  정형돈  52  160\n",
       "둘째  박명수  60  175"
      ]
     },
     "execution_count": 32,
     "metadata": {},
     "output_type": "execute_result"
    }
   ],
   "source": [
    "rank = frame.sort_values(by='나이')\n",
    "rank"
   ]
  },
  {
   "cell_type": "code",
   "execution_count": 35,
   "id": "6dcd2bb8",
   "metadata": {},
   "outputs": [],
   "source": [
    "frame_2 = frame.iloc[:,[1,2]]\n",
    "total = frame_2.sum(axis=0)"
   ]
  },
  {
   "cell_type": "code",
   "execution_count": 36,
   "id": "1459c03d",
   "metadata": {},
   "outputs": [
    {
     "data": {
      "text/plain": [
       "나이    185\n",
       "키     665\n",
       "dtype: int64"
      ]
     },
     "execution_count": 36,
     "metadata": {},
     "output_type": "execute_result"
    }
   ],
   "source": [
    "total"
   ]
  },
  {
   "cell_type": "code",
   "execution_count": 38,
   "id": "3a67d821",
   "metadata": {},
   "outputs": [
    {
     "data": {
      "text/plain": [
       "나이     46.25\n",
       "키     166.25\n",
       "dtype: float64"
      ]
     },
     "execution_count": 38,
     "metadata": {},
     "output_type": "execute_result"
    }
   ],
   "source": [
    "avg= frame_2.mean(axis=0)\n",
    "avg"
   ]
  },
  {
   "cell_type": "code",
   "execution_count": 39,
   "id": "93b585f6",
   "metadata": {},
   "outputs": [
    {
     "name": "stdout",
     "output_type": "stream",
     "text": [
      "    나이    키\n",
      "첫째  35  180\n",
      "둘째  60  175\n",
      "셋째  52  160\n",
      "넷째  38  150\n"
     ]
    }
   ],
   "source": []
  },
  {
   "cell_type": "code",
   "execution_count": null,
   "id": "700d9976",
   "metadata": {},
   "outputs": [],
   "source": []
  }
 ],
 "metadata": {
  "kernelspec": {
   "display_name": "Python 3 (ipykernel)",
   "language": "python",
   "name": "python3"
  },
  "language_info": {
   "codemirror_mode": {
    "name": "ipython",
    "version": 3
   },
   "file_extension": ".py",
   "mimetype": "text/x-python",
   "name": "python",
   "nbconvert_exporter": "python",
   "pygments_lexer": "ipython3",
   "version": "3.9.12"
  }
 },
 "nbformat": 4,
 "nbformat_minor": 5
}
