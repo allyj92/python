{
 "cells": [
  {
   "cell_type": "markdown",
   "id": "0ae42afb",
   "metadata": {},
   "source": [
    "### c.t : c와 t 사이에 공백문자 제외한 모든 문자 가능<br>\n",
    "### c*t : 0번 반복까지 포함<br>\n",
    "### c+t : 0번 반복 안됨<br>\n",
    "### ca{2}t :  a가 2번 반복된것과 매치\n",
    "### ca{2,5}t : a가 2이상 5이하\n",
    "### ab?c : b가 0회 또는 1회"
   ]
  },
  {
   "cell_type": "code",
   "execution_count": 2,
   "id": "6dbeadb8",
   "metadata": {},
   "outputs": [],
   "source": [
    "import re"
   ]
  },
  {
   "cell_type": "markdown",
   "id": "c87ef526",
   "metadata": {},
   "source": [
    "## match"
   ]
  },
  {
   "cell_type": "code",
   "execution_count": 10,
   "id": "168f2902",
   "metadata": {},
   "outputs": [
    {
     "name": "stdout",
     "output_type": "stream",
     "text": [
      "<re.Match object; span=(0, 6), match='python'>\n"
     ]
    }
   ],
   "source": [
    "p = re.compile('[a-z]+')\n",
    "m =p.match('python')\n",
    "print(m)"
   ]
  },
  {
   "cell_type": "markdown",
   "id": "2dd770ab",
   "metadata": {},
   "source": [
    "## search"
   ]
  },
  {
   "cell_type": "code",
   "execution_count": 13,
   "id": "9379b6e2",
   "metadata": {},
   "outputs": [
    {
     "name": "stdout",
     "output_type": "stream",
     "text": [
      "<re.Match object; span=(2, 8), match='python'>\n"
     ]
    }
   ],
   "source": [
    "p = re.compile('[a-z]+')\n",
    "m =p.search('3 python')\n",
    "print(m)\n",
    "# 괄호 안을 찾아서 매치해 줌"
   ]
  },
  {
   "cell_type": "markdown",
   "id": "a15bc34b",
   "metadata": {},
   "source": [
    "## findall"
   ]
  },
  {
   "cell_type": "code",
   "execution_count": 14,
   "id": "aa91f4a3",
   "metadata": {},
   "outputs": [
    {
     "name": "stdout",
     "output_type": "stream",
     "text": [
      "['life', 'is', 'too', 'short']\n"
     ]
    }
   ],
   "source": [
    "p = re.compile('[a-z]+')\n",
    "m = p.findall('life is too short')\n",
    "print(m)\n",
    "# 일치하는 스트링을 리스트로 변환"
   ]
  },
  {
   "cell_type": "markdown",
   "id": "63710081",
   "metadata": {},
   "source": [
    "## finditer"
   ]
  },
  {
   "cell_type": "code",
   "execution_count": 19,
   "id": "61d2de57",
   "metadata": {},
   "outputs": [
    {
     "name": "stdout",
     "output_type": "stream",
     "text": [
      "<re.Match object; span=(0, 4), match='life'>\n",
      "<re.Match object; span=(5, 7), match='is'>\n",
      "<re.Match object; span=(8, 11), match='too'>\n",
      "<re.Match object; span=(12, 17), match='short'>\n"
     ]
    }
   ],
   "source": [
    "p = re.compile('[a-z]+')\n",
    "m = p.finditer('life is too short')\n",
    "for i in m :\n",
    "    print(i)\n",
    "# iterator 객체로 출력"
   ]
  },
  {
   "cell_type": "code",
   "execution_count": 21,
   "id": "35ae82b5",
   "metadata": {},
   "outputs": [
    {
     "name": "stdout",
     "output_type": "stream",
     "text": [
      "python\n",
      "0\n",
      "6\n",
      "(0, 6)\n"
     ]
    }
   ],
   "source": [
    "p = re.compile('[a-z]+')\n",
    "m =p.match('python')\n",
    "print(m.group()) # 매치된 문자열\n",
    "print(m.start()) # 첫 스타트의 인덱스\n",
    "print(m.end()) # 마지막의 인덱스\n",
    "print(m.span()) # 시작과 끝을 튜플형태로 리턴\n"
   ]
  },
  {
   "cell_type": "markdown",
   "id": "afba313e",
   "metadata": {},
   "source": [
    "### DOTALL,S"
   ]
  },
  {
   "cell_type": "code",
   "execution_count": 25,
   "id": "1cae0766",
   "metadata": {},
   "outputs": [
    {
     "name": "stdout",
     "output_type": "stream",
     "text": [
      "<re.Match object; span=(0, 3), match='a\\nb'>\n"
     ]
    }
   ],
   "source": [
    "p = re.compile('a.b',re.DOTALL)\n",
    "m = p.match('a\\nb')\n",
    "print(m) # 공백문자열도 출력"
   ]
  },
  {
   "cell_type": "markdown",
   "id": "da6b784e",
   "metadata": {},
   "source": [
    "### MUTILINE, M "
   ]
  },
  {
   "cell_type": "code",
   "execution_count": 29,
   "id": "9be7fa98",
   "metadata": {},
   "outputs": [
    {
     "name": "stdout",
     "output_type": "stream",
     "text": [
      "['python one', 'python two', 'python three']\n"
     ]
    }
   ],
   "source": [
    "p = re.compile(\"^python\\s\\w+\",re.M) # \\w : 단어가 여러번 반복\n",
    "# ^ : 맨 처음\n",
    "data = \"\"\"python one\n",
    "life is too short\n",
    "python two\n",
    "you need python\n",
    "python three\"\"\"\n",
    "\n",
    "print(p.findall(data))"
   ]
  },
  {
   "cell_type": "markdown",
   "id": "d5512672",
   "metadata": {},
   "source": [
    "### VERBOSE,X"
   ]
  },
  {
   "cell_type": "markdown",
   "id": "3dc9cded",
   "metadata": {},
   "source": []
  },
  {
   "cell_type": "code",
   "execution_count": 33,
   "id": "087f0f1b",
   "metadata": {},
   "outputs": [],
   "source": [
    "import re\n",
    "charref = re.compile(r'&[#](0[0-7]+[0-9]+|x[0-9a-fA-F+]);')\n",
    "\n",
    "cahrref = re.compile (r\"\"\"\n",
    " &[#]\n",
    " (\n",
    "   0[0-7]+\n",
    "   | [0-9]+\n",
    "   | x[0-9a-fA-F]+\n",
    " )\n",
    " ;\n",
    " \"\"\", re.VERBOSE)\n",
    "#복잡한 문장을 여러부분으로 나누어 쓸 수 있음"
   ]
  },
  {
   "cell_type": "markdown",
   "id": "661303c7",
   "metadata": {},
   "source": [
    "### 백슬래시 문제"
   ]
  },
  {
   "cell_type": "code",
   "execution_count": 34,
   "id": "01cb0185",
   "metadata": {},
   "outputs": [],
   "source": [
    "p = re.compile(r'\\\\section') # 원래는 백슬래시 4개 적어줘야 하는데 로우스트링을 앞에 써주기"
   ]
  },
  {
   "cell_type": "markdown",
   "id": "46fb20f6",
   "metadata": {},
   "source": [
    "### 메타문자 |"
   ]
  },
  {
   "cell_type": "code",
   "execution_count": 37,
   "id": "fb567bfd",
   "metadata": {},
   "outputs": [
    {
     "name": "stdout",
     "output_type": "stream",
     "text": [
      "<re.Match object; span=(0, 4), match='Crow'>\n"
     ]
    }
   ],
   "source": [
    "# 앞에꺼 또는 뒤에꺼와 일치할 때 매치\n",
    "import re\n",
    "p = re.compile('Crow|Servo')\n",
    "m = p.match('CrowHello')\n",
    "print(m)"
   ]
  },
  {
   "cell_type": "markdown",
   "id": "7cea8235",
   "metadata": {},
   "source": [
    "### 메타문자 ^"
   ]
  },
  {
   "cell_type": "code",
   "execution_count": 40,
   "id": "40cfb094",
   "metadata": {},
   "outputs": [
    {
     "name": "stdout",
     "output_type": "stream",
     "text": [
      "<re.Match object; span=(0, 4), match='Life'>\n",
      "None\n"
     ]
    }
   ],
   "source": [
    "# 처음에 나오는 문자인지 매치\n",
    "import re\n",
    "print(re.search('^Life','Life is too short'))\n",
    "print(re.search('^Life','My Life'))"
   ]
  },
  {
   "cell_type": "markdown",
   "id": "64d29afc",
   "metadata": {},
   "source": [
    "### 메타문자 \\b"
   ]
  },
  {
   "cell_type": "code",
   "execution_count": 42,
   "id": "8b38a5bc",
   "metadata": {},
   "outputs": [
    {
     "name": "stdout",
     "output_type": "stream",
     "text": [
      "<re.Match object; span=(3, 8), match='class'>\n",
      "None\n",
      "None\n"
     ]
    }
   ],
   "source": [
    "import re\n",
    "p = re.compile(r'\\bclass\\b')\n",
    "print(p.search('no class at all'))\n",
    "print(p.search('the declassified algorithm'))\n",
    "print(p.search('one subclass is'))"
   ]
  },
  {
   "cell_type": "markdown",
   "id": "71b351c1",
   "metadata": {},
   "source": [
    "### 그루핑()"
   ]
  },
  {
   "cell_type": "code",
   "execution_count": 44,
   "id": "4600de12",
   "metadata": {},
   "outputs": [
    {
     "name": "stdout",
     "output_type": "stream",
     "text": [
      "<re.Match object; span=(0, 9), match='ABCABCABC'>\n",
      "ABCABCABC\n"
     ]
    }
   ],
   "source": [
    "import re\n",
    "p = re.compile('(ABC)+') #ABC+ 하면 C만 반복됨으로 괄호로 묶어주기\n",
    "m = p.search('ABCABCABC OK?')\n",
    "print(m)\n",
    "print(m.group())"
   ]
  },
  {
   "cell_type": "code",
   "execution_count": 48,
   "id": "ff85dfbd",
   "metadata": {},
   "outputs": [
    {
     "name": "stdout",
     "output_type": "stream",
     "text": [
      "park\n"
     ]
    }
   ],
   "source": [
    "p = re.compile(r\"(\\w+)\\s+\\d+[-]\\d+[-]\\d+\")\n",
    "m = p.search(\"park 010-1234-1234\")\n",
    "print(m.group(1)) # 첫번째 그룹을 불러옴"
   ]
  },
  {
   "cell_type": "code",
   "execution_count": 50,
   "id": "bb137825",
   "metadata": {},
   "outputs": [
    {
     "name": "stdout",
     "output_type": "stream",
     "text": [
      "the the\n"
     ]
    }
   ],
   "source": [
    "p = re.compile(r'(\\b\\w+)\\s+\\1') # 정규표현식에 걸린 것을 한 번 더 잡아낸다.\n",
    "print(p.search('Paris in the the spring').group())"
   ]
  },
  {
   "cell_type": "code",
   "execution_count": 51,
   "id": "bc2efce6",
   "metadata": {},
   "outputs": [],
   "source": [
    "# 그루핑된 문자열에 이름 붙이기  ?P<name>"
   ]
  },
  {
   "cell_type": "code",
   "execution_count": 54,
   "id": "4298fe1c",
   "metadata": {},
   "outputs": [
    {
     "name": "stdout",
     "output_type": "stream",
     "text": [
      "park\n"
     ]
    }
   ],
   "source": [
    "import re\n",
    "p = re.compile(r\"(?P<name>\\w+)\\s+((\\d+)[-]\\d+[-]\\d+)\")\n",
    "m = p.search(\"park 010-1234-1234\")\n",
    "print(m.group(\"name\"))"
   ]
  },
  {
   "cell_type": "code",
   "execution_count": 57,
   "id": "8e2a0bfc",
   "metadata": {},
   "outputs": [
    {
     "name": "stdout",
     "output_type": "stream",
     "text": [
      "the the\n"
     ]
    }
   ],
   "source": [
    "import re\n",
    "p = re.compile(r'(?P<word>\\b\\w+)\\s+(?P=word)')\n",
    "print(p.search('Paris in the the spring').group())"
   ]
  },
  {
   "cell_type": "markdown",
   "id": "da9046cc",
   "metadata": {},
   "source": [
    "### 전방탐색 : 긍정형 (?=)"
   ]
  },
  {
   "cell_type": "code",
   "execution_count": 62,
   "id": "34974bff",
   "metadata": {},
   "outputs": [
    {
     "name": "stdout",
     "output_type": "stream",
     "text": [
      "http\n"
     ]
    }
   ],
   "source": [
    "import re\n",
    "p = re.compile(\".+(?=:)\") # : 이 검색조건에는 포함되나 결과에는 포함되지 않음\n",
    "m = p.search(\"http://google.com\")\n",
    "print(m.group())"
   ]
  },
  {
   "cell_type": "markdown",
   "id": "e903bafb",
   "metadata": {},
   "source": [
    "### 전방탐색 : 부정형 (?!)"
   ]
  },
  {
   "cell_type": "code",
   "execution_count": 66,
   "id": "fa49809e",
   "metadata": {},
   "outputs": [
    {
     "name": "stdout",
     "output_type": "stream",
     "text": [
      "['autoexex.jpg']\n"
     ]
    }
   ],
   "source": [
    "import re\n",
    "p = re.compile(\".*[.](?!bat$|exe$).*$\",re.M) # $ : 끝 # bat을 끝으로 하는 문자는 포함하지 않는다\n",
    "l = p.findall(\"\"\"\n",
    "autoexex.exe\n",
    "autoexex.bat\n",
    "autoexex.jpg\n",
    "\"\"\")\n",
    "print(l)"
   ]
  },
  {
   "cell_type": "markdown",
   "id": "520fa625",
   "metadata": {},
   "source": [
    "### 문자열 바꾸기 sub"
   ]
  },
  {
   "cell_type": "code",
   "execution_count": 68,
   "id": "17704b57",
   "metadata": {},
   "outputs": [
    {
     "data": {
      "text/plain": [
       "'colour socks and colour shoes'"
      ]
     },
     "execution_count": 68,
     "metadata": {},
     "output_type": "execute_result"
    }
   ],
   "source": [
    "import re\n",
    "p = re.compile('(blue|white|red)')\n",
    "p.sub('colour','blue socks and red shoes')"
   ]
  },
  {
   "cell_type": "markdown",
   "id": "b4a7438a",
   "metadata": {},
   "source": [
    "### Greedy cs Non-Greedy"
   ]
  },
  {
   "cell_type": "code",
   "execution_count": 71,
   "id": "45ea2f4d",
   "metadata": {},
   "outputs": [
    {
     "name": "stdout",
     "output_type": "stream",
     "text": [
      "<html><head><title>Title</title>\n",
      "<html>\n"
     ]
    }
   ],
   "source": [
    "import re\n",
    "s = '<html><head><title>Title</title>'\n",
    "print(re.match('<.*>',s).group()) # greedy\n",
    "print(re.match('<.*?>',s).group()) # Non-Greedy # ?를 써주어 최소한으로 반복"
   ]
  },
  {
   "cell_type": "code",
   "execution_count": 75,
   "id": "ffee1516",
   "metadata": {},
   "outputs": [
    {
     "name": "stdout",
     "output_type": "stream",
     "text": [
      "<re.Match object; span=(0, 3), match='010'>\n"
     ]
    }
   ],
   "source": [
    "import re \n",
    "p = re.compile(\"^\\w+\")\n",
    "m = p.match(\"010-8605-1498\")\n",
    "print(m)"
   ]
  }
 ],
 "metadata": {
  "kernelspec": {
   "display_name": "Python 3 (ipykernel)",
   "language": "python",
   "name": "python3"
  },
  "language_info": {
   "codemirror_mode": {
    "name": "ipython",
    "version": 3
   },
   "file_extension": ".py",
   "mimetype": "text/x-python",
   "name": "python",
   "nbconvert_exporter": "python",
   "pygments_lexer": "ipython3",
   "version": "3.9.12"
  }
 },
 "nbformat": 4,
 "nbformat_minor": 5
}
