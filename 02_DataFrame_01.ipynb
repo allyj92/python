{
 "cells": [
  {
   "cell_type": "code",
   "execution_count": 17,
   "metadata": {
    "id": "EBsE-G-NiXzC"
   },
   "outputs": [],
   "source": [
    "import numpy as np\n",
    "import pandas as pd\n",
    "\n",
    "# 공식 가이드\n",
    "# https://pandas.pydata.org/pandas-docs/stable/user_guide/10min.html"
   ]
  },
  {
   "cell_type": "markdown",
   "metadata": {
    "id": "gUFXcg5mi_PU"
   },
   "source": [
    "# DataFrame #1\n",
    "\n",
    "- 기본 판다스 데이터 구조로 2차원 표 형식 데이터\n",
    "\n",
    "- 데이터 구조에는 레이블이 지정된 축(행과 열)을 포함하고 시리즈 객체를 값으로 가지는 딕셔너리와 유사한 컨테이너\n"
   ]
  },
  {
   "cell_type": "markdown",
   "metadata": {
    "id": "KjH1qfW702f0"
   },
   "source": [
    "## 다양한 생성 방법"
   ]
  },
  {
   "cell_type": "markdown",
   "metadata": {
    "id": "cYYPyGPe0R5I"
   },
   "source": [
    "### 리스트를 값으로 가지는 사전으로 생성\n",
    "\n",
    "- 사전의 값으로 리스트를 가지는 사전으로 부터 생성\n",
    "\n",
    "- 사전의 키가 컬럼명이 되고 값이 컬럼이 됨"
   ]
  },
  {
   "cell_type": "code",
   "execution_count": 18,
   "metadata": {
    "colab": {
     "base_uri": "https://localhost:8080/",
     "height": 194
    },
    "id": "7AZ9G4uWicd6",
    "outputId": "c807e986-0c8b-4062-f10a-8d184a99af36"
   },
   "outputs": [
    {
     "data": {
      "text/html": [
       "<div>\n",
       "<style scoped>\n",
       "    .dataframe tbody tr th:only-of-type {\n",
       "        vertical-align: middle;\n",
       "    }\n",
       "\n",
       "    .dataframe tbody tr th {\n",
       "        vertical-align: top;\n",
       "    }\n",
       "\n",
       "    .dataframe thead th {\n",
       "        text-align: right;\n",
       "    }\n",
       "</style>\n",
       "<table border=\"1\" class=\"dataframe\">\n",
       "  <thead>\n",
       "    <tr style=\"text-align: right;\">\n",
       "      <th></th>\n",
       "      <th>population</th>\n",
       "      <th>area</th>\n",
       "    </tr>\n",
       "  </thead>\n",
       "  <tbody>\n",
       "    <tr>\n",
       "      <th>seoul</th>\n",
       "      <td>9741383</td>\n",
       "      <td>605.2</td>\n",
       "    </tr>\n",
       "    <tr>\n",
       "      <th>busan</th>\n",
       "      <td>3416918</td>\n",
       "      <td>770.0</td>\n",
       "    </tr>\n",
       "    <tr>\n",
       "      <th>daegu</th>\n",
       "      <td>2453041</td>\n",
       "      <td>886.6</td>\n",
       "    </tr>\n",
       "    <tr>\n",
       "      <th>inchon</th>\n",
       "      <td>2925967</td>\n",
       "      <td>1063.0</td>\n",
       "    </tr>\n",
       "  </tbody>\n",
       "</table>\n",
       "</div>"
      ],
      "text/plain": [
       "        population    area\n",
       "seoul      9741383   605.2\n",
       "busan      3416918   770.0\n",
       "daegu      2453041   886.6\n",
       "inchon     2925967  1063.0"
      ]
     },
     "execution_count": 18,
     "metadata": {},
     "output_type": "execute_result"
    }
   ],
   "source": [
    "data = {'population':[9741383, 3416918, 2453041, 2925967],\n",
    "        'area':[605.2, 770.0, 886.6, 1063.0]}\n",
    "\n",
    "df = pd.DataFrame(data, index=['seoul', 'busan', 'daegu', 'inchon'])\n",
    "df"
   ]
  },
  {
   "cell_type": "markdown",
   "metadata": {
    "id": "8Jjn6KnW0oUe"
   },
   "source": [
    "### 시리즈를 값으로 가지는 사전으로 생성"
   ]
  },
  {
   "cell_type": "code",
   "execution_count": 19,
   "metadata": {
    "colab": {
     "base_uri": "https://localhost:8080/",
     "height": 194
    },
    "id": "R6CBipv80gX5",
    "outputId": "2223d5be-3c94-4872-ab60-5abb8bf08117"
   },
   "outputs": [
    {
     "data": {
      "text/html": [
       "<div>\n",
       "<style scoped>\n",
       "    .dataframe tbody tr th:only-of-type {\n",
       "        vertical-align: middle;\n",
       "    }\n",
       "\n",
       "    .dataframe tbody tr th {\n",
       "        vertical-align: top;\n",
       "    }\n",
       "\n",
       "    .dataframe thead th {\n",
       "        text-align: right;\n",
       "    }\n",
       "</style>\n",
       "<table border=\"1\" class=\"dataframe\">\n",
       "  <thead>\n",
       "    <tr style=\"text-align: right;\">\n",
       "      <th></th>\n",
       "      <th>population</th>\n",
       "      <th>area</th>\n",
       "    </tr>\n",
       "  </thead>\n",
       "  <tbody>\n",
       "    <tr>\n",
       "      <th>busan</th>\n",
       "      <td>3416918</td>\n",
       "      <td>770.0</td>\n",
       "    </tr>\n",
       "    <tr>\n",
       "      <th>daegu</th>\n",
       "      <td>2453041</td>\n",
       "      <td>886.6</td>\n",
       "    </tr>\n",
       "    <tr>\n",
       "      <th>inchon</th>\n",
       "      <td>2925967</td>\n",
       "      <td>1063.0</td>\n",
       "    </tr>\n",
       "    <tr>\n",
       "      <th>seoul</th>\n",
       "      <td>9741383</td>\n",
       "      <td>605.2</td>\n",
       "    </tr>\n",
       "  </tbody>\n",
       "</table>\n",
       "</div>"
      ],
      "text/plain": [
       "        population    area\n",
       "busan      3416918   770.0\n",
       "daegu      2453041   886.6\n",
       "inchon     2925967  1063.0\n",
       "seoul      9741383   605.2"
      ]
     },
     "execution_count": 19,
     "metadata": {},
     "output_type": "execute_result"
    }
   ],
   "source": [
    "population_dict = {'seoul':9741383, 'busan':3416918,\n",
    "                   'daegu':2453041, 'inchon':2925967}\n",
    "pop = pd.Series(population_dict).sort_index()\n",
    "\n",
    "area_dict = {'seoul':605.2, 'busan':770.0,\n",
    "             'daegu':886.6, 'inchon':1063.0}\n",
    "area = pd.Series(area_dict).sort_index()\n",
    "\n",
    "\n",
    "# 열 Series를 가지는 사전을 DataFrame으로 만들기\n",
    "pd.DataFrame({'population':pop, 'area':area})"
   ]
  },
  {
   "cell_type": "markdown",
   "metadata": {
    "id": "kBj4IdCJ0xrR"
   },
   "source": [
    "### 2차원 리스트로 생성"
   ]
  },
  {
   "cell_type": "code",
   "execution_count": 20,
   "metadata": {
    "colab": {
     "base_uri": "https://localhost:8080/",
     "height": 194
    },
    "id": "RhUE-13h0vdU",
    "outputId": "e15215a8-e507-4e79-8654-f0b6645b41cf"
   },
   "outputs": [
    {
     "data": {
      "text/html": [
       "<div>\n",
       "<style scoped>\n",
       "    .dataframe tbody tr th:only-of-type {\n",
       "        vertical-align: middle;\n",
       "    }\n",
       "\n",
       "    .dataframe tbody tr th {\n",
       "        vertical-align: top;\n",
       "    }\n",
       "\n",
       "    .dataframe thead th {\n",
       "        text-align: right;\n",
       "    }\n",
       "</style>\n",
       "<table border=\"1\" class=\"dataframe\">\n",
       "  <thead>\n",
       "    <tr style=\"text-align: right;\">\n",
       "      <th></th>\n",
       "      <th>population</th>\n",
       "      <th>area</th>\n",
       "    </tr>\n",
       "  </thead>\n",
       "  <tbody>\n",
       "    <tr>\n",
       "      <th>seoul</th>\n",
       "      <td>9741383</td>\n",
       "      <td>605.2</td>\n",
       "    </tr>\n",
       "    <tr>\n",
       "      <th>busan</th>\n",
       "      <td>3416918</td>\n",
       "      <td>770.0</td>\n",
       "    </tr>\n",
       "    <tr>\n",
       "      <th>daegu</th>\n",
       "      <td>2453041</td>\n",
       "      <td>886.6</td>\n",
       "    </tr>\n",
       "    <tr>\n",
       "      <th>inchon</th>\n",
       "      <td>2925967</td>\n",
       "      <td>1063.0</td>\n",
       "    </tr>\n",
       "  </tbody>\n",
       "</table>\n",
       "</div>"
      ],
      "text/plain": [
       "        population    area\n",
       "seoul      9741383   605.2\n",
       "busan      3416918   770.0\n",
       "daegu      2453041   886.6\n",
       "inchon     2925967  1063.0"
      ]
     },
     "execution_count": 20,
     "metadata": {},
     "output_type": "execute_result"
    }
   ],
   "source": [
    "df = pd.DataFrame(\n",
    "    [\n",
    "        [9741383, \t605.2],\n",
    "        [3416918, \t770.0],\n",
    "        [2453041, \t886.6],\n",
    "        [2925967, \t1063.0]\n",
    "    ],\n",
    "    columns=['population', 'area'],\n",
    "    index=['seoul', 'busan', 'daegu', 'inchon']\n",
    ")\n",
    "\n",
    "df"
   ]
  },
  {
   "cell_type": "markdown",
   "metadata": {
    "id": "Ix0TrW461YsU"
   },
   "source": [
    "### 시리즈를 원소로 가지는 리스트로 생성"
   ]
  },
  {
   "cell_type": "code",
   "execution_count": 21,
   "metadata": {
    "colab": {
     "base_uri": "https://localhost:8080/",
     "height": 250
    },
    "id": "HdKB8ryW09e2",
    "outputId": "798d66a3-e34a-48d4-b67c-22b538c1c297"
   },
   "outputs": [
    {
     "name": "stdout",
     "output_type": "stream",
     "text": [
      "population    9741383.0\n",
      "area              605.2\n",
      "dtype: float64\n"
     ]
    },
    {
     "data": {
      "text/html": [
       "<div>\n",
       "<style scoped>\n",
       "    .dataframe tbody tr th:only-of-type {\n",
       "        vertical-align: middle;\n",
       "    }\n",
       "\n",
       "    .dataframe tbody tr th {\n",
       "        vertical-align: top;\n",
       "    }\n",
       "\n",
       "    .dataframe thead th {\n",
       "        text-align: right;\n",
       "    }\n",
       "</style>\n",
       "<table border=\"1\" class=\"dataframe\">\n",
       "  <thead>\n",
       "    <tr style=\"text-align: right;\">\n",
       "      <th></th>\n",
       "      <th>population</th>\n",
       "      <th>area</th>\n",
       "    </tr>\n",
       "  </thead>\n",
       "  <tbody>\n",
       "    <tr>\n",
       "      <th>seoul</th>\n",
       "      <td>9741383.0</td>\n",
       "      <td>605.2</td>\n",
       "    </tr>\n",
       "    <tr>\n",
       "      <th>busan</th>\n",
       "      <td>3416918.0</td>\n",
       "      <td>770.0</td>\n",
       "    </tr>\n",
       "    <tr>\n",
       "      <th>daegu</th>\n",
       "      <td>2453041.0</td>\n",
       "      <td>886.6</td>\n",
       "    </tr>\n",
       "    <tr>\n",
       "      <th>inchon</th>\n",
       "      <td>2925967.0</td>\n",
       "      <td>1063.0</td>\n",
       "    </tr>\n",
       "  </tbody>\n",
       "</table>\n",
       "</div>"
      ],
      "text/plain": [
       "        population    area\n",
       "seoul    9741383.0   605.2\n",
       "busan    3416918.0   770.0\n",
       "daegu    2453041.0   886.6\n",
       "inchon   2925967.0  1063.0"
      ]
     },
     "execution_count": 21,
     "metadata": {},
     "output_type": "execute_result"
    }
   ],
   "source": [
    "series_seoul = pd.Series([9741383, 605.2], index=['population', 'area'])\n",
    "series_busan = pd.Series([3416918, 770.0], index=['population', 'area'])\n",
    "series_daegu = pd.Series([2453041, 886.6], index=['population', 'area'])\n",
    "series_inchon = pd.Series([2925967, 1063.0], index=['population', 'area'])\n",
    "print(series_seoul)\n",
    "\n",
    "df = pd.DataFrame(\n",
    "    [series_seoul, series_busan, series_daegu, series_inchon],\n",
    "    index=['seoul', 'busan', 'daegu', 'inchon']\n",
    ")\n",
    "df"
   ]
  },
  {
   "cell_type": "markdown",
   "metadata": {
    "id": "KF-8dg2T38lI"
   },
   "source": [
    "### 연습\n",
    "\n",
    "- 세명에 대한 키와 몸무게가 다음처럼 조사되어었다.\n",
    "    - 철수 키:178cm, 몸무게:80kg\n",
    "    - 영희 키:165cm, 몸무게:53kg\n",
    "    - 철호 키:172cm, 몸무게:72kg\n",
    "\n",
    "1. 위 데이터를 사전을 사용한 방식으로 데이터프레임화 하시오. 행 인덱스에는 사람 이름, 열 인덱스(컬럼 이름)에는 키, 몸무게가 배치되게 하시오.\n",
    "\n",
    "2. 위 데이터를 2차원 리스트를  사용한 방식으로 데이터프레임화 하시오. 행 인덱스에는 사람 이름, 열 인덱스(컬럼 이름)에는 키, 몸무게가 배치되게 하시오.\n"
   ]
  },
  {
   "cell_type": "code",
   "execution_count": 22,
   "metadata": {
    "colab": {
     "base_uri": "https://localhost:8080/",
     "height": 163
    },
    "id": "wO0XcFyd3Fri",
    "outputId": "e4028c44-745b-41ed-8d9b-235ea56690f6"
   },
   "outputs": [
    {
     "data": {
      "text/html": [
       "<div>\n",
       "<style scoped>\n",
       "    .dataframe tbody tr th:only-of-type {\n",
       "        vertical-align: middle;\n",
       "    }\n",
       "\n",
       "    .dataframe tbody tr th {\n",
       "        vertical-align: top;\n",
       "    }\n",
       "\n",
       "    .dataframe thead th {\n",
       "        text-align: right;\n",
       "    }\n",
       "</style>\n",
       "<table border=\"1\" class=\"dataframe\">\n",
       "  <thead>\n",
       "    <tr style=\"text-align: right;\">\n",
       "      <th></th>\n",
       "      <th>키</th>\n",
       "      <th>몸무게</th>\n",
       "    </tr>\n",
       "  </thead>\n",
       "  <tbody>\n",
       "    <tr>\n",
       "      <th>철수</th>\n",
       "      <td>178</td>\n",
       "      <td>80</td>\n",
       "    </tr>\n",
       "    <tr>\n",
       "      <th>영희</th>\n",
       "      <td>165</td>\n",
       "      <td>53</td>\n",
       "    </tr>\n",
       "    <tr>\n",
       "      <th>철호</th>\n",
       "      <td>172</td>\n",
       "      <td>72</td>\n",
       "    </tr>\n",
       "  </tbody>\n",
       "</table>\n",
       "</div>"
      ],
      "text/plain": [
       "      키  몸무게\n",
       "철수  178   80\n",
       "영희  165   53\n",
       "철호  172   72"
      ]
     },
     "execution_count": 22,
     "metadata": {},
     "output_type": "execute_result"
    }
   ],
   "source": [
    "# 1\n",
    "data = {\n",
    "    '철수':[178, 80],\n",
    "    '영희':[165, 53],\n",
    "    '철호':[172, 72]\n",
    "}\n",
    "data = {\n",
    "    '키': [178, 165, 172],\n",
    "    '몸무게': [80, 53, 72]\n",
    "}\n",
    "\n",
    "df = pd.DataFrame(data, index=['철수', '영희', '철호'])\n",
    "df\n"
   ]
  },
  {
   "cell_type": "code",
   "execution_count": 23,
   "metadata": {
    "colab": {
     "base_uri": "https://localhost:8080/",
     "height": 163
    },
    "id": "7-gzGxS45CPC",
    "outputId": "0bd17c51-3a6b-463c-875c-f733bc6ff86d"
   },
   "outputs": [
    {
     "data": {
      "text/html": [
       "<div>\n",
       "<style scoped>\n",
       "    .dataframe tbody tr th:only-of-type {\n",
       "        vertical-align: middle;\n",
       "    }\n",
       "\n",
       "    .dataframe tbody tr th {\n",
       "        vertical-align: top;\n",
       "    }\n",
       "\n",
       "    .dataframe thead th {\n",
       "        text-align: right;\n",
       "    }\n",
       "</style>\n",
       "<table border=\"1\" class=\"dataframe\">\n",
       "  <thead>\n",
       "    <tr style=\"text-align: right;\">\n",
       "      <th></th>\n",
       "      <th>키</th>\n",
       "      <th>몸무게</th>\n",
       "    </tr>\n",
       "  </thead>\n",
       "  <tbody>\n",
       "    <tr>\n",
       "      <th>철수</th>\n",
       "      <td>178</td>\n",
       "      <td>80</td>\n",
       "    </tr>\n",
       "    <tr>\n",
       "      <th>영희</th>\n",
       "      <td>165</td>\n",
       "      <td>53</td>\n",
       "    </tr>\n",
       "    <tr>\n",
       "      <th>철호</th>\n",
       "      <td>172</td>\n",
       "      <td>72</td>\n",
       "    </tr>\n",
       "  </tbody>\n",
       "</table>\n",
       "</div>"
      ],
      "text/plain": [
       "      키  몸무게\n",
       "철수  178   80\n",
       "영희  165   53\n",
       "철호  172   72"
      ]
     },
     "execution_count": 23,
     "metadata": {},
     "output_type": "execute_result"
    }
   ],
   "source": [
    "# 2\n",
    "data = [\n",
    "    [178, 80],\n",
    "    [165, 53],\n",
    "    [172, 72]\n",
    "]\n",
    "\n",
    "df = pd.DataFrame(\n",
    "    data,\n",
    "    columns=['키', '몸무게'],\n",
    "    index=['철수', '영희', '철호']\n",
    ")\n",
    "\n",
    "df"
   ]
  },
  {
   "cell_type": "markdown",
   "metadata": {
    "id": "LClUMAxY5Vnj"
   },
   "source": [
    "### CSV에서 만들기\n",
    "\n",
    "- csv파일: ','또는 다른 구분자로 구분된 값들이 한줄 단위로 적혀있는 데이터 파일\n",
    "\n",
    "- read_csv() 함수로 로딩\n",
    "    - sep: 구분자 지정\n",
    "    - header: 제목줄 지정, 행번호 또는 None면 무시\n",
    "    - index_col: 인덱스로 쓸 열 지정\n",
    "    - usecols: 사용할 열을 직접 지정"
   ]
  },
  {
   "cell_type": "code",
   "execution_count": 24,
   "metadata": {
    "colab": {
     "base_uri": "https://localhost:8080/"
    },
    "id": "QEAmVDXv7_OV",
    "outputId": "3e07d0f4-2558-4e3c-ae3d-4dbb1fc01a44"
   },
   "outputs": [
    {
     "name": "stdout",
     "output_type": "stream",
     "text": [
      "[WinError 2] 지정된 파일을 찾을 수 없습니다: 'content'\n",
      "C:\\Users\\imeun\\aice\\aice\n"
     ]
    },
    {
     "name": "stderr",
     "output_type": "stream",
     "text": [
      "C:\\Users\\imeun\\AppData\\Local\\Programs\\Python\\Python312\\Lib\\site-packages\\IPython\\core\\magics\\osm.py:393: UserWarning: using bookmarks requires you to install the `pickleshare` library.\n",
      "  bkms = self.shell.db.get('bookmarks', {})\n"
     ]
    }
   ],
   "source": [
    "%cd content"
   ]
  },
  {
   "cell_type": "code",
   "execution_count": 25,
   "metadata": {
    "colab": {
     "base_uri": "https://localhost:8080/"
    },
    "id": "XYTY1AGV8Iqc",
    "outputId": "dc12ba0a-a45a-45c5-e4b5-cf81ed98af81"
   },
   "outputs": [
    {
     "name": "stdout",
     "output_type": "stream",
     "text": [
      "/c/Users/imeun/aice/aice\n"
     ]
    }
   ],
   "source": [
    "!pwd"
   ]
  },
  {
   "cell_type": "code",
   "execution_count": 26,
   "metadata": {
    "colab": {
     "base_uri": "https://localhost:8080/",
     "height": 194
    },
    "id": "wvzqlkX45PwQ",
    "outputId": "bf705bc7-7aa9-46b9-8f32-550c0b386867"
   },
   "outputs": [
    {
     "ename": "FileNotFoundError",
     "evalue": "[Errno 2] No such file or directory: 'data.csv'",
     "output_type": "error",
     "traceback": [
      "\u001b[1;31m---------------------------------------------------------------------------\u001b[0m",
      "\u001b[1;31mFileNotFoundError\u001b[0m                         Traceback (most recent call last)",
      "Cell \u001b[1;32mIn[26], line 2\u001b[0m\n\u001b[0;32m      1\u001b[0m \u001b[38;5;66;03m# 기본 읽기\u001b[39;00m\n\u001b[1;32m----> 2\u001b[0m df \u001b[38;5;241m=\u001b[39m \u001b[43mpd\u001b[49m\u001b[38;5;241;43m.\u001b[39;49m\u001b[43mread_csv\u001b[49m\u001b[43m(\u001b[49m\u001b[38;5;124;43m'\u001b[39;49m\u001b[38;5;124;43mdata.csv\u001b[39;49m\u001b[38;5;124;43m'\u001b[39;49m\u001b[43m,\u001b[49m\u001b[43m \u001b[49m\u001b[43msep\u001b[49m\u001b[38;5;241;43m=\u001b[39;49m\u001b[38;5;124;43m'\u001b[39;49m\u001b[38;5;124;43m,\u001b[39;49m\u001b[38;5;124;43m'\u001b[39;49m\u001b[43m)\u001b[49m\n\u001b[0;32m      3\u001b[0m df\n",
      "File \u001b[1;32m~\\AppData\\Local\\Programs\\Python\\Python312\\Lib\\site-packages\\pandas\\io\\parsers\\readers.py:1026\u001b[0m, in \u001b[0;36mread_csv\u001b[1;34m(filepath_or_buffer, sep, delimiter, header, names, index_col, usecols, dtype, engine, converters, true_values, false_values, skipinitialspace, skiprows, skipfooter, nrows, na_values, keep_default_na, na_filter, verbose, skip_blank_lines, parse_dates, infer_datetime_format, keep_date_col, date_parser, date_format, dayfirst, cache_dates, iterator, chunksize, compression, thousands, decimal, lineterminator, quotechar, quoting, doublequote, escapechar, comment, encoding, encoding_errors, dialect, on_bad_lines, delim_whitespace, low_memory, memory_map, float_precision, storage_options, dtype_backend)\u001b[0m\n\u001b[0;32m   1013\u001b[0m kwds_defaults \u001b[38;5;241m=\u001b[39m _refine_defaults_read(\n\u001b[0;32m   1014\u001b[0m     dialect,\n\u001b[0;32m   1015\u001b[0m     delimiter,\n\u001b[1;32m   (...)\u001b[0m\n\u001b[0;32m   1022\u001b[0m     dtype_backend\u001b[38;5;241m=\u001b[39mdtype_backend,\n\u001b[0;32m   1023\u001b[0m )\n\u001b[0;32m   1024\u001b[0m kwds\u001b[38;5;241m.\u001b[39mupdate(kwds_defaults)\n\u001b[1;32m-> 1026\u001b[0m \u001b[38;5;28;01mreturn\u001b[39;00m \u001b[43m_read\u001b[49m\u001b[43m(\u001b[49m\u001b[43mfilepath_or_buffer\u001b[49m\u001b[43m,\u001b[49m\u001b[43m \u001b[49m\u001b[43mkwds\u001b[49m\u001b[43m)\u001b[49m\n",
      "File \u001b[1;32m~\\AppData\\Local\\Programs\\Python\\Python312\\Lib\\site-packages\\pandas\\io\\parsers\\readers.py:620\u001b[0m, in \u001b[0;36m_read\u001b[1;34m(filepath_or_buffer, kwds)\u001b[0m\n\u001b[0;32m    617\u001b[0m _validate_names(kwds\u001b[38;5;241m.\u001b[39mget(\u001b[38;5;124m\"\u001b[39m\u001b[38;5;124mnames\u001b[39m\u001b[38;5;124m\"\u001b[39m, \u001b[38;5;28;01mNone\u001b[39;00m))\n\u001b[0;32m    619\u001b[0m \u001b[38;5;66;03m# Create the parser.\u001b[39;00m\n\u001b[1;32m--> 620\u001b[0m parser \u001b[38;5;241m=\u001b[39m \u001b[43mTextFileReader\u001b[49m\u001b[43m(\u001b[49m\u001b[43mfilepath_or_buffer\u001b[49m\u001b[43m,\u001b[49m\u001b[43m \u001b[49m\u001b[38;5;241;43m*\u001b[39;49m\u001b[38;5;241;43m*\u001b[39;49m\u001b[43mkwds\u001b[49m\u001b[43m)\u001b[49m\n\u001b[0;32m    622\u001b[0m \u001b[38;5;28;01mif\u001b[39;00m chunksize \u001b[38;5;129;01mor\u001b[39;00m iterator:\n\u001b[0;32m    623\u001b[0m     \u001b[38;5;28;01mreturn\u001b[39;00m parser\n",
      "File \u001b[1;32m~\\AppData\\Local\\Programs\\Python\\Python312\\Lib\\site-packages\\pandas\\io\\parsers\\readers.py:1620\u001b[0m, in \u001b[0;36mTextFileReader.__init__\u001b[1;34m(self, f, engine, **kwds)\u001b[0m\n\u001b[0;32m   1617\u001b[0m     \u001b[38;5;28mself\u001b[39m\u001b[38;5;241m.\u001b[39moptions[\u001b[38;5;124m\"\u001b[39m\u001b[38;5;124mhas_index_names\u001b[39m\u001b[38;5;124m\"\u001b[39m] \u001b[38;5;241m=\u001b[39m kwds[\u001b[38;5;124m\"\u001b[39m\u001b[38;5;124mhas_index_names\u001b[39m\u001b[38;5;124m\"\u001b[39m]\n\u001b[0;32m   1619\u001b[0m \u001b[38;5;28mself\u001b[39m\u001b[38;5;241m.\u001b[39mhandles: IOHandles \u001b[38;5;241m|\u001b[39m \u001b[38;5;28;01mNone\u001b[39;00m \u001b[38;5;241m=\u001b[39m \u001b[38;5;28;01mNone\u001b[39;00m\n\u001b[1;32m-> 1620\u001b[0m \u001b[38;5;28mself\u001b[39m\u001b[38;5;241m.\u001b[39m_engine \u001b[38;5;241m=\u001b[39m \u001b[38;5;28;43mself\u001b[39;49m\u001b[38;5;241;43m.\u001b[39;49m\u001b[43m_make_engine\u001b[49m\u001b[43m(\u001b[49m\u001b[43mf\u001b[49m\u001b[43m,\u001b[49m\u001b[43m \u001b[49m\u001b[38;5;28;43mself\u001b[39;49m\u001b[38;5;241;43m.\u001b[39;49m\u001b[43mengine\u001b[49m\u001b[43m)\u001b[49m\n",
      "File \u001b[1;32m~\\AppData\\Local\\Programs\\Python\\Python312\\Lib\\site-packages\\pandas\\io\\parsers\\readers.py:1880\u001b[0m, in \u001b[0;36mTextFileReader._make_engine\u001b[1;34m(self, f, engine)\u001b[0m\n\u001b[0;32m   1878\u001b[0m     \u001b[38;5;28;01mif\u001b[39;00m \u001b[38;5;124m\"\u001b[39m\u001b[38;5;124mb\u001b[39m\u001b[38;5;124m\"\u001b[39m \u001b[38;5;129;01mnot\u001b[39;00m \u001b[38;5;129;01min\u001b[39;00m mode:\n\u001b[0;32m   1879\u001b[0m         mode \u001b[38;5;241m+\u001b[39m\u001b[38;5;241m=\u001b[39m \u001b[38;5;124m\"\u001b[39m\u001b[38;5;124mb\u001b[39m\u001b[38;5;124m\"\u001b[39m\n\u001b[1;32m-> 1880\u001b[0m \u001b[38;5;28mself\u001b[39m\u001b[38;5;241m.\u001b[39mhandles \u001b[38;5;241m=\u001b[39m \u001b[43mget_handle\u001b[49m\u001b[43m(\u001b[49m\n\u001b[0;32m   1881\u001b[0m \u001b[43m    \u001b[49m\u001b[43mf\u001b[49m\u001b[43m,\u001b[49m\n\u001b[0;32m   1882\u001b[0m \u001b[43m    \u001b[49m\u001b[43mmode\u001b[49m\u001b[43m,\u001b[49m\n\u001b[0;32m   1883\u001b[0m \u001b[43m    \u001b[49m\u001b[43mencoding\u001b[49m\u001b[38;5;241;43m=\u001b[39;49m\u001b[38;5;28;43mself\u001b[39;49m\u001b[38;5;241;43m.\u001b[39;49m\u001b[43moptions\u001b[49m\u001b[38;5;241;43m.\u001b[39;49m\u001b[43mget\u001b[49m\u001b[43m(\u001b[49m\u001b[38;5;124;43m\"\u001b[39;49m\u001b[38;5;124;43mencoding\u001b[39;49m\u001b[38;5;124;43m\"\u001b[39;49m\u001b[43m,\u001b[49m\u001b[43m \u001b[49m\u001b[38;5;28;43;01mNone\u001b[39;49;00m\u001b[43m)\u001b[49m\u001b[43m,\u001b[49m\n\u001b[0;32m   1884\u001b[0m \u001b[43m    \u001b[49m\u001b[43mcompression\u001b[49m\u001b[38;5;241;43m=\u001b[39;49m\u001b[38;5;28;43mself\u001b[39;49m\u001b[38;5;241;43m.\u001b[39;49m\u001b[43moptions\u001b[49m\u001b[38;5;241;43m.\u001b[39;49m\u001b[43mget\u001b[49m\u001b[43m(\u001b[49m\u001b[38;5;124;43m\"\u001b[39;49m\u001b[38;5;124;43mcompression\u001b[39;49m\u001b[38;5;124;43m\"\u001b[39;49m\u001b[43m,\u001b[49m\u001b[43m \u001b[49m\u001b[38;5;28;43;01mNone\u001b[39;49;00m\u001b[43m)\u001b[49m\u001b[43m,\u001b[49m\n\u001b[0;32m   1885\u001b[0m \u001b[43m    \u001b[49m\u001b[43mmemory_map\u001b[49m\u001b[38;5;241;43m=\u001b[39;49m\u001b[38;5;28;43mself\u001b[39;49m\u001b[38;5;241;43m.\u001b[39;49m\u001b[43moptions\u001b[49m\u001b[38;5;241;43m.\u001b[39;49m\u001b[43mget\u001b[49m\u001b[43m(\u001b[49m\u001b[38;5;124;43m\"\u001b[39;49m\u001b[38;5;124;43mmemory_map\u001b[39;49m\u001b[38;5;124;43m\"\u001b[39;49m\u001b[43m,\u001b[49m\u001b[43m \u001b[49m\u001b[38;5;28;43;01mFalse\u001b[39;49;00m\u001b[43m)\u001b[49m\u001b[43m,\u001b[49m\n\u001b[0;32m   1886\u001b[0m \u001b[43m    \u001b[49m\u001b[43mis_text\u001b[49m\u001b[38;5;241;43m=\u001b[39;49m\u001b[43mis_text\u001b[49m\u001b[43m,\u001b[49m\n\u001b[0;32m   1887\u001b[0m \u001b[43m    \u001b[49m\u001b[43merrors\u001b[49m\u001b[38;5;241;43m=\u001b[39;49m\u001b[38;5;28;43mself\u001b[39;49m\u001b[38;5;241;43m.\u001b[39;49m\u001b[43moptions\u001b[49m\u001b[38;5;241;43m.\u001b[39;49m\u001b[43mget\u001b[49m\u001b[43m(\u001b[49m\u001b[38;5;124;43m\"\u001b[39;49m\u001b[38;5;124;43mencoding_errors\u001b[39;49m\u001b[38;5;124;43m\"\u001b[39;49m\u001b[43m,\u001b[49m\u001b[43m \u001b[49m\u001b[38;5;124;43m\"\u001b[39;49m\u001b[38;5;124;43mstrict\u001b[39;49m\u001b[38;5;124;43m\"\u001b[39;49m\u001b[43m)\u001b[49m\u001b[43m,\u001b[49m\n\u001b[0;32m   1888\u001b[0m \u001b[43m    \u001b[49m\u001b[43mstorage_options\u001b[49m\u001b[38;5;241;43m=\u001b[39;49m\u001b[38;5;28;43mself\u001b[39;49m\u001b[38;5;241;43m.\u001b[39;49m\u001b[43moptions\u001b[49m\u001b[38;5;241;43m.\u001b[39;49m\u001b[43mget\u001b[49m\u001b[43m(\u001b[49m\u001b[38;5;124;43m\"\u001b[39;49m\u001b[38;5;124;43mstorage_options\u001b[39;49m\u001b[38;5;124;43m\"\u001b[39;49m\u001b[43m,\u001b[49m\u001b[43m \u001b[49m\u001b[38;5;28;43;01mNone\u001b[39;49;00m\u001b[43m)\u001b[49m\u001b[43m,\u001b[49m\n\u001b[0;32m   1889\u001b[0m \u001b[43m\u001b[49m\u001b[43m)\u001b[49m\n\u001b[0;32m   1890\u001b[0m \u001b[38;5;28;01massert\u001b[39;00m \u001b[38;5;28mself\u001b[39m\u001b[38;5;241m.\u001b[39mhandles \u001b[38;5;129;01mis\u001b[39;00m \u001b[38;5;129;01mnot\u001b[39;00m \u001b[38;5;28;01mNone\u001b[39;00m\n\u001b[0;32m   1891\u001b[0m f \u001b[38;5;241m=\u001b[39m \u001b[38;5;28mself\u001b[39m\u001b[38;5;241m.\u001b[39mhandles\u001b[38;5;241m.\u001b[39mhandle\n",
      "File \u001b[1;32m~\\AppData\\Local\\Programs\\Python\\Python312\\Lib\\site-packages\\pandas\\io\\common.py:873\u001b[0m, in \u001b[0;36mget_handle\u001b[1;34m(path_or_buf, mode, encoding, compression, memory_map, is_text, errors, storage_options)\u001b[0m\n\u001b[0;32m    868\u001b[0m \u001b[38;5;28;01melif\u001b[39;00m \u001b[38;5;28misinstance\u001b[39m(handle, \u001b[38;5;28mstr\u001b[39m):\n\u001b[0;32m    869\u001b[0m     \u001b[38;5;66;03m# Check whether the filename is to be opened in binary mode.\u001b[39;00m\n\u001b[0;32m    870\u001b[0m     \u001b[38;5;66;03m# Binary mode does not support 'encoding' and 'newline'.\u001b[39;00m\n\u001b[0;32m    871\u001b[0m     \u001b[38;5;28;01mif\u001b[39;00m ioargs\u001b[38;5;241m.\u001b[39mencoding \u001b[38;5;129;01mand\u001b[39;00m \u001b[38;5;124m\"\u001b[39m\u001b[38;5;124mb\u001b[39m\u001b[38;5;124m\"\u001b[39m \u001b[38;5;129;01mnot\u001b[39;00m \u001b[38;5;129;01min\u001b[39;00m ioargs\u001b[38;5;241m.\u001b[39mmode:\n\u001b[0;32m    872\u001b[0m         \u001b[38;5;66;03m# Encoding\u001b[39;00m\n\u001b[1;32m--> 873\u001b[0m         handle \u001b[38;5;241m=\u001b[39m \u001b[38;5;28;43mopen\u001b[39;49m\u001b[43m(\u001b[49m\n\u001b[0;32m    874\u001b[0m \u001b[43m            \u001b[49m\u001b[43mhandle\u001b[49m\u001b[43m,\u001b[49m\n\u001b[0;32m    875\u001b[0m \u001b[43m            \u001b[49m\u001b[43mioargs\u001b[49m\u001b[38;5;241;43m.\u001b[39;49m\u001b[43mmode\u001b[49m\u001b[43m,\u001b[49m\n\u001b[0;32m    876\u001b[0m \u001b[43m            \u001b[49m\u001b[43mencoding\u001b[49m\u001b[38;5;241;43m=\u001b[39;49m\u001b[43mioargs\u001b[49m\u001b[38;5;241;43m.\u001b[39;49m\u001b[43mencoding\u001b[49m\u001b[43m,\u001b[49m\n\u001b[0;32m    877\u001b[0m \u001b[43m            \u001b[49m\u001b[43merrors\u001b[49m\u001b[38;5;241;43m=\u001b[39;49m\u001b[43merrors\u001b[49m\u001b[43m,\u001b[49m\n\u001b[0;32m    878\u001b[0m \u001b[43m            \u001b[49m\u001b[43mnewline\u001b[49m\u001b[38;5;241;43m=\u001b[39;49m\u001b[38;5;124;43m\"\u001b[39;49m\u001b[38;5;124;43m\"\u001b[39;49m\u001b[43m,\u001b[49m\n\u001b[0;32m    879\u001b[0m \u001b[43m        \u001b[49m\u001b[43m)\u001b[49m\n\u001b[0;32m    880\u001b[0m     \u001b[38;5;28;01melse\u001b[39;00m:\n\u001b[0;32m    881\u001b[0m         \u001b[38;5;66;03m# Binary mode\u001b[39;00m\n\u001b[0;32m    882\u001b[0m         handle \u001b[38;5;241m=\u001b[39m \u001b[38;5;28mopen\u001b[39m(handle, ioargs\u001b[38;5;241m.\u001b[39mmode)\n",
      "\u001b[1;31mFileNotFoundError\u001b[0m: [Errno 2] No such file or directory: 'data.csv'"
     ]
    }
   ],
   "source": [
    "# 기본 읽기\n",
    "df = pd.read_csv('data.csv', sep=',')\n",
    "df"
   ]
  },
  {
   "cell_type": "code",
   "execution_count": null,
   "metadata": {
    "colab": {
     "base_uri": "https://localhost:8080/",
     "height": 194
    },
    "id": "BY39j7Qc6NDL",
    "outputId": "9fec1e89-2e9c-4779-ccc6-ca9478b0fa3e"
   },
   "outputs": [],
   "source": [
    "# sep지정, :\n",
    "import pandas as pd\n",
    "df = pd.read_csv('data/data_colon.csv', sep=':')\n",
    "df"
   ]
  },
  {
   "cell_type": "code",
   "execution_count": 27,
   "metadata": {
    "colab": {
     "base_uri": "https://localhost:8080/",
     "height": 194
    },
    "id": "IC8nWKTt6zf1",
    "outputId": "135d87ea-03ca-4b1a-bba6-6e7a2ecb35d4"
   },
   "outputs": [
    {
     "ename": "FileNotFoundError",
     "evalue": "[Errno 2] No such file or directory: 'data_noheader.csv'",
     "output_type": "error",
     "traceback": [
      "\u001b[1;31m---------------------------------------------------------------------------\u001b[0m",
      "\u001b[1;31mFileNotFoundError\u001b[0m                         Traceback (most recent call last)",
      "Cell \u001b[1;32mIn[27], line 2\u001b[0m\n\u001b[0;32m      1\u001b[0m \u001b[38;5;66;03m# header 무시, 열이름 직접 이름 지정\u001b[39;00m\n\u001b[1;32m----> 2\u001b[0m \u001b[43mpd\u001b[49m\u001b[38;5;241;43m.\u001b[39;49m\u001b[43mread_csv\u001b[49m\u001b[43m(\u001b[49m\u001b[38;5;124;43m\"\u001b[39;49m\u001b[38;5;124;43mdata_noheader.csv\u001b[39;49m\u001b[38;5;124;43m\"\u001b[39;49m\u001b[43m,\u001b[49m\u001b[43m \u001b[49m\u001b[43mheader\u001b[49m\u001b[38;5;241;43m=\u001b[39;49m\u001b[38;5;28;43;01mNone\u001b[39;49;00m\u001b[43m,\u001b[49m\u001b[43m \u001b[49m\u001b[43mnames\u001b[49m\u001b[38;5;241;43m=\u001b[39;49m\u001b[43m[\u001b[49m\u001b[38;5;124;43m'\u001b[39;49m\u001b[38;5;124;43mcity\u001b[39;49m\u001b[38;5;124;43m'\u001b[39;49m\u001b[43m,\u001b[49m\u001b[43m \u001b[49m\u001b[38;5;124;43m'\u001b[39;49m\u001b[38;5;124;43mpop\u001b[39;49m\u001b[38;5;124;43m'\u001b[39;49m\u001b[43m,\u001b[49m\u001b[43m \u001b[49m\u001b[38;5;124;43m'\u001b[39;49m\u001b[38;5;124;43marea\u001b[39;49m\u001b[38;5;124;43m'\u001b[39;49m\u001b[43m]\u001b[49m\u001b[43m)\u001b[49m\n",
      "File \u001b[1;32m~\\AppData\\Local\\Programs\\Python\\Python312\\Lib\\site-packages\\pandas\\io\\parsers\\readers.py:1026\u001b[0m, in \u001b[0;36mread_csv\u001b[1;34m(filepath_or_buffer, sep, delimiter, header, names, index_col, usecols, dtype, engine, converters, true_values, false_values, skipinitialspace, skiprows, skipfooter, nrows, na_values, keep_default_na, na_filter, verbose, skip_blank_lines, parse_dates, infer_datetime_format, keep_date_col, date_parser, date_format, dayfirst, cache_dates, iterator, chunksize, compression, thousands, decimal, lineterminator, quotechar, quoting, doublequote, escapechar, comment, encoding, encoding_errors, dialect, on_bad_lines, delim_whitespace, low_memory, memory_map, float_precision, storage_options, dtype_backend)\u001b[0m\n\u001b[0;32m   1013\u001b[0m kwds_defaults \u001b[38;5;241m=\u001b[39m _refine_defaults_read(\n\u001b[0;32m   1014\u001b[0m     dialect,\n\u001b[0;32m   1015\u001b[0m     delimiter,\n\u001b[1;32m   (...)\u001b[0m\n\u001b[0;32m   1022\u001b[0m     dtype_backend\u001b[38;5;241m=\u001b[39mdtype_backend,\n\u001b[0;32m   1023\u001b[0m )\n\u001b[0;32m   1024\u001b[0m kwds\u001b[38;5;241m.\u001b[39mupdate(kwds_defaults)\n\u001b[1;32m-> 1026\u001b[0m \u001b[38;5;28;01mreturn\u001b[39;00m \u001b[43m_read\u001b[49m\u001b[43m(\u001b[49m\u001b[43mfilepath_or_buffer\u001b[49m\u001b[43m,\u001b[49m\u001b[43m \u001b[49m\u001b[43mkwds\u001b[49m\u001b[43m)\u001b[49m\n",
      "File \u001b[1;32m~\\AppData\\Local\\Programs\\Python\\Python312\\Lib\\site-packages\\pandas\\io\\parsers\\readers.py:620\u001b[0m, in \u001b[0;36m_read\u001b[1;34m(filepath_or_buffer, kwds)\u001b[0m\n\u001b[0;32m    617\u001b[0m _validate_names(kwds\u001b[38;5;241m.\u001b[39mget(\u001b[38;5;124m\"\u001b[39m\u001b[38;5;124mnames\u001b[39m\u001b[38;5;124m\"\u001b[39m, \u001b[38;5;28;01mNone\u001b[39;00m))\n\u001b[0;32m    619\u001b[0m \u001b[38;5;66;03m# Create the parser.\u001b[39;00m\n\u001b[1;32m--> 620\u001b[0m parser \u001b[38;5;241m=\u001b[39m \u001b[43mTextFileReader\u001b[49m\u001b[43m(\u001b[49m\u001b[43mfilepath_or_buffer\u001b[49m\u001b[43m,\u001b[49m\u001b[43m \u001b[49m\u001b[38;5;241;43m*\u001b[39;49m\u001b[38;5;241;43m*\u001b[39;49m\u001b[43mkwds\u001b[49m\u001b[43m)\u001b[49m\n\u001b[0;32m    622\u001b[0m \u001b[38;5;28;01mif\u001b[39;00m chunksize \u001b[38;5;129;01mor\u001b[39;00m iterator:\n\u001b[0;32m    623\u001b[0m     \u001b[38;5;28;01mreturn\u001b[39;00m parser\n",
      "File \u001b[1;32m~\\AppData\\Local\\Programs\\Python\\Python312\\Lib\\site-packages\\pandas\\io\\parsers\\readers.py:1620\u001b[0m, in \u001b[0;36mTextFileReader.__init__\u001b[1;34m(self, f, engine, **kwds)\u001b[0m\n\u001b[0;32m   1617\u001b[0m     \u001b[38;5;28mself\u001b[39m\u001b[38;5;241m.\u001b[39moptions[\u001b[38;5;124m\"\u001b[39m\u001b[38;5;124mhas_index_names\u001b[39m\u001b[38;5;124m\"\u001b[39m] \u001b[38;5;241m=\u001b[39m kwds[\u001b[38;5;124m\"\u001b[39m\u001b[38;5;124mhas_index_names\u001b[39m\u001b[38;5;124m\"\u001b[39m]\n\u001b[0;32m   1619\u001b[0m \u001b[38;5;28mself\u001b[39m\u001b[38;5;241m.\u001b[39mhandles: IOHandles \u001b[38;5;241m|\u001b[39m \u001b[38;5;28;01mNone\u001b[39;00m \u001b[38;5;241m=\u001b[39m \u001b[38;5;28;01mNone\u001b[39;00m\n\u001b[1;32m-> 1620\u001b[0m \u001b[38;5;28mself\u001b[39m\u001b[38;5;241m.\u001b[39m_engine \u001b[38;5;241m=\u001b[39m \u001b[38;5;28;43mself\u001b[39;49m\u001b[38;5;241;43m.\u001b[39;49m\u001b[43m_make_engine\u001b[49m\u001b[43m(\u001b[49m\u001b[43mf\u001b[49m\u001b[43m,\u001b[49m\u001b[43m \u001b[49m\u001b[38;5;28;43mself\u001b[39;49m\u001b[38;5;241;43m.\u001b[39;49m\u001b[43mengine\u001b[49m\u001b[43m)\u001b[49m\n",
      "File \u001b[1;32m~\\AppData\\Local\\Programs\\Python\\Python312\\Lib\\site-packages\\pandas\\io\\parsers\\readers.py:1880\u001b[0m, in \u001b[0;36mTextFileReader._make_engine\u001b[1;34m(self, f, engine)\u001b[0m\n\u001b[0;32m   1878\u001b[0m     \u001b[38;5;28;01mif\u001b[39;00m \u001b[38;5;124m\"\u001b[39m\u001b[38;5;124mb\u001b[39m\u001b[38;5;124m\"\u001b[39m \u001b[38;5;129;01mnot\u001b[39;00m \u001b[38;5;129;01min\u001b[39;00m mode:\n\u001b[0;32m   1879\u001b[0m         mode \u001b[38;5;241m+\u001b[39m\u001b[38;5;241m=\u001b[39m \u001b[38;5;124m\"\u001b[39m\u001b[38;5;124mb\u001b[39m\u001b[38;5;124m\"\u001b[39m\n\u001b[1;32m-> 1880\u001b[0m \u001b[38;5;28mself\u001b[39m\u001b[38;5;241m.\u001b[39mhandles \u001b[38;5;241m=\u001b[39m \u001b[43mget_handle\u001b[49m\u001b[43m(\u001b[49m\n\u001b[0;32m   1881\u001b[0m \u001b[43m    \u001b[49m\u001b[43mf\u001b[49m\u001b[43m,\u001b[49m\n\u001b[0;32m   1882\u001b[0m \u001b[43m    \u001b[49m\u001b[43mmode\u001b[49m\u001b[43m,\u001b[49m\n\u001b[0;32m   1883\u001b[0m \u001b[43m    \u001b[49m\u001b[43mencoding\u001b[49m\u001b[38;5;241;43m=\u001b[39;49m\u001b[38;5;28;43mself\u001b[39;49m\u001b[38;5;241;43m.\u001b[39;49m\u001b[43moptions\u001b[49m\u001b[38;5;241;43m.\u001b[39;49m\u001b[43mget\u001b[49m\u001b[43m(\u001b[49m\u001b[38;5;124;43m\"\u001b[39;49m\u001b[38;5;124;43mencoding\u001b[39;49m\u001b[38;5;124;43m\"\u001b[39;49m\u001b[43m,\u001b[49m\u001b[43m \u001b[49m\u001b[38;5;28;43;01mNone\u001b[39;49;00m\u001b[43m)\u001b[49m\u001b[43m,\u001b[49m\n\u001b[0;32m   1884\u001b[0m \u001b[43m    \u001b[49m\u001b[43mcompression\u001b[49m\u001b[38;5;241;43m=\u001b[39;49m\u001b[38;5;28;43mself\u001b[39;49m\u001b[38;5;241;43m.\u001b[39;49m\u001b[43moptions\u001b[49m\u001b[38;5;241;43m.\u001b[39;49m\u001b[43mget\u001b[49m\u001b[43m(\u001b[49m\u001b[38;5;124;43m\"\u001b[39;49m\u001b[38;5;124;43mcompression\u001b[39;49m\u001b[38;5;124;43m\"\u001b[39;49m\u001b[43m,\u001b[49m\u001b[43m \u001b[49m\u001b[38;5;28;43;01mNone\u001b[39;49;00m\u001b[43m)\u001b[49m\u001b[43m,\u001b[49m\n\u001b[0;32m   1885\u001b[0m \u001b[43m    \u001b[49m\u001b[43mmemory_map\u001b[49m\u001b[38;5;241;43m=\u001b[39;49m\u001b[38;5;28;43mself\u001b[39;49m\u001b[38;5;241;43m.\u001b[39;49m\u001b[43moptions\u001b[49m\u001b[38;5;241;43m.\u001b[39;49m\u001b[43mget\u001b[49m\u001b[43m(\u001b[49m\u001b[38;5;124;43m\"\u001b[39;49m\u001b[38;5;124;43mmemory_map\u001b[39;49m\u001b[38;5;124;43m\"\u001b[39;49m\u001b[43m,\u001b[49m\u001b[43m \u001b[49m\u001b[38;5;28;43;01mFalse\u001b[39;49;00m\u001b[43m)\u001b[49m\u001b[43m,\u001b[49m\n\u001b[0;32m   1886\u001b[0m \u001b[43m    \u001b[49m\u001b[43mis_text\u001b[49m\u001b[38;5;241;43m=\u001b[39;49m\u001b[43mis_text\u001b[49m\u001b[43m,\u001b[49m\n\u001b[0;32m   1887\u001b[0m \u001b[43m    \u001b[49m\u001b[43merrors\u001b[49m\u001b[38;5;241;43m=\u001b[39;49m\u001b[38;5;28;43mself\u001b[39;49m\u001b[38;5;241;43m.\u001b[39;49m\u001b[43moptions\u001b[49m\u001b[38;5;241;43m.\u001b[39;49m\u001b[43mget\u001b[49m\u001b[43m(\u001b[49m\u001b[38;5;124;43m\"\u001b[39;49m\u001b[38;5;124;43mencoding_errors\u001b[39;49m\u001b[38;5;124;43m\"\u001b[39;49m\u001b[43m,\u001b[49m\u001b[43m \u001b[49m\u001b[38;5;124;43m\"\u001b[39;49m\u001b[38;5;124;43mstrict\u001b[39;49m\u001b[38;5;124;43m\"\u001b[39;49m\u001b[43m)\u001b[49m\u001b[43m,\u001b[49m\n\u001b[0;32m   1888\u001b[0m \u001b[43m    \u001b[49m\u001b[43mstorage_options\u001b[49m\u001b[38;5;241;43m=\u001b[39;49m\u001b[38;5;28;43mself\u001b[39;49m\u001b[38;5;241;43m.\u001b[39;49m\u001b[43moptions\u001b[49m\u001b[38;5;241;43m.\u001b[39;49m\u001b[43mget\u001b[49m\u001b[43m(\u001b[49m\u001b[38;5;124;43m\"\u001b[39;49m\u001b[38;5;124;43mstorage_options\u001b[39;49m\u001b[38;5;124;43m\"\u001b[39;49m\u001b[43m,\u001b[49m\u001b[43m \u001b[49m\u001b[38;5;28;43;01mNone\u001b[39;49;00m\u001b[43m)\u001b[49m\u001b[43m,\u001b[49m\n\u001b[0;32m   1889\u001b[0m \u001b[43m\u001b[49m\u001b[43m)\u001b[49m\n\u001b[0;32m   1890\u001b[0m \u001b[38;5;28;01massert\u001b[39;00m \u001b[38;5;28mself\u001b[39m\u001b[38;5;241m.\u001b[39mhandles \u001b[38;5;129;01mis\u001b[39;00m \u001b[38;5;129;01mnot\u001b[39;00m \u001b[38;5;28;01mNone\u001b[39;00m\n\u001b[0;32m   1891\u001b[0m f \u001b[38;5;241m=\u001b[39m \u001b[38;5;28mself\u001b[39m\u001b[38;5;241m.\u001b[39mhandles\u001b[38;5;241m.\u001b[39mhandle\n",
      "File \u001b[1;32m~\\AppData\\Local\\Programs\\Python\\Python312\\Lib\\site-packages\\pandas\\io\\common.py:873\u001b[0m, in \u001b[0;36mget_handle\u001b[1;34m(path_or_buf, mode, encoding, compression, memory_map, is_text, errors, storage_options)\u001b[0m\n\u001b[0;32m    868\u001b[0m \u001b[38;5;28;01melif\u001b[39;00m \u001b[38;5;28misinstance\u001b[39m(handle, \u001b[38;5;28mstr\u001b[39m):\n\u001b[0;32m    869\u001b[0m     \u001b[38;5;66;03m# Check whether the filename is to be opened in binary mode.\u001b[39;00m\n\u001b[0;32m    870\u001b[0m     \u001b[38;5;66;03m# Binary mode does not support 'encoding' and 'newline'.\u001b[39;00m\n\u001b[0;32m    871\u001b[0m     \u001b[38;5;28;01mif\u001b[39;00m ioargs\u001b[38;5;241m.\u001b[39mencoding \u001b[38;5;129;01mand\u001b[39;00m \u001b[38;5;124m\"\u001b[39m\u001b[38;5;124mb\u001b[39m\u001b[38;5;124m\"\u001b[39m \u001b[38;5;129;01mnot\u001b[39;00m \u001b[38;5;129;01min\u001b[39;00m ioargs\u001b[38;5;241m.\u001b[39mmode:\n\u001b[0;32m    872\u001b[0m         \u001b[38;5;66;03m# Encoding\u001b[39;00m\n\u001b[1;32m--> 873\u001b[0m         handle \u001b[38;5;241m=\u001b[39m \u001b[38;5;28;43mopen\u001b[39;49m\u001b[43m(\u001b[49m\n\u001b[0;32m    874\u001b[0m \u001b[43m            \u001b[49m\u001b[43mhandle\u001b[49m\u001b[43m,\u001b[49m\n\u001b[0;32m    875\u001b[0m \u001b[43m            \u001b[49m\u001b[43mioargs\u001b[49m\u001b[38;5;241;43m.\u001b[39;49m\u001b[43mmode\u001b[49m\u001b[43m,\u001b[49m\n\u001b[0;32m    876\u001b[0m \u001b[43m            \u001b[49m\u001b[43mencoding\u001b[49m\u001b[38;5;241;43m=\u001b[39;49m\u001b[43mioargs\u001b[49m\u001b[38;5;241;43m.\u001b[39;49m\u001b[43mencoding\u001b[49m\u001b[43m,\u001b[49m\n\u001b[0;32m    877\u001b[0m \u001b[43m            \u001b[49m\u001b[43merrors\u001b[49m\u001b[38;5;241;43m=\u001b[39;49m\u001b[43merrors\u001b[49m\u001b[43m,\u001b[49m\n\u001b[0;32m    878\u001b[0m \u001b[43m            \u001b[49m\u001b[43mnewline\u001b[49m\u001b[38;5;241;43m=\u001b[39;49m\u001b[38;5;124;43m\"\u001b[39;49m\u001b[38;5;124;43m\"\u001b[39;49m\u001b[43m,\u001b[49m\n\u001b[0;32m    879\u001b[0m \u001b[43m        \u001b[49m\u001b[43m)\u001b[49m\n\u001b[0;32m    880\u001b[0m     \u001b[38;5;28;01melse\u001b[39;00m:\n\u001b[0;32m    881\u001b[0m         \u001b[38;5;66;03m# Binary mode\u001b[39;00m\n\u001b[0;32m    882\u001b[0m         handle \u001b[38;5;241m=\u001b[39m \u001b[38;5;28mopen\u001b[39m(handle, ioargs\u001b[38;5;241m.\u001b[39mmode)\n",
      "\u001b[1;31mFileNotFoundError\u001b[0m: [Errno 2] No such file or directory: 'data_noheader.csv'"
     ]
    }
   ],
   "source": [
    "# header 무시, 열이름 직접 이름 지정\n",
    "pd.read_csv(\"data_noheader.csv\", header=None, names=['city', 'pop', 'area'])\n"
   ]
  },
  {
   "cell_type": "code",
   "execution_count": 28,
   "metadata": {
    "colab": {
     "base_uri": "https://localhost:8080/",
     "height": 194
    },
    "id": "6Wuhy8qQ62Zw",
    "outputId": "90e2fa43-09b1-4268-c48b-fb65188b9436"
   },
   "outputs": [
    {
     "ename": "FileNotFoundError",
     "evalue": "[Errno 2] No such file or directory: 'data.csv'",
     "output_type": "error",
     "traceback": [
      "\u001b[1;31m---------------------------------------------------------------------------\u001b[0m",
      "\u001b[1;31mFileNotFoundError\u001b[0m                         Traceback (most recent call last)",
      "Cell \u001b[1;32mIn[28], line 2\u001b[0m\n\u001b[0;32m      1\u001b[0m \u001b[38;5;66;03m# index_col 지정\u001b[39;00m\n\u001b[1;32m----> 2\u001b[0m df_city \u001b[38;5;241m=\u001b[39m \u001b[43mpd\u001b[49m\u001b[38;5;241;43m.\u001b[39;49m\u001b[43mread_csv\u001b[49m\u001b[43m(\u001b[49m\u001b[38;5;124;43m'\u001b[39;49m\u001b[38;5;124;43mdata.csv\u001b[39;49m\u001b[38;5;124;43m'\u001b[39;49m\u001b[43m,\u001b[49m\u001b[43m \u001b[49m\u001b[43mindex_col\u001b[49m\u001b[38;5;241;43m=\u001b[39;49m\u001b[38;5;124;43m'\u001b[39;49m\u001b[38;5;124;43mcity\u001b[39;49m\u001b[38;5;124;43m'\u001b[39;49m\u001b[43m)\u001b[49m\n\u001b[0;32m      3\u001b[0m df_city\u001b[38;5;241m.\u001b[39mindex\u001b[38;5;241m.\u001b[39mname \u001b[38;5;241m=\u001b[39m \u001b[38;5;28;01mNone\u001b[39;00m\n\u001b[0;32m      4\u001b[0m df_city\n",
      "File \u001b[1;32m~\\AppData\\Local\\Programs\\Python\\Python312\\Lib\\site-packages\\pandas\\io\\parsers\\readers.py:1026\u001b[0m, in \u001b[0;36mread_csv\u001b[1;34m(filepath_or_buffer, sep, delimiter, header, names, index_col, usecols, dtype, engine, converters, true_values, false_values, skipinitialspace, skiprows, skipfooter, nrows, na_values, keep_default_na, na_filter, verbose, skip_blank_lines, parse_dates, infer_datetime_format, keep_date_col, date_parser, date_format, dayfirst, cache_dates, iterator, chunksize, compression, thousands, decimal, lineterminator, quotechar, quoting, doublequote, escapechar, comment, encoding, encoding_errors, dialect, on_bad_lines, delim_whitespace, low_memory, memory_map, float_precision, storage_options, dtype_backend)\u001b[0m\n\u001b[0;32m   1013\u001b[0m kwds_defaults \u001b[38;5;241m=\u001b[39m _refine_defaults_read(\n\u001b[0;32m   1014\u001b[0m     dialect,\n\u001b[0;32m   1015\u001b[0m     delimiter,\n\u001b[1;32m   (...)\u001b[0m\n\u001b[0;32m   1022\u001b[0m     dtype_backend\u001b[38;5;241m=\u001b[39mdtype_backend,\n\u001b[0;32m   1023\u001b[0m )\n\u001b[0;32m   1024\u001b[0m kwds\u001b[38;5;241m.\u001b[39mupdate(kwds_defaults)\n\u001b[1;32m-> 1026\u001b[0m \u001b[38;5;28;01mreturn\u001b[39;00m \u001b[43m_read\u001b[49m\u001b[43m(\u001b[49m\u001b[43mfilepath_or_buffer\u001b[49m\u001b[43m,\u001b[49m\u001b[43m \u001b[49m\u001b[43mkwds\u001b[49m\u001b[43m)\u001b[49m\n",
      "File \u001b[1;32m~\\AppData\\Local\\Programs\\Python\\Python312\\Lib\\site-packages\\pandas\\io\\parsers\\readers.py:620\u001b[0m, in \u001b[0;36m_read\u001b[1;34m(filepath_or_buffer, kwds)\u001b[0m\n\u001b[0;32m    617\u001b[0m _validate_names(kwds\u001b[38;5;241m.\u001b[39mget(\u001b[38;5;124m\"\u001b[39m\u001b[38;5;124mnames\u001b[39m\u001b[38;5;124m\"\u001b[39m, \u001b[38;5;28;01mNone\u001b[39;00m))\n\u001b[0;32m    619\u001b[0m \u001b[38;5;66;03m# Create the parser.\u001b[39;00m\n\u001b[1;32m--> 620\u001b[0m parser \u001b[38;5;241m=\u001b[39m \u001b[43mTextFileReader\u001b[49m\u001b[43m(\u001b[49m\u001b[43mfilepath_or_buffer\u001b[49m\u001b[43m,\u001b[49m\u001b[43m \u001b[49m\u001b[38;5;241;43m*\u001b[39;49m\u001b[38;5;241;43m*\u001b[39;49m\u001b[43mkwds\u001b[49m\u001b[43m)\u001b[49m\n\u001b[0;32m    622\u001b[0m \u001b[38;5;28;01mif\u001b[39;00m chunksize \u001b[38;5;129;01mor\u001b[39;00m iterator:\n\u001b[0;32m    623\u001b[0m     \u001b[38;5;28;01mreturn\u001b[39;00m parser\n",
      "File \u001b[1;32m~\\AppData\\Local\\Programs\\Python\\Python312\\Lib\\site-packages\\pandas\\io\\parsers\\readers.py:1620\u001b[0m, in \u001b[0;36mTextFileReader.__init__\u001b[1;34m(self, f, engine, **kwds)\u001b[0m\n\u001b[0;32m   1617\u001b[0m     \u001b[38;5;28mself\u001b[39m\u001b[38;5;241m.\u001b[39moptions[\u001b[38;5;124m\"\u001b[39m\u001b[38;5;124mhas_index_names\u001b[39m\u001b[38;5;124m\"\u001b[39m] \u001b[38;5;241m=\u001b[39m kwds[\u001b[38;5;124m\"\u001b[39m\u001b[38;5;124mhas_index_names\u001b[39m\u001b[38;5;124m\"\u001b[39m]\n\u001b[0;32m   1619\u001b[0m \u001b[38;5;28mself\u001b[39m\u001b[38;5;241m.\u001b[39mhandles: IOHandles \u001b[38;5;241m|\u001b[39m \u001b[38;5;28;01mNone\u001b[39;00m \u001b[38;5;241m=\u001b[39m \u001b[38;5;28;01mNone\u001b[39;00m\n\u001b[1;32m-> 1620\u001b[0m \u001b[38;5;28mself\u001b[39m\u001b[38;5;241m.\u001b[39m_engine \u001b[38;5;241m=\u001b[39m \u001b[38;5;28;43mself\u001b[39;49m\u001b[38;5;241;43m.\u001b[39;49m\u001b[43m_make_engine\u001b[49m\u001b[43m(\u001b[49m\u001b[43mf\u001b[49m\u001b[43m,\u001b[49m\u001b[43m \u001b[49m\u001b[38;5;28;43mself\u001b[39;49m\u001b[38;5;241;43m.\u001b[39;49m\u001b[43mengine\u001b[49m\u001b[43m)\u001b[49m\n",
      "File \u001b[1;32m~\\AppData\\Local\\Programs\\Python\\Python312\\Lib\\site-packages\\pandas\\io\\parsers\\readers.py:1880\u001b[0m, in \u001b[0;36mTextFileReader._make_engine\u001b[1;34m(self, f, engine)\u001b[0m\n\u001b[0;32m   1878\u001b[0m     \u001b[38;5;28;01mif\u001b[39;00m \u001b[38;5;124m\"\u001b[39m\u001b[38;5;124mb\u001b[39m\u001b[38;5;124m\"\u001b[39m \u001b[38;5;129;01mnot\u001b[39;00m \u001b[38;5;129;01min\u001b[39;00m mode:\n\u001b[0;32m   1879\u001b[0m         mode \u001b[38;5;241m+\u001b[39m\u001b[38;5;241m=\u001b[39m \u001b[38;5;124m\"\u001b[39m\u001b[38;5;124mb\u001b[39m\u001b[38;5;124m\"\u001b[39m\n\u001b[1;32m-> 1880\u001b[0m \u001b[38;5;28mself\u001b[39m\u001b[38;5;241m.\u001b[39mhandles \u001b[38;5;241m=\u001b[39m \u001b[43mget_handle\u001b[49m\u001b[43m(\u001b[49m\n\u001b[0;32m   1881\u001b[0m \u001b[43m    \u001b[49m\u001b[43mf\u001b[49m\u001b[43m,\u001b[49m\n\u001b[0;32m   1882\u001b[0m \u001b[43m    \u001b[49m\u001b[43mmode\u001b[49m\u001b[43m,\u001b[49m\n\u001b[0;32m   1883\u001b[0m \u001b[43m    \u001b[49m\u001b[43mencoding\u001b[49m\u001b[38;5;241;43m=\u001b[39;49m\u001b[38;5;28;43mself\u001b[39;49m\u001b[38;5;241;43m.\u001b[39;49m\u001b[43moptions\u001b[49m\u001b[38;5;241;43m.\u001b[39;49m\u001b[43mget\u001b[49m\u001b[43m(\u001b[49m\u001b[38;5;124;43m\"\u001b[39;49m\u001b[38;5;124;43mencoding\u001b[39;49m\u001b[38;5;124;43m\"\u001b[39;49m\u001b[43m,\u001b[49m\u001b[43m \u001b[49m\u001b[38;5;28;43;01mNone\u001b[39;49;00m\u001b[43m)\u001b[49m\u001b[43m,\u001b[49m\n\u001b[0;32m   1884\u001b[0m \u001b[43m    \u001b[49m\u001b[43mcompression\u001b[49m\u001b[38;5;241;43m=\u001b[39;49m\u001b[38;5;28;43mself\u001b[39;49m\u001b[38;5;241;43m.\u001b[39;49m\u001b[43moptions\u001b[49m\u001b[38;5;241;43m.\u001b[39;49m\u001b[43mget\u001b[49m\u001b[43m(\u001b[49m\u001b[38;5;124;43m\"\u001b[39;49m\u001b[38;5;124;43mcompression\u001b[39;49m\u001b[38;5;124;43m\"\u001b[39;49m\u001b[43m,\u001b[49m\u001b[43m \u001b[49m\u001b[38;5;28;43;01mNone\u001b[39;49;00m\u001b[43m)\u001b[49m\u001b[43m,\u001b[49m\n\u001b[0;32m   1885\u001b[0m \u001b[43m    \u001b[49m\u001b[43mmemory_map\u001b[49m\u001b[38;5;241;43m=\u001b[39;49m\u001b[38;5;28;43mself\u001b[39;49m\u001b[38;5;241;43m.\u001b[39;49m\u001b[43moptions\u001b[49m\u001b[38;5;241;43m.\u001b[39;49m\u001b[43mget\u001b[49m\u001b[43m(\u001b[49m\u001b[38;5;124;43m\"\u001b[39;49m\u001b[38;5;124;43mmemory_map\u001b[39;49m\u001b[38;5;124;43m\"\u001b[39;49m\u001b[43m,\u001b[49m\u001b[43m \u001b[49m\u001b[38;5;28;43;01mFalse\u001b[39;49;00m\u001b[43m)\u001b[49m\u001b[43m,\u001b[49m\n\u001b[0;32m   1886\u001b[0m \u001b[43m    \u001b[49m\u001b[43mis_text\u001b[49m\u001b[38;5;241;43m=\u001b[39;49m\u001b[43mis_text\u001b[49m\u001b[43m,\u001b[49m\n\u001b[0;32m   1887\u001b[0m \u001b[43m    \u001b[49m\u001b[43merrors\u001b[49m\u001b[38;5;241;43m=\u001b[39;49m\u001b[38;5;28;43mself\u001b[39;49m\u001b[38;5;241;43m.\u001b[39;49m\u001b[43moptions\u001b[49m\u001b[38;5;241;43m.\u001b[39;49m\u001b[43mget\u001b[49m\u001b[43m(\u001b[49m\u001b[38;5;124;43m\"\u001b[39;49m\u001b[38;5;124;43mencoding_errors\u001b[39;49m\u001b[38;5;124;43m\"\u001b[39;49m\u001b[43m,\u001b[49m\u001b[43m \u001b[49m\u001b[38;5;124;43m\"\u001b[39;49m\u001b[38;5;124;43mstrict\u001b[39;49m\u001b[38;5;124;43m\"\u001b[39;49m\u001b[43m)\u001b[49m\u001b[43m,\u001b[49m\n\u001b[0;32m   1888\u001b[0m \u001b[43m    \u001b[49m\u001b[43mstorage_options\u001b[49m\u001b[38;5;241;43m=\u001b[39;49m\u001b[38;5;28;43mself\u001b[39;49m\u001b[38;5;241;43m.\u001b[39;49m\u001b[43moptions\u001b[49m\u001b[38;5;241;43m.\u001b[39;49m\u001b[43mget\u001b[49m\u001b[43m(\u001b[49m\u001b[38;5;124;43m\"\u001b[39;49m\u001b[38;5;124;43mstorage_options\u001b[39;49m\u001b[38;5;124;43m\"\u001b[39;49m\u001b[43m,\u001b[49m\u001b[43m \u001b[49m\u001b[38;5;28;43;01mNone\u001b[39;49;00m\u001b[43m)\u001b[49m\u001b[43m,\u001b[49m\n\u001b[0;32m   1889\u001b[0m \u001b[43m\u001b[49m\u001b[43m)\u001b[49m\n\u001b[0;32m   1890\u001b[0m \u001b[38;5;28;01massert\u001b[39;00m \u001b[38;5;28mself\u001b[39m\u001b[38;5;241m.\u001b[39mhandles \u001b[38;5;129;01mis\u001b[39;00m \u001b[38;5;129;01mnot\u001b[39;00m \u001b[38;5;28;01mNone\u001b[39;00m\n\u001b[0;32m   1891\u001b[0m f \u001b[38;5;241m=\u001b[39m \u001b[38;5;28mself\u001b[39m\u001b[38;5;241m.\u001b[39mhandles\u001b[38;5;241m.\u001b[39mhandle\n",
      "File \u001b[1;32m~\\AppData\\Local\\Programs\\Python\\Python312\\Lib\\site-packages\\pandas\\io\\common.py:873\u001b[0m, in \u001b[0;36mget_handle\u001b[1;34m(path_or_buf, mode, encoding, compression, memory_map, is_text, errors, storage_options)\u001b[0m\n\u001b[0;32m    868\u001b[0m \u001b[38;5;28;01melif\u001b[39;00m \u001b[38;5;28misinstance\u001b[39m(handle, \u001b[38;5;28mstr\u001b[39m):\n\u001b[0;32m    869\u001b[0m     \u001b[38;5;66;03m# Check whether the filename is to be opened in binary mode.\u001b[39;00m\n\u001b[0;32m    870\u001b[0m     \u001b[38;5;66;03m# Binary mode does not support 'encoding' and 'newline'.\u001b[39;00m\n\u001b[0;32m    871\u001b[0m     \u001b[38;5;28;01mif\u001b[39;00m ioargs\u001b[38;5;241m.\u001b[39mencoding \u001b[38;5;129;01mand\u001b[39;00m \u001b[38;5;124m\"\u001b[39m\u001b[38;5;124mb\u001b[39m\u001b[38;5;124m\"\u001b[39m \u001b[38;5;129;01mnot\u001b[39;00m \u001b[38;5;129;01min\u001b[39;00m ioargs\u001b[38;5;241m.\u001b[39mmode:\n\u001b[0;32m    872\u001b[0m         \u001b[38;5;66;03m# Encoding\u001b[39;00m\n\u001b[1;32m--> 873\u001b[0m         handle \u001b[38;5;241m=\u001b[39m \u001b[38;5;28;43mopen\u001b[39;49m\u001b[43m(\u001b[49m\n\u001b[0;32m    874\u001b[0m \u001b[43m            \u001b[49m\u001b[43mhandle\u001b[49m\u001b[43m,\u001b[49m\n\u001b[0;32m    875\u001b[0m \u001b[43m            \u001b[49m\u001b[43mioargs\u001b[49m\u001b[38;5;241;43m.\u001b[39;49m\u001b[43mmode\u001b[49m\u001b[43m,\u001b[49m\n\u001b[0;32m    876\u001b[0m \u001b[43m            \u001b[49m\u001b[43mencoding\u001b[49m\u001b[38;5;241;43m=\u001b[39;49m\u001b[43mioargs\u001b[49m\u001b[38;5;241;43m.\u001b[39;49m\u001b[43mencoding\u001b[49m\u001b[43m,\u001b[49m\n\u001b[0;32m    877\u001b[0m \u001b[43m            \u001b[49m\u001b[43merrors\u001b[49m\u001b[38;5;241;43m=\u001b[39;49m\u001b[43merrors\u001b[49m\u001b[43m,\u001b[49m\n\u001b[0;32m    878\u001b[0m \u001b[43m            \u001b[49m\u001b[43mnewline\u001b[49m\u001b[38;5;241;43m=\u001b[39;49m\u001b[38;5;124;43m\"\u001b[39;49m\u001b[38;5;124;43m\"\u001b[39;49m\u001b[43m,\u001b[49m\n\u001b[0;32m    879\u001b[0m \u001b[43m        \u001b[49m\u001b[43m)\u001b[49m\n\u001b[0;32m    880\u001b[0m     \u001b[38;5;28;01melse\u001b[39;00m:\n\u001b[0;32m    881\u001b[0m         \u001b[38;5;66;03m# Binary mode\u001b[39;00m\n\u001b[0;32m    882\u001b[0m         handle \u001b[38;5;241m=\u001b[39m \u001b[38;5;28mopen\u001b[39m(handle, ioargs\u001b[38;5;241m.\u001b[39mmode)\n",
      "\u001b[1;31mFileNotFoundError\u001b[0m: [Errno 2] No such file or directory: 'data.csv'"
     ]
    }
   ],
   "source": [
    "# index_col 지정\n",
    "df_city = pd.read_csv('data.csv', index_col='city')\n",
    "df_city.index.name = None\n",
    "df_city"
   ]
  },
  {
   "cell_type": "code",
   "execution_count": null,
   "metadata": {
    "colab": {
     "base_uri": "https://localhost:8080/",
     "height": 194
    },
    "id": "RCiWGuhL67tO",
    "outputId": "d7dfc918-7c82-4618-bfab-9464a447ea1a"
   },
   "outputs": [],
   "source": [
    "# usecols 지정\n",
    "df = pd.read_csv('data.csv', usecols=['city', 'area'])\n",
    "df"
   ]
  },
  {
   "cell_type": "code",
   "execution_count": null,
   "metadata": {
    "colab": {
     "base_uri": "https://localhost:8080/",
     "height": 163
    },
    "id": "92mBDy0Z-_vI",
    "outputId": "9701a83a-8443-454f-cb27-e7f357a26176"
   },
   "outputs": [],
   "source": [
    "# json\n",
    "df = pd.read_json('data.json')\n",
    "df"
   ]
  },
  {
   "cell_type": "markdown",
   "metadata": {
    "id": "fIWTrkZg7MEC"
   },
   "source": [
    "### 연습\n",
    "\n",
    "1. 현재 폴더를 확인하기\n",
    "2. 현재 폴더에 `data` 폴더를 만들고 `data` 폴더에 `pulse_rate.csv`를 위치 시키기\n",
    "3. `read_csv()`를 사용해 해당파일을 아래 모양처럼 데이터프레임으로 읽기\n",
    "\n",
    "![image.png](data:image/png;base64,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)"
   ]
  },
  {
   "cell_type": "code",
   "execution_count": 29,
   "metadata": {
    "colab": {
     "base_uri": "https://localhost:8080/"
    },
    "id": "X1r6fp5snvp4",
    "outputId": "c9879e85-5d6e-4fce-e218-3ff744336dfa"
   },
   "outputs": [
    {
     "name": "stdout",
     "output_type": "stream",
     "text": [
      "/c/Users/imeun/aice/aice\n"
     ]
    }
   ],
   "source": [
    "# 1. 현재 폴더를 확인하기\n",
    "\n",
    "!pwd"
   ]
  },
  {
   "cell_type": "code",
   "execution_count": 30,
   "metadata": {
    "id": "e0ekQEedn5vR"
   },
   "outputs": [],
   "source": [
    "# 2. 현재 폴더에 `data` 폴더를 만들고 `data` 폴더에 `pulse_rate.csv`를 위치 시키기\n"
   ]
  },
  {
   "cell_type": "code",
   "execution_count": 31,
   "metadata": {
    "colab": {
     "base_uri": "https://localhost:8080/",
     "height": 443
    },
    "id": "9Wh3NAbt8Gp1",
    "outputId": "58cda6ff-ac41-44be-dc5a-69b89c458c7c"
   },
   "outputs": [
    {
     "data": {
      "text/html": [
       "<div>\n",
       "<style scoped>\n",
       "    .dataframe tbody tr th:only-of-type {\n",
       "        vertical-align: middle;\n",
       "    }\n",
       "\n",
       "    .dataframe tbody tr th {\n",
       "        vertical-align: top;\n",
       "    }\n",
       "\n",
       "    .dataframe thead th {\n",
       "        text-align: right;\n",
       "    }\n",
       "</style>\n",
       "<table border=\"1\" class=\"dataframe\">\n",
       "  <thead>\n",
       "    <tr style=\"text-align: right;\">\n",
       "      <th></th>\n",
       "      <th>Height</th>\n",
       "      <th>Weight</th>\n",
       "      <th>Age</th>\n",
       "      <th>Gender</th>\n",
       "      <th>Smokes</th>\n",
       "      <th>Alcohol</th>\n",
       "      <th>Exercise</th>\n",
       "      <th>Ran</th>\n",
       "      <th>Pulse1</th>\n",
       "      <th>Pulse2</th>\n",
       "      <th>Year</th>\n",
       "    </tr>\n",
       "  </thead>\n",
       "  <tbody>\n",
       "    <tr>\n",
       "      <th>0</th>\n",
       "      <td>173</td>\n",
       "      <td>57.0</td>\n",
       "      <td>18</td>\n",
       "      <td>2</td>\n",
       "      <td>2</td>\n",
       "      <td>1</td>\n",
       "      <td>2</td>\n",
       "      <td>2</td>\n",
       "      <td>86.0</td>\n",
       "      <td>88.0</td>\n",
       "      <td>93</td>\n",
       "    </tr>\n",
       "    <tr>\n",
       "      <th>1</th>\n",
       "      <td>179</td>\n",
       "      <td>58.0</td>\n",
       "      <td>19</td>\n",
       "      <td>2</td>\n",
       "      <td>2</td>\n",
       "      <td>1</td>\n",
       "      <td>2</td>\n",
       "      <td>1</td>\n",
       "      <td>82.0</td>\n",
       "      <td>150.0</td>\n",
       "      <td>93</td>\n",
       "    </tr>\n",
       "    <tr>\n",
       "      <th>2</th>\n",
       "      <td>167</td>\n",
       "      <td>62.0</td>\n",
       "      <td>18</td>\n",
       "      <td>2</td>\n",
       "      <td>2</td>\n",
       "      <td>1</td>\n",
       "      <td>1</td>\n",
       "      <td>1</td>\n",
       "      <td>96.0</td>\n",
       "      <td>176.0</td>\n",
       "      <td>93</td>\n",
       "    </tr>\n",
       "    <tr>\n",
       "      <th>3</th>\n",
       "      <td>195</td>\n",
       "      <td>84.0</td>\n",
       "      <td>18</td>\n",
       "      <td>1</td>\n",
       "      <td>2</td>\n",
       "      <td>1</td>\n",
       "      <td>1</td>\n",
       "      <td>2</td>\n",
       "      <td>71.0</td>\n",
       "      <td>73.0</td>\n",
       "      <td>93</td>\n",
       "    </tr>\n",
       "    <tr>\n",
       "      <th>4</th>\n",
       "      <td>173</td>\n",
       "      <td>64.0</td>\n",
       "      <td>18</td>\n",
       "      <td>2</td>\n",
       "      <td>2</td>\n",
       "      <td>1</td>\n",
       "      <td>3</td>\n",
       "      <td>2</td>\n",
       "      <td>90.0</td>\n",
       "      <td>88.0</td>\n",
       "      <td>93</td>\n",
       "    </tr>\n",
       "    <tr>\n",
       "      <th>...</th>\n",
       "      <td>...</td>\n",
       "      <td>...</td>\n",
       "      <td>...</td>\n",
       "      <td>...</td>\n",
       "      <td>...</td>\n",
       "      <td>...</td>\n",
       "      <td>...</td>\n",
       "      <td>...</td>\n",
       "      <td>...</td>\n",
       "      <td>...</td>\n",
       "      <td>...</td>\n",
       "    </tr>\n",
       "    <tr>\n",
       "      <th>105</th>\n",
       "      <td>93</td>\n",
       "      <td>27.0</td>\n",
       "      <td>19</td>\n",
       "      <td>2</td>\n",
       "      <td>2</td>\n",
       "      <td>2</td>\n",
       "      <td>3</td>\n",
       "      <td>2</td>\n",
       "      <td>119.0</td>\n",
       "      <td>120.0</td>\n",
       "      <td>98</td>\n",
       "    </tr>\n",
       "    <tr>\n",
       "      <th>106</th>\n",
       "      <td>161</td>\n",
       "      <td>43.0</td>\n",
       "      <td>19</td>\n",
       "      <td>2</td>\n",
       "      <td>2</td>\n",
       "      <td>2</td>\n",
       "      <td>3</td>\n",
       "      <td>2</td>\n",
       "      <td>90.0</td>\n",
       "      <td>89.0</td>\n",
       "      <td>98</td>\n",
       "    </tr>\n",
       "    <tr>\n",
       "      <th>107</th>\n",
       "      <td>182</td>\n",
       "      <td>60.0</td>\n",
       "      <td>22</td>\n",
       "      <td>1</td>\n",
       "      <td>2</td>\n",
       "      <td>1</td>\n",
       "      <td>3</td>\n",
       "      <td>2</td>\n",
       "      <td>86.0</td>\n",
       "      <td>84.0</td>\n",
       "      <td>98</td>\n",
       "    </tr>\n",
       "    <tr>\n",
       "      <th>108</th>\n",
       "      <td>170</td>\n",
       "      <td>65.0</td>\n",
       "      <td>18</td>\n",
       "      <td>1</td>\n",
       "      <td>2</td>\n",
       "      <td>1</td>\n",
       "      <td>1</td>\n",
       "      <td>2</td>\n",
       "      <td>69.0</td>\n",
       "      <td>64.0</td>\n",
       "      <td>98</td>\n",
       "    </tr>\n",
       "    <tr>\n",
       "      <th>109</th>\n",
       "      <td>185</td>\n",
       "      <td>85.0</td>\n",
       "      <td>19</td>\n",
       "      <td>1</td>\n",
       "      <td>2</td>\n",
       "      <td>1</td>\n",
       "      <td>2</td>\n",
       "      <td>2</td>\n",
       "      <td>75.0</td>\n",
       "      <td>68.0</td>\n",
       "      <td>98</td>\n",
       "    </tr>\n",
       "  </tbody>\n",
       "</table>\n",
       "<p>110 rows × 11 columns</p>\n",
       "</div>"
      ],
      "text/plain": [
       "     Height  Weight  Age  Gender  Smokes  Alcohol  Exercise  Ran  Pulse1  \\\n",
       "0       173    57.0   18       2       2        1         2    2    86.0   \n",
       "1       179    58.0   19       2       2        1         2    1    82.0   \n",
       "2       167    62.0   18       2       2        1         1    1    96.0   \n",
       "3       195    84.0   18       1       2        1         1    2    71.0   \n",
       "4       173    64.0   18       2       2        1         3    2    90.0   \n",
       "..      ...     ...  ...     ...     ...      ...       ...  ...     ...   \n",
       "105      93    27.0   19       2       2        2         3    2   119.0   \n",
       "106     161    43.0   19       2       2        2         3    2    90.0   \n",
       "107     182    60.0   22       1       2        1         3    2    86.0   \n",
       "108     170    65.0   18       1       2        1         1    2    69.0   \n",
       "109     185    85.0   19       1       2        1         2    2    75.0   \n",
       "\n",
       "     Pulse2  Year  \n",
       "0      88.0    93  \n",
       "1     150.0    93  \n",
       "2     176.0    93  \n",
       "3      73.0    93  \n",
       "4      88.0    93  \n",
       "..      ...   ...  \n",
       "105   120.0    98  \n",
       "106    89.0    98  \n",
       "107    84.0    98  \n",
       "108    64.0    98  \n",
       "109    68.0    98  \n",
       "\n",
       "[110 rows x 11 columns]"
      ]
     },
     "execution_count": 31,
     "metadata": {},
     "output_type": "execute_result"
    }
   ],
   "source": [
    "# 3. `read_csv()`를 사용해 해당파일을 아래 모양처럼 데이터프레임으로 읽기\n",
    "\n",
    "df = pd.read_csv(\"./data/pulse_rate.csv\", index_col='Unnamed: 0')\n",
    "df\n"
   ]
  },
  {
   "cell_type": "markdown",
   "metadata": {
    "id": "Md1sm2SV7FGo"
   },
   "source": [
    "## 데이터 살펴보기\n",
    "\n",
    "- 행은 개별 데이터를 나타내고 `데이터`, `샘플`, `관측치` 등의 용어를 사용\n",
    "\n",
    "- 열은 개별 데이터거 가지는 특징으로 `컬럼`, `열`, `변수`라는 용어 사용"
   ]
  },
  {
   "cell_type": "code",
   "execution_count": 32,
   "metadata": {
    "id": "zmEwxztV6-3F"
   },
   "outputs": [],
   "source": [
    "# insurance.csv 파일 읽기\n",
    "\n"
   ]
  },
  {
   "cell_type": "code",
   "execution_count": 33,
   "metadata": {
    "id": "E-tFUv-p9P-r"
   },
   "outputs": [],
   "source": [
    "# head: 앞 몇개 데이터 확인\n",
    "\n"
   ]
  },
  {
   "cell_type": "code",
   "execution_count": 34,
   "metadata": {
    "id": "uYYw2O5U9Ta1"
   },
   "outputs": [],
   "source": [
    "# tail: 뒤에서 몇개 데이터 확인\n",
    "\n"
   ]
  },
  {
   "cell_type": "code",
   "execution_count": 35,
   "metadata": {
    "id": "KEoajb5x9V41"
   },
   "outputs": [],
   "source": [
    "# shape, X:(N,D) N:데이터 개수, D:데이터의 특성개수 또는 데이터의 차원\n",
    "\n"
   ]
  },
  {
   "cell_type": "code",
   "execution_count": 36,
   "metadata": {
    "id": "VVdo4Pc59YxJ"
   },
   "outputs": [],
   "source": [
    "# len, shape[0]\n",
    "\n"
   ]
  },
  {
   "cell_type": "code",
   "execution_count": 37,
   "metadata": {
    "id": "lotJPucd9dN0"
   },
   "outputs": [],
   "source": [
    "# index(행 인덱스) 확인\n",
    "\n"
   ]
  },
  {
   "cell_type": "code",
   "execution_count": 38,
   "metadata": {
    "id": "SuQHNE1s92mM"
   },
   "outputs": [],
   "source": [
    "# 열 이름 (변수 이름) 확인\n",
    "\n"
   ]
  },
  {
   "cell_type": "code",
   "execution_count": 39,
   "metadata": {
    "id": "RhML8exK968p"
   },
   "outputs": [],
   "source": [
    "# 변수 타입 확인\n",
    "\n"
   ]
  },
  {
   "cell_type": "code",
   "execution_count": 40,
   "metadata": {
    "id": "qaR8UAYDqq-6"
   },
   "outputs": [],
   "source": [
    "# 변수 값 카운팅\n",
    "\n"
   ]
  },
  {
   "cell_type": "code",
   "execution_count": 41,
   "metadata": {
    "id": "ifhy7Jg6qz1Y"
   },
   "outputs": [],
   "source": [
    "# 변수 범주 확인\n",
    "\n"
   ]
  },
  {
   "cell_type": "code",
   "execution_count": 42,
   "metadata": {
    "id": "M7jc5dwRq3_u"
   },
   "outputs": [],
   "source": [
    "# 유일 범주 개수 확인\n",
    "\n"
   ]
  },
  {
   "cell_type": "markdown",
   "metadata": {
    "id": "xM_vMSN0BTqc"
   },
   "source": [
    "## 한글 인코딩"
   ]
  },
  {
   "cell_type": "code",
   "execution_count": 43,
   "metadata": {
    "id": "4yyGDuUIAEm9"
   },
   "outputs": [],
   "source": [
    "import pandas as pd\n",
    "# 인코딩(글자 저장 방법) 오류 발생\n",
    "# UnicodeDecodeError  'utf-8' codec can't decode byte 0xbc in position 1: invalid start byte\n",
    "try:\n",
    "    pd.read_csv('data/고용지표_20221115084415.csv',encoding = 'cp949', index_col=0, header=0)\n",
    "except Exception as e:\n",
    "    print(e)"
   ]
  },
  {
   "cell_type": "markdown",
   "metadata": {
    "id": "mizZY4-BBxOy"
   },
   "source": [
    "- 한글이라고 cp949를 지정하는게 아님, utf-8로 저장된 한글 파일은 옵션 없이 잘 읽혀짐"
   ]
  },
  {
   "cell_type": "code",
   "execution_count": 44,
   "metadata": {
    "id": "lCoy61qCBqr1"
   },
   "outputs": [],
   "source": [
    "# 도로교통공단_사망 교통사고 정보_20211231_utf8.csv 파일을 옵션없이 읽어보기\n",
    "\n"
   ]
  },
  {
   "cell_type": "markdown",
   "metadata": {
    "id": "aTnKzAGlqiIF"
   },
   "source": [
    "## 날짜형 변수"
   ]
  },
  {
   "cell_type": "code",
   "execution_count": 45,
   "metadata": {
    "id": "tfLA8PujqlBT"
   },
   "outputs": [
    {
     "name": "stdout",
     "output_type": "stream",
     "text": [
      "         Date    Close    Volume\n",
      "0  2015-01-02  38.0061   6906098\n",
      "1  2015-01-05  37.2781  11623796\n",
      "2  2015-01-06  36.9748   7664340\n",
      "3  2015-01-07  37.8848   9732554\n",
      "4  2015-01-08  38.4961  13170548\n"
     ]
    }
   ],
   "source": [
    "# 스타벅스 주가 데이터 읽기 starbucks.csv\n",
    "df = pd.read_csv(\"data/starbucks.csv\")\n",
    "print(df.head())"
   ]
  },
  {
   "cell_type": "code",
   "execution_count": 46,
   "metadata": {
    "id": "mnXpE2r1sjzG"
   },
   "outputs": [
    {
     "name": "stdout",
     "output_type": "stream",
     "text": [
      "<class 'pandas.core.indexes.range.RangeIndex'>\n"
     ]
    }
   ],
   "source": [
    "# 인덱스의 형식 확인하기\n",
    "print(type(df.index))\n"
   ]
  },
  {
   "cell_type": "code",
   "execution_count": 47,
   "metadata": {},
   "outputs": [
    {
     "data": {
      "text/plain": [
       "Date       object\n",
       "Close     float64\n",
       "Volume      int64\n",
       "dtype: object"
      ]
     },
     "execution_count": 47,
     "metadata": {},
     "output_type": "execute_result"
    }
   ],
   "source": [
    "df.dtypes"
   ]
  },
  {
   "cell_type": "code",
   "execution_count": 48,
   "metadata": {
    "id": "RRnXfcqzspq7"
   },
   "outputs": [],
   "source": [
    "# 날짜 형식으로 인덱스를 읽어들이기\n",
    "df = pd.read_csv('data/starbucks.csv',index_col='Date',parse_dates=True)"
   ]
  },
  {
   "cell_type": "code",
   "execution_count": 49,
   "metadata": {
    "id": "jtNsI4lls4h1"
   },
   "outputs": [
    {
     "name": "stdout",
     "output_type": "stream",
     "text": [
      "<class 'pandas.core.indexes.datetimes.DatetimeIndex'>\n"
     ]
    }
   ],
   "source": [
    "# 인덱스 다시 확인\n",
    "print(type(df.index))\n"
   ]
  },
  {
   "cell_type": "markdown",
   "metadata": {
    "id": "wIPWCQcRFbgz"
   },
   "source": [
    "## 이어붙이기: `concat`"
   ]
  },
  {
   "cell_type": "code",
   "execution_count": 50,
   "metadata": {
    "id": "L8ccLT2hqlZi"
   },
   "outputs": [
    {
     "data": {
      "text/html": [
       "<div>\n",
       "<style scoped>\n",
       "    .dataframe tbody tr th:only-of-type {\n",
       "        vertical-align: middle;\n",
       "    }\n",
       "\n",
       "    .dataframe tbody tr th {\n",
       "        vertical-align: top;\n",
       "    }\n",
       "\n",
       "    .dataframe thead th {\n",
       "        text-align: right;\n",
       "    }\n",
       "</style>\n",
       "<table border=\"1\" class=\"dataframe\">\n",
       "  <thead>\n",
       "    <tr style=\"text-align: right;\">\n",
       "      <th></th>\n",
       "      <th>Name</th>\n",
       "      <th>Team</th>\n",
       "      <th>Position</th>\n",
       "      <th>Birthday</th>\n",
       "      <th>Salary</th>\n",
       "    </tr>\n",
       "  </thead>\n",
       "  <tbody>\n",
       "    <tr>\n",
       "      <th>0</th>\n",
       "      <td>Shake Milton</td>\n",
       "      <td>Philadelphia 76ers</td>\n",
       "      <td>SG</td>\n",
       "      <td>9/26/96</td>\n",
       "      <td>1445697</td>\n",
       "    </tr>\n",
       "    <tr>\n",
       "      <th>1</th>\n",
       "      <td>Christian Wood</td>\n",
       "      <td>Detroit Pistons</td>\n",
       "      <td>PF</td>\n",
       "      <td>9/27/95</td>\n",
       "      <td>1645357</td>\n",
       "    </tr>\n",
       "    <tr>\n",
       "      <th>2</th>\n",
       "      <td>PJ Washington</td>\n",
       "      <td>Charlotte Hornets</td>\n",
       "      <td>PF</td>\n",
       "      <td>8/23/98</td>\n",
       "      <td>3831840</td>\n",
       "    </tr>\n",
       "    <tr>\n",
       "      <th>3</th>\n",
       "      <td>Derrick Rose</td>\n",
       "      <td>Detroit Pistons</td>\n",
       "      <td>PG</td>\n",
       "      <td>10/4/88</td>\n",
       "      <td>7317074</td>\n",
       "    </tr>\n",
       "    <tr>\n",
       "      <th>4</th>\n",
       "      <td>Marial Shayok</td>\n",
       "      <td>Philadelphia 76ers</td>\n",
       "      <td>G</td>\n",
       "      <td>7/26/95</td>\n",
       "      <td>79568</td>\n",
       "    </tr>\n",
       "    <tr>\n",
       "      <th>...</th>\n",
       "      <td>...</td>\n",
       "      <td>...</td>\n",
       "      <td>...</td>\n",
       "      <td>...</td>\n",
       "      <td>...</td>\n",
       "    </tr>\n",
       "    <tr>\n",
       "      <th>220</th>\n",
       "      <td>Tony Bradley</td>\n",
       "      <td>Utah Jazz</td>\n",
       "      <td>C</td>\n",
       "      <td>1/8/98</td>\n",
       "      <td>1962360</td>\n",
       "    </tr>\n",
       "    <tr>\n",
       "      <th>221</th>\n",
       "      <td>Oshae Brissett</td>\n",
       "      <td>Toronto Raptors</td>\n",
       "      <td>SF</td>\n",
       "      <td>6/20/98</td>\n",
       "      <td>79568</td>\n",
       "    </tr>\n",
       "    <tr>\n",
       "      <th>222</th>\n",
       "      <td>Gary Clark</td>\n",
       "      <td>Houston Rockets</td>\n",
       "      <td>PF</td>\n",
       "      <td>11/16/94</td>\n",
       "      <td>1416852</td>\n",
       "    </tr>\n",
       "    <tr>\n",
       "      <th>223</th>\n",
       "      <td>Pascal Siakam</td>\n",
       "      <td>Toronto Raptors</td>\n",
       "      <td>PF</td>\n",
       "      <td>4/2/94</td>\n",
       "      <td>2351838</td>\n",
       "    </tr>\n",
       "    <tr>\n",
       "      <th>224</th>\n",
       "      <td>Eric Bledsoe</td>\n",
       "      <td>Milwaukee Bucks</td>\n",
       "      <td>PG</td>\n",
       "      <td>12/9/89</td>\n",
       "      <td>15625000</td>\n",
       "    </tr>\n",
       "  </tbody>\n",
       "</table>\n",
       "<p>225 rows × 5 columns</p>\n",
       "</div>"
      ],
      "text/plain": [
       "               Name                Team Position  Birthday    Salary\n",
       "0      Shake Milton  Philadelphia 76ers       SG   9/26/96   1445697\n",
       "1    Christian Wood     Detroit Pistons       PF   9/27/95   1645357\n",
       "2     PJ Washington   Charlotte Hornets       PF   8/23/98   3831840\n",
       "3      Derrick Rose     Detroit Pistons       PG   10/4/88   7317074\n",
       "4     Marial Shayok  Philadelphia 76ers        G   7/26/95     79568\n",
       "..              ...                 ...      ...       ...       ...\n",
       "220    Tony Bradley           Utah Jazz        C    1/8/98   1962360\n",
       "221  Oshae Brissett     Toronto Raptors       SF   6/20/98     79568\n",
       "222      Gary Clark     Houston Rockets       PF  11/16/94   1416852\n",
       "223   Pascal Siakam     Toronto Raptors       PF    4/2/94   2351838\n",
       "224    Eric Bledsoe     Milwaukee Bucks       PG   12/9/89  15625000\n",
       "\n",
       "[225 rows x 5 columns]"
      ]
     },
     "execution_count": 50,
     "metadata": {},
     "output_type": "execute_result"
    }
   ],
   "source": [
    "# nba1.csv 읽기\n",
    "\n",
    "df1 = pd.read_csv(\"data/nba1.csv\")\n",
    "df1"
   ]
  },
  {
   "cell_type": "code",
   "execution_count": 51,
   "metadata": {
    "id": "-vWNBwDBtGsG"
   },
   "outputs": [
    {
     "data": {
      "text/html": [
       "<div>\n",
       "<style scoped>\n",
       "    .dataframe tbody tr th:only-of-type {\n",
       "        vertical-align: middle;\n",
       "    }\n",
       "\n",
       "    .dataframe tbody tr th {\n",
       "        vertical-align: top;\n",
       "    }\n",
       "\n",
       "    .dataframe thead th {\n",
       "        text-align: right;\n",
       "    }\n",
       "</style>\n",
       "<table border=\"1\" class=\"dataframe\">\n",
       "  <thead>\n",
       "    <tr style=\"text-align: right;\">\n",
       "      <th></th>\n",
       "      <th>Name</th>\n",
       "      <th>Team</th>\n",
       "      <th>Position</th>\n",
       "      <th>Birthday</th>\n",
       "      <th>Salary</th>\n",
       "    </tr>\n",
       "  </thead>\n",
       "  <tbody>\n",
       "    <tr>\n",
       "      <th>0</th>\n",
       "      <td>Tomas Satoransky</td>\n",
       "      <td>Chicago Bulls</td>\n",
       "      <td>PG</td>\n",
       "      <td>10/30/91</td>\n",
       "      <td>10000000</td>\n",
       "    </tr>\n",
       "    <tr>\n",
       "      <th>1</th>\n",
       "      <td>Davis Bertans</td>\n",
       "      <td>Washington Wizards</td>\n",
       "      <td>PF</td>\n",
       "      <td>11/12/92</td>\n",
       "      <td>7000000</td>\n",
       "    </tr>\n",
       "    <tr>\n",
       "      <th>2</th>\n",
       "      <td>Amir Coffey</td>\n",
       "      <td>Los Angeles Clippers</td>\n",
       "      <td>G</td>\n",
       "      <td>6/17/97</td>\n",
       "      <td>79568</td>\n",
       "    </tr>\n",
       "    <tr>\n",
       "      <th>3</th>\n",
       "      <td>Ignas Brazdeikis</td>\n",
       "      <td>New York Knicks</td>\n",
       "      <td>SF</td>\n",
       "      <td>1/8/99</td>\n",
       "      <td>898310</td>\n",
       "    </tr>\n",
       "    <tr>\n",
       "      <th>4</th>\n",
       "      <td>Ivan Rabb</td>\n",
       "      <td>New York Knicks</td>\n",
       "      <td>PF</td>\n",
       "      <td>2/4/97</td>\n",
       "      <td>79568</td>\n",
       "    </tr>\n",
       "  </tbody>\n",
       "</table>\n",
       "</div>"
      ],
      "text/plain": [
       "               Name                  Team Position  Birthday    Salary\n",
       "0  Tomas Satoransky         Chicago Bulls       PG  10/30/91  10000000\n",
       "1     Davis Bertans    Washington Wizards       PF  11/12/92   7000000\n",
       "2       Amir Coffey  Los Angeles Clippers        G   6/17/97     79568\n",
       "3  Ignas Brazdeikis       New York Knicks       SF    1/8/99    898310\n",
       "4         Ivan Rabb       New York Knicks       PF    2/4/97     79568"
      ]
     },
     "execution_count": 51,
     "metadata": {},
     "output_type": "execute_result"
    }
   ],
   "source": [
    "# nba2.csv 읽기\n",
    "\n",
    "df2 = pd.read_csv(\"data/nba2.csv\")\n",
    "df2.head(5)"
   ]
  },
  {
   "cell_type": "code",
   "execution_count": 52,
   "metadata": {
    "id": "7yzcQ9c-t8OP"
   },
   "outputs": [
    {
     "data": {
      "text/html": [
       "<div>\n",
       "<style scoped>\n",
       "    .dataframe tbody tr th:only-of-type {\n",
       "        vertical-align: middle;\n",
       "    }\n",
       "\n",
       "    .dataframe tbody tr th {\n",
       "        vertical-align: top;\n",
       "    }\n",
       "\n",
       "    .dataframe thead th {\n",
       "        text-align: right;\n",
       "    }\n",
       "</style>\n",
       "<table border=\"1\" class=\"dataframe\">\n",
       "  <thead>\n",
       "    <tr style=\"text-align: right;\">\n",
       "      <th></th>\n",
       "      <th>Name</th>\n",
       "      <th>Team</th>\n",
       "      <th>Position</th>\n",
       "      <th>Birthday</th>\n",
       "      <th>Salary</th>\n",
       "    </tr>\n",
       "  </thead>\n",
       "  <tbody>\n",
       "    <tr>\n",
       "      <th>0</th>\n",
       "      <td>Shake Milton</td>\n",
       "      <td>Philadelphia 76ers</td>\n",
       "      <td>SG</td>\n",
       "      <td>9/26/96</td>\n",
       "      <td>1445697</td>\n",
       "    </tr>\n",
       "    <tr>\n",
       "      <th>1</th>\n",
       "      <td>Christian Wood</td>\n",
       "      <td>Detroit Pistons</td>\n",
       "      <td>PF</td>\n",
       "      <td>9/27/95</td>\n",
       "      <td>1645357</td>\n",
       "    </tr>\n",
       "    <tr>\n",
       "      <th>2</th>\n",
       "      <td>PJ Washington</td>\n",
       "      <td>Charlotte Hornets</td>\n",
       "      <td>PF</td>\n",
       "      <td>8/23/98</td>\n",
       "      <td>3831840</td>\n",
       "    </tr>\n",
       "    <tr>\n",
       "      <th>3</th>\n",
       "      <td>Derrick Rose</td>\n",
       "      <td>Detroit Pistons</td>\n",
       "      <td>PG</td>\n",
       "      <td>10/4/88</td>\n",
       "      <td>7317074</td>\n",
       "    </tr>\n",
       "    <tr>\n",
       "      <th>4</th>\n",
       "      <td>Marial Shayok</td>\n",
       "      <td>Philadelphia 76ers</td>\n",
       "      <td>G</td>\n",
       "      <td>7/26/95</td>\n",
       "      <td>79568</td>\n",
       "    </tr>\n",
       "  </tbody>\n",
       "</table>\n",
       "</div>"
      ],
      "text/plain": [
       "             Name                Team Position Birthday   Salary\n",
       "0    Shake Milton  Philadelphia 76ers       SG  9/26/96  1445697\n",
       "1  Christian Wood     Detroit Pistons       PF  9/27/95  1645357\n",
       "2   PJ Washington   Charlotte Hornets       PF  8/23/98  3831840\n",
       "3    Derrick Rose     Detroit Pistons       PG  10/4/88  7317074\n",
       "4   Marial Shayok  Philadelphia 76ers        G  7/26/95    79568"
      ]
     },
     "execution_count": 52,
     "metadata": {},
     "output_type": "execute_result"
    }
   ],
   "source": [
    "# concat으로 두 데이터프레임을 이어 붙이기\n",
    "df_concat= pd.concat([df1,df2])\n",
    "df_concat.head(5)"
   ]
  },
  {
   "cell_type": "code",
   "execution_count": 53,
   "metadata": {
    "id": "URzc-Wcmucgz"
   },
   "outputs": [
    {
     "data": {
      "text/html": [
       "<div>\n",
       "<style scoped>\n",
       "    .dataframe tbody tr th:only-of-type {\n",
       "        vertical-align: middle;\n",
       "    }\n",
       "\n",
       "    .dataframe tbody tr th {\n",
       "        vertical-align: top;\n",
       "    }\n",
       "\n",
       "    .dataframe thead th {\n",
       "        text-align: right;\n",
       "    }\n",
       "</style>\n",
       "<table border=\"1\" class=\"dataframe\">\n",
       "  <thead>\n",
       "    <tr style=\"text-align: right;\">\n",
       "      <th></th>\n",
       "      <th>Name</th>\n",
       "      <th>Team</th>\n",
       "      <th>Position</th>\n",
       "      <th>Birthday</th>\n",
       "      <th>Salary</th>\n",
       "    </tr>\n",
       "  </thead>\n",
       "  <tbody>\n",
       "    <tr>\n",
       "      <th>0</th>\n",
       "      <td>Shake Milton</td>\n",
       "      <td>Philadelphia 76ers</td>\n",
       "      <td>SG</td>\n",
       "      <td>9/26/96</td>\n",
       "      <td>1445697</td>\n",
       "    </tr>\n",
       "    <tr>\n",
       "      <th>1</th>\n",
       "      <td>Christian Wood</td>\n",
       "      <td>Detroit Pistons</td>\n",
       "      <td>PF</td>\n",
       "      <td>9/27/95</td>\n",
       "      <td>1645357</td>\n",
       "    </tr>\n",
       "    <tr>\n",
       "      <th>2</th>\n",
       "      <td>PJ Washington</td>\n",
       "      <td>Charlotte Hornets</td>\n",
       "      <td>PF</td>\n",
       "      <td>8/23/98</td>\n",
       "      <td>3831840</td>\n",
       "    </tr>\n",
       "    <tr>\n",
       "      <th>3</th>\n",
       "      <td>Derrick Rose</td>\n",
       "      <td>Detroit Pistons</td>\n",
       "      <td>PG</td>\n",
       "      <td>10/4/88</td>\n",
       "      <td>7317074</td>\n",
       "    </tr>\n",
       "    <tr>\n",
       "      <th>4</th>\n",
       "      <td>Marial Shayok</td>\n",
       "      <td>Philadelphia 76ers</td>\n",
       "      <td>G</td>\n",
       "      <td>7/26/95</td>\n",
       "      <td>79568</td>\n",
       "    </tr>\n",
       "    <tr>\n",
       "      <th>5</th>\n",
       "      <td>Draymond Green</td>\n",
       "      <td>Golden State Warriors</td>\n",
       "      <td>PF</td>\n",
       "      <td>3/4/90</td>\n",
       "      <td>18539130</td>\n",
       "    </tr>\n",
       "    <tr>\n",
       "      <th>6</th>\n",
       "      <td>Kendrick Nunn</td>\n",
       "      <td>Miami Heat</td>\n",
       "      <td>SG</td>\n",
       "      <td>8/3/95</td>\n",
       "      <td>1416852</td>\n",
       "    </tr>\n",
       "    <tr>\n",
       "      <th>7</th>\n",
       "      <td>Cedi Osman</td>\n",
       "      <td>Cleveland Cavaliers</td>\n",
       "      <td>SF</td>\n",
       "      <td>4/8/95</td>\n",
       "      <td>2907143</td>\n",
       "    </tr>\n",
       "    <tr>\n",
       "      <th>8</th>\n",
       "      <td>Brook Lopez</td>\n",
       "      <td>Milwaukee Bucks</td>\n",
       "      <td>C</td>\n",
       "      <td>4/1/88</td>\n",
       "      <td>12093024</td>\n",
       "    </tr>\n",
       "    <tr>\n",
       "      <th>9</th>\n",
       "      <td>Torrey Craig</td>\n",
       "      <td>Denver Nuggets</td>\n",
       "      <td>SF</td>\n",
       "      <td>12/19/90</td>\n",
       "      <td>2000000</td>\n",
       "    </tr>\n",
       "  </tbody>\n",
       "</table>\n",
       "</div>"
      ],
      "text/plain": [
       "             Name                   Team Position  Birthday    Salary\n",
       "0    Shake Milton     Philadelphia 76ers       SG   9/26/96   1445697\n",
       "1  Christian Wood        Detroit Pistons       PF   9/27/95   1645357\n",
       "2   PJ Washington      Charlotte Hornets       PF   8/23/98   3831840\n",
       "3    Derrick Rose        Detroit Pistons       PG   10/4/88   7317074\n",
       "4   Marial Shayok     Philadelphia 76ers        G   7/26/95     79568\n",
       "5  Draymond Green  Golden State Warriors       PF    3/4/90  18539130\n",
       "6   Kendrick Nunn             Miami Heat       SG    8/3/95   1416852\n",
       "7      Cedi Osman    Cleveland Cavaliers       SF    4/8/95   2907143\n",
       "8     Brook Lopez        Milwaukee Bucks        C    4/1/88  12093024\n",
       "9    Torrey Craig         Denver Nuggets       SF  12/19/90   2000000"
      ]
     },
     "execution_count": 53,
     "metadata": {},
     "output_type": "execute_result"
    }
   ],
   "source": [
    "# head, tail\n",
    "\n",
    "df_concat.head(10)"
   ]
  },
  {
   "cell_type": "code",
   "execution_count": 54,
   "metadata": {},
   "outputs": [
    {
     "data": {
      "text/html": [
       "<div>\n",
       "<style scoped>\n",
       "    .dataframe tbody tr th:only-of-type {\n",
       "        vertical-align: middle;\n",
       "    }\n",
       "\n",
       "    .dataframe tbody tr th {\n",
       "        vertical-align: top;\n",
       "    }\n",
       "\n",
       "    .dataframe thead th {\n",
       "        text-align: right;\n",
       "    }\n",
       "</style>\n",
       "<table border=\"1\" class=\"dataframe\">\n",
       "  <thead>\n",
       "    <tr style=\"text-align: right;\">\n",
       "      <th></th>\n",
       "      <th>Name</th>\n",
       "      <th>Team</th>\n",
       "      <th>Position</th>\n",
       "      <th>Birthday</th>\n",
       "      <th>Salary</th>\n",
       "    </tr>\n",
       "  </thead>\n",
       "  <tbody>\n",
       "    <tr>\n",
       "      <th>220</th>\n",
       "      <td>Austin Rivers</td>\n",
       "      <td>Houston Rockets</td>\n",
       "      <td>PG</td>\n",
       "      <td>8/1/92</td>\n",
       "      <td>2174310</td>\n",
       "    </tr>\n",
       "    <tr>\n",
       "      <th>221</th>\n",
       "      <td>Harry Giles</td>\n",
       "      <td>Sacramento Kings</td>\n",
       "      <td>PF</td>\n",
       "      <td>4/22/98</td>\n",
       "      <td>2578800</td>\n",
       "    </tr>\n",
       "    <tr>\n",
       "      <th>222</th>\n",
       "      <td>Robin Lopez</td>\n",
       "      <td>Milwaukee Bucks</td>\n",
       "      <td>C</td>\n",
       "      <td>4/1/88</td>\n",
       "      <td>4767000</td>\n",
       "    </tr>\n",
       "    <tr>\n",
       "      <th>223</th>\n",
       "      <td>Collin Sexton</td>\n",
       "      <td>Cleveland Cavaliers</td>\n",
       "      <td>PG</td>\n",
       "      <td>1/4/99</td>\n",
       "      <td>4764960</td>\n",
       "    </tr>\n",
       "    <tr>\n",
       "      <th>224</th>\n",
       "      <td>Ricky Rubio</td>\n",
       "      <td>Phoenix Suns</td>\n",
       "      <td>PG</td>\n",
       "      <td>10/21/90</td>\n",
       "      <td>16200000</td>\n",
       "    </tr>\n",
       "  </tbody>\n",
       "</table>\n",
       "</div>"
      ],
      "text/plain": [
       "              Name                 Team Position  Birthday    Salary\n",
       "220  Austin Rivers      Houston Rockets       PG    8/1/92   2174310\n",
       "221    Harry Giles     Sacramento Kings       PF   4/22/98   2578800\n",
       "222    Robin Lopez      Milwaukee Bucks        C    4/1/88   4767000\n",
       "223  Collin Sexton  Cleveland Cavaliers       PG    1/4/99   4764960\n",
       "224    Ricky Rubio         Phoenix Suns       PG  10/21/90  16200000"
      ]
     },
     "execution_count": 54,
     "metadata": {},
     "output_type": "execute_result"
    }
   ],
   "source": [
    "df_concat.tail()"
   ]
  },
  {
   "cell_type": "code",
   "execution_count": 55,
   "metadata": {
    "id": "NF5Jrqz-02SQ"
   },
   "outputs": [],
   "source": [
    "# 0번 인덱스가 2개 있음\n",
    "\n"
   ]
  },
  {
   "cell_type": "markdown",
   "metadata": {
    "id": "0ffWBvbPFkFF"
   },
   "source": [
    "## 인덱스: `set_index`,  `reset_index`\n",
    "\n",
    "- 위에서 `concat`시킨 데이터프레임은 인덱스가 겹쳐져 있음\n",
    "\n",
    "- 인덱스 번호를 다시 붙이기 위해 `reset_index`사용"
   ]
  },
  {
   "cell_type": "code",
   "execution_count": 56,
   "metadata": {
    "id": "qDD-XlgNqluF"
   },
   "outputs": [],
   "source": [
    "# reset_index 후 tail로 인덱스 번호 확인\n",
    "\n"
   ]
  },
  {
   "cell_type": "code",
   "execution_count": 57,
   "metadata": {
    "id": "xR2L1viuvEeJ"
   },
   "outputs": [],
   "source": [
    "# 기존 인덱스 drop\n",
    "\n"
   ]
  },
  {
   "cell_type": "code",
   "execution_count": 58,
   "metadata": {
    "id": "iBem05bW0-DP"
   },
   "outputs": [],
   "source": [
    "# 인덱스 리셋 확인\n",
    "\n"
   ]
  },
  {
   "cell_type": "code",
   "execution_count": 59,
   "metadata": {
    "id": "Yy_-iaZblK0r"
   },
   "outputs": [],
   "source": [
    "# 이름을 인덱스로 설정\n",
    "\n"
   ]
  },
  {
   "cell_type": "markdown",
   "metadata": {
    "id": "MqHITHUTIJsM"
   },
   "source": [
    "### 연습\n",
    "\n",
    "1. `data` 폴더에 `대구_2호선_열차운행실적_*.csv` 파일 업로드\n",
    "\n",
    "2. `data` 폴더에 파일 3개를 각각 데이터프레임으로 읽고 이를 `concat`으로 이어 붙이기\n",
    "\n",
    "3. 인덱스를 초기화 하기\n"
   ]
  },
  {
   "cell_type": "code",
   "execution_count": 60,
   "metadata": {
    "id": "zNi1Ne53vNGN"
   },
   "outputs": [],
   "source": [
    "# 2. data 폴더에 파일 3개를 각각 데이터프레임으로 읽고 이를 concat으로 이어 붙이기\n",
    "\n",
    "data1 = pd.read_csv('data/대구_2호선_열차운행실적_1.csv',index_col=0,encoding='cp949')\n",
    "data2 = pd.read_csv('data/대구_2호선_열차운행실적_2.csv',index_col=0,encoding='cp949')\n",
    "data3 = pd.read_csv('data/대구_2호선_열차운행실적_3.csv',index_col=0,encoding='cp949')\n",
    "\n",
    "data_list = [data1,data2,data3]\n",
    "concat_data = pd.concat(data_list)"
   ]
  },
  {
   "cell_type": "code",
   "execution_count": 61,
   "metadata": {},
   "outputs": [
    {
     "data": {
      "text/html": [
       "<div>\n",
       "<style scoped>\n",
       "    .dataframe tbody tr th:only-of-type {\n",
       "        vertical-align: middle;\n",
       "    }\n",
       "\n",
       "    .dataframe tbody tr th {\n",
       "        vertical-align: top;\n",
       "    }\n",
       "\n",
       "    .dataframe thead th {\n",
       "        text-align: right;\n",
       "    }\n",
       "</style>\n",
       "<table border=\"1\" class=\"dataframe\">\n",
       "  <thead>\n",
       "    <tr style=\"text-align: right;\">\n",
       "      <th></th>\n",
       "      <th>연도</th>\n",
       "      <th>월</th>\n",
       "      <th>호선</th>\n",
       "      <th>영업일</th>\n",
       "      <th>영업열차운행횟수-정기(회)</th>\n",
       "      <th>영업열차운행횟수-임시(회)</th>\n",
       "      <th>영업열차운행횟수-합계(회)</th>\n",
       "      <th>비영업열차운행횟수-합계(회)</th>\n",
       "      <th>전체열차운행횟수-합계(회)</th>\n",
       "      <th>영업열차운행키로-정기(Km)</th>\n",
       "      <th>영업열차운행키로-임시(Km)</th>\n",
       "      <th>영업열차운행키로-합계(Km)</th>\n",
       "      <th>비영업열차운행키로-합계(Km)</th>\n",
       "      <th>전체열차운행키로-합계(Km)</th>\n",
       "    </tr>\n",
       "  </thead>\n",
       "  <tbody>\n",
       "    <tr>\n",
       "      <th>0</th>\n",
       "      <td>2005.0</td>\n",
       "      <td>10.0</td>\n",
       "      <td>2.0</td>\n",
       "      <td>14.0</td>\n",
       "      <td>8963.0</td>\n",
       "      <td>6.0</td>\n",
       "      <td>8969.0</td>\n",
       "      <td>14.0</td>\n",
       "      <td>8983.0</td>\n",
       "      <td>249903.5</td>\n",
       "      <td>200.0</td>\n",
       "      <td>250103.5</td>\n",
       "      <td>358.2</td>\n",
       "      <td>250461.7</td>\n",
       "    </tr>\n",
       "    <tr>\n",
       "      <th>1</th>\n",
       "      <td>2005.0</td>\n",
       "      <td>11.0</td>\n",
       "      <td>2.0</td>\n",
       "      <td>30.0</td>\n",
       "      <td>9263.0</td>\n",
       "      <td>4.0</td>\n",
       "      <td>9267.0</td>\n",
       "      <td>91.0</td>\n",
       "      <td>9358.0</td>\n",
       "      <td>258363.6</td>\n",
       "      <td>112.0</td>\n",
       "      <td>258475.6</td>\n",
       "      <td>2374.1</td>\n",
       "      <td>260849.7</td>\n",
       "    </tr>\n",
       "    <tr>\n",
       "      <th>2</th>\n",
       "      <td>2005.0</td>\n",
       "      <td>12.0</td>\n",
       "      <td>2.0</td>\n",
       "      <td>31.0</td>\n",
       "      <td>9552.0</td>\n",
       "      <td>4.0</td>\n",
       "      <td>9556.0</td>\n",
       "      <td>5.0</td>\n",
       "      <td>9561.0</td>\n",
       "      <td>266427.1</td>\n",
       "      <td>112.0</td>\n",
       "      <td>266539.1</td>\n",
       "      <td>38.7</td>\n",
       "      <td>266577.8</td>\n",
       "    </tr>\n",
       "    <tr>\n",
       "      <th>3</th>\n",
       "      <td>2006.0</td>\n",
       "      <td>1.0</td>\n",
       "      <td>2.0</td>\n",
       "      <td>31.0</td>\n",
       "      <td>9504.0</td>\n",
       "      <td>0.0</td>\n",
       "      <td>9504.0</td>\n",
       "      <td>0.0</td>\n",
       "      <td>9504.0</td>\n",
       "      <td>265082.8</td>\n",
       "      <td>0.0</td>\n",
       "      <td>265082.8</td>\n",
       "      <td>0.0</td>\n",
       "      <td>265082.8</td>\n",
       "    </tr>\n",
       "    <tr>\n",
       "      <th>4</th>\n",
       "      <td>2006.0</td>\n",
       "      <td>2.0</td>\n",
       "      <td>2.0</td>\n",
       "      <td>28.0</td>\n",
       "      <td>8640.0</td>\n",
       "      <td>0.0</td>\n",
       "      <td>8640.0</td>\n",
       "      <td>6.0</td>\n",
       "      <td>8646.0</td>\n",
       "      <td>240990.4</td>\n",
       "      <td>0.0</td>\n",
       "      <td>240990.4</td>\n",
       "      <td>17.4</td>\n",
       "      <td>241007.8</td>\n",
       "    </tr>\n",
       "  </tbody>\n",
       "</table>\n",
       "</div>"
      ],
      "text/plain": [
       "       연도     월   호선   영업일  영업열차운행횟수-정기(회)  영업열차운행횟수-임시(회)  영업열차운행횟수-합계(회)  \\\n",
       "0  2005.0  10.0  2.0  14.0          8963.0             6.0          8969.0   \n",
       "1  2005.0  11.0  2.0  30.0          9263.0             4.0          9267.0   \n",
       "2  2005.0  12.0  2.0  31.0          9552.0             4.0          9556.0   \n",
       "3  2006.0   1.0  2.0  31.0          9504.0             0.0          9504.0   \n",
       "4  2006.0   2.0  2.0  28.0          8640.0             0.0          8640.0   \n",
       "\n",
       "   비영업열차운행횟수-합계(회)  전체열차운행횟수-합계(회)  영업열차운행키로-정기(Km)  영업열차운행키로-임시(Km)  \\\n",
       "0             14.0          8983.0         249903.5            200.0   \n",
       "1             91.0          9358.0         258363.6            112.0   \n",
       "2              5.0          9561.0         266427.1            112.0   \n",
       "3              0.0          9504.0         265082.8              0.0   \n",
       "4              6.0          8646.0         240990.4              0.0   \n",
       "\n",
       "   영업열차운행키로-합계(Km)  비영업열차운행키로-합계(Km)  전체열차운행키로-합계(Km)  \n",
       "0         250103.5             358.2         250461.7  \n",
       "1         258475.6            2374.1         260849.7  \n",
       "2         266539.1              38.7         266577.8  \n",
       "3         265082.8               0.0         265082.8  \n",
       "4         240990.4              17.4         241007.8  "
      ]
     },
     "execution_count": 61,
     "metadata": {},
     "output_type": "execute_result"
    }
   ],
   "source": [
    "concat_data.head()"
   ]
  },
  {
   "cell_type": "code",
   "execution_count": 62,
   "metadata": {
    "id": "b-B0Dm_gy1si"
   },
   "outputs": [
    {
     "data": {
      "text/html": [
       "<div>\n",
       "<style scoped>\n",
       "    .dataframe tbody tr th:only-of-type {\n",
       "        vertical-align: middle;\n",
       "    }\n",
       "\n",
       "    .dataframe tbody tr th {\n",
       "        vertical-align: top;\n",
       "    }\n",
       "\n",
       "    .dataframe thead th {\n",
       "        text-align: right;\n",
       "    }\n",
       "</style>\n",
       "<table border=\"1\" class=\"dataframe\">\n",
       "  <thead>\n",
       "    <tr style=\"text-align: right;\">\n",
       "      <th></th>\n",
       "      <th>연도</th>\n",
       "      <th>월</th>\n",
       "      <th>호선</th>\n",
       "      <th>영업일</th>\n",
       "      <th>영업열차운행횟수-정기(회)</th>\n",
       "      <th>영업열차운행횟수-임시(회)</th>\n",
       "      <th>영업열차운행횟수-합계(회)</th>\n",
       "      <th>비영업열차운행횟수-합계(회)</th>\n",
       "      <th>전체열차운행횟수-합계(회)</th>\n",
       "      <th>영업열차운행키로-정기(Km)</th>\n",
       "      <th>영업열차운행키로-임시(Km)</th>\n",
       "      <th>영업열차운행키로-합계(Km)</th>\n",
       "      <th>비영업열차운행키로-합계(Km)</th>\n",
       "      <th>전체열차운행키로-합계(Km)</th>\n",
       "    </tr>\n",
       "  </thead>\n",
       "  <tbody>\n",
       "    <tr>\n",
       "      <th>0</th>\n",
       "      <td>2005.0</td>\n",
       "      <td>10.0</td>\n",
       "      <td>2.0</td>\n",
       "      <td>14.0</td>\n",
       "      <td>8963.0</td>\n",
       "      <td>6.0</td>\n",
       "      <td>8969.0</td>\n",
       "      <td>14.0</td>\n",
       "      <td>8983.0</td>\n",
       "      <td>249903.5</td>\n",
       "      <td>200.0</td>\n",
       "      <td>250103.5</td>\n",
       "      <td>358.2</td>\n",
       "      <td>250461.7</td>\n",
       "    </tr>\n",
       "    <tr>\n",
       "      <th>1</th>\n",
       "      <td>2005.0</td>\n",
       "      <td>11.0</td>\n",
       "      <td>2.0</td>\n",
       "      <td>30.0</td>\n",
       "      <td>9263.0</td>\n",
       "      <td>4.0</td>\n",
       "      <td>9267.0</td>\n",
       "      <td>91.0</td>\n",
       "      <td>9358.0</td>\n",
       "      <td>258363.6</td>\n",
       "      <td>112.0</td>\n",
       "      <td>258475.6</td>\n",
       "      <td>2374.1</td>\n",
       "      <td>260849.7</td>\n",
       "    </tr>\n",
       "    <tr>\n",
       "      <th>2</th>\n",
       "      <td>2005.0</td>\n",
       "      <td>12.0</td>\n",
       "      <td>2.0</td>\n",
       "      <td>31.0</td>\n",
       "      <td>9552.0</td>\n",
       "      <td>4.0</td>\n",
       "      <td>9556.0</td>\n",
       "      <td>5.0</td>\n",
       "      <td>9561.0</td>\n",
       "      <td>266427.1</td>\n",
       "      <td>112.0</td>\n",
       "      <td>266539.1</td>\n",
       "      <td>38.7</td>\n",
       "      <td>266577.8</td>\n",
       "    </tr>\n",
       "    <tr>\n",
       "      <th>3</th>\n",
       "      <td>2006.0</td>\n",
       "      <td>1.0</td>\n",
       "      <td>2.0</td>\n",
       "      <td>31.0</td>\n",
       "      <td>9504.0</td>\n",
       "      <td>0.0</td>\n",
       "      <td>9504.0</td>\n",
       "      <td>0.0</td>\n",
       "      <td>9504.0</td>\n",
       "      <td>265082.8</td>\n",
       "      <td>0.0</td>\n",
       "      <td>265082.8</td>\n",
       "      <td>0.0</td>\n",
       "      <td>265082.8</td>\n",
       "    </tr>\n",
       "    <tr>\n",
       "      <th>4</th>\n",
       "      <td>2006.0</td>\n",
       "      <td>2.0</td>\n",
       "      <td>2.0</td>\n",
       "      <td>28.0</td>\n",
       "      <td>8640.0</td>\n",
       "      <td>0.0</td>\n",
       "      <td>8640.0</td>\n",
       "      <td>6.0</td>\n",
       "      <td>8646.0</td>\n",
       "      <td>240990.4</td>\n",
       "      <td>0.0</td>\n",
       "      <td>240990.4</td>\n",
       "      <td>17.4</td>\n",
       "      <td>241007.8</td>\n",
       "    </tr>\n",
       "  </tbody>\n",
       "</table>\n",
       "</div>"
      ],
      "text/plain": [
       "       연도     월   호선   영업일  영업열차운행횟수-정기(회)  영업열차운행횟수-임시(회)  영업열차운행횟수-합계(회)  \\\n",
       "0  2005.0  10.0  2.0  14.0          8963.0             6.0          8969.0   \n",
       "1  2005.0  11.0  2.0  30.0          9263.0             4.0          9267.0   \n",
       "2  2005.0  12.0  2.0  31.0          9552.0             4.0          9556.0   \n",
       "3  2006.0   1.0  2.0  31.0          9504.0             0.0          9504.0   \n",
       "4  2006.0   2.0  2.0  28.0          8640.0             0.0          8640.0   \n",
       "\n",
       "   비영업열차운행횟수-합계(회)  전체열차운행횟수-합계(회)  영업열차운행키로-정기(Km)  영업열차운행키로-임시(Km)  \\\n",
       "0             14.0          8983.0         249903.5            200.0   \n",
       "1             91.0          9358.0         258363.6            112.0   \n",
       "2              5.0          9561.0         266427.1            112.0   \n",
       "3              0.0          9504.0         265082.8              0.0   \n",
       "4              6.0          8646.0         240990.4              0.0   \n",
       "\n",
       "   영업열차운행키로-합계(Km)  비영업열차운행키로-합계(Km)  전체열차운행키로-합계(Km)  \n",
       "0         250103.5             358.2         250461.7  \n",
       "1         258475.6            2374.1         260849.7  \n",
       "2         266539.1              38.7         266577.8  \n",
       "3         265082.8               0.0         265082.8  \n",
       "4         240990.4              17.4         241007.8  "
      ]
     },
     "execution_count": 62,
     "metadata": {},
     "output_type": "execute_result"
    }
   ],
   "source": [
    "# 3. 인덱스를 초기화 하기\n",
    "concat_data = concat_data.reset_index(drop=True)\n",
    "concat_data.head()\n"
   ]
  },
  {
   "cell_type": "code",
   "execution_count": 63,
   "metadata": {},
   "outputs": [
    {
     "data": {
      "text/html": [
       "<div>\n",
       "<style scoped>\n",
       "    .dataframe tbody tr th:only-of-type {\n",
       "        vertical-align: middle;\n",
       "    }\n",
       "\n",
       "    .dataframe tbody tr th {\n",
       "        vertical-align: top;\n",
       "    }\n",
       "\n",
       "    .dataframe thead th {\n",
       "        text-align: right;\n",
       "    }\n",
       "</style>\n",
       "<table border=\"1\" class=\"dataframe\">\n",
       "  <thead>\n",
       "    <tr style=\"text-align: right;\">\n",
       "      <th></th>\n",
       "      <th>Close</th>\n",
       "      <th>Volume</th>\n",
       "    </tr>\n",
       "    <tr>\n",
       "      <th>Date</th>\n",
       "      <th></th>\n",
       "      <th></th>\n",
       "    </tr>\n",
       "  </thead>\n",
       "  <tbody>\n",
       "    <tr>\n",
       "      <th>2015-01-02</th>\n",
       "      <td>38.0061</td>\n",
       "      <td>6906098</td>\n",
       "    </tr>\n",
       "    <tr>\n",
       "      <th>2015-01-05</th>\n",
       "      <td>37.2781</td>\n",
       "      <td>11623796</td>\n",
       "    </tr>\n",
       "    <tr>\n",
       "      <th>2015-01-06</th>\n",
       "      <td>36.9748</td>\n",
       "      <td>7664340</td>\n",
       "    </tr>\n",
       "    <tr>\n",
       "      <th>2015-01-07</th>\n",
       "      <td>37.8848</td>\n",
       "      <td>9732554</td>\n",
       "    </tr>\n",
       "    <tr>\n",
       "      <th>2015-01-08</th>\n",
       "      <td>38.4961</td>\n",
       "      <td>13170548</td>\n",
       "    </tr>\n",
       "  </tbody>\n",
       "</table>\n",
       "</div>"
      ],
      "text/plain": [
       "              Close    Volume\n",
       "Date                         \n",
       "2015-01-02  38.0061   6906098\n",
       "2015-01-05  37.2781  11623796\n",
       "2015-01-06  36.9748   7664340\n",
       "2015-01-07  37.8848   9732554\n",
       "2015-01-08  38.4961  13170548"
      ]
     },
     "execution_count": 63,
     "metadata": {},
     "output_type": "execute_result"
    }
   ],
   "source": [
    "df.head()"
   ]
  },
  {
   "cell_type": "markdown",
   "metadata": {
    "id": "w77YBchYEP7G"
   },
   "source": [
    "## 열 우선 접근 Column Major"
   ]
  },
  {
   "cell_type": "markdown",
   "metadata": {
    "id": "rmE_a2zXHBeK"
   },
   "source": [
    "#### 변수 선택"
   ]
  },
  {
   "cell_type": "code",
   "execution_count": 64,
   "metadata": {
    "id": "6gCZgTqKEpDa"
   },
   "outputs": [],
   "source": [
    "# index_col 지정\n",
    "#ok\n"
   ]
  },
  {
   "cell_type": "code",
   "execution_count": 65,
   "metadata": {
    "id": "1xEY61aQB28v"
   },
   "outputs": [
    {
     "ename": "KeyError",
     "evalue": "0",
     "output_type": "error",
     "traceback": [
      "\u001b[1;31m---------------------------------------------------------------------------\u001b[0m",
      "\u001b[1;31mKeyError\u001b[0m                                  Traceback (most recent call last)",
      "Cell \u001b[1;32mIn[65], line 2\u001b[0m\n\u001b[0;32m      1\u001b[0m \u001b[38;5;66;03m# 인덱스로 행 가져오기\u001b[39;00m\n\u001b[1;32m----> 2\u001b[0m row \u001b[38;5;241m=\u001b[39m \u001b[43mdf\u001b[49m\u001b[38;5;241;43m.\u001b[39;49m\u001b[43mloc\u001b[49m\u001b[43m[\u001b[49m\u001b[38;5;241;43m0\u001b[39;49m\u001b[43m]\u001b[49m\n\u001b[0;32m      3\u001b[0m row\n",
      "File \u001b[1;32m~\\AppData\\Local\\Programs\\Python\\Python312\\Lib\\site-packages\\pandas\\core\\indexing.py:1191\u001b[0m, in \u001b[0;36m_LocationIndexer.__getitem__\u001b[1;34m(self, key)\u001b[0m\n\u001b[0;32m   1189\u001b[0m maybe_callable \u001b[38;5;241m=\u001b[39m com\u001b[38;5;241m.\u001b[39mapply_if_callable(key, \u001b[38;5;28mself\u001b[39m\u001b[38;5;241m.\u001b[39mobj)\n\u001b[0;32m   1190\u001b[0m maybe_callable \u001b[38;5;241m=\u001b[39m \u001b[38;5;28mself\u001b[39m\u001b[38;5;241m.\u001b[39m_check_deprecated_callable_usage(key, maybe_callable)\n\u001b[1;32m-> 1191\u001b[0m \u001b[38;5;28;01mreturn\u001b[39;00m \u001b[38;5;28;43mself\u001b[39;49m\u001b[38;5;241;43m.\u001b[39;49m\u001b[43m_getitem_axis\u001b[49m\u001b[43m(\u001b[49m\u001b[43mmaybe_callable\u001b[49m\u001b[43m,\u001b[49m\u001b[43m \u001b[49m\u001b[43maxis\u001b[49m\u001b[38;5;241;43m=\u001b[39;49m\u001b[43maxis\u001b[49m\u001b[43m)\u001b[49m\n",
      "File \u001b[1;32m~\\AppData\\Local\\Programs\\Python\\Python312\\Lib\\site-packages\\pandas\\core\\indexing.py:1431\u001b[0m, in \u001b[0;36m_LocIndexer._getitem_axis\u001b[1;34m(self, key, axis)\u001b[0m\n\u001b[0;32m   1429\u001b[0m \u001b[38;5;66;03m# fall thru to straight lookup\u001b[39;00m\n\u001b[0;32m   1430\u001b[0m \u001b[38;5;28mself\u001b[39m\u001b[38;5;241m.\u001b[39m_validate_key(key, axis)\n\u001b[1;32m-> 1431\u001b[0m \u001b[38;5;28;01mreturn\u001b[39;00m \u001b[38;5;28;43mself\u001b[39;49m\u001b[38;5;241;43m.\u001b[39;49m\u001b[43m_get_label\u001b[49m\u001b[43m(\u001b[49m\u001b[43mkey\u001b[49m\u001b[43m,\u001b[49m\u001b[43m \u001b[49m\u001b[43maxis\u001b[49m\u001b[38;5;241;43m=\u001b[39;49m\u001b[43maxis\u001b[49m\u001b[43m)\u001b[49m\n",
      "File \u001b[1;32m~\\AppData\\Local\\Programs\\Python\\Python312\\Lib\\site-packages\\pandas\\core\\indexing.py:1381\u001b[0m, in \u001b[0;36m_LocIndexer._get_label\u001b[1;34m(self, label, axis)\u001b[0m\n\u001b[0;32m   1379\u001b[0m \u001b[38;5;28;01mdef\u001b[39;00m \u001b[38;5;21m_get_label\u001b[39m(\u001b[38;5;28mself\u001b[39m, label, axis: AxisInt):\n\u001b[0;32m   1380\u001b[0m     \u001b[38;5;66;03m# GH#5567 this will fail if the label is not present in the axis.\u001b[39;00m\n\u001b[1;32m-> 1381\u001b[0m     \u001b[38;5;28;01mreturn\u001b[39;00m \u001b[38;5;28;43mself\u001b[39;49m\u001b[38;5;241;43m.\u001b[39;49m\u001b[43mobj\u001b[49m\u001b[38;5;241;43m.\u001b[39;49m\u001b[43mxs\u001b[49m\u001b[43m(\u001b[49m\u001b[43mlabel\u001b[49m\u001b[43m,\u001b[49m\u001b[43m \u001b[49m\u001b[43maxis\u001b[49m\u001b[38;5;241;43m=\u001b[39;49m\u001b[43maxis\u001b[49m\u001b[43m)\u001b[49m\n",
      "File \u001b[1;32m~\\AppData\\Local\\Programs\\Python\\Python312\\Lib\\site-packages\\pandas\\core\\generic.py:4301\u001b[0m, in \u001b[0;36mNDFrame.xs\u001b[1;34m(self, key, axis, level, drop_level)\u001b[0m\n\u001b[0;32m   4299\u001b[0m             new_index \u001b[38;5;241m=\u001b[39m index[loc]\n\u001b[0;32m   4300\u001b[0m \u001b[38;5;28;01melse\u001b[39;00m:\n\u001b[1;32m-> 4301\u001b[0m     loc \u001b[38;5;241m=\u001b[39m \u001b[43mindex\u001b[49m\u001b[38;5;241;43m.\u001b[39;49m\u001b[43mget_loc\u001b[49m\u001b[43m(\u001b[49m\u001b[43mkey\u001b[49m\u001b[43m)\u001b[49m\n\u001b[0;32m   4303\u001b[0m     \u001b[38;5;28;01mif\u001b[39;00m \u001b[38;5;28misinstance\u001b[39m(loc, np\u001b[38;5;241m.\u001b[39mndarray):\n\u001b[0;32m   4304\u001b[0m         \u001b[38;5;28;01mif\u001b[39;00m loc\u001b[38;5;241m.\u001b[39mdtype \u001b[38;5;241m==\u001b[39m np\u001b[38;5;241m.\u001b[39mbool_:\n",
      "File \u001b[1;32m~\\AppData\\Local\\Programs\\Python\\Python312\\Lib\\site-packages\\pandas\\core\\indexes\\datetimes.py:627\u001b[0m, in \u001b[0;36mDatetimeIndex.get_loc\u001b[1;34m(self, key)\u001b[0m\n\u001b[0;32m    623\u001b[0m     \u001b[38;5;28;01mreturn\u001b[39;00m \u001b[38;5;28mself\u001b[39m\u001b[38;5;241m.\u001b[39mindexer_at_time(key)\n\u001b[0;32m    625\u001b[0m \u001b[38;5;28;01melse\u001b[39;00m:\n\u001b[0;32m    626\u001b[0m     \u001b[38;5;66;03m# unrecognized type\u001b[39;00m\n\u001b[1;32m--> 627\u001b[0m     \u001b[38;5;28;01mraise\u001b[39;00m \u001b[38;5;167;01mKeyError\u001b[39;00m(key)\n\u001b[0;32m    629\u001b[0m \u001b[38;5;28;01mtry\u001b[39;00m:\n\u001b[0;32m    630\u001b[0m     \u001b[38;5;28;01mreturn\u001b[39;00m Index\u001b[38;5;241m.\u001b[39mget_loc(\u001b[38;5;28mself\u001b[39m, key)\n",
      "\u001b[1;31mKeyError\u001b[0m: 0"
     ]
    }
   ],
   "source": [
    "# 인덱스로 행 가져오기\n",
    "row = df.loc[0]\n",
    "row"
   ]
  },
  {
   "cell_type": "code",
   "execution_count": null,
   "metadata": {
    "id": "0_RHPlGpEVMH"
   },
   "outputs": [],
   "source": [
    "# 열 가져오기\n",
    "col = df['Name']\n",
    "col"
   ]
  },
  {
   "cell_type": "code",
   "execution_count": null,
   "metadata": {
    "id": "Q69tD2tKEchC"
   },
   "outputs": [],
   "source": [
    "# 열 여러개 가져오기\n",
    "selected_df = df[['Name','Team']]\n",
    "selected_df"
   ]
  },
  {
   "cell_type": "code",
   "execution_count": null,
   "metadata": {
    "id": "d3ym_XnREwk6"
   },
   "outputs": [],
   "source": [
    "# 컬럼 하나를 데이터 프레임으로 가져오기\n",
    "name_df = df[['Name']]\n",
    "name_df"
   ]
  },
  {
   "cell_type": "code",
   "execution_count": null,
   "metadata": {},
   "outputs": [],
   "source": [
    "df.tail()"
   ]
  },
  {
   "cell_type": "code",
   "execution_count": null,
   "metadata": {
    "id": "SsZdLK3UE-s0"
   },
   "outputs": [],
   "source": [
    "# 열추가\n",
    "\n",
    "df[['FirstName', 'LastName']] = df['Name'].str.split(' ', n=1,expand=True)\n",
    "df.head()"
   ]
  },
  {
   "cell_type": "code",
   "execution_count": null,
   "metadata": {
    "id": "p22qAjcSEyWS"
   },
   "outputs": [],
   "source": [
    "# 칼럼끼리 연산하여 새로운 칼럼 만들기\n",
    "df['NetSalary'] = df['Salary'] * 0.8 # 20% 세금 공제\n",
    "df.head()"
   ]
  },
  {
   "cell_type": "markdown",
   "metadata": {
    "id": "ezpGa_uYGfHR"
   },
   "source": [
    "### 함수 활용 변수 선택"
   ]
  },
  {
   "cell_type": "code",
   "execution_count": null,
   "metadata": {
    "id": "-_bVaLcGoCwU"
   },
   "outputs": [],
   "source": [
    "# insurance.csv 읽기\n",
    "\n",
    "df = pd.read_csv(\"data/insurance.csv\",encoding = 'cp949')\n",
    "df.head()"
   ]
  },
  {
   "cell_type": "markdown",
   "metadata": {
    "id": "YcrrLAvSGoSa"
   },
   "source": [
    "#### `filter`"
   ]
  },
  {
   "cell_type": "code",
   "execution_count": null,
   "metadata": {
    "id": "JITmoRy8opyO"
   },
   "outputs": [],
   "source": [
    "# 변수명에 's'를 포함하는 변수 선택\n",
    "columns_with_s = [col for col in df.columns if 's' in col]\n",
    "columns_with_s"
   ]
  },
  {
   "cell_type": "markdown",
   "metadata": {
    "id": "kolpr9tBGp2y"
   },
   "source": [
    "#### `select_dtyeps`"
   ]
  },
  {
   "cell_type": "code",
   "execution_count": null,
   "metadata": {},
   "outputs": [],
   "source": [
    "df.dtypes"
   ]
  },
  {
   "cell_type": "code",
   "execution_count": null,
   "metadata": {
    "id": "dYrkO1hnphIa"
   },
   "outputs": [],
   "source": [
    "# 수치형 변수만 선택\n",
    "numeric_df = df.select_dtypes(include=['number'])\n",
    "numeric_df\n"
   ]
  },
  {
   "cell_type": "code",
   "execution_count": null,
   "metadata": {
    "id": "95fiBCOspsc7"
   },
   "outputs": [],
   "source": [
    "# 문자형(object) 변수만 선택\n",
    "object_df = df.select_dtypes(include=['object'])\n",
    "object_df"
   ]
  },
  {
   "cell_type": "code",
   "execution_count": null,
   "metadata": {
    "id": "JleITeJupy6s"
   },
   "outputs": [],
   "source": [
    "# include <--> exclude\n",
    "\n"
   ]
  },
  {
   "cell_type": "code",
   "execution_count": null,
   "metadata": {},
   "outputs": [],
   "source": [
    "non_numeric_df = df.select_dtypes(exclude=['number'])\n",
    "non_numeric_df "
   ]
  },
  {
   "cell_type": "code",
   "execution_count": null,
   "metadata": {},
   "outputs": [],
   "source": [
    "non_string_df = df.select_dtypes(exclude=['object'])\n",
    "non_string_df"
   ]
  },
  {
   "cell_type": "markdown",
   "metadata": {
    "id": "fpL4SWgYIRgY"
   },
   "source": [
    "### 연습\n",
    "1. df_sp에 `StudentsPerformance.csv` 파일을 로딩\n",
    "2. df_sp에서 수치형 변수만 선택\n",
    "3. df_sp에서 수치형이 아닌 변수만 선택\n",
    "4. df_sp에서 이름에 'score'가 들어간 변수만 선택\n"
   ]
  },
  {
   "cell_type": "code",
   "execution_count": null,
   "metadata": {
    "id": "3epvGfKmqp79"
   },
   "outputs": [],
   "source": [
    "# 1. df_sp에 StudentsPerformance.csv 파일을 로딩\n",
    "import pandas as pd\n",
    "df_sp = pd.read_csv('data/StudentsPerformance.csv',encoding='cp949')"
   ]
  },
  {
   "cell_type": "code",
   "execution_count": null,
   "metadata": {},
   "outputs": [],
   "source": [
    "df_sp.head()"
   ]
  },
  {
   "cell_type": "code",
   "execution_count": null,
   "metadata": {
    "id": "AKWUMFudrdOJ"
   },
   "outputs": [],
   "source": [
    "# 2. df_sp에서 수치형 변수만 선택\n",
    "\n",
    "numeric_df = df_sp.select_dtypes(include = ['number'])\n",
    "numeric_df"
   ]
  },
  {
   "cell_type": "code",
   "execution_count": null,
   "metadata": {
    "id": "Wubeb7m8rdIO"
   },
   "outputs": [],
   "source": [
    "# 3. df_sp에서 수치형이 아닌 변수만 선택\n",
    "\n",
    "non_numeric_df = df_sp.select_dtypes(exclude=['number'])\n",
    "non_numeric_df"
   ]
  },
  {
   "cell_type": "code",
   "execution_count": null,
   "metadata": {
    "id": "5sSk7mGFrdBH"
   },
   "outputs": [],
   "source": [
    "# 4. df_sp에서 이름에 'score'가 들어간 변수만 선택\n",
    "\n",
    "scores_column = [col for col in df_sp.columns if 'score' in col]\n",
    "scores_column"
   ]
  },
  {
   "cell_type": "markdown",
   "metadata": {
    "id": "8L9zB6ikFQcT"
   },
   "source": [
    "## 행 우선 접근 Row Major\n",
    "\n"
   ]
  },
  {
   "cell_type": "markdown",
   "metadata": {
    "id": "c-5mACdjGFKV"
   },
   "source": [
    "### 행 슬라이싱"
   ]
  },
  {
   "cell_type": "code",
   "execution_count": 66,
   "metadata": {
    "id": "Tu6lZ5lo1Yjl"
   },
   "outputs": [
    {
     "data": {
      "text/plain": [
       "gender                                    female\n",
       "race/ethnicity                           group B\n",
       "parental level of education    bachelor's degree\n",
       "lunch                                   standard\n",
       "test preparation course                     none\n",
       "math score                                    72\n",
       "reading score                                 72\n",
       "writing score                                 74\n",
       "Name: 0, dtype: object"
      ]
     },
     "execution_count": 66,
     "metadata": {},
     "output_type": "execute_result"
    }
   ],
   "source": [
    "# []를 이용한 인터페이스에서 행 인덱싱은 안되지만 행 슬라이싱은 가능\n",
    "\n",
    "df_sp.loc[0]"
   ]
  },
  {
   "cell_type": "markdown",
   "metadata": {
    "id": "I5PuGQzJGHsw"
   },
   "source": [
    "### [행,열] 형식 접근"
   ]
  },
  {
   "cell_type": "markdown",
   "metadata": {
    "id": "i7o20Y_VGUSi"
   },
   "source": [
    "#### `loc`\n",
    "\n",
    "- 눈에 보이는 행, 열 인덱스를 사용해서 [행, 열] 형식으로 데이터 접근"
   ]
  },
  {
   "cell_type": "code",
   "execution_count": 67,
   "metadata": {},
   "outputs": [],
   "source": [
    "import pandas as pd\n",
    "\n",
    "# 임의 데이터프레임 생성\n",
    "data = {\n",
    "    'A': [10, 20, 30, 40, 50, 60, 70, 80, 90, 100],\n",
    "    'B': [1, 2, 3, 4, 5, 6, 7, 8, 9, 10],\n",
    "    'C': ['a', 'b', 'c', 'd', 'e', 'f', 'g', 'h', 'i', 'j']\n",
    "}\n"
   ]
  },
  {
   "cell_type": "code",
   "execution_count": 68,
   "metadata": {},
   "outputs": [],
   "source": [
    "df_ins = pd.DataFrame(data)"
   ]
  },
  {
   "cell_type": "code",
   "execution_count": 69,
   "metadata": {
    "id": "KROXTlQO1jMp"
   },
   "outputs": [
    {
     "data": {
      "text/html": [
       "<div>\n",
       "<style scoped>\n",
       "    .dataframe tbody tr th:only-of-type {\n",
       "        vertical-align: middle;\n",
       "    }\n",
       "\n",
       "    .dataframe tbody tr th {\n",
       "        vertical-align: top;\n",
       "    }\n",
       "\n",
       "    .dataframe thead th {\n",
       "        text-align: right;\n",
       "    }\n",
       "</style>\n",
       "<table border=\"1\" class=\"dataframe\">\n",
       "  <thead>\n",
       "    <tr style=\"text-align: right;\">\n",
       "      <th></th>\n",
       "      <th>A</th>\n",
       "      <th>B</th>\n",
       "      <th>C</th>\n",
       "    </tr>\n",
       "  </thead>\n",
       "  <tbody>\n",
       "    <tr>\n",
       "      <th>101</th>\n",
       "      <td>10</td>\n",
       "      <td>1</td>\n",
       "      <td>a</td>\n",
       "    </tr>\n",
       "    <tr>\n",
       "      <th>102</th>\n",
       "      <td>20</td>\n",
       "      <td>2</td>\n",
       "      <td>b</td>\n",
       "    </tr>\n",
       "    <tr>\n",
       "      <th>103</th>\n",
       "      <td>30</td>\n",
       "      <td>3</td>\n",
       "      <td>c</td>\n",
       "    </tr>\n",
       "    <tr>\n",
       "      <th>104</th>\n",
       "      <td>40</td>\n",
       "      <td>4</td>\n",
       "      <td>d</td>\n",
       "    </tr>\n",
       "    <tr>\n",
       "      <th>105</th>\n",
       "      <td>50</td>\n",
       "      <td>5</td>\n",
       "      <td>e</td>\n",
       "    </tr>\n",
       "    <tr>\n",
       "      <th>106</th>\n",
       "      <td>60</td>\n",
       "      <td>6</td>\n",
       "      <td>f</td>\n",
       "    </tr>\n",
       "    <tr>\n",
       "      <th>107</th>\n",
       "      <td>70</td>\n",
       "      <td>7</td>\n",
       "      <td>g</td>\n",
       "    </tr>\n",
       "    <tr>\n",
       "      <th>108</th>\n",
       "      <td>80</td>\n",
       "      <td>8</td>\n",
       "      <td>h</td>\n",
       "    </tr>\n",
       "    <tr>\n",
       "      <th>109</th>\n",
       "      <td>90</td>\n",
       "      <td>9</td>\n",
       "      <td>i</td>\n",
       "    </tr>\n",
       "    <tr>\n",
       "      <th>110</th>\n",
       "      <td>100</td>\n",
       "      <td>10</td>\n",
       "      <td>j</td>\n",
       "    </tr>\n",
       "  </tbody>\n",
       "</table>\n",
       "</div>"
      ],
      "text/plain": [
       "       A   B  C\n",
       "101   10   1  a\n",
       "102   20   2  b\n",
       "103   30   3  c\n",
       "104   40   4  d\n",
       "105   50   5  e\n",
       "106   60   6  f\n",
       "107   70   7  g\n",
       "108   80   8  h\n",
       "109   90   9  i\n",
       "110  100  10  j"
      ]
     },
     "execution_count": 69,
     "metadata": {},
     "output_type": "execute_result"
    }
   ],
   "source": [
    "# 실험을 위해 인덱스가 숫자 101~110으로 붙어있는 데이터프레임 준비\n",
    "df_ins2 = df_ins[0:10].copy()\n",
    "df_ins2.index = list(range(101, 111))\n",
    "df_ins2"
   ]
  },
  {
   "cell_type": "code",
   "execution_count": 70,
   "metadata": {
    "id": "SssE9ql_1jHu"
   },
   "outputs": [
    {
     "data": {
      "text/html": [
       "<div>\n",
       "<style scoped>\n",
       "    .dataframe tbody tr th:only-of-type {\n",
       "        vertical-align: middle;\n",
       "    }\n",
       "\n",
       "    .dataframe tbody tr th {\n",
       "        vertical-align: top;\n",
       "    }\n",
       "\n",
       "    .dataframe thead th {\n",
       "        text-align: right;\n",
       "    }\n",
       "</style>\n",
       "<table border=\"1\" class=\"dataframe\">\n",
       "  <thead>\n",
       "    <tr style=\"text-align: right;\">\n",
       "      <th></th>\n",
       "      <th>A</th>\n",
       "      <th>B</th>\n",
       "      <th>C</th>\n",
       "    </tr>\n",
       "  </thead>\n",
       "  <tbody>\n",
       "    <tr>\n",
       "      <th>0</th>\n",
       "      <td>10</td>\n",
       "      <td>1</td>\n",
       "      <td>a</td>\n",
       "    </tr>\n",
       "    <tr>\n",
       "      <th>1</th>\n",
       "      <td>20</td>\n",
       "      <td>2</td>\n",
       "      <td>b</td>\n",
       "    </tr>\n",
       "    <tr>\n",
       "      <th>2</th>\n",
       "      <td>30</td>\n",
       "      <td>3</td>\n",
       "      <td>c</td>\n",
       "    </tr>\n",
       "  </tbody>\n",
       "</table>\n",
       "</div>"
      ],
      "text/plain": [
       "    A  B  C\n",
       "0  10  1  a\n",
       "1  20  2  b\n",
       "2  30  3  c"
      ]
     },
     "execution_count": 70,
     "metadata": {},
     "output_type": "execute_result"
    }
   ],
   "source": [
    "# 행슬라이싱은 눈에 보이지 않는 인덱스를 사용\n",
    "\n",
    "df_ins[0:3]"
   ]
  },
  {
   "cell_type": "code",
   "execution_count": 71,
   "metadata": {
    "id": "UJVF4mI52c5E"
   },
   "outputs": [
    {
     "data": {
      "text/html": [
       "<div>\n",
       "<style scoped>\n",
       "    .dataframe tbody tr th:only-of-type {\n",
       "        vertical-align: middle;\n",
       "    }\n",
       "\n",
       "    .dataframe tbody tr th {\n",
       "        vertical-align: top;\n",
       "    }\n",
       "\n",
       "    .dataframe thead th {\n",
       "        text-align: right;\n",
       "    }\n",
       "</style>\n",
       "<table border=\"1\" class=\"dataframe\">\n",
       "  <thead>\n",
       "    <tr style=\"text-align: right;\">\n",
       "      <th></th>\n",
       "      <th>A</th>\n",
       "      <th>B</th>\n",
       "      <th>C</th>\n",
       "    </tr>\n",
       "  </thead>\n",
       "  <tbody>\n",
       "    <tr>\n",
       "      <th>101</th>\n",
       "      <td>10</td>\n",
       "      <td>1</td>\n",
       "      <td>a</td>\n",
       "    </tr>\n",
       "    <tr>\n",
       "      <th>103</th>\n",
       "      <td>30</td>\n",
       "      <td>3</td>\n",
       "      <td>c</td>\n",
       "    </tr>\n",
       "  </tbody>\n",
       "</table>\n",
       "</div>"
      ],
      "text/plain": [
       "      A  B  C\n",
       "101  10  1  a\n",
       "103  30  3  c"
      ]
     },
     "execution_count": 71,
     "metadata": {},
     "output_type": "execute_result"
    }
   ],
   "source": [
    "# 행우선 접근: 인덱싱\n",
    "rows = df_ins2.loc[[101,103]]\n",
    "rows\n"
   ]
  },
  {
   "cell_type": "code",
   "execution_count": 72,
   "metadata": {
    "id": "jwPle8v62lj7"
   },
   "outputs": [
    {
     "data": {
      "text/html": [
       "<div>\n",
       "<style scoped>\n",
       "    .dataframe tbody tr th:only-of-type {\n",
       "        vertical-align: middle;\n",
       "    }\n",
       "\n",
       "    .dataframe tbody tr th {\n",
       "        vertical-align: top;\n",
       "    }\n",
       "\n",
       "    .dataframe thead th {\n",
       "        text-align: right;\n",
       "    }\n",
       "</style>\n",
       "<table border=\"1\" class=\"dataframe\">\n",
       "  <thead>\n",
       "    <tr style=\"text-align: right;\">\n",
       "      <th></th>\n",
       "      <th>A</th>\n",
       "      <th>B</th>\n",
       "      <th>C</th>\n",
       "    </tr>\n",
       "  </thead>\n",
       "  <tbody>\n",
       "    <tr>\n",
       "      <th>101</th>\n",
       "      <td>10</td>\n",
       "      <td>1</td>\n",
       "      <td>a</td>\n",
       "    </tr>\n",
       "    <tr>\n",
       "      <th>102</th>\n",
       "      <td>20</td>\n",
       "      <td>2</td>\n",
       "      <td>b</td>\n",
       "    </tr>\n",
       "    <tr>\n",
       "      <th>103</th>\n",
       "      <td>30</td>\n",
       "      <td>3</td>\n",
       "      <td>c</td>\n",
       "    </tr>\n",
       "  </tbody>\n",
       "</table>\n",
       "</div>"
      ],
      "text/plain": [
       "      A  B  C\n",
       "101  10  1  a\n",
       "102  20  2  b\n",
       "103  30  3  c"
      ]
     },
     "execution_count": 72,
     "metadata": {},
     "output_type": "execute_result"
    }
   ],
   "source": [
    "# 행우선 접근: 슬라이싱\n",
    "rows = df_ins2.iloc[0:3]\n",
    "rows"
   ]
  },
  {
   "cell_type": "code",
   "execution_count": 73,
   "metadata": {},
   "outputs": [
    {
     "data": {
      "text/html": [
       "<div>\n",
       "<style scoped>\n",
       "    .dataframe tbody tr th:only-of-type {\n",
       "        vertical-align: middle;\n",
       "    }\n",
       "\n",
       "    .dataframe tbody tr th {\n",
       "        vertical-align: top;\n",
       "    }\n",
       "\n",
       "    .dataframe thead th {\n",
       "        text-align: right;\n",
       "    }\n",
       "</style>\n",
       "<table border=\"1\" class=\"dataframe\">\n",
       "  <thead>\n",
       "    <tr style=\"text-align: right;\">\n",
       "      <th></th>\n",
       "      <th>A</th>\n",
       "      <th>B</th>\n",
       "      <th>C</th>\n",
       "    </tr>\n",
       "  </thead>\n",
       "  <tbody>\n",
       "    <tr>\n",
       "      <th>101</th>\n",
       "      <td>10</td>\n",
       "      <td>1</td>\n",
       "      <td>a</td>\n",
       "    </tr>\n",
       "    <tr>\n",
       "      <th>102</th>\n",
       "      <td>20</td>\n",
       "      <td>2</td>\n",
       "      <td>b</td>\n",
       "    </tr>\n",
       "    <tr>\n",
       "      <th>103</th>\n",
       "      <td>30</td>\n",
       "      <td>3</td>\n",
       "      <td>c</td>\n",
       "    </tr>\n",
       "    <tr>\n",
       "      <th>104</th>\n",
       "      <td>40</td>\n",
       "      <td>4</td>\n",
       "      <td>d</td>\n",
       "    </tr>\n",
       "    <tr>\n",
       "      <th>105</th>\n",
       "      <td>50</td>\n",
       "      <td>5</td>\n",
       "      <td>e</td>\n",
       "    </tr>\n",
       "  </tbody>\n",
       "</table>\n",
       "</div>"
      ],
      "text/plain": [
       "      A  B  C\n",
       "101  10  1  a\n",
       "102  20  2  b\n",
       "103  30  3  c\n",
       "104  40  4  d\n",
       "105  50  5  e"
      ]
     },
     "execution_count": 73,
     "metadata": {},
     "output_type": "execute_result"
    }
   ],
   "source": [
    "df_ins2.head()"
   ]
  },
  {
   "cell_type": "code",
   "execution_count": 74,
   "metadata": {
    "id": "PMy-knuo2lcI"
   },
   "outputs": [
    {
     "data": {
      "text/html": [
       "<div>\n",
       "<style scoped>\n",
       "    .dataframe tbody tr th:only-of-type {\n",
       "        vertical-align: middle;\n",
       "    }\n",
       "\n",
       "    .dataframe tbody tr th {\n",
       "        vertical-align: top;\n",
       "    }\n",
       "\n",
       "    .dataframe thead th {\n",
       "        text-align: right;\n",
       "    }\n",
       "</style>\n",
       "<table border=\"1\" class=\"dataframe\">\n",
       "  <thead>\n",
       "    <tr style=\"text-align: right;\">\n",
       "      <th></th>\n",
       "      <th>A</th>\n",
       "      <th>B</th>\n",
       "      <th>C</th>\n",
       "    </tr>\n",
       "  </thead>\n",
       "  <tbody>\n",
       "    <tr>\n",
       "      <th>101</th>\n",
       "      <td>10</td>\n",
       "      <td>1</td>\n",
       "      <td>a</td>\n",
       "    </tr>\n",
       "    <tr>\n",
       "      <th>103</th>\n",
       "      <td>30</td>\n",
       "      <td>3</td>\n",
       "      <td>c</td>\n",
       "    </tr>\n",
       "    <tr>\n",
       "      <th>105</th>\n",
       "      <td>50</td>\n",
       "      <td>5</td>\n",
       "      <td>e</td>\n",
       "    </tr>\n",
       "  </tbody>\n",
       "</table>\n",
       "</div>"
      ],
      "text/plain": [
       "      A  B  C\n",
       "101  10  1  a\n",
       "103  30  3  c\n",
       "105  50  5  e"
      ]
     },
     "execution_count": 74,
     "metadata": {},
     "output_type": "execute_result"
    }
   ],
   "source": [
    "# 행우선 접근: 어레이 인덱싱\n",
    "\n",
    "rows = df_ins2.loc[[101,103,105]]\n",
    "rows"
   ]
  },
  {
   "cell_type": "code",
   "execution_count": 75,
   "metadata": {
    "id": "vAutjw3H2yz3"
   },
   "outputs": [
    {
     "data": {
      "text/plain": [
       "10"
      ]
     },
     "execution_count": 75,
     "metadata": {},
     "output_type": "execute_result"
    }
   ],
   "source": [
    "# 행,열 방식 접근: 단일 변수\n",
    "value = df_ins2.loc[101,'A']\n",
    "value"
   ]
  },
  {
   "cell_type": "code",
   "execution_count": 76,
   "metadata": {
    "id": "5TlYN3Xj28x6"
   },
   "outputs": [
    {
     "data": {
      "text/html": [
       "<div>\n",
       "<style scoped>\n",
       "    .dataframe tbody tr th:only-of-type {\n",
       "        vertical-align: middle;\n",
       "    }\n",
       "\n",
       "    .dataframe tbody tr th {\n",
       "        vertical-align: top;\n",
       "    }\n",
       "\n",
       "    .dataframe thead th {\n",
       "        text-align: right;\n",
       "    }\n",
       "</style>\n",
       "<table border=\"1\" class=\"dataframe\">\n",
       "  <thead>\n",
       "    <tr style=\"text-align: right;\">\n",
       "      <th></th>\n",
       "      <th>A</th>\n",
       "      <th>C</th>\n",
       "    </tr>\n",
       "  </thead>\n",
       "  <tbody>\n",
       "    <tr>\n",
       "      <th>101</th>\n",
       "      <td>10</td>\n",
       "      <td>a</td>\n",
       "    </tr>\n",
       "    <tr>\n",
       "      <th>103</th>\n",
       "      <td>30</td>\n",
       "      <td>c</td>\n",
       "    </tr>\n",
       "  </tbody>\n",
       "</table>\n",
       "</div>"
      ],
      "text/plain": [
       "      A  C\n",
       "101  10  a\n",
       "103  30  c"
      ]
     },
     "execution_count": 76,
     "metadata": {},
     "output_type": "execute_result"
    }
   ],
   "source": [
    "# 행,열 방식 접근: 복수 변수 1\n",
    "df_ins2.loc[[101,103],['A','C']]\n"
   ]
  },
  {
   "cell_type": "code",
   "execution_count": 77,
   "metadata": {
    "id": "_osRJVMq3CIw"
   },
   "outputs": [
    {
     "data": {
      "text/html": [
       "<div>\n",
       "<style scoped>\n",
       "    .dataframe tbody tr th:only-of-type {\n",
       "        vertical-align: middle;\n",
       "    }\n",
       "\n",
       "    .dataframe tbody tr th {\n",
       "        vertical-align: top;\n",
       "    }\n",
       "\n",
       "    .dataframe thead th {\n",
       "        text-align: right;\n",
       "    }\n",
       "</style>\n",
       "<table border=\"1\" class=\"dataframe\">\n",
       "  <thead>\n",
       "    <tr style=\"text-align: right;\">\n",
       "      <th></th>\n",
       "      <th>A</th>\n",
       "      <th>C</th>\n",
       "    </tr>\n",
       "  </thead>\n",
       "  <tbody>\n",
       "    <tr>\n",
       "      <th>101</th>\n",
       "      <td>10</td>\n",
       "      <td>a</td>\n",
       "    </tr>\n",
       "    <tr>\n",
       "      <th>103</th>\n",
       "      <td>30</td>\n",
       "      <td>c</td>\n",
       "    </tr>\n",
       "  </tbody>\n",
       "</table>\n",
       "</div>"
      ],
      "text/plain": [
       "      A  C\n",
       "101  10  a\n",
       "103  30  c"
      ]
     },
     "execution_count": 77,
     "metadata": {},
     "output_type": "execute_result"
    }
   ],
   "source": [
    "# 행,열 방식 접근: 복수 변수 2\n",
    "\n",
    "df_ins2.iloc[[0,2],[0,2]]"
   ]
  },
  {
   "cell_type": "code",
   "execution_count": 78,
   "metadata": {},
   "outputs": [
    {
     "data": {
      "text/html": [
       "<div>\n",
       "<style scoped>\n",
       "    .dataframe tbody tr th:only-of-type {\n",
       "        vertical-align: middle;\n",
       "    }\n",
       "\n",
       "    .dataframe tbody tr th {\n",
       "        vertical-align: top;\n",
       "    }\n",
       "\n",
       "    .dataframe thead th {\n",
       "        text-align: right;\n",
       "    }\n",
       "</style>\n",
       "<table border=\"1\" class=\"dataframe\">\n",
       "  <thead>\n",
       "    <tr style=\"text-align: right;\">\n",
       "      <th></th>\n",
       "      <th>A</th>\n",
       "      <th>B</th>\n",
       "      <th>C</th>\n",
       "    </tr>\n",
       "  </thead>\n",
       "  <tbody>\n",
       "    <tr>\n",
       "      <th>101</th>\n",
       "      <td>10</td>\n",
       "      <td>1</td>\n",
       "      <td>a</td>\n",
       "    </tr>\n",
       "    <tr>\n",
       "      <th>102</th>\n",
       "      <td>20</td>\n",
       "      <td>2</td>\n",
       "      <td>b</td>\n",
       "    </tr>\n",
       "    <tr>\n",
       "      <th>103</th>\n",
       "      <td>30</td>\n",
       "      <td>3</td>\n",
       "      <td>c</td>\n",
       "    </tr>\n",
       "    <tr>\n",
       "      <th>104</th>\n",
       "      <td>40</td>\n",
       "      <td>4</td>\n",
       "      <td>d</td>\n",
       "    </tr>\n",
       "    <tr>\n",
       "      <th>105</th>\n",
       "      <td>50</td>\n",
       "      <td>5</td>\n",
       "      <td>e</td>\n",
       "    </tr>\n",
       "    <tr>\n",
       "      <th>106</th>\n",
       "      <td>60</td>\n",
       "      <td>6</td>\n",
       "      <td>f</td>\n",
       "    </tr>\n",
       "    <tr>\n",
       "      <th>107</th>\n",
       "      <td>70</td>\n",
       "      <td>7</td>\n",
       "      <td>g</td>\n",
       "    </tr>\n",
       "    <tr>\n",
       "      <th>108</th>\n",
       "      <td>80</td>\n",
       "      <td>8</td>\n",
       "      <td>h</td>\n",
       "    </tr>\n",
       "    <tr>\n",
       "      <th>109</th>\n",
       "      <td>90</td>\n",
       "      <td>9</td>\n",
       "      <td>i</td>\n",
       "    </tr>\n",
       "    <tr>\n",
       "      <th>110</th>\n",
       "      <td>100</td>\n",
       "      <td>10</td>\n",
       "      <td>j</td>\n",
       "    </tr>\n",
       "  </tbody>\n",
       "</table>\n",
       "</div>"
      ],
      "text/plain": [
       "       A   B  C\n",
       "101   10   1  a\n",
       "102   20   2  b\n",
       "103   30   3  c\n",
       "104   40   4  d\n",
       "105   50   5  e\n",
       "106   60   6  f\n",
       "107   70   7  g\n",
       "108   80   8  h\n",
       "109   90   9  i\n",
       "110  100  10  j"
      ]
     },
     "execution_count": 78,
     "metadata": {},
     "output_type": "execute_result"
    }
   ],
   "source": [
    "df_ins2"
   ]
  },
  {
   "cell_type": "code",
   "execution_count": 79,
   "metadata": {
    "id": "fUdljePX3JiK"
   },
   "outputs": [
    {
     "data": {
      "text/html": [
       "<div>\n",
       "<style scoped>\n",
       "    .dataframe tbody tr th:only-of-type {\n",
       "        vertical-align: middle;\n",
       "    }\n",
       "\n",
       "    .dataframe tbody tr th {\n",
       "        vertical-align: top;\n",
       "    }\n",
       "\n",
       "    .dataframe thead th {\n",
       "        text-align: right;\n",
       "    }\n",
       "</style>\n",
       "<table border=\"1\" class=\"dataframe\">\n",
       "  <thead>\n",
       "    <tr style=\"text-align: right;\">\n",
       "      <th></th>\n",
       "      <th>A</th>\n",
       "      <th>B</th>\n",
       "      <th>C</th>\n",
       "    </tr>\n",
       "  </thead>\n",
       "  <tbody>\n",
       "    <tr>\n",
       "      <th>101</th>\n",
       "      <td>10</td>\n",
       "      <td>1</td>\n",
       "      <td>a</td>\n",
       "    </tr>\n",
       "    <tr>\n",
       "      <th>102</th>\n",
       "      <td>20</td>\n",
       "      <td>2</td>\n",
       "      <td>b</td>\n",
       "    </tr>\n",
       "    <tr>\n",
       "      <th>103</th>\n",
       "      <td>30</td>\n",
       "      <td>3</td>\n",
       "      <td>c</td>\n",
       "    </tr>\n",
       "  </tbody>\n",
       "</table>\n",
       "</div>"
      ],
      "text/plain": [
       "      A  B  C\n",
       "101  10  1  a\n",
       "102  20  2  b\n",
       "103  30  3  c"
      ]
     },
     "execution_count": 79,
     "metadata": {},
     "output_type": "execute_result"
    }
   ],
   "source": [
    "# 행,열 방식 접근: 복수 변수 3\n",
    "\n",
    "df_ins2.loc[101:103,'A':'C']"
   ]
  },
  {
   "cell_type": "code",
   "execution_count": 80,
   "metadata": {},
   "outputs": [
    {
     "data": {
      "text/html": [
       "<div>\n",
       "<style scoped>\n",
       "    .dataframe tbody tr th:only-of-type {\n",
       "        vertical-align: middle;\n",
       "    }\n",
       "\n",
       "    .dataframe tbody tr th {\n",
       "        vertical-align: top;\n",
       "    }\n",
       "\n",
       "    .dataframe thead th {\n",
       "        text-align: right;\n",
       "    }\n",
       "</style>\n",
       "<table border=\"1\" class=\"dataframe\">\n",
       "  <thead>\n",
       "    <tr style=\"text-align: right;\">\n",
       "      <th></th>\n",
       "      <th>A</th>\n",
       "      <th>B</th>\n",
       "    </tr>\n",
       "  </thead>\n",
       "  <tbody>\n",
       "    <tr>\n",
       "      <th>0</th>\n",
       "      <td>10</td>\n",
       "      <td>1</td>\n",
       "    </tr>\n",
       "    <tr>\n",
       "      <th>1</th>\n",
       "      <td>20</td>\n",
       "      <td>2</td>\n",
       "    </tr>\n",
       "    <tr>\n",
       "      <th>2</th>\n",
       "      <td>30</td>\n",
       "      <td>3</td>\n",
       "    </tr>\n",
       "  </tbody>\n",
       "</table>\n",
       "</div>"
      ],
      "text/plain": [
       "    A  B\n",
       "0  10  1\n",
       "1  20  2\n",
       "2  30  3"
      ]
     },
     "execution_count": 80,
     "metadata": {},
     "output_type": "execute_result"
    }
   ],
   "source": [
    "df_ins.iloc[0:3,0:2]"
   ]
  },
  {
   "cell_type": "markdown",
   "metadata": {
    "id": "wuj5rto0GWAt"
   },
   "source": [
    "#### `iloc`\n",
    "\n",
    "- `loc`과 작동방식은 같으나 행, 열 모두 0부터 시작하는 인덱스를 사용"
   ]
  },
  {
   "cell_type": "code",
   "execution_count": 81,
   "metadata": {
    "id": "pB6ekTio7E_7"
   },
   "outputs": [],
   "source": [
    "# 보이지 않는(암시적) 행인덱스를 이용한 슬라이싱\n",
    "# 마지막 인덱스 빠짐을 주의\n",
    "\n"
   ]
  },
  {
   "cell_type": "code",
   "execution_count": 82,
   "metadata": {
    "id": "CQyhhPlF7KOQ"
   },
   "outputs": [],
   "source": [
    "# 행은 슬라이스 형태로\n",
    "# 열은 리스트 형태로 위치를 지정하여 선택\n",
    "\n"
   ]
  },
  {
   "cell_type": "markdown",
   "metadata": {
    "id": "2kMgvw5h7QLt"
   },
   "source": [
    "### 연습\n",
    "1. df_sp에서 명시적 index 기준 5, `math score` 접근\n",
    "2. df_sp에서 명시적 index 기준 5 ~ 10, `race/ethnicity`~`lunch`까지  선택\n",
    "3. df_sp에서 첫번째 ~ 세번째 관측치와 다섯번째 ~ 일곱번째 변수 선택"
   ]
  },
  {
   "cell_type": "code",
   "execution_count": 83,
   "metadata": {},
   "outputs": [
    {
     "data": {
      "text/html": [
       "<div>\n",
       "<style scoped>\n",
       "    .dataframe tbody tr th:only-of-type {\n",
       "        vertical-align: middle;\n",
       "    }\n",
       "\n",
       "    .dataframe tbody tr th {\n",
       "        vertical-align: top;\n",
       "    }\n",
       "\n",
       "    .dataframe thead th {\n",
       "        text-align: right;\n",
       "    }\n",
       "</style>\n",
       "<table border=\"1\" class=\"dataframe\">\n",
       "  <thead>\n",
       "    <tr style=\"text-align: right;\">\n",
       "      <th></th>\n",
       "      <th>gender</th>\n",
       "      <th>race/ethnicity</th>\n",
       "      <th>parental level of education</th>\n",
       "      <th>lunch</th>\n",
       "      <th>test preparation course</th>\n",
       "      <th>math score</th>\n",
       "      <th>reading score</th>\n",
       "      <th>writing score</th>\n",
       "    </tr>\n",
       "  </thead>\n",
       "  <tbody>\n",
       "    <tr>\n",
       "      <th>0</th>\n",
       "      <td>female</td>\n",
       "      <td>group B</td>\n",
       "      <td>bachelor's degree</td>\n",
       "      <td>standard</td>\n",
       "      <td>none</td>\n",
       "      <td>72</td>\n",
       "      <td>72</td>\n",
       "      <td>74</td>\n",
       "    </tr>\n",
       "    <tr>\n",
       "      <th>1</th>\n",
       "      <td>female</td>\n",
       "      <td>group C</td>\n",
       "      <td>some college</td>\n",
       "      <td>standard</td>\n",
       "      <td>completed</td>\n",
       "      <td>69</td>\n",
       "      <td>90</td>\n",
       "      <td>88</td>\n",
       "    </tr>\n",
       "    <tr>\n",
       "      <th>2</th>\n",
       "      <td>female</td>\n",
       "      <td>group B</td>\n",
       "      <td>master's degree</td>\n",
       "      <td>standard</td>\n",
       "      <td>none</td>\n",
       "      <td>90</td>\n",
       "      <td>95</td>\n",
       "      <td>93</td>\n",
       "    </tr>\n",
       "  </tbody>\n",
       "</table>\n",
       "</div>"
      ],
      "text/plain": [
       "   gender race/ethnicity parental level of education     lunch  \\\n",
       "0  female        group B           bachelor's degree  standard   \n",
       "1  female        group C                some college  standard   \n",
       "2  female        group B             master's degree  standard   \n",
       "\n",
       "  test preparation course  math score  reading score  writing score  \n",
       "0                    none          72             72             74  \n",
       "1               completed          69             90             88  \n",
       "2                    none          90             95             93  "
      ]
     },
     "execution_count": 83,
     "metadata": {},
     "output_type": "execute_result"
    }
   ],
   "source": [
    "df_sp.head(3)"
   ]
  },
  {
   "cell_type": "markdown",
   "metadata": {
    "id": "3-Cw8pw67SRa"
   },
   "source": [
    "df_sp.head(3)"
   ]
  },
  {
   "cell_type": "code",
   "execution_count": 84,
   "metadata": {
    "id": "9xnZJO0Q7ypJ"
   },
   "outputs": [
    {
     "data": {
      "text/html": [
       "<div>\n",
       "<style scoped>\n",
       "    .dataframe tbody tr th:only-of-type {\n",
       "        vertical-align: middle;\n",
       "    }\n",
       "\n",
       "    .dataframe tbody tr th {\n",
       "        vertical-align: top;\n",
       "    }\n",
       "\n",
       "    .dataframe thead th {\n",
       "        text-align: right;\n",
       "    }\n",
       "</style>\n",
       "<table border=\"1\" class=\"dataframe\">\n",
       "  <thead>\n",
       "    <tr style=\"text-align: right;\">\n",
       "      <th></th>\n",
       "      <th>math score</th>\n",
       "    </tr>\n",
       "  </thead>\n",
       "  <tbody>\n",
       "    <tr>\n",
       "      <th>5</th>\n",
       "      <td>71</td>\n",
       "    </tr>\n",
       "  </tbody>\n",
       "</table>\n",
       "</div>"
      ],
      "text/plain": [
       "   math score\n",
       "5          71"
      ]
     },
     "execution_count": 84,
     "metadata": {},
     "output_type": "execute_result"
    }
   ],
   "source": [
    "# 1. df_sp에서 명시적 index 기준 5, `math score` 접근\n",
    "\n",
    "df_sp.loc[[5],['math score']]"
   ]
  },
  {
   "cell_type": "code",
   "execution_count": 85,
   "metadata": {
    "id": "RFXx_qFs7ykL"
   },
   "outputs": [
    {
     "data": {
      "text/html": [
       "<div>\n",
       "<style scoped>\n",
       "    .dataframe tbody tr th:only-of-type {\n",
       "        vertical-align: middle;\n",
       "    }\n",
       "\n",
       "    .dataframe tbody tr th {\n",
       "        vertical-align: top;\n",
       "    }\n",
       "\n",
       "    .dataframe thead th {\n",
       "        text-align: right;\n",
       "    }\n",
       "</style>\n",
       "<table border=\"1\" class=\"dataframe\">\n",
       "  <thead>\n",
       "    <tr style=\"text-align: right;\">\n",
       "      <th></th>\n",
       "      <th>race/ethnicity</th>\n",
       "      <th>parental level of education</th>\n",
       "      <th>lunch</th>\n",
       "    </tr>\n",
       "  </thead>\n",
       "  <tbody>\n",
       "    <tr>\n",
       "      <th>5</th>\n",
       "      <td>group B</td>\n",
       "      <td>associate's degree</td>\n",
       "      <td>standard</td>\n",
       "    </tr>\n",
       "    <tr>\n",
       "      <th>6</th>\n",
       "      <td>group B</td>\n",
       "      <td>some college</td>\n",
       "      <td>standard</td>\n",
       "    </tr>\n",
       "    <tr>\n",
       "      <th>7</th>\n",
       "      <td>group B</td>\n",
       "      <td>some college</td>\n",
       "      <td>free/reduced</td>\n",
       "    </tr>\n",
       "    <tr>\n",
       "      <th>8</th>\n",
       "      <td>group D</td>\n",
       "      <td>high school</td>\n",
       "      <td>free/reduced</td>\n",
       "    </tr>\n",
       "    <tr>\n",
       "      <th>9</th>\n",
       "      <td>group B</td>\n",
       "      <td>high school</td>\n",
       "      <td>free/reduced</td>\n",
       "    </tr>\n",
       "    <tr>\n",
       "      <th>10</th>\n",
       "      <td>group C</td>\n",
       "      <td>associate's degree</td>\n",
       "      <td>standard</td>\n",
       "    </tr>\n",
       "  </tbody>\n",
       "</table>\n",
       "</div>"
      ],
      "text/plain": [
       "   race/ethnicity parental level of education         lunch\n",
       "5         group B          associate's degree      standard\n",
       "6         group B                some college      standard\n",
       "7         group B                some college  free/reduced\n",
       "8         group D                 high school  free/reduced\n",
       "9         group B                 high school  free/reduced\n",
       "10        group C          associate's degree      standard"
      ]
     },
     "execution_count": 85,
     "metadata": {},
     "output_type": "execute_result"
    }
   ],
   "source": [
    "# 2. df_sp에서 명시적 index 기준 5~10, `race/ethnicity`~`lunch`까지  선택\n",
    "\n",
    "df_sp.loc[5:10,'race/ethnicity':'lunch']"
   ]
  },
  {
   "cell_type": "code",
   "execution_count": 86,
   "metadata": {
    "id": "VL6yz2i97yeO"
   },
   "outputs": [
    {
     "data": {
      "text/html": [
       "<div>\n",
       "<style scoped>\n",
       "    .dataframe tbody tr th:only-of-type {\n",
       "        vertical-align: middle;\n",
       "    }\n",
       "\n",
       "    .dataframe tbody tr th {\n",
       "        vertical-align: top;\n",
       "    }\n",
       "\n",
       "    .dataframe thead th {\n",
       "        text-align: right;\n",
       "    }\n",
       "</style>\n",
       "<table border=\"1\" class=\"dataframe\">\n",
       "  <thead>\n",
       "    <tr style=\"text-align: right;\">\n",
       "      <th></th>\n",
       "      <th>math score</th>\n",
       "      <th>reading score</th>\n",
       "      <th>writing score</th>\n",
       "    </tr>\n",
       "  </thead>\n",
       "  <tbody>\n",
       "    <tr>\n",
       "      <th>0</th>\n",
       "      <td>72</td>\n",
       "      <td>72</td>\n",
       "      <td>74</td>\n",
       "    </tr>\n",
       "    <tr>\n",
       "      <th>1</th>\n",
       "      <td>69</td>\n",
       "      <td>90</td>\n",
       "      <td>88</td>\n",
       "    </tr>\n",
       "    <tr>\n",
       "      <th>2</th>\n",
       "      <td>90</td>\n",
       "      <td>95</td>\n",
       "      <td>93</td>\n",
       "    </tr>\n",
       "    <tr>\n",
       "      <th>3</th>\n",
       "      <td>47</td>\n",
       "      <td>57</td>\n",
       "      <td>44</td>\n",
       "    </tr>\n",
       "  </tbody>\n",
       "</table>\n",
       "</div>"
      ],
      "text/plain": [
       "   math score  reading score  writing score\n",
       "0          72             72             74\n",
       "1          69             90             88\n",
       "2          90             95             93\n",
       "3          47             57             44"
      ]
     },
     "execution_count": 86,
     "metadata": {},
     "output_type": "execute_result"
    }
   ],
   "source": [
    "# 3. df_sp에서 첫번째~세번째 관측치와 다섯번째~일곱번째 변수 선택\n",
    "\n",
    "df_sp.iloc[0:4,5:8]"
   ]
  },
  {
   "cell_type": "code",
   "execution_count": 87,
   "metadata": {},
   "outputs": [
    {
     "data": {
      "text/html": [
       "<div>\n",
       "<style scoped>\n",
       "    .dataframe tbody tr th:only-of-type {\n",
       "        vertical-align: middle;\n",
       "    }\n",
       "\n",
       "    .dataframe tbody tr th {\n",
       "        vertical-align: top;\n",
       "    }\n",
       "\n",
       "    .dataframe thead th {\n",
       "        text-align: right;\n",
       "    }\n",
       "</style>\n",
       "<table border=\"1\" class=\"dataframe\">\n",
       "  <thead>\n",
       "    <tr style=\"text-align: right;\">\n",
       "      <th></th>\n",
       "      <th>gender</th>\n",
       "      <th>race/ethnicity</th>\n",
       "      <th>parental level of education</th>\n",
       "      <th>lunch</th>\n",
       "      <th>test preparation course</th>\n",
       "      <th>math score</th>\n",
       "      <th>reading score</th>\n",
       "      <th>writing score</th>\n",
       "    </tr>\n",
       "  </thead>\n",
       "  <tbody>\n",
       "    <tr>\n",
       "      <th>0</th>\n",
       "      <td>female</td>\n",
       "      <td>group B</td>\n",
       "      <td>bachelor's degree</td>\n",
       "      <td>standard</td>\n",
       "      <td>none</td>\n",
       "      <td>72</td>\n",
       "      <td>72</td>\n",
       "      <td>74</td>\n",
       "    </tr>\n",
       "    <tr>\n",
       "      <th>1</th>\n",
       "      <td>female</td>\n",
       "      <td>group C</td>\n",
       "      <td>some college</td>\n",
       "      <td>standard</td>\n",
       "      <td>completed</td>\n",
       "      <td>69</td>\n",
       "      <td>90</td>\n",
       "      <td>88</td>\n",
       "    </tr>\n",
       "    <tr>\n",
       "      <th>2</th>\n",
       "      <td>female</td>\n",
       "      <td>group B</td>\n",
       "      <td>master's degree</td>\n",
       "      <td>standard</td>\n",
       "      <td>none</td>\n",
       "      <td>90</td>\n",
       "      <td>95</td>\n",
       "      <td>93</td>\n",
       "    </tr>\n",
       "  </tbody>\n",
       "</table>\n",
       "</div>"
      ],
      "text/plain": [
       "   gender race/ethnicity parental level of education     lunch  \\\n",
       "0  female        group B           bachelor's degree  standard   \n",
       "1  female        group C                some college  standard   \n",
       "2  female        group B             master's degree  standard   \n",
       "\n",
       "  test preparation course  math score  reading score  writing score  \n",
       "0                    none          72             72             74  \n",
       "1               completed          69             90             88  \n",
       "2                    none          90             95             93  "
      ]
     },
     "execution_count": 87,
     "metadata": {},
     "output_type": "execute_result"
    }
   ],
   "source": [
    "import pandas as pd\n",
    "\n",
    "# 데이터 생성\n",
    "data = {\n",
    "    'gender': ['female', 'female', 'female'],\n",
    "    'race/ethnicity': ['group B', 'group C', 'group B'],\n",
    "    'parental level of education': [\"bachelor's degree\", 'some college', \"master's degree\"],\n",
    "    'lunch': ['standard', 'standard', 'standard'],\n",
    "    'test preparation course': ['none', 'completed', 'none'],\n",
    "    'math score': [72, 69, 90],\n",
    "    'reading score': [72, 90, 95],\n",
    "    'writing score': [74, 88, 93]\n",
    "}\n",
    "\n",
    "df = pd.DataFrame(data)\n",
    "df.head()"
   ]
  },
  {
   "cell_type": "markdown",
   "metadata": {},
   "source": [
    "### 문제1. 단일 값 접근"
   ]
  },
  {
   "cell_type": "code",
   "execution_count": 88,
   "metadata": {},
   "outputs": [
    {
     "data": {
      "text/plain": [
       "72"
      ]
     },
     "execution_count": 88,
     "metadata": {},
     "output_type": "execute_result"
    }
   ],
   "source": [
    "df.iloc[0,6]"
   ]
  },
  {
   "cell_type": "code",
   "execution_count": 89,
   "metadata": {},
   "outputs": [
    {
     "data": {
      "text/plain": [
       "95"
      ]
     },
     "execution_count": 89,
     "metadata": {},
     "output_type": "execute_result"
    }
   ],
   "source": [
    "df.iloc[2,6]"
   ]
  },
  {
   "cell_type": "code",
   "execution_count": 90,
   "metadata": {},
   "outputs": [
    {
     "data": {
      "text/plain": [
       "'standard'"
      ]
     },
     "execution_count": 90,
     "metadata": {},
     "output_type": "execute_result"
    }
   ],
   "source": [
    "df.iloc[1,3]"
   ]
  },
  {
   "cell_type": "code",
   "execution_count": 91,
   "metadata": {},
   "outputs": [
    {
     "data": {
      "text/plain": [
       "72"
      ]
     },
     "execution_count": 91,
     "metadata": {},
     "output_type": "execute_result"
    }
   ],
   "source": [
    "df.loc[0,'math score']"
   ]
  },
  {
   "cell_type": "code",
   "execution_count": 92,
   "metadata": {},
   "outputs": [
    {
     "data": {
      "text/plain": [
       "'none'"
      ]
     },
     "execution_count": 92,
     "metadata": {},
     "output_type": "execute_result"
    }
   ],
   "source": [
    "df.loc[2,'test preparation course']"
   ]
  },
  {
   "cell_type": "code",
   "execution_count": 93,
   "metadata": {},
   "outputs": [
    {
     "data": {
      "text/plain": [
       "'female'"
      ]
     },
     "execution_count": 93,
     "metadata": {},
     "output_type": "execute_result"
    }
   ],
   "source": [
    "df.loc[1,'gender']"
   ]
  },
  {
   "cell_type": "markdown",
   "metadata": {},
   "source": [
    "### 문제2. 다중 값 접근"
   ]
  },
  {
   "cell_type": "code",
   "execution_count": 94,
   "metadata": {},
   "outputs": [
    {
     "data": {
      "text/html": [
       "<div>\n",
       "<style scoped>\n",
       "    .dataframe tbody tr th:only-of-type {\n",
       "        vertical-align: middle;\n",
       "    }\n",
       "\n",
       "    .dataframe tbody tr th {\n",
       "        vertical-align: top;\n",
       "    }\n",
       "\n",
       "    .dataframe thead th {\n",
       "        text-align: right;\n",
       "    }\n",
       "</style>\n",
       "<table border=\"1\" class=\"dataframe\">\n",
       "  <thead>\n",
       "    <tr style=\"text-align: right;\">\n",
       "      <th></th>\n",
       "      <th>math score</th>\n",
       "      <th>reading score</th>\n",
       "    </tr>\n",
       "  </thead>\n",
       "  <tbody>\n",
       "    <tr>\n",
       "      <th>0</th>\n",
       "      <td>72</td>\n",
       "      <td>72</td>\n",
       "    </tr>\n",
       "    <tr>\n",
       "      <th>1</th>\n",
       "      <td>69</td>\n",
       "      <td>90</td>\n",
       "    </tr>\n",
       "  </tbody>\n",
       "</table>\n",
       "</div>"
      ],
      "text/plain": [
       "   math score  reading score\n",
       "0          72             72\n",
       "1          69             90"
      ]
     },
     "execution_count": 94,
     "metadata": {},
     "output_type": "execute_result"
    }
   ],
   "source": [
    "# 첫 번째와 두 번째 행의 math score와 reading score를 가져오세요.\n",
    "df.iloc[[0,1],[5,6]]"
   ]
  },
  {
   "cell_type": "code",
   "execution_count": 95,
   "metadata": {},
   "outputs": [
    {
     "data": {
      "text/html": [
       "<div>\n",
       "<style scoped>\n",
       "    .dataframe tbody tr th:only-of-type {\n",
       "        vertical-align: middle;\n",
       "    }\n",
       "\n",
       "    .dataframe tbody tr th {\n",
       "        vertical-align: top;\n",
       "    }\n",
       "\n",
       "    .dataframe thead th {\n",
       "        text-align: right;\n",
       "    }\n",
       "</style>\n",
       "<table border=\"1\" class=\"dataframe\">\n",
       "  <thead>\n",
       "    <tr style=\"text-align: right;\">\n",
       "      <th></th>\n",
       "      <th>lunch</th>\n",
       "      <th>test preparation course</th>\n",
       "    </tr>\n",
       "  </thead>\n",
       "  <tbody>\n",
       "    <tr>\n",
       "      <th>1</th>\n",
       "      <td>standard</td>\n",
       "      <td>completed</td>\n",
       "    </tr>\n",
       "    <tr>\n",
       "      <th>2</th>\n",
       "      <td>standard</td>\n",
       "      <td>none</td>\n",
       "    </tr>\n",
       "  </tbody>\n",
       "</table>\n",
       "</div>"
      ],
      "text/plain": [
       "      lunch test preparation course\n",
       "1  standard               completed\n",
       "2  standard                    none"
      ]
     },
     "execution_count": 95,
     "metadata": {},
     "output_type": "execute_result"
    }
   ],
   "source": [
    "# 두 번째와 세 번째 행의 test preparation course와 lunch를 가져오세요.\n",
    "df.iloc[[1,2],[3,4]]"
   ]
  },
  {
   "cell_type": "code",
   "execution_count": 96,
   "metadata": {},
   "outputs": [
    {
     "data": {
      "text/html": [
       "<div>\n",
       "<style scoped>\n",
       "    .dataframe tbody tr th:only-of-type {\n",
       "        vertical-align: middle;\n",
       "    }\n",
       "\n",
       "    .dataframe tbody tr th {\n",
       "        vertical-align: top;\n",
       "    }\n",
       "\n",
       "    .dataframe thead th {\n",
       "        text-align: right;\n",
       "    }\n",
       "</style>\n",
       "<table border=\"1\" class=\"dataframe\">\n",
       "  <thead>\n",
       "    <tr style=\"text-align: right;\">\n",
       "      <th></th>\n",
       "      <th>writing score</th>\n",
       "    </tr>\n",
       "  </thead>\n",
       "  <tbody>\n",
       "    <tr>\n",
       "      <th>0</th>\n",
       "      <td>74</td>\n",
       "    </tr>\n",
       "    <tr>\n",
       "      <th>1</th>\n",
       "      <td>88</td>\n",
       "    </tr>\n",
       "    <tr>\n",
       "      <th>2</th>\n",
       "      <td>93</td>\n",
       "    </tr>\n",
       "  </tbody>\n",
       "</table>\n",
       "</div>"
      ],
      "text/plain": [
       "   writing score\n",
       "0             74\n",
       "1             88\n",
       "2             93"
      ]
     },
     "execution_count": 96,
     "metadata": {},
     "output_type": "execute_result"
    }
   ],
   "source": [
    "# 모든 행에서 writing score를 가져오세요.\n",
    "df.iloc[:,[7]]"
   ]
  },
  {
   "cell_type": "code",
   "execution_count": 97,
   "metadata": {},
   "outputs": [
    {
     "data": {
      "text/html": [
       "<div>\n",
       "<style scoped>\n",
       "    .dataframe tbody tr th:only-of-type {\n",
       "        vertical-align: middle;\n",
       "    }\n",
       "\n",
       "    .dataframe tbody tr th {\n",
       "        vertical-align: top;\n",
       "    }\n",
       "\n",
       "    .dataframe thead th {\n",
       "        text-align: right;\n",
       "    }\n",
       "</style>\n",
       "<table border=\"1\" class=\"dataframe\">\n",
       "  <thead>\n",
       "    <tr style=\"text-align: right;\">\n",
       "      <th></th>\n",
       "      <th>math score</th>\n",
       "      <th>writing score</th>\n",
       "    </tr>\n",
       "  </thead>\n",
       "  <tbody>\n",
       "    <tr>\n",
       "      <th>0</th>\n",
       "      <td>72</td>\n",
       "      <td>74</td>\n",
       "    </tr>\n",
       "    <tr>\n",
       "      <th>1</th>\n",
       "      <td>69</td>\n",
       "      <td>88</td>\n",
       "    </tr>\n",
       "    <tr>\n",
       "      <th>2</th>\n",
       "      <td>90</td>\n",
       "      <td>93</td>\n",
       "    </tr>\n",
       "  </tbody>\n",
       "</table>\n",
       "</div>"
      ],
      "text/plain": [
       "   math score  writing score\n",
       "0          72             74\n",
       "1          69             88\n",
       "2          90             93"
      ]
     },
     "execution_count": 97,
     "metadata": {},
     "output_type": "execute_result"
    }
   ],
   "source": [
    "df.loc[0:2,['math score','writing score']]"
   ]
  },
  {
   "cell_type": "markdown",
   "metadata": {
    "id": "CoZmdslPHIn_"
   },
   "source": [
    "### 조건 활용 행선택"
   ]
  },
  {
   "cell_type": "code",
   "execution_count": 98,
   "metadata": {},
   "outputs": [
    {
     "data": {
      "text/html": [
       "<div>\n",
       "<style scoped>\n",
       "    .dataframe tbody tr th:only-of-type {\n",
       "        vertical-align: middle;\n",
       "    }\n",
       "\n",
       "    .dataframe tbody tr th {\n",
       "        vertical-align: top;\n",
       "    }\n",
       "\n",
       "    .dataframe thead th {\n",
       "        text-align: right;\n",
       "    }\n",
       "</style>\n",
       "<table border=\"1\" class=\"dataframe\">\n",
       "  <thead>\n",
       "    <tr style=\"text-align: right;\">\n",
       "      <th></th>\n",
       "      <th>gender</th>\n",
       "      <th>race/ethnicity</th>\n",
       "      <th>parental level of education</th>\n",
       "      <th>lunch</th>\n",
       "      <th>test preparation course</th>\n",
       "      <th>math score</th>\n",
       "      <th>reading score</th>\n",
       "      <th>writing score</th>\n",
       "    </tr>\n",
       "  </thead>\n",
       "  <tbody>\n",
       "    <tr>\n",
       "      <th>0</th>\n",
       "      <td>female</td>\n",
       "      <td>group B</td>\n",
       "      <td>bachelor's degree</td>\n",
       "      <td>standard</td>\n",
       "      <td>none</td>\n",
       "      <td>72</td>\n",
       "      <td>72</td>\n",
       "      <td>74</td>\n",
       "    </tr>\n",
       "    <tr>\n",
       "      <th>1</th>\n",
       "      <td>female</td>\n",
       "      <td>group C</td>\n",
       "      <td>some college</td>\n",
       "      <td>standard</td>\n",
       "      <td>completed</td>\n",
       "      <td>69</td>\n",
       "      <td>90</td>\n",
       "      <td>88</td>\n",
       "    </tr>\n",
       "    <tr>\n",
       "      <th>2</th>\n",
       "      <td>female</td>\n",
       "      <td>group B</td>\n",
       "      <td>master's degree</td>\n",
       "      <td>standard</td>\n",
       "      <td>none</td>\n",
       "      <td>90</td>\n",
       "      <td>95</td>\n",
       "      <td>93</td>\n",
       "    </tr>\n",
       "  </tbody>\n",
       "</table>\n",
       "</div>"
      ],
      "text/plain": [
       "   gender race/ethnicity parental level of education     lunch  \\\n",
       "0  female        group B           bachelor's degree  standard   \n",
       "1  female        group C                some college  standard   \n",
       "2  female        group B             master's degree  standard   \n",
       "\n",
       "  test preparation course  math score  reading score  writing score  \n",
       "0                    none          72             72             74  \n",
       "1               completed          69             90             88  \n",
       "2                    none          90             95             93  "
      ]
     },
     "execution_count": 98,
     "metadata": {},
     "output_type": "execute_result"
    }
   ],
   "source": [
    "df"
   ]
  },
  {
   "cell_type": "code",
   "execution_count": 99,
   "metadata": {
    "id": "ZR1762_H8Tlh"
   },
   "outputs": [
    {
     "data": {
      "text/plain": [
       "0     True\n",
       "1    False\n",
       "2     True\n",
       "Name: math score, dtype: bool"
      ]
     },
     "execution_count": 99,
     "metadata": {},
     "output_type": "execute_result"
    }
   ],
   "source": [
    "# 1 단계 : 조건 설정(결과는 True/False)\n",
    "    # bool 타입 Series\n",
    "condition = df['math score'] >= 70\n",
    "\n",
    "condition\n"
   ]
  },
  {
   "cell_type": "code",
   "execution_count": 100,
   "metadata": {
    "id": "GevvFFRw8Wjx"
   },
   "outputs": [
    {
     "data": {
      "text/html": [
       "<div>\n",
       "<style scoped>\n",
       "    .dataframe tbody tr th:only-of-type {\n",
       "        vertical-align: middle;\n",
       "    }\n",
       "\n",
       "    .dataframe tbody tr th {\n",
       "        vertical-align: top;\n",
       "    }\n",
       "\n",
       "    .dataframe thead th {\n",
       "        text-align: right;\n",
       "    }\n",
       "</style>\n",
       "<table border=\"1\" class=\"dataframe\">\n",
       "  <thead>\n",
       "    <tr style=\"text-align: right;\">\n",
       "      <th></th>\n",
       "      <th>gender</th>\n",
       "      <th>math score</th>\n",
       "    </tr>\n",
       "  </thead>\n",
       "  <tbody>\n",
       "    <tr>\n",
       "      <th>0</th>\n",
       "      <td>female</td>\n",
       "      <td>72</td>\n",
       "    </tr>\n",
       "    <tr>\n",
       "      <th>2</th>\n",
       "      <td>female</td>\n",
       "      <td>90</td>\n",
       "    </tr>\n",
       "  </tbody>\n",
       "</table>\n",
       "</div>"
      ],
      "text/plain": [
       "   gender  math score\n",
       "0  female          72\n",
       "2  female          90"
      ]
     },
     "execution_count": 100,
     "metadata": {},
     "output_type": "execute_result"
    }
   ],
   "source": [
    "# 2 단계 : []와 조건을 활용한 관측치 선택\n",
    "\n",
    "selected = df[condition][['gender','math score']]\n",
    "selected"
   ]
  },
  {
   "cell_type": "code",
   "execution_count": 101,
   "metadata": {},
   "outputs": [
    {
     "name": "stdout",
     "output_type": "stream",
     "text": [
      "   age  gender    name\n",
      "0   25  female   Alice\n",
      "1   30    male     Bob\n",
      "2   22  female   Cathy\n",
      "3   19  female   Diana\n",
      "4   35    male  Edward\n"
     ]
    }
   ],
   "source": [
    "import pandas as pd\n",
    "\n",
    "# 데이터프레임 생성\n",
    "data = {\n",
    "    'age': [25, 30, 22, 19, 35],\n",
    "    'gender': ['female', 'male', 'female', 'female', 'male'],\n",
    "    'name': ['Alice', 'Bob', 'Cathy', 'Diana', 'Edward']\n",
    "}\n",
    "\n",
    "df = pd.DataFrame(data)\n",
    "print(df)"
   ]
  },
  {
   "cell_type": "markdown",
   "metadata": {
    "id": "wnwB3r-tHZFH"
   },
   "source": [
    "#### `&`, `|`"
   ]
  },
  {
   "cell_type": "code",
   "execution_count": 102,
   "metadata": {
    "id": "HjU2M0OP8ZMy"
   },
   "outputs": [
    {
     "data": {
      "text/html": [
       "<div>\n",
       "<style scoped>\n",
       "    .dataframe tbody tr th:only-of-type {\n",
       "        vertical-align: middle;\n",
       "    }\n",
       "\n",
       "    .dataframe tbody tr th {\n",
       "        vertical-align: top;\n",
       "    }\n",
       "\n",
       "    .dataframe thead th {\n",
       "        text-align: right;\n",
       "    }\n",
       "</style>\n",
       "<table border=\"1\" class=\"dataframe\">\n",
       "  <thead>\n",
       "    <tr style=\"text-align: right;\">\n",
       "      <th></th>\n",
       "      <th>age</th>\n",
       "      <th>gender</th>\n",
       "      <th>name</th>\n",
       "    </tr>\n",
       "  </thead>\n",
       "  <tbody>\n",
       "    <tr>\n",
       "      <th>0</th>\n",
       "      <td>25</td>\n",
       "      <td>female</td>\n",
       "      <td>Alice</td>\n",
       "    </tr>\n",
       "    <tr>\n",
       "      <th>2</th>\n",
       "      <td>22</td>\n",
       "      <td>female</td>\n",
       "      <td>Cathy</td>\n",
       "    </tr>\n",
       "    <tr>\n",
       "      <th>3</th>\n",
       "      <td>19</td>\n",
       "      <td>female</td>\n",
       "      <td>Diana</td>\n",
       "    </tr>\n",
       "  </tbody>\n",
       "</table>\n",
       "</div>"
      ],
      "text/plain": [
       "   age  gender   name\n",
       "0   25  female  Alice\n",
       "2   22  female  Cathy\n",
       "3   19  female  Diana"
      ]
     },
     "execution_count": 102,
     "metadata": {},
     "output_type": "execute_result"
    }
   ],
   "source": [
    "# & (AND) 를 활용한 조건 결합, 30살 미만, 여성\n",
    "\n",
    "result = df[(df['age'] < 30) & (df['gender'] == 'female')]\n",
    "result"
   ]
  },
  {
   "cell_type": "code",
   "execution_count": 103,
   "metadata": {
    "id": "6H3qUYCV8cDF"
   },
   "outputs": [
    {
     "data": {
      "text/html": [
       "<div>\n",
       "<style scoped>\n",
       "    .dataframe tbody tr th:only-of-type {\n",
       "        vertical-align: middle;\n",
       "    }\n",
       "\n",
       "    .dataframe tbody tr th {\n",
       "        vertical-align: top;\n",
       "    }\n",
       "\n",
       "    .dataframe thead th {\n",
       "        text-align: right;\n",
       "    }\n",
       "</style>\n",
       "<table border=\"1\" class=\"dataframe\">\n",
       "  <thead>\n",
       "    <tr style=\"text-align: right;\">\n",
       "      <th></th>\n",
       "      <th>age</th>\n",
       "      <th>gender</th>\n",
       "      <th>name</th>\n",
       "    </tr>\n",
       "  </thead>\n",
       "  <tbody>\n",
       "    <tr>\n",
       "      <th>0</th>\n",
       "      <td>25</td>\n",
       "      <td>female</td>\n",
       "      <td>Alice</td>\n",
       "    </tr>\n",
       "    <tr>\n",
       "      <th>2</th>\n",
       "      <td>22</td>\n",
       "      <td>female</td>\n",
       "      <td>Cathy</td>\n",
       "    </tr>\n",
       "    <tr>\n",
       "      <th>3</th>\n",
       "      <td>19</td>\n",
       "      <td>female</td>\n",
       "      <td>Diana</td>\n",
       "    </tr>\n",
       "  </tbody>\n",
       "</table>\n",
       "</div>"
      ],
      "text/plain": [
       "   age  gender   name\n",
       "0   25  female  Alice\n",
       "2   22  female  Cathy\n",
       "3   19  female  Diana"
      ]
     },
     "execution_count": 103,
     "metadata": {},
     "output_type": "execute_result"
    }
   ],
   "source": [
    "# | (OR) 를 활용한 조건 결합, 30살 미만, 여성\n",
    "\n",
    "result = df[(df['age']< 30) | (df['gender']=='female')]\n",
    "result"
   ]
  },
  {
   "cell_type": "markdown",
   "metadata": {
    "id": "WIFA8AnRHU4S"
   },
   "source": [
    "#### 조건 부정 `~`"
   ]
  },
  {
   "cell_type": "code",
   "execution_count": 104,
   "metadata": {
    "id": "PtkBAAkt9fO-"
   },
   "outputs": [
    {
     "data": {
      "text/html": [
       "<div>\n",
       "<style scoped>\n",
       "    .dataframe tbody tr th:only-of-type {\n",
       "        vertical-align: middle;\n",
       "    }\n",
       "\n",
       "    .dataframe tbody tr th {\n",
       "        vertical-align: top;\n",
       "    }\n",
       "\n",
       "    .dataframe thead th {\n",
       "        text-align: right;\n",
       "    }\n",
       "</style>\n",
       "<table border=\"1\" class=\"dataframe\">\n",
       "  <thead>\n",
       "    <tr style=\"text-align: right;\">\n",
       "      <th></th>\n",
       "      <th>age</th>\n",
       "      <th>gender</th>\n",
       "      <th>name</th>\n",
       "    </tr>\n",
       "  </thead>\n",
       "  <tbody>\n",
       "    <tr>\n",
       "      <th>1</th>\n",
       "      <td>30</td>\n",
       "      <td>male</td>\n",
       "      <td>Bob</td>\n",
       "    </tr>\n",
       "    <tr>\n",
       "      <th>4</th>\n",
       "      <td>35</td>\n",
       "      <td>male</td>\n",
       "      <td>Edward</td>\n",
       "    </tr>\n",
       "  </tbody>\n",
       "</table>\n",
       "</div>"
      ],
      "text/plain": [
       "   age gender    name\n",
       "1   30   male     Bob\n",
       "4   35   male  Edward"
      ]
     },
     "execution_count": 104,
     "metadata": {},
     "output_type": "execute_result"
    }
   ],
   "source": [
    "# 30살 미만의 반대\n",
    "\n",
    "result = df[~(df['age']<30)]\n",
    "result"
   ]
  },
  {
   "cell_type": "code",
   "execution_count": 105,
   "metadata": {
    "id": "X633luSW8ltm"
   },
   "outputs": [
    {
     "data": {
      "text/html": [
       "<div>\n",
       "<style scoped>\n",
       "    .dataframe tbody tr th:only-of-type {\n",
       "        vertical-align: middle;\n",
       "    }\n",
       "\n",
       "    .dataframe tbody tr th {\n",
       "        vertical-align: top;\n",
       "    }\n",
       "\n",
       "    .dataframe thead th {\n",
       "        text-align: right;\n",
       "    }\n",
       "</style>\n",
       "<table border=\"1\" class=\"dataframe\">\n",
       "  <thead>\n",
       "    <tr style=\"text-align: right;\">\n",
       "      <th></th>\n",
       "      <th>age</th>\n",
       "      <th>gender</th>\n",
       "      <th>name</th>\n",
       "    </tr>\n",
       "  </thead>\n",
       "  <tbody>\n",
       "    <tr>\n",
       "      <th>1</th>\n",
       "      <td>30</td>\n",
       "      <td>male</td>\n",
       "      <td>Bob</td>\n",
       "    </tr>\n",
       "    <tr>\n",
       "      <th>4</th>\n",
       "      <td>35</td>\n",
       "      <td>male</td>\n",
       "      <td>Edward</td>\n",
       "    </tr>\n",
       "  </tbody>\n",
       "</table>\n",
       "</div>"
      ],
      "text/plain": [
       "   age gender    name\n",
       "1   30   male     Bob\n",
       "4   35   male  Edward"
      ]
     },
     "execution_count": 105,
     "metadata": {},
     "output_type": "execute_result"
    }
   ],
   "source": [
    "# 30보다 나이가 작은 여자만 빼고 모두 다, age >= 30 or sex != 'female'\n",
    "df[(df['age']>=30) | (df['gender']!='female')]\n"
   ]
  },
  {
   "cell_type": "markdown",
   "metadata": {
    "id": "YdwuOHK2NasC"
   },
   "source": [
    "### 연습\n",
    "1. df_sp에서 수학 점수가 95점 이상인 남자 학생 선택\n",
    "2. df_sp에서 1항목에 선택된 학생 제외 모든 학생 선택\n"
   ]
  },
  {
   "cell_type": "code",
   "execution_count": 106,
   "metadata": {},
   "outputs": [
    {
     "data": {
      "text/html": [
       "<div>\n",
       "<style scoped>\n",
       "    .dataframe tbody tr th:only-of-type {\n",
       "        vertical-align: middle;\n",
       "    }\n",
       "\n",
       "    .dataframe tbody tr th {\n",
       "        vertical-align: top;\n",
       "    }\n",
       "\n",
       "    .dataframe thead th {\n",
       "        text-align: right;\n",
       "    }\n",
       "</style>\n",
       "<table border=\"1\" class=\"dataframe\">\n",
       "  <thead>\n",
       "    <tr style=\"text-align: right;\">\n",
       "      <th></th>\n",
       "      <th>gender</th>\n",
       "      <th>race/ethnicity</th>\n",
       "      <th>parental level of education</th>\n",
       "      <th>lunch</th>\n",
       "      <th>test preparation course</th>\n",
       "      <th>math score</th>\n",
       "      <th>reading score</th>\n",
       "      <th>writing score</th>\n",
       "    </tr>\n",
       "  </thead>\n",
       "  <tbody>\n",
       "    <tr>\n",
       "      <th>0</th>\n",
       "      <td>female</td>\n",
       "      <td>group B</td>\n",
       "      <td>bachelor's degree</td>\n",
       "      <td>standard</td>\n",
       "      <td>none</td>\n",
       "      <td>72</td>\n",
       "      <td>72</td>\n",
       "      <td>74</td>\n",
       "    </tr>\n",
       "    <tr>\n",
       "      <th>1</th>\n",
       "      <td>female</td>\n",
       "      <td>group C</td>\n",
       "      <td>some college</td>\n",
       "      <td>standard</td>\n",
       "      <td>completed</td>\n",
       "      <td>69</td>\n",
       "      <td>90</td>\n",
       "      <td>88</td>\n",
       "    </tr>\n",
       "    <tr>\n",
       "      <th>2</th>\n",
       "      <td>female</td>\n",
       "      <td>group B</td>\n",
       "      <td>master's degree</td>\n",
       "      <td>standard</td>\n",
       "      <td>none</td>\n",
       "      <td>90</td>\n",
       "      <td>95</td>\n",
       "      <td>93</td>\n",
       "    </tr>\n",
       "    <tr>\n",
       "      <th>3</th>\n",
       "      <td>male</td>\n",
       "      <td>group A</td>\n",
       "      <td>associate's degree</td>\n",
       "      <td>free/reduced</td>\n",
       "      <td>none</td>\n",
       "      <td>47</td>\n",
       "      <td>57</td>\n",
       "      <td>44</td>\n",
       "    </tr>\n",
       "    <tr>\n",
       "      <th>4</th>\n",
       "      <td>male</td>\n",
       "      <td>group C</td>\n",
       "      <td>some college</td>\n",
       "      <td>standard</td>\n",
       "      <td>none</td>\n",
       "      <td>76</td>\n",
       "      <td>78</td>\n",
       "      <td>75</td>\n",
       "    </tr>\n",
       "  </tbody>\n",
       "</table>\n",
       "</div>"
      ],
      "text/plain": [
       "   gender race/ethnicity parental level of education         lunch  \\\n",
       "0  female        group B           bachelor's degree      standard   \n",
       "1  female        group C                some college      standard   \n",
       "2  female        group B             master's degree      standard   \n",
       "3    male        group A          associate's degree  free/reduced   \n",
       "4    male        group C                some college      standard   \n",
       "\n",
       "  test preparation course  math score  reading score  writing score  \n",
       "0                    none          72             72             74  \n",
       "1               completed          69             90             88  \n",
       "2                    none          90             95             93  \n",
       "3                    none          47             57             44  \n",
       "4                    none          76             78             75  "
      ]
     },
     "execution_count": 106,
     "metadata": {},
     "output_type": "execute_result"
    }
   ],
   "source": [
    "df_sp.head()"
   ]
  },
  {
   "cell_type": "code",
   "execution_count": 107,
   "metadata": {
    "id": "NmCd2zp4Nbi-"
   },
   "outputs": [
    {
     "data": {
      "text/html": [
       "<div>\n",
       "<style scoped>\n",
       "    .dataframe tbody tr th:only-of-type {\n",
       "        vertical-align: middle;\n",
       "    }\n",
       "\n",
       "    .dataframe tbody tr th {\n",
       "        vertical-align: top;\n",
       "    }\n",
       "\n",
       "    .dataframe thead th {\n",
       "        text-align: right;\n",
       "    }\n",
       "</style>\n",
       "<table border=\"1\" class=\"dataframe\">\n",
       "  <thead>\n",
       "    <tr style=\"text-align: right;\">\n",
       "      <th></th>\n",
       "      <th>gender</th>\n",
       "      <th>race/ethnicity</th>\n",
       "      <th>parental level of education</th>\n",
       "      <th>lunch</th>\n",
       "      <th>test preparation course</th>\n",
       "      <th>math score</th>\n",
       "      <th>reading score</th>\n",
       "      <th>writing score</th>\n",
       "    </tr>\n",
       "  </thead>\n",
       "  <tbody>\n",
       "    <tr>\n",
       "      <th>34</th>\n",
       "      <td>male</td>\n",
       "      <td>group E</td>\n",
       "      <td>some college</td>\n",
       "      <td>standard</td>\n",
       "      <td>none</td>\n",
       "      <td>97</td>\n",
       "      <td>87</td>\n",
       "      <td>82</td>\n",
       "    </tr>\n",
       "    <tr>\n",
       "      <th>104</th>\n",
       "      <td>male</td>\n",
       "      <td>group C</td>\n",
       "      <td>some college</td>\n",
       "      <td>standard</td>\n",
       "      <td>completed</td>\n",
       "      <td>98</td>\n",
       "      <td>86</td>\n",
       "      <td>90</td>\n",
       "    </tr>\n",
       "    <tr>\n",
       "      <th>121</th>\n",
       "      <td>male</td>\n",
       "      <td>group B</td>\n",
       "      <td>associate's degree</td>\n",
       "      <td>standard</td>\n",
       "      <td>completed</td>\n",
       "      <td>91</td>\n",
       "      <td>89</td>\n",
       "      <td>92</td>\n",
       "    </tr>\n",
       "    <tr>\n",
       "      <th>149</th>\n",
       "      <td>male</td>\n",
       "      <td>group E</td>\n",
       "      <td>associate's degree</td>\n",
       "      <td>free/reduced</td>\n",
       "      <td>completed</td>\n",
       "      <td>100</td>\n",
       "      <td>100</td>\n",
       "      <td>93</td>\n",
       "    </tr>\n",
       "    <tr>\n",
       "      <th>171</th>\n",
       "      <td>male</td>\n",
       "      <td>group E</td>\n",
       "      <td>some high school</td>\n",
       "      <td>standard</td>\n",
       "      <td>none</td>\n",
       "      <td>94</td>\n",
       "      <td>88</td>\n",
       "      <td>78</td>\n",
       "    </tr>\n",
       "  </tbody>\n",
       "</table>\n",
       "</div>"
      ],
      "text/plain": [
       "    gender race/ethnicity parental level of education         lunch  \\\n",
       "34    male        group E                some college      standard   \n",
       "104   male        group C                some college      standard   \n",
       "121   male        group B          associate's degree      standard   \n",
       "149   male        group E          associate's degree  free/reduced   \n",
       "171   male        group E            some high school      standard   \n",
       "\n",
       "    test preparation course  math score  reading score  writing score  \n",
       "34                     none          97             87             82  \n",
       "104               completed          98             86             90  \n",
       "121               completed          91             89             92  \n",
       "149               completed         100            100             93  \n",
       "171                    none          94             88             78  "
      ]
     },
     "execution_count": 107,
     "metadata": {},
     "output_type": "execute_result"
    }
   ],
   "source": [
    "# 1. df_sp에서 수학 점수가 95점 이상인 남자 학생 선택\n",
    "\n",
    "df_sp[(df_sp['math score'] >= 90) & (df_sp['gender'] == 'male')].head()"
   ]
  },
  {
   "cell_type": "code",
   "execution_count": 108,
   "metadata": {
    "id": "U4GChI23OJh3"
   },
   "outputs": [
    {
     "data": {
      "text/html": [
       "<div>\n",
       "<style scoped>\n",
       "    .dataframe tbody tr th:only-of-type {\n",
       "        vertical-align: middle;\n",
       "    }\n",
       "\n",
       "    .dataframe tbody tr th {\n",
       "        vertical-align: top;\n",
       "    }\n",
       "\n",
       "    .dataframe thead th {\n",
       "        text-align: right;\n",
       "    }\n",
       "</style>\n",
       "<table border=\"1\" class=\"dataframe\">\n",
       "  <thead>\n",
       "    <tr style=\"text-align: right;\">\n",
       "      <th></th>\n",
       "      <th>gender</th>\n",
       "      <th>race/ethnicity</th>\n",
       "      <th>parental level of education</th>\n",
       "      <th>lunch</th>\n",
       "      <th>test preparation course</th>\n",
       "      <th>math score</th>\n",
       "      <th>reading score</th>\n",
       "      <th>writing score</th>\n",
       "    </tr>\n",
       "  </thead>\n",
       "  <tbody>\n",
       "    <tr>\n",
       "      <th>0</th>\n",
       "      <td>female</td>\n",
       "      <td>group B</td>\n",
       "      <td>bachelor's degree</td>\n",
       "      <td>standard</td>\n",
       "      <td>none</td>\n",
       "      <td>72</td>\n",
       "      <td>72</td>\n",
       "      <td>74</td>\n",
       "    </tr>\n",
       "    <tr>\n",
       "      <th>1</th>\n",
       "      <td>female</td>\n",
       "      <td>group C</td>\n",
       "      <td>some college</td>\n",
       "      <td>standard</td>\n",
       "      <td>completed</td>\n",
       "      <td>69</td>\n",
       "      <td>90</td>\n",
       "      <td>88</td>\n",
       "    </tr>\n",
       "    <tr>\n",
       "      <th>2</th>\n",
       "      <td>female</td>\n",
       "      <td>group B</td>\n",
       "      <td>master's degree</td>\n",
       "      <td>standard</td>\n",
       "      <td>none</td>\n",
       "      <td>90</td>\n",
       "      <td>95</td>\n",
       "      <td>93</td>\n",
       "    </tr>\n",
       "    <tr>\n",
       "      <th>3</th>\n",
       "      <td>male</td>\n",
       "      <td>group A</td>\n",
       "      <td>associate's degree</td>\n",
       "      <td>free/reduced</td>\n",
       "      <td>none</td>\n",
       "      <td>47</td>\n",
       "      <td>57</td>\n",
       "      <td>44</td>\n",
       "    </tr>\n",
       "    <tr>\n",
       "      <th>4</th>\n",
       "      <td>male</td>\n",
       "      <td>group C</td>\n",
       "      <td>some college</td>\n",
       "      <td>standard</td>\n",
       "      <td>none</td>\n",
       "      <td>76</td>\n",
       "      <td>78</td>\n",
       "      <td>75</td>\n",
       "    </tr>\n",
       "  </tbody>\n",
       "</table>\n",
       "</div>"
      ],
      "text/plain": [
       "   gender race/ethnicity parental level of education         lunch  \\\n",
       "0  female        group B           bachelor's degree      standard   \n",
       "1  female        group C                some college      standard   \n",
       "2  female        group B             master's degree      standard   \n",
       "3    male        group A          associate's degree  free/reduced   \n",
       "4    male        group C                some college      standard   \n",
       "\n",
       "  test preparation course  math score  reading score  writing score  \n",
       "0                    none          72             72             74  \n",
       "1               completed          69             90             88  \n",
       "2                    none          90             95             93  \n",
       "3                    none          47             57             44  \n",
       "4                    none          76             78             75  "
      ]
     },
     "execution_count": 108,
     "metadata": {},
     "output_type": "execute_result"
    }
   ],
   "source": [
    "# 2. df_sp에서 1항목에 선택된 학생 제외 모든 학생 선택\n",
    "df_sp[~((df_sp['math score'] >= 90) & (df_sp['gender'] == 'male'))].head()"
   ]
  },
  {
   "cell_type": "markdown",
   "metadata": {
    "id": "F5Mi2-sjHggS"
   },
   "source": [
    "### 함수 활용 행 선택"
   ]
  },
  {
   "cell_type": "markdown",
   "metadata": {
    "id": "xCimw_GqImnT"
   },
   "source": [
    "#### `head()`, `tail()`"
   ]
  },
  {
   "cell_type": "code",
   "execution_count": 109,
   "metadata": {
    "id": "_EnIz3oMIpwc"
   },
   "outputs": [
    {
     "data": {
      "text/html": [
       "<div>\n",
       "<style scoped>\n",
       "    .dataframe tbody tr th:only-of-type {\n",
       "        vertical-align: middle;\n",
       "    }\n",
       "\n",
       "    .dataframe tbody tr th {\n",
       "        vertical-align: top;\n",
       "    }\n",
       "\n",
       "    .dataframe thead th {\n",
       "        text-align: right;\n",
       "    }\n",
       "</style>\n",
       "<table border=\"1\" class=\"dataframe\">\n",
       "  <thead>\n",
       "    <tr style=\"text-align: right;\">\n",
       "      <th></th>\n",
       "      <th>gender</th>\n",
       "      <th>race/ethnicity</th>\n",
       "      <th>parental level of education</th>\n",
       "      <th>lunch</th>\n",
       "      <th>test preparation course</th>\n",
       "      <th>math score</th>\n",
       "      <th>reading score</th>\n",
       "      <th>writing score</th>\n",
       "    </tr>\n",
       "  </thead>\n",
       "  <tbody>\n",
       "    <tr>\n",
       "      <th>0</th>\n",
       "      <td>female</td>\n",
       "      <td>group B</td>\n",
       "      <td>bachelor's degree</td>\n",
       "      <td>standard</td>\n",
       "      <td>none</td>\n",
       "      <td>72</td>\n",
       "      <td>72</td>\n",
       "      <td>74</td>\n",
       "    </tr>\n",
       "    <tr>\n",
       "      <th>1</th>\n",
       "      <td>female</td>\n",
       "      <td>group C</td>\n",
       "      <td>some college</td>\n",
       "      <td>standard</td>\n",
       "      <td>completed</td>\n",
       "      <td>69</td>\n",
       "      <td>90</td>\n",
       "      <td>88</td>\n",
       "    </tr>\n",
       "    <tr>\n",
       "      <th>2</th>\n",
       "      <td>female</td>\n",
       "      <td>group B</td>\n",
       "      <td>master's degree</td>\n",
       "      <td>standard</td>\n",
       "      <td>none</td>\n",
       "      <td>90</td>\n",
       "      <td>95</td>\n",
       "      <td>93</td>\n",
       "    </tr>\n",
       "    <tr>\n",
       "      <th>3</th>\n",
       "      <td>male</td>\n",
       "      <td>group A</td>\n",
       "      <td>associate's degree</td>\n",
       "      <td>free/reduced</td>\n",
       "      <td>none</td>\n",
       "      <td>47</td>\n",
       "      <td>57</td>\n",
       "      <td>44</td>\n",
       "    </tr>\n",
       "    <tr>\n",
       "      <th>4</th>\n",
       "      <td>male</td>\n",
       "      <td>group C</td>\n",
       "      <td>some college</td>\n",
       "      <td>standard</td>\n",
       "      <td>none</td>\n",
       "      <td>76</td>\n",
       "      <td>78</td>\n",
       "      <td>75</td>\n",
       "    </tr>\n",
       "  </tbody>\n",
       "</table>\n",
       "</div>"
      ],
      "text/plain": [
       "   gender race/ethnicity parental level of education         lunch  \\\n",
       "0  female        group B           bachelor's degree      standard   \n",
       "1  female        group C                some college      standard   \n",
       "2  female        group B             master's degree      standard   \n",
       "3    male        group A          associate's degree  free/reduced   \n",
       "4    male        group C                some college      standard   \n",
       "\n",
       "  test preparation course  math score  reading score  writing score  \n",
       "0                    none          72             72             74  \n",
       "1               completed          69             90             88  \n",
       "2                    none          90             95             93  \n",
       "3                    none          47             57             44  \n",
       "4                    none          76             78             75  "
      ]
     },
     "execution_count": 109,
     "metadata": {},
     "output_type": "execute_result"
    }
   ],
   "source": [
    "df_sp.head()"
   ]
  },
  {
   "cell_type": "code",
   "execution_count": 110,
   "metadata": {},
   "outputs": [
    {
     "data": {
      "text/html": [
       "<div>\n",
       "<style scoped>\n",
       "    .dataframe tbody tr th:only-of-type {\n",
       "        vertical-align: middle;\n",
       "    }\n",
       "\n",
       "    .dataframe tbody tr th {\n",
       "        vertical-align: top;\n",
       "    }\n",
       "\n",
       "    .dataframe thead th {\n",
       "        text-align: right;\n",
       "    }\n",
       "</style>\n",
       "<table border=\"1\" class=\"dataframe\">\n",
       "  <thead>\n",
       "    <tr style=\"text-align: right;\">\n",
       "      <th></th>\n",
       "      <th>gender</th>\n",
       "      <th>race/ethnicity</th>\n",
       "      <th>parental level of education</th>\n",
       "      <th>lunch</th>\n",
       "      <th>test preparation course</th>\n",
       "      <th>math score</th>\n",
       "      <th>reading score</th>\n",
       "      <th>writing score</th>\n",
       "    </tr>\n",
       "  </thead>\n",
       "  <tbody>\n",
       "    <tr>\n",
       "      <th>995</th>\n",
       "      <td>female</td>\n",
       "      <td>group E</td>\n",
       "      <td>master's degree</td>\n",
       "      <td>standard</td>\n",
       "      <td>completed</td>\n",
       "      <td>88</td>\n",
       "      <td>99</td>\n",
       "      <td>95</td>\n",
       "    </tr>\n",
       "    <tr>\n",
       "      <th>996</th>\n",
       "      <td>male</td>\n",
       "      <td>group C</td>\n",
       "      <td>high school</td>\n",
       "      <td>free/reduced</td>\n",
       "      <td>none</td>\n",
       "      <td>62</td>\n",
       "      <td>55</td>\n",
       "      <td>55</td>\n",
       "    </tr>\n",
       "    <tr>\n",
       "      <th>997</th>\n",
       "      <td>female</td>\n",
       "      <td>group C</td>\n",
       "      <td>high school</td>\n",
       "      <td>free/reduced</td>\n",
       "      <td>completed</td>\n",
       "      <td>59</td>\n",
       "      <td>71</td>\n",
       "      <td>65</td>\n",
       "    </tr>\n",
       "    <tr>\n",
       "      <th>998</th>\n",
       "      <td>female</td>\n",
       "      <td>group D</td>\n",
       "      <td>some college</td>\n",
       "      <td>standard</td>\n",
       "      <td>completed</td>\n",
       "      <td>68</td>\n",
       "      <td>78</td>\n",
       "      <td>77</td>\n",
       "    </tr>\n",
       "    <tr>\n",
       "      <th>999</th>\n",
       "      <td>female</td>\n",
       "      <td>group D</td>\n",
       "      <td>some college</td>\n",
       "      <td>free/reduced</td>\n",
       "      <td>none</td>\n",
       "      <td>77</td>\n",
       "      <td>86</td>\n",
       "      <td>86</td>\n",
       "    </tr>\n",
       "  </tbody>\n",
       "</table>\n",
       "</div>"
      ],
      "text/plain": [
       "     gender race/ethnicity parental level of education         lunch  \\\n",
       "995  female        group E             master's degree      standard   \n",
       "996    male        group C                 high school  free/reduced   \n",
       "997  female        group C                 high school  free/reduced   \n",
       "998  female        group D                some college      standard   \n",
       "999  female        group D                some college  free/reduced   \n",
       "\n",
       "    test preparation course  math score  reading score  writing score  \n",
       "995               completed          88             99             95  \n",
       "996                    none          62             55             55  \n",
       "997               completed          59             71             65  \n",
       "998               completed          68             78             77  \n",
       "999                    none          77             86             86  "
      ]
     },
     "execution_count": 110,
     "metadata": {},
     "output_type": "execute_result"
    }
   ],
   "source": [
    "df_sp.tail()"
   ]
  },
  {
   "cell_type": "markdown",
   "metadata": {
    "id": "DMcoBa3T9mFI"
   },
   "source": [
    "#### `isin()`\n",
    "\n",
    "- 변수 값에 대한 특정 리스트 포함 여부를 사요하여 조건을 지정"
   ]
  },
  {
   "cell_type": "code",
   "execution_count": 111,
   "metadata": {
    "id": "ElWLgztD9pg6"
   },
   "outputs": [
    {
     "data": {
      "text/html": [
       "<div>\n",
       "<style scoped>\n",
       "    .dataframe tbody tr th:only-of-type {\n",
       "        vertical-align: middle;\n",
       "    }\n",
       "\n",
       "    .dataframe tbody tr th {\n",
       "        vertical-align: top;\n",
       "    }\n",
       "\n",
       "    .dataframe thead th {\n",
       "        text-align: right;\n",
       "    }\n",
       "</style>\n",
       "<table border=\"1\" class=\"dataframe\">\n",
       "  <thead>\n",
       "    <tr style=\"text-align: right;\">\n",
       "      <th></th>\n",
       "      <th>gender</th>\n",
       "      <th>race/ethnicity</th>\n",
       "      <th>parental level of education</th>\n",
       "      <th>lunch</th>\n",
       "      <th>test preparation course</th>\n",
       "      <th>math score</th>\n",
       "      <th>reading score</th>\n",
       "      <th>writing score</th>\n",
       "    </tr>\n",
       "  </thead>\n",
       "  <tbody>\n",
       "    <tr>\n",
       "      <th>8</th>\n",
       "      <td>male</td>\n",
       "      <td>group D</td>\n",
       "      <td>high school</td>\n",
       "      <td>free/reduced</td>\n",
       "      <td>completed</td>\n",
       "      <td>64</td>\n",
       "      <td>64</td>\n",
       "      <td>67</td>\n",
       "    </tr>\n",
       "    <tr>\n",
       "      <th>11</th>\n",
       "      <td>male</td>\n",
       "      <td>group D</td>\n",
       "      <td>associate's degree</td>\n",
       "      <td>standard</td>\n",
       "      <td>none</td>\n",
       "      <td>40</td>\n",
       "      <td>52</td>\n",
       "      <td>43</td>\n",
       "    </tr>\n",
       "    <tr>\n",
       "      <th>20</th>\n",
       "      <td>male</td>\n",
       "      <td>group D</td>\n",
       "      <td>high school</td>\n",
       "      <td>standard</td>\n",
       "      <td>none</td>\n",
       "      <td>66</td>\n",
       "      <td>69</td>\n",
       "      <td>63</td>\n",
       "    </tr>\n",
       "    <tr>\n",
       "      <th>22</th>\n",
       "      <td>male</td>\n",
       "      <td>group D</td>\n",
       "      <td>some college</td>\n",
       "      <td>standard</td>\n",
       "      <td>none</td>\n",
       "      <td>44</td>\n",
       "      <td>54</td>\n",
       "      <td>53</td>\n",
       "    </tr>\n",
       "    <tr>\n",
       "      <th>24</th>\n",
       "      <td>male</td>\n",
       "      <td>group D</td>\n",
       "      <td>bachelor's degree</td>\n",
       "      <td>free/reduced</td>\n",
       "      <td>completed</td>\n",
       "      <td>74</td>\n",
       "      <td>71</td>\n",
       "      <td>80</td>\n",
       "    </tr>\n",
       "  </tbody>\n",
       "</table>\n",
       "</div>"
      ],
      "text/plain": [
       "   gender race/ethnicity parental level of education         lunch  \\\n",
       "8    male        group D                 high school  free/reduced   \n",
       "11   male        group D          associate's degree      standard   \n",
       "20   male        group D                 high school      standard   \n",
       "22   male        group D                some college      standard   \n",
       "24   male        group D           bachelor's degree  free/reduced   \n",
       "\n",
       "   test preparation course  math score  reading score  writing score  \n",
       "8                completed          64             64             67  \n",
       "11                    none          40             52             43  \n",
       "20                    none          66             69             63  \n",
       "22                    none          44             54             53  \n",
       "24               completed          74             71             80  "
      ]
     },
     "execution_count": 111,
     "metadata": {},
     "output_type": "execute_result"
    }
   ],
   "source": [
    "# 조건에 따른 조회\n",
    "df_sp[df_sp['race/ethnicity'].isin(['group E','group D'])].head()\n"
   ]
  },
  {
   "cell_type": "markdown",
   "metadata": {
    "id": "p6i-6Viz-HrF"
   },
   "source": [
    "#### str  method\n",
    "\n",
    "- 문자형 변수에서 문자에 대한 여러 함수를 적용하여 조건을 지정"
   ]
  },
  {
   "cell_type": "code",
   "execution_count": 112,
   "metadata": {
    "id": "0ylF2Mzt-wF3"
   },
   "outputs": [
    {
     "data": {
      "text/html": [
       "<div>\n",
       "<style scoped>\n",
       "    .dataframe tbody tr th:only-of-type {\n",
       "        vertical-align: middle;\n",
       "    }\n",
       "\n",
       "    .dataframe tbody tr th {\n",
       "        vertical-align: top;\n",
       "    }\n",
       "\n",
       "    .dataframe thead th {\n",
       "        text-align: right;\n",
       "    }\n",
       "</style>\n",
       "<table border=\"1\" class=\"dataframe\">\n",
       "  <thead>\n",
       "    <tr style=\"text-align: right;\">\n",
       "      <th></th>\n",
       "      <th>gender</th>\n",
       "      <th>race/ethnicity</th>\n",
       "      <th>parental level of education</th>\n",
       "      <th>lunch</th>\n",
       "      <th>test preparation course</th>\n",
       "      <th>math score</th>\n",
       "      <th>reading score</th>\n",
       "      <th>writing score</th>\n",
       "    </tr>\n",
       "  </thead>\n",
       "  <tbody>\n",
       "    <tr>\n",
       "      <th>0</th>\n",
       "      <td>female</td>\n",
       "      <td>group B</td>\n",
       "      <td>bachelor's degree</td>\n",
       "      <td>standard</td>\n",
       "      <td>none</td>\n",
       "      <td>72</td>\n",
       "      <td>72</td>\n",
       "      <td>74</td>\n",
       "    </tr>\n",
       "    <tr>\n",
       "      <th>1</th>\n",
       "      <td>female</td>\n",
       "      <td>group C</td>\n",
       "      <td>some college</td>\n",
       "      <td>standard</td>\n",
       "      <td>completed</td>\n",
       "      <td>69</td>\n",
       "      <td>90</td>\n",
       "      <td>88</td>\n",
       "    </tr>\n",
       "    <tr>\n",
       "      <th>2</th>\n",
       "      <td>female</td>\n",
       "      <td>group B</td>\n",
       "      <td>master's degree</td>\n",
       "      <td>standard</td>\n",
       "      <td>none</td>\n",
       "      <td>90</td>\n",
       "      <td>95</td>\n",
       "      <td>93</td>\n",
       "    </tr>\n",
       "    <tr>\n",
       "      <th>3</th>\n",
       "      <td>male</td>\n",
       "      <td>group A</td>\n",
       "      <td>associate's degree</td>\n",
       "      <td>free/reduced</td>\n",
       "      <td>none</td>\n",
       "      <td>47</td>\n",
       "      <td>57</td>\n",
       "      <td>44</td>\n",
       "    </tr>\n",
       "    <tr>\n",
       "      <th>4</th>\n",
       "      <td>male</td>\n",
       "      <td>group C</td>\n",
       "      <td>some college</td>\n",
       "      <td>standard</td>\n",
       "      <td>none</td>\n",
       "      <td>76</td>\n",
       "      <td>78</td>\n",
       "      <td>75</td>\n",
       "    </tr>\n",
       "  </tbody>\n",
       "</table>\n",
       "</div>"
      ],
      "text/plain": [
       "   gender race/ethnicity parental level of education         lunch  \\\n",
       "0  female        group B           bachelor's degree      standard   \n",
       "1  female        group C                some college      standard   \n",
       "2  female        group B             master's degree      standard   \n",
       "3    male        group A          associate's degree  free/reduced   \n",
       "4    male        group C                some college      standard   \n",
       "\n",
       "  test preparation course  math score  reading score  writing score  \n",
       "0                    none          72             72             74  \n",
       "1               completed          69             90             88  \n",
       "2                    none          90             95             93  \n",
       "3                    none          47             57             44  \n",
       "4                    none          76             78             75  "
      ]
     },
     "execution_count": 112,
     "metadata": {},
     "output_type": "execute_result"
    }
   ],
   "source": [
    "df_sp.head()"
   ]
  },
  {
   "cell_type": "code",
   "execution_count": 113,
   "metadata": {
    "id": "HsdbBreU-Mlp"
   },
   "outputs": [],
   "source": [
    "# 시리즈에 있는 StringMethods 속성\n",
    "\n"
   ]
  },
  {
   "cell_type": "code",
   "execution_count": 114,
   "metadata": {
    "id": "RlYcu1X0-Meo"
   },
   "outputs": [
    {
     "data": {
      "text/html": [
       "<div>\n",
       "<style scoped>\n",
       "    .dataframe tbody tr th:only-of-type {\n",
       "        vertical-align: middle;\n",
       "    }\n",
       "\n",
       "    .dataframe tbody tr th {\n",
       "        vertical-align: top;\n",
       "    }\n",
       "\n",
       "    .dataframe thead th {\n",
       "        text-align: right;\n",
       "    }\n",
       "</style>\n",
       "<table border=\"1\" class=\"dataframe\">\n",
       "  <thead>\n",
       "    <tr style=\"text-align: right;\">\n",
       "      <th></th>\n",
       "      <th>gender</th>\n",
       "      <th>race/ethnicity</th>\n",
       "      <th>parental level of education</th>\n",
       "      <th>lunch</th>\n",
       "      <th>test preparation course</th>\n",
       "      <th>math score</th>\n",
       "      <th>reading score</th>\n",
       "      <th>writing score</th>\n",
       "    </tr>\n",
       "  </thead>\n",
       "  <tbody>\n",
       "    <tr>\n",
       "      <th>2</th>\n",
       "      <td>female</td>\n",
       "      <td>group B</td>\n",
       "      <td>master's degree</td>\n",
       "      <td>standard</td>\n",
       "      <td>none</td>\n",
       "      <td>90</td>\n",
       "      <td>95</td>\n",
       "      <td>93</td>\n",
       "    </tr>\n",
       "    <tr>\n",
       "      <th>14</th>\n",
       "      <td>female</td>\n",
       "      <td>group A</td>\n",
       "      <td>master's degree</td>\n",
       "      <td>standard</td>\n",
       "      <td>none</td>\n",
       "      <td>50</td>\n",
       "      <td>53</td>\n",
       "      <td>58</td>\n",
       "    </tr>\n",
       "    <tr>\n",
       "      <th>18</th>\n",
       "      <td>male</td>\n",
       "      <td>group C</td>\n",
       "      <td>master's degree</td>\n",
       "      <td>free/reduced</td>\n",
       "      <td>completed</td>\n",
       "      <td>46</td>\n",
       "      <td>42</td>\n",
       "      <td>46</td>\n",
       "    </tr>\n",
       "    <tr>\n",
       "      <th>25</th>\n",
       "      <td>male</td>\n",
       "      <td>group A</td>\n",
       "      <td>master's degree</td>\n",
       "      <td>free/reduced</td>\n",
       "      <td>none</td>\n",
       "      <td>73</td>\n",
       "      <td>74</td>\n",
       "      <td>72</td>\n",
       "    </tr>\n",
       "    <tr>\n",
       "      <th>29</th>\n",
       "      <td>female</td>\n",
       "      <td>group D</td>\n",
       "      <td>master's degree</td>\n",
       "      <td>standard</td>\n",
       "      <td>none</td>\n",
       "      <td>62</td>\n",
       "      <td>70</td>\n",
       "      <td>75</td>\n",
       "    </tr>\n",
       "  </tbody>\n",
       "</table>\n",
       "</div>"
      ],
      "text/plain": [
       "    gender race/ethnicity parental level of education         lunch  \\\n",
       "2   female        group B             master's degree      standard   \n",
       "14  female        group A             master's degree      standard   \n",
       "18    male        group C             master's degree  free/reduced   \n",
       "25    male        group A             master's degree  free/reduced   \n",
       "29  female        group D             master's degree      standard   \n",
       "\n",
       "   test preparation course  math score  reading score  writing score  \n",
       "2                     none          90             95             93  \n",
       "14                    none          50             53             58  \n",
       "18               completed          46             42             46  \n",
       "25                    none          73             74             72  \n",
       "29                    none          62             70             75  "
      ]
     },
     "execution_count": 114,
     "metadata": {},
     "output_type": "execute_result"
    }
   ],
   "source": [
    "# 열의 값이 무엇으로 시작하는 조건\n",
    "\n",
    "df_sp[df_sp['parental level of education'].str.startswith('master')].head()"
   ]
  },
  {
   "cell_type": "code",
   "execution_count": 115,
   "metadata": {
    "id": "FJrOxRSb-Wvi"
   },
   "outputs": [
    {
     "data": {
      "text/html": [
       "<div>\n",
       "<style scoped>\n",
       "    .dataframe tbody tr th:only-of-type {\n",
       "        vertical-align: middle;\n",
       "    }\n",
       "\n",
       "    .dataframe tbody tr th {\n",
       "        vertical-align: top;\n",
       "    }\n",
       "\n",
       "    .dataframe thead th {\n",
       "        text-align: right;\n",
       "    }\n",
       "</style>\n",
       "<table border=\"1\" class=\"dataframe\">\n",
       "  <thead>\n",
       "    <tr style=\"text-align: right;\">\n",
       "      <th></th>\n",
       "      <th>gender</th>\n",
       "      <th>race/ethnicity</th>\n",
       "      <th>parental level of education</th>\n",
       "      <th>lunch</th>\n",
       "      <th>test preparation course</th>\n",
       "      <th>math score</th>\n",
       "      <th>reading score</th>\n",
       "      <th>writing score</th>\n",
       "    </tr>\n",
       "  </thead>\n",
       "  <tbody>\n",
       "    <tr>\n",
       "      <th>0</th>\n",
       "      <td>female</td>\n",
       "      <td>group B</td>\n",
       "      <td>bachelor's degree</td>\n",
       "      <td>standard</td>\n",
       "      <td>none</td>\n",
       "      <td>72</td>\n",
       "      <td>72</td>\n",
       "      <td>74</td>\n",
       "    </tr>\n",
       "    <tr>\n",
       "      <th>2</th>\n",
       "      <td>female</td>\n",
       "      <td>group B</td>\n",
       "      <td>master's degree</td>\n",
       "      <td>standard</td>\n",
       "      <td>none</td>\n",
       "      <td>90</td>\n",
       "      <td>95</td>\n",
       "      <td>93</td>\n",
       "    </tr>\n",
       "    <tr>\n",
       "      <th>3</th>\n",
       "      <td>male</td>\n",
       "      <td>group A</td>\n",
       "      <td>associate's degree</td>\n",
       "      <td>free/reduced</td>\n",
       "      <td>none</td>\n",
       "      <td>47</td>\n",
       "      <td>57</td>\n",
       "      <td>44</td>\n",
       "    </tr>\n",
       "    <tr>\n",
       "      <th>5</th>\n",
       "      <td>female</td>\n",
       "      <td>group B</td>\n",
       "      <td>associate's degree</td>\n",
       "      <td>standard</td>\n",
       "      <td>none</td>\n",
       "      <td>71</td>\n",
       "      <td>83</td>\n",
       "      <td>78</td>\n",
       "    </tr>\n",
       "    <tr>\n",
       "      <th>10</th>\n",
       "      <td>male</td>\n",
       "      <td>group C</td>\n",
       "      <td>associate's degree</td>\n",
       "      <td>standard</td>\n",
       "      <td>none</td>\n",
       "      <td>58</td>\n",
       "      <td>54</td>\n",
       "      <td>52</td>\n",
       "    </tr>\n",
       "  </tbody>\n",
       "</table>\n",
       "</div>"
      ],
      "text/plain": [
       "    gender race/ethnicity parental level of education         lunch  \\\n",
       "0   female        group B           bachelor's degree      standard   \n",
       "2   female        group B             master's degree      standard   \n",
       "3     male        group A          associate's degree  free/reduced   \n",
       "5   female        group B          associate's degree      standard   \n",
       "10    male        group C          associate's degree      standard   \n",
       "\n",
       "   test preparation course  math score  reading score  writing score  \n",
       "0                     none          72             72             74  \n",
       "2                     none          90             95             93  \n",
       "3                     none          47             57             44  \n",
       "5                     none          71             83             78  \n",
       "10                    none          58             54             52  "
      ]
     },
     "execution_count": 115,
     "metadata": {},
     "output_type": "execute_result"
    }
   ],
   "source": [
    "# 열의 값이 무엇으로 끝나는 조건\n",
    "df_sp[df_sp['parental level of education'].str.endswith('degree')].head()\n"
   ]
  },
  {
   "cell_type": "code",
   "execution_count": 116,
   "metadata": {
    "id": "awSFih00-aae"
   },
   "outputs": [
    {
     "data": {
      "text/html": [
       "<div>\n",
       "<style scoped>\n",
       "    .dataframe tbody tr th:only-of-type {\n",
       "        vertical-align: middle;\n",
       "    }\n",
       "\n",
       "    .dataframe tbody tr th {\n",
       "        vertical-align: top;\n",
       "    }\n",
       "\n",
       "    .dataframe thead th {\n",
       "        text-align: right;\n",
       "    }\n",
       "</style>\n",
       "<table border=\"1\" class=\"dataframe\">\n",
       "  <thead>\n",
       "    <tr style=\"text-align: right;\">\n",
       "      <th></th>\n",
       "      <th>gender</th>\n",
       "      <th>race/ethnicity</th>\n",
       "      <th>parental level of education</th>\n",
       "      <th>lunch</th>\n",
       "      <th>test preparation course</th>\n",
       "      <th>math score</th>\n",
       "      <th>reading score</th>\n",
       "      <th>writing score</th>\n",
       "    </tr>\n",
       "  </thead>\n",
       "  <tbody>\n",
       "    <tr>\n",
       "      <th>0</th>\n",
       "      <td>female</td>\n",
       "      <td>group B</td>\n",
       "      <td>bachelor's degree</td>\n",
       "      <td>standard</td>\n",
       "      <td>none</td>\n",
       "      <td>72</td>\n",
       "      <td>72</td>\n",
       "      <td>74</td>\n",
       "    </tr>\n",
       "    <tr>\n",
       "      <th>2</th>\n",
       "      <td>female</td>\n",
       "      <td>group B</td>\n",
       "      <td>master's degree</td>\n",
       "      <td>standard</td>\n",
       "      <td>none</td>\n",
       "      <td>90</td>\n",
       "      <td>95</td>\n",
       "      <td>93</td>\n",
       "    </tr>\n",
       "    <tr>\n",
       "      <th>3</th>\n",
       "      <td>male</td>\n",
       "      <td>group A</td>\n",
       "      <td>associate's degree</td>\n",
       "      <td>free/reduced</td>\n",
       "      <td>none</td>\n",
       "      <td>47</td>\n",
       "      <td>57</td>\n",
       "      <td>44</td>\n",
       "    </tr>\n",
       "    <tr>\n",
       "      <th>5</th>\n",
       "      <td>female</td>\n",
       "      <td>group B</td>\n",
       "      <td>associate's degree</td>\n",
       "      <td>standard</td>\n",
       "      <td>none</td>\n",
       "      <td>71</td>\n",
       "      <td>83</td>\n",
       "      <td>78</td>\n",
       "    </tr>\n",
       "    <tr>\n",
       "      <th>10</th>\n",
       "      <td>male</td>\n",
       "      <td>group C</td>\n",
       "      <td>associate's degree</td>\n",
       "      <td>standard</td>\n",
       "      <td>none</td>\n",
       "      <td>58</td>\n",
       "      <td>54</td>\n",
       "      <td>52</td>\n",
       "    </tr>\n",
       "    <tr>\n",
       "      <th>...</th>\n",
       "      <td>...</td>\n",
       "      <td>...</td>\n",
       "      <td>...</td>\n",
       "      <td>...</td>\n",
       "      <td>...</td>\n",
       "      <td>...</td>\n",
       "      <td>...</td>\n",
       "      <td>...</td>\n",
       "    </tr>\n",
       "    <tr>\n",
       "      <th>979</th>\n",
       "      <td>female</td>\n",
       "      <td>group C</td>\n",
       "      <td>associate's degree</td>\n",
       "      <td>standard</td>\n",
       "      <td>none</td>\n",
       "      <td>91</td>\n",
       "      <td>95</td>\n",
       "      <td>94</td>\n",
       "    </tr>\n",
       "    <tr>\n",
       "      <th>986</th>\n",
       "      <td>female</td>\n",
       "      <td>group C</td>\n",
       "      <td>associate's degree</td>\n",
       "      <td>standard</td>\n",
       "      <td>none</td>\n",
       "      <td>40</td>\n",
       "      <td>59</td>\n",
       "      <td>51</td>\n",
       "    </tr>\n",
       "    <tr>\n",
       "      <th>992</th>\n",
       "      <td>female</td>\n",
       "      <td>group D</td>\n",
       "      <td>associate's degree</td>\n",
       "      <td>free/reduced</td>\n",
       "      <td>none</td>\n",
       "      <td>55</td>\n",
       "      <td>76</td>\n",
       "      <td>76</td>\n",
       "    </tr>\n",
       "    <tr>\n",
       "      <th>993</th>\n",
       "      <td>female</td>\n",
       "      <td>group D</td>\n",
       "      <td>bachelor's degree</td>\n",
       "      <td>free/reduced</td>\n",
       "      <td>none</td>\n",
       "      <td>62</td>\n",
       "      <td>72</td>\n",
       "      <td>74</td>\n",
       "    </tr>\n",
       "    <tr>\n",
       "      <th>995</th>\n",
       "      <td>female</td>\n",
       "      <td>group E</td>\n",
       "      <td>master's degree</td>\n",
       "      <td>standard</td>\n",
       "      <td>completed</td>\n",
       "      <td>88</td>\n",
       "      <td>99</td>\n",
       "      <td>95</td>\n",
       "    </tr>\n",
       "  </tbody>\n",
       "</table>\n",
       "<p>399 rows × 8 columns</p>\n",
       "</div>"
      ],
      "text/plain": [
       "     gender race/ethnicity parental level of education         lunch  \\\n",
       "0    female        group B           bachelor's degree      standard   \n",
       "2    female        group B             master's degree      standard   \n",
       "3      male        group A          associate's degree  free/reduced   \n",
       "5    female        group B          associate's degree      standard   \n",
       "10     male        group C          associate's degree      standard   \n",
       "..      ...            ...                         ...           ...   \n",
       "979  female        group C          associate's degree      standard   \n",
       "986  female        group C          associate's degree      standard   \n",
       "992  female        group D          associate's degree  free/reduced   \n",
       "993  female        group D           bachelor's degree  free/reduced   \n",
       "995  female        group E             master's degree      standard   \n",
       "\n",
       "    test preparation course  math score  reading score  writing score  \n",
       "0                      none          72             72             74  \n",
       "2                      none          90             95             93  \n",
       "3                      none          47             57             44  \n",
       "5                      none          71             83             78  \n",
       "10                     none          58             54             52  \n",
       "..                      ...         ...            ...            ...  \n",
       "979                    none          91             95             94  \n",
       "986                    none          40             59             51  \n",
       "992                    none          55             76             76  \n",
       "993                    none          62             72             74  \n",
       "995               completed          88             99             95  \n",
       "\n",
       "[399 rows x 8 columns]"
      ]
     },
     "execution_count": 116,
     "metadata": {},
     "output_type": "execute_result"
    }
   ],
   "source": [
    "# 열의 값이 무엇을 포함하는 조건\n",
    "df_sp[df_sp['parental level of education'].str.contains(\"degree\")]\n"
   ]
  },
  {
   "cell_type": "markdown",
   "metadata": {
    "id": "P3S5qXRHHl0g"
   },
   "source": [
    "#### between()\n",
    "\n",
    "- 수치형 변수에서 값의 범위로 조건을 지정"
   ]
  },
  {
   "cell_type": "code",
   "execution_count": 117,
   "metadata": {
    "id": "YrUHPNldHn7Z"
   },
   "outputs": [],
   "source": [
    "# inclusive: 'both', 'neither', 'left', 'right'\n",
    "\n"
   ]
  },
  {
   "cell_type": "code",
   "execution_count": 149,
   "metadata": {
    "id": "D3cwIrXFINr-"
   },
   "outputs": [
    {
     "data": {
      "text/html": [
       "<div>\n",
       "<style scoped>\n",
       "    .dataframe tbody tr th:only-of-type {\n",
       "        vertical-align: middle;\n",
       "    }\n",
       "\n",
       "    .dataframe tbody tr th {\n",
       "        vertical-align: top;\n",
       "    }\n",
       "\n",
       "    .dataframe thead th {\n",
       "        text-align: right;\n",
       "    }\n",
       "</style>\n",
       "<table border=\"1\" class=\"dataframe\">\n",
       "  <thead>\n",
       "    <tr style=\"text-align: right;\">\n",
       "      <th></th>\n",
       "      <th>gender</th>\n",
       "      <th>race/ethnicity</th>\n",
       "      <th>parental level of education</th>\n",
       "      <th>lunch</th>\n",
       "      <th>test preparation course</th>\n",
       "      <th>math score</th>\n",
       "      <th>reading score</th>\n",
       "      <th>writing score</th>\n",
       "    </tr>\n",
       "  </thead>\n",
       "  <tbody>\n",
       "    <tr>\n",
       "      <th>0</th>\n",
       "      <td>female</td>\n",
       "      <td>group B</td>\n",
       "      <td>bachelor's degree</td>\n",
       "      <td>standard</td>\n",
       "      <td>none</td>\n",
       "      <td>72</td>\n",
       "      <td>72</td>\n",
       "      <td>74</td>\n",
       "    </tr>\n",
       "    <tr>\n",
       "      <th>1</th>\n",
       "      <td>female</td>\n",
       "      <td>group C</td>\n",
       "      <td>some college</td>\n",
       "      <td>standard</td>\n",
       "      <td>completed</td>\n",
       "      <td>69</td>\n",
       "      <td>90</td>\n",
       "      <td>88</td>\n",
       "    </tr>\n",
       "    <tr>\n",
       "      <th>4</th>\n",
       "      <td>male</td>\n",
       "      <td>group C</td>\n",
       "      <td>some college</td>\n",
       "      <td>standard</td>\n",
       "      <td>none</td>\n",
       "      <td>76</td>\n",
       "      <td>78</td>\n",
       "      <td>75</td>\n",
       "    </tr>\n",
       "    <tr>\n",
       "      <th>5</th>\n",
       "      <td>female</td>\n",
       "      <td>group B</td>\n",
       "      <td>associate's degree</td>\n",
       "      <td>standard</td>\n",
       "      <td>none</td>\n",
       "      <td>71</td>\n",
       "      <td>83</td>\n",
       "      <td>78</td>\n",
       "    </tr>\n",
       "    <tr>\n",
       "      <th>8</th>\n",
       "      <td>male</td>\n",
       "      <td>group D</td>\n",
       "      <td>high school</td>\n",
       "      <td>free/reduced</td>\n",
       "      <td>completed</td>\n",
       "      <td>64</td>\n",
       "      <td>64</td>\n",
       "      <td>67</td>\n",
       "    </tr>\n",
       "    <tr>\n",
       "      <th>...</th>\n",
       "      <td>...</td>\n",
       "      <td>...</td>\n",
       "      <td>...</td>\n",
       "      <td>...</td>\n",
       "      <td>...</td>\n",
       "      <td>...</td>\n",
       "      <td>...</td>\n",
       "      <td>...</td>\n",
       "    </tr>\n",
       "    <tr>\n",
       "      <th>993</th>\n",
       "      <td>female</td>\n",
       "      <td>group D</td>\n",
       "      <td>bachelor's degree</td>\n",
       "      <td>free/reduced</td>\n",
       "      <td>none</td>\n",
       "      <td>62</td>\n",
       "      <td>72</td>\n",
       "      <td>74</td>\n",
       "    </tr>\n",
       "    <tr>\n",
       "      <th>994</th>\n",
       "      <td>male</td>\n",
       "      <td>group A</td>\n",
       "      <td>high school</td>\n",
       "      <td>standard</td>\n",
       "      <td>none</td>\n",
       "      <td>63</td>\n",
       "      <td>63</td>\n",
       "      <td>62</td>\n",
       "    </tr>\n",
       "    <tr>\n",
       "      <th>996</th>\n",
       "      <td>male</td>\n",
       "      <td>group C</td>\n",
       "      <td>high school</td>\n",
       "      <td>free/reduced</td>\n",
       "      <td>none</td>\n",
       "      <td>62</td>\n",
       "      <td>55</td>\n",
       "      <td>55</td>\n",
       "    </tr>\n",
       "    <tr>\n",
       "      <th>998</th>\n",
       "      <td>female</td>\n",
       "      <td>group D</td>\n",
       "      <td>some college</td>\n",
       "      <td>standard</td>\n",
       "      <td>completed</td>\n",
       "      <td>68</td>\n",
       "      <td>78</td>\n",
       "      <td>77</td>\n",
       "    </tr>\n",
       "    <tr>\n",
       "      <th>999</th>\n",
       "      <td>female</td>\n",
       "      <td>group D</td>\n",
       "      <td>some college</td>\n",
       "      <td>free/reduced</td>\n",
       "      <td>none</td>\n",
       "      <td>77</td>\n",
       "      <td>86</td>\n",
       "      <td>86</td>\n",
       "    </tr>\n",
       "  </tbody>\n",
       "</table>\n",
       "<p>484 rows × 8 columns</p>\n",
       "</div>"
      ],
      "text/plain": [
       "     gender race/ethnicity parental level of education         lunch  \\\n",
       "0    female        group B           bachelor's degree      standard   \n",
       "1    female        group C                some college      standard   \n",
       "4      male        group C                some college      standard   \n",
       "5    female        group B          associate's degree      standard   \n",
       "8      male        group D                 high school  free/reduced   \n",
       "..      ...            ...                         ...           ...   \n",
       "993  female        group D           bachelor's degree  free/reduced   \n",
       "994    male        group A                 high school      standard   \n",
       "996    male        group C                 high school  free/reduced   \n",
       "998  female        group D                some college      standard   \n",
       "999  female        group D                some college  free/reduced   \n",
       "\n",
       "    test preparation course  math score  reading score  writing score  \n",
       "0                      none          72             72             74  \n",
       "1                 completed          69             90             88  \n",
       "4                      none          76             78             75  \n",
       "5                      none          71             83             78  \n",
       "8                 completed          64             64             67  \n",
       "..                      ...         ...            ...            ...  \n",
       "993                    none          62             72             74  \n",
       "994                    none          63             63             62  \n",
       "996                    none          62             55             55  \n",
       "998               completed          68             78             77  \n",
       "999                    none          77             86             86  \n",
       "\n",
       "[484 rows x 8 columns]"
      ]
     },
     "execution_count": 149,
     "metadata": {},
     "output_type": "execute_result"
    }
   ],
   "source": [
    "# left로 하면 2번 자료가 False\n",
    "df_sp[df_sp[\"math score\"].between(60,80,inclusive=\"left\")]\n"
   ]
  },
  {
   "cell_type": "code",
   "execution_count": 119,
   "metadata": {
    "id": "gwnf6XgWIWcK"
   },
   "outputs": [],
   "source": [
    "# 2번 자료  math score == 90인지 확인\n",
    "\n"
   ]
  },
  {
   "cell_type": "code",
   "execution_count": 120,
   "metadata": {
    "id": "YWO26pFTI0dd"
   },
   "outputs": [],
   "source": [
    "# 비율 선택\n",
    "\n"
   ]
  },
  {
   "cell_type": "code",
   "execution_count": 121,
   "metadata": {
    "id": "zqM0-491JBaw"
   },
   "outputs": [],
   "source": [
    "# 개수 지정 선택\n",
    "\n"
   ]
  },
  {
   "cell_type": "markdown",
   "metadata": {
    "id": "eh_PUUCzJJOy"
   },
   "source": [
    "#### `nlargest()`, `nsmallest()`\n",
    "\n",
    "- 특정 컬럼에 큰 순서 또는 작은 순서로 n개 선택"
   ]
  },
  {
   "cell_type": "code",
   "execution_count": 153,
   "metadata": {
    "id": "8X1CQpv7JS4f"
   },
   "outputs": [
    {
     "data": {
      "text/html": [
       "<div>\n",
       "<style scoped>\n",
       "    .dataframe tbody tr th:only-of-type {\n",
       "        vertical-align: middle;\n",
       "    }\n",
       "\n",
       "    .dataframe tbody tr th {\n",
       "        vertical-align: top;\n",
       "    }\n",
       "\n",
       "    .dataframe thead th {\n",
       "        text-align: right;\n",
       "    }\n",
       "</style>\n",
       "<table border=\"1\" class=\"dataframe\">\n",
       "  <thead>\n",
       "    <tr style=\"text-align: right;\">\n",
       "      <th></th>\n",
       "      <th>gender</th>\n",
       "      <th>race/ethnicity</th>\n",
       "      <th>parental level of education</th>\n",
       "      <th>lunch</th>\n",
       "      <th>test preparation course</th>\n",
       "      <th>math score</th>\n",
       "      <th>reading score</th>\n",
       "      <th>writing score</th>\n",
       "    </tr>\n",
       "  </thead>\n",
       "  <tbody>\n",
       "    <tr>\n",
       "      <th>149</th>\n",
       "      <td>male</td>\n",
       "      <td>group E</td>\n",
       "      <td>associate's degree</td>\n",
       "      <td>free/reduced</td>\n",
       "      <td>completed</td>\n",
       "      <td>100</td>\n",
       "      <td>100</td>\n",
       "      <td>93</td>\n",
       "    </tr>\n",
       "    <tr>\n",
       "      <th>451</th>\n",
       "      <td>female</td>\n",
       "      <td>group E</td>\n",
       "      <td>some college</td>\n",
       "      <td>standard</td>\n",
       "      <td>none</td>\n",
       "      <td>100</td>\n",
       "      <td>92</td>\n",
       "      <td>97</td>\n",
       "    </tr>\n",
       "    <tr>\n",
       "      <th>458</th>\n",
       "      <td>female</td>\n",
       "      <td>group E</td>\n",
       "      <td>bachelor's degree</td>\n",
       "      <td>standard</td>\n",
       "      <td>none</td>\n",
       "      <td>100</td>\n",
       "      <td>100</td>\n",
       "      <td>100</td>\n",
       "    </tr>\n",
       "  </tbody>\n",
       "</table>\n",
       "</div>"
      ],
      "text/plain": [
       "     gender race/ethnicity parental level of education         lunch  \\\n",
       "149    male        group E          associate's degree  free/reduced   \n",
       "451  female        group E                some college      standard   \n",
       "458  female        group E           bachelor's degree      standard   \n",
       "\n",
       "    test preparation course  math score  reading score  writing score  \n",
       "149               completed         100            100             93  \n",
       "451                    none         100             92             97  \n",
       "458                    none         100            100            100  "
      ]
     },
     "execution_count": 153,
     "metadata": {},
     "output_type": "execute_result"
    }
   ],
   "source": [
    "# 수학 점수 높은 순서로 3개 선택\n",
    "top_3_math_score = df_sp.nlargest(3,\"math score\")\n",
    "top_3_math_score "
   ]
  },
  {
   "cell_type": "code",
   "execution_count": 155,
   "metadata": {
    "id": "tdFKVuq1Jbv8"
   },
   "outputs": [
    {
     "data": {
      "text/html": [
       "<div>\n",
       "<style scoped>\n",
       "    .dataframe tbody tr th:only-of-type {\n",
       "        vertical-align: middle;\n",
       "    }\n",
       "\n",
       "    .dataframe tbody tr th {\n",
       "        vertical-align: top;\n",
       "    }\n",
       "\n",
       "    .dataframe thead th {\n",
       "        text-align: right;\n",
       "    }\n",
       "</style>\n",
       "<table border=\"1\" class=\"dataframe\">\n",
       "  <thead>\n",
       "    <tr style=\"text-align: right;\">\n",
       "      <th></th>\n",
       "      <th>gender</th>\n",
       "      <th>race/ethnicity</th>\n",
       "      <th>parental level of education</th>\n",
       "      <th>lunch</th>\n",
       "      <th>test preparation course</th>\n",
       "      <th>math score</th>\n",
       "      <th>reading score</th>\n",
       "      <th>writing score</th>\n",
       "    </tr>\n",
       "  </thead>\n",
       "  <tbody>\n",
       "    <tr>\n",
       "      <th>59</th>\n",
       "      <td>female</td>\n",
       "      <td>group C</td>\n",
       "      <td>some high school</td>\n",
       "      <td>free/reduced</td>\n",
       "      <td>none</td>\n",
       "      <td>0</td>\n",
       "      <td>17</td>\n",
       "      <td>10</td>\n",
       "    </tr>\n",
       "    <tr>\n",
       "      <th>327</th>\n",
       "      <td>male</td>\n",
       "      <td>group A</td>\n",
       "      <td>some college</td>\n",
       "      <td>free/reduced</td>\n",
       "      <td>none</td>\n",
       "      <td>28</td>\n",
       "      <td>23</td>\n",
       "      <td>19</td>\n",
       "    </tr>\n",
       "    <tr>\n",
       "      <th>596</th>\n",
       "      <td>male</td>\n",
       "      <td>group B</td>\n",
       "      <td>high school</td>\n",
       "      <td>free/reduced</td>\n",
       "      <td>none</td>\n",
       "      <td>30</td>\n",
       "      <td>24</td>\n",
       "      <td>15</td>\n",
       "    </tr>\n",
       "  </tbody>\n",
       "</table>\n",
       "</div>"
      ],
      "text/plain": [
       "     gender race/ethnicity parental level of education         lunch  \\\n",
       "59   female        group C            some high school  free/reduced   \n",
       "327    male        group A                some college  free/reduced   \n",
       "596    male        group B                 high school  free/reduced   \n",
       "\n",
       "    test preparation course  math score  reading score  writing score  \n",
       "59                     none           0             17             10  \n",
       "327                    none          28             23             19  \n",
       "596                    none          30             24             15  "
      ]
     },
     "execution_count": 155,
     "metadata": {},
     "output_type": "execute_result"
    }
   ],
   "source": [
    "# 일기 점수 낮은 순서로 3개 선택\n",
    "bottom_3_reading_score = df_sp.nsmallest(3,\"reading score\")\n",
    "bottom_3_reading_score"
   ]
  },
  {
   "cell_type": "markdown",
   "metadata": {
    "id": "_z0k5toeQwhD"
   },
   "source": [
    "### 연습\n",
    "1. df_sp에서 race/ethnicity가 group C, group A 인 학생 선택\n",
    "2. df_sp의 모든 행을 무작위로 섞은 데이터프레임 만들기\n",
    "3. df_sp에서 세 과목 점수가 모두 80점 이상인 학생 중에 무작위로 3명 선택하기"
   ]
  },
  {
   "cell_type": "code",
   "execution_count": 158,
   "metadata": {
    "id": "bRx_K77wRbFb"
   },
   "outputs": [
    {
     "name": "stdout",
     "output_type": "stream",
     "text": [
      "     gender race/ethnicity parental level of education         lunch  \\\n",
      "1    female        group C                some college      standard   \n",
      "3      male        group A          associate's degree  free/reduced   \n",
      "4      male        group C                some college      standard   \n",
      "10     male        group C          associate's degree      standard   \n",
      "13     male        group A                some college      standard   \n",
      "..      ...            ...                         ...           ...   \n",
      "986  female        group C          associate's degree      standard   \n",
      "988  female        group A            some high school  free/reduced   \n",
      "994    male        group A                 high school      standard   \n",
      "996    male        group C                 high school  free/reduced   \n",
      "997  female        group C                 high school  free/reduced   \n",
      "\n",
      "    test preparation course  math score  reading score  writing score  \n",
      "1                 completed          69             90             88  \n",
      "3                      none          47             57             44  \n",
      "4                      none          76             78             75  \n",
      "10                     none          58             54             52  \n",
      "13                completed          78             72             70  \n",
      "..                      ...         ...            ...            ...  \n",
      "986                    none          40             59             51  \n",
      "988                    none          44             45             45  \n",
      "994                    none          63             63             62  \n",
      "996                    none          62             55             55  \n",
      "997               completed          59             71             65  \n",
      "\n",
      "[408 rows x 8 columns]\n"
     ]
    }
   ],
   "source": [
    "# 1. df_sp에서 race/ethnicity가 group C, group A 인 학생 선택\n",
    "filtered_students = df_sp[df_sp[\"race/ethnicity\"].isin(['group C', 'group A'])]\n",
    "print(filtered_students)"
   ]
  },
  {
   "cell_type": "code",
   "execution_count": 161,
   "metadata": {},
   "outputs": [
    {
     "data": {
      "text/html": [
       "<div>\n",
       "<style scoped>\n",
       "    .dataframe tbody tr th:only-of-type {\n",
       "        vertical-align: middle;\n",
       "    }\n",
       "\n",
       "    .dataframe tbody tr th {\n",
       "        vertical-align: top;\n",
       "    }\n",
       "\n",
       "    .dataframe thead th {\n",
       "        text-align: right;\n",
       "    }\n",
       "</style>\n",
       "<table border=\"1\" class=\"dataframe\">\n",
       "  <thead>\n",
       "    <tr style=\"text-align: right;\">\n",
       "      <th></th>\n",
       "      <th>gender</th>\n",
       "      <th>race/ethnicity</th>\n",
       "      <th>parental level of education</th>\n",
       "      <th>lunch</th>\n",
       "      <th>test preparation course</th>\n",
       "      <th>math score</th>\n",
       "      <th>reading score</th>\n",
       "      <th>writing score</th>\n",
       "    </tr>\n",
       "  </thead>\n",
       "  <tbody>\n",
       "    <tr>\n",
       "      <th>1</th>\n",
       "      <td>female</td>\n",
       "      <td>group C</td>\n",
       "      <td>some college</td>\n",
       "      <td>standard</td>\n",
       "      <td>completed</td>\n",
       "      <td>69</td>\n",
       "      <td>90</td>\n",
       "      <td>88</td>\n",
       "    </tr>\n",
       "    <tr>\n",
       "      <th>3</th>\n",
       "      <td>male</td>\n",
       "      <td>group A</td>\n",
       "      <td>associate's degree</td>\n",
       "      <td>free/reduced</td>\n",
       "      <td>none</td>\n",
       "      <td>47</td>\n",
       "      <td>57</td>\n",
       "      <td>44</td>\n",
       "    </tr>\n",
       "    <tr>\n",
       "      <th>4</th>\n",
       "      <td>male</td>\n",
       "      <td>group C</td>\n",
       "      <td>some college</td>\n",
       "      <td>standard</td>\n",
       "      <td>none</td>\n",
       "      <td>76</td>\n",
       "      <td>78</td>\n",
       "      <td>75</td>\n",
       "    </tr>\n",
       "    <tr>\n",
       "      <th>6</th>\n",
       "      <td>female</td>\n",
       "      <td>group B</td>\n",
       "      <td>some college</td>\n",
       "      <td>standard</td>\n",
       "      <td>completed</td>\n",
       "      <td>88</td>\n",
       "      <td>95</td>\n",
       "      <td>92</td>\n",
       "    </tr>\n",
       "    <tr>\n",
       "      <th>7</th>\n",
       "      <td>male</td>\n",
       "      <td>group B</td>\n",
       "      <td>some college</td>\n",
       "      <td>free/reduced</td>\n",
       "      <td>none</td>\n",
       "      <td>40</td>\n",
       "      <td>43</td>\n",
       "      <td>39</td>\n",
       "    </tr>\n",
       "    <tr>\n",
       "      <th>...</th>\n",
       "      <td>...</td>\n",
       "      <td>...</td>\n",
       "      <td>...</td>\n",
       "      <td>...</td>\n",
       "      <td>...</td>\n",
       "      <td>...</td>\n",
       "      <td>...</td>\n",
       "      <td>...</td>\n",
       "    </tr>\n",
       "    <tr>\n",
       "      <th>994</th>\n",
       "      <td>male</td>\n",
       "      <td>group A</td>\n",
       "      <td>high school</td>\n",
       "      <td>standard</td>\n",
       "      <td>none</td>\n",
       "      <td>63</td>\n",
       "      <td>63</td>\n",
       "      <td>62</td>\n",
       "    </tr>\n",
       "    <tr>\n",
       "      <th>995</th>\n",
       "      <td>female</td>\n",
       "      <td>group E</td>\n",
       "      <td>master's degree</td>\n",
       "      <td>standard</td>\n",
       "      <td>completed</td>\n",
       "      <td>88</td>\n",
       "      <td>99</td>\n",
       "      <td>95</td>\n",
       "    </tr>\n",
       "    <tr>\n",
       "      <th>996</th>\n",
       "      <td>male</td>\n",
       "      <td>group C</td>\n",
       "      <td>high school</td>\n",
       "      <td>free/reduced</td>\n",
       "      <td>none</td>\n",
       "      <td>62</td>\n",
       "      <td>55</td>\n",
       "      <td>55</td>\n",
       "    </tr>\n",
       "    <tr>\n",
       "      <th>997</th>\n",
       "      <td>female</td>\n",
       "      <td>group C</td>\n",
       "      <td>high school</td>\n",
       "      <td>free/reduced</td>\n",
       "      <td>completed</td>\n",
       "      <td>59</td>\n",
       "      <td>71</td>\n",
       "      <td>65</td>\n",
       "    </tr>\n",
       "    <tr>\n",
       "      <th>998</th>\n",
       "      <td>female</td>\n",
       "      <td>group D</td>\n",
       "      <td>some college</td>\n",
       "      <td>standard</td>\n",
       "      <td>completed</td>\n",
       "      <td>68</td>\n",
       "      <td>78</td>\n",
       "      <td>77</td>\n",
       "    </tr>\n",
       "  </tbody>\n",
       "</table>\n",
       "<p>666 rows × 8 columns</p>\n",
       "</div>"
      ],
      "text/plain": [
       "     gender race/ethnicity parental level of education         lunch  \\\n",
       "1    female        group C                some college      standard   \n",
       "3      male        group A          associate's degree  free/reduced   \n",
       "4      male        group C                some college      standard   \n",
       "6    female        group B                some college      standard   \n",
       "7      male        group B                some college  free/reduced   \n",
       "..      ...            ...                         ...           ...   \n",
       "994    male        group A                 high school      standard   \n",
       "995  female        group E             master's degree      standard   \n",
       "996    male        group C                 high school  free/reduced   \n",
       "997  female        group C                 high school  free/reduced   \n",
       "998  female        group D                some college      standard   \n",
       "\n",
       "    test preparation course  math score  reading score  writing score  \n",
       "1                 completed          69             90             88  \n",
       "3                      none          47             57             44  \n",
       "4                      none          76             78             75  \n",
       "6                 completed          88             95             92  \n",
       "7                      none          40             43             39  \n",
       "..                      ...         ...            ...            ...  \n",
       "994                    none          63             63             62  \n",
       "995               completed          88             99             95  \n",
       "996                    none          62             55             55  \n",
       "997               completed          59             71             65  \n",
       "998               completed          68             78             77  \n",
       "\n",
       "[666 rows x 8 columns]"
      ]
     },
     "execution_count": 161,
     "metadata": {},
     "output_type": "execute_result"
    }
   ],
   "source": [
    "completed_or_male = df_sp[df_sp[\"test preparation course\"].isin([\"completed\"]) | df_sp['gender'].isin(['male'])]\n",
    "completed_or_male"
   ]
  },
  {
   "cell_type": "code",
   "execution_count": 162,
   "metadata": {
    "id": "byQ4tY7tRczr"
   },
   "outputs": [
    {
     "data": {
      "text/html": [
       "<div>\n",
       "<style scoped>\n",
       "    .dataframe tbody tr th:only-of-type {\n",
       "        vertical-align: middle;\n",
       "    }\n",
       "\n",
       "    .dataframe tbody tr th {\n",
       "        vertical-align: top;\n",
       "    }\n",
       "\n",
       "    .dataframe thead th {\n",
       "        text-align: right;\n",
       "    }\n",
       "</style>\n",
       "<table border=\"1\" class=\"dataframe\">\n",
       "  <thead>\n",
       "    <tr style=\"text-align: right;\">\n",
       "      <th></th>\n",
       "      <th>gender</th>\n",
       "      <th>race/ethnicity</th>\n",
       "      <th>parental level of education</th>\n",
       "      <th>lunch</th>\n",
       "      <th>test preparation course</th>\n",
       "      <th>math score</th>\n",
       "      <th>reading score</th>\n",
       "      <th>writing score</th>\n",
       "    </tr>\n",
       "  </thead>\n",
       "  <tbody>\n",
       "    <tr>\n",
       "      <th>0</th>\n",
       "      <td>female</td>\n",
       "      <td>group C</td>\n",
       "      <td>associate's degree</td>\n",
       "      <td>standard</td>\n",
       "      <td>none</td>\n",
       "      <td>91</td>\n",
       "      <td>86</td>\n",
       "      <td>84</td>\n",
       "    </tr>\n",
       "    <tr>\n",
       "      <th>1</th>\n",
       "      <td>female</td>\n",
       "      <td>group B</td>\n",
       "      <td>some college</td>\n",
       "      <td>free/reduced</td>\n",
       "      <td>completed</td>\n",
       "      <td>53</td>\n",
       "      <td>66</td>\n",
       "      <td>73</td>\n",
       "    </tr>\n",
       "    <tr>\n",
       "      <th>2</th>\n",
       "      <td>male</td>\n",
       "      <td>group D</td>\n",
       "      <td>bachelor's degree</td>\n",
       "      <td>standard</td>\n",
       "      <td>none</td>\n",
       "      <td>80</td>\n",
       "      <td>73</td>\n",
       "      <td>72</td>\n",
       "    </tr>\n",
       "    <tr>\n",
       "      <th>3</th>\n",
       "      <td>male</td>\n",
       "      <td>group C</td>\n",
       "      <td>some college</td>\n",
       "      <td>free/reduced</td>\n",
       "      <td>none</td>\n",
       "      <td>74</td>\n",
       "      <td>77</td>\n",
       "      <td>73</td>\n",
       "    </tr>\n",
       "    <tr>\n",
       "      <th>4</th>\n",
       "      <td>male</td>\n",
       "      <td>group E</td>\n",
       "      <td>some college</td>\n",
       "      <td>standard</td>\n",
       "      <td>completed</td>\n",
       "      <td>84</td>\n",
       "      <td>83</td>\n",
       "      <td>78</td>\n",
       "    </tr>\n",
       "    <tr>\n",
       "      <th>...</th>\n",
       "      <td>...</td>\n",
       "      <td>...</td>\n",
       "      <td>...</td>\n",
       "      <td>...</td>\n",
       "      <td>...</td>\n",
       "      <td>...</td>\n",
       "      <td>...</td>\n",
       "      <td>...</td>\n",
       "    </tr>\n",
       "    <tr>\n",
       "      <th>995</th>\n",
       "      <td>female</td>\n",
       "      <td>group D</td>\n",
       "      <td>master's degree</td>\n",
       "      <td>standard</td>\n",
       "      <td>none</td>\n",
       "      <td>87</td>\n",
       "      <td>100</td>\n",
       "      <td>100</td>\n",
       "    </tr>\n",
       "    <tr>\n",
       "      <th>996</th>\n",
       "      <td>male</td>\n",
       "      <td>group C</td>\n",
       "      <td>bachelor's degree</td>\n",
       "      <td>standard</td>\n",
       "      <td>none</td>\n",
       "      <td>69</td>\n",
       "      <td>63</td>\n",
       "      <td>61</td>\n",
       "    </tr>\n",
       "    <tr>\n",
       "      <th>997</th>\n",
       "      <td>female</td>\n",
       "      <td>group C</td>\n",
       "      <td>associate's degree</td>\n",
       "      <td>standard</td>\n",
       "      <td>none</td>\n",
       "      <td>53</td>\n",
       "      <td>62</td>\n",
       "      <td>53</td>\n",
       "    </tr>\n",
       "    <tr>\n",
       "      <th>998</th>\n",
       "      <td>male</td>\n",
       "      <td>group C</td>\n",
       "      <td>some college</td>\n",
       "      <td>free/reduced</td>\n",
       "      <td>completed</td>\n",
       "      <td>50</td>\n",
       "      <td>48</td>\n",
       "      <td>53</td>\n",
       "    </tr>\n",
       "    <tr>\n",
       "      <th>999</th>\n",
       "      <td>female</td>\n",
       "      <td>group D</td>\n",
       "      <td>associate's degree</td>\n",
       "      <td>standard</td>\n",
       "      <td>none</td>\n",
       "      <td>85</td>\n",
       "      <td>91</td>\n",
       "      <td>89</td>\n",
       "    </tr>\n",
       "  </tbody>\n",
       "</table>\n",
       "<p>1000 rows × 8 columns</p>\n",
       "</div>"
      ],
      "text/plain": [
       "     gender race/ethnicity parental level of education         lunch  \\\n",
       "0    female        group C          associate's degree      standard   \n",
       "1    female        group B                some college  free/reduced   \n",
       "2      male        group D           bachelor's degree      standard   \n",
       "3      male        group C                some college  free/reduced   \n",
       "4      male        group E                some college      standard   \n",
       "..      ...            ...                         ...           ...   \n",
       "995  female        group D             master's degree      standard   \n",
       "996    male        group C           bachelor's degree      standard   \n",
       "997  female        group C          associate's degree      standard   \n",
       "998    male        group C                some college  free/reduced   \n",
       "999  female        group D          associate's degree      standard   \n",
       "\n",
       "    test preparation course  math score  reading score  writing score  \n",
       "0                      none          91             86             84  \n",
       "1                 completed          53             66             73  \n",
       "2                      none          80             73             72  \n",
       "3                      none          74             77             73  \n",
       "4                 completed          84             83             78  \n",
       "..                      ...         ...            ...            ...  \n",
       "995                    none          87            100            100  \n",
       "996                    none          69             63             61  \n",
       "997                    none          53             62             53  \n",
       "998               completed          50             48             53  \n",
       "999                    none          85             91             89  \n",
       "\n",
       "[1000 rows x 8 columns]"
      ]
     },
     "execution_count": 162,
     "metadata": {},
     "output_type": "execute_result"
    }
   ],
   "source": [
    "# 2. df_sp의 모든 행을 무작위로 섞은 데이터프레임 만들기\n",
    "\n",
    "shuffled_df = df_sp.sample(frac=1, random_state=42).reset_index(drop=True)\n",
    "shuffled_df "
   ]
  },
  {
   "cell_type": "code",
   "execution_count": 174,
   "metadata": {
    "id": "mvCxL9IbRdsP"
   },
   "outputs": [
    {
     "data": {
      "text/html": [
       "<div>\n",
       "<style scoped>\n",
       "    .dataframe tbody tr th:only-of-type {\n",
       "        vertical-align: middle;\n",
       "    }\n",
       "\n",
       "    .dataframe tbody tr th {\n",
       "        vertical-align: top;\n",
       "    }\n",
       "\n",
       "    .dataframe thead th {\n",
       "        text-align: right;\n",
       "    }\n",
       "</style>\n",
       "<table border=\"1\" class=\"dataframe\">\n",
       "  <thead>\n",
       "    <tr style=\"text-align: right;\">\n",
       "      <th></th>\n",
       "      <th>gender</th>\n",
       "      <th>race/ethnicity</th>\n",
       "      <th>parental level of education</th>\n",
       "      <th>lunch</th>\n",
       "      <th>test preparation course</th>\n",
       "      <th>math score</th>\n",
       "      <th>reading score</th>\n",
       "      <th>writing score</th>\n",
       "    </tr>\n",
       "  </thead>\n",
       "  <tbody>\n",
       "    <tr>\n",
       "      <th>0</th>\n",
       "      <td>female</td>\n",
       "      <td>group C</td>\n",
       "      <td>associate's degree</td>\n",
       "      <td>standard</td>\n",
       "      <td>none</td>\n",
       "      <td>91</td>\n",
       "      <td>86</td>\n",
       "      <td>84</td>\n",
       "    </tr>\n",
       "    <tr>\n",
       "      <th>14</th>\n",
       "      <td>male</td>\n",
       "      <td>group D</td>\n",
       "      <td>some college</td>\n",
       "      <td>standard</td>\n",
       "      <td>completed</td>\n",
       "      <td>85</td>\n",
       "      <td>81</td>\n",
       "      <td>85</td>\n",
       "    </tr>\n",
       "    <tr>\n",
       "      <th>48</th>\n",
       "      <td>male</td>\n",
       "      <td>group D</td>\n",
       "      <td>some high school</td>\n",
       "      <td>standard</td>\n",
       "      <td>completed</td>\n",
       "      <td>89</td>\n",
       "      <td>88</td>\n",
       "      <td>82</td>\n",
       "    </tr>\n",
       "    <tr>\n",
       "      <th>59</th>\n",
       "      <td>female</td>\n",
       "      <td>group A</td>\n",
       "      <td>some high school</td>\n",
       "      <td>standard</td>\n",
       "      <td>completed</td>\n",
       "      <td>85</td>\n",
       "      <td>90</td>\n",
       "      <td>92</td>\n",
       "    </tr>\n",
       "    <tr>\n",
       "      <th>64</th>\n",
       "      <td>male</td>\n",
       "      <td>group D</td>\n",
       "      <td>master's degree</td>\n",
       "      <td>free/reduced</td>\n",
       "      <td>completed</td>\n",
       "      <td>84</td>\n",
       "      <td>89</td>\n",
       "      <td>90</td>\n",
       "    </tr>\n",
       "    <tr>\n",
       "      <th>...</th>\n",
       "      <td>...</td>\n",
       "      <td>...</td>\n",
       "      <td>...</td>\n",
       "      <td>...</td>\n",
       "      <td>...</td>\n",
       "      <td>...</td>\n",
       "      <td>...</td>\n",
       "      <td>...</td>\n",
       "    </tr>\n",
       "    <tr>\n",
       "      <th>988</th>\n",
       "      <td>male</td>\n",
       "      <td>group E</td>\n",
       "      <td>high school</td>\n",
       "      <td>standard</td>\n",
       "      <td>completed</td>\n",
       "      <td>87</td>\n",
       "      <td>91</td>\n",
       "      <td>81</td>\n",
       "    </tr>\n",
       "    <tr>\n",
       "      <th>990</th>\n",
       "      <td>male</td>\n",
       "      <td>group B</td>\n",
       "      <td>associate's degree</td>\n",
       "      <td>standard</td>\n",
       "      <td>completed</td>\n",
       "      <td>91</td>\n",
       "      <td>89</td>\n",
       "      <td>92</td>\n",
       "    </tr>\n",
       "    <tr>\n",
       "      <th>991</th>\n",
       "      <td>female</td>\n",
       "      <td>group A</td>\n",
       "      <td>associate's degree</td>\n",
       "      <td>standard</td>\n",
       "      <td>none</td>\n",
       "      <td>82</td>\n",
       "      <td>93</td>\n",
       "      <td>93</td>\n",
       "    </tr>\n",
       "    <tr>\n",
       "      <th>995</th>\n",
       "      <td>female</td>\n",
       "      <td>group D</td>\n",
       "      <td>master's degree</td>\n",
       "      <td>standard</td>\n",
       "      <td>none</td>\n",
       "      <td>87</td>\n",
       "      <td>100</td>\n",
       "      <td>100</td>\n",
       "    </tr>\n",
       "    <tr>\n",
       "      <th>999</th>\n",
       "      <td>female</td>\n",
       "      <td>group D</td>\n",
       "      <td>associate's degree</td>\n",
       "      <td>standard</td>\n",
       "      <td>none</td>\n",
       "      <td>85</td>\n",
       "      <td>91</td>\n",
       "      <td>89</td>\n",
       "    </tr>\n",
       "  </tbody>\n",
       "</table>\n",
       "<p>121 rows × 8 columns</p>\n",
       "</div>"
      ],
      "text/plain": [
       "     gender race/ethnicity parental level of education         lunch  \\\n",
       "0    female        group C          associate's degree      standard   \n",
       "14     male        group D                some college      standard   \n",
       "48     male        group D            some high school      standard   \n",
       "59   female        group A            some high school      standard   \n",
       "64     male        group D             master's degree  free/reduced   \n",
       "..      ...            ...                         ...           ...   \n",
       "988    male        group E                 high school      standard   \n",
       "990    male        group B          associate's degree      standard   \n",
       "991  female        group A          associate's degree      standard   \n",
       "995  female        group D             master's degree      standard   \n",
       "999  female        group D          associate's degree      standard   \n",
       "\n",
       "    test preparation course  math score  reading score  writing score  \n",
       "0                      none          91             86             84  \n",
       "14                completed          85             81             85  \n",
       "48                completed          89             88             82  \n",
       "59                completed          85             90             92  \n",
       "64                completed          84             89             90  \n",
       "..                      ...         ...            ...            ...  \n",
       "988               completed          87             91             81  \n",
       "990               completed          91             89             92  \n",
       "991                    none          82             93             93  \n",
       "995                    none          87            100            100  \n",
       "999                    none          85             91             89  \n",
       "\n",
       "[121 rows x 8 columns]"
      ]
     },
     "execution_count": 174,
     "metadata": {},
     "output_type": "execute_result"
    }
   ],
   "source": [
    "# 3. df_sp에서 세 과목 점수가 모두 80점 이상인 학생 중에 무작위로 3명 선택하기\n",
    "\n",
    "shuffled_df[(shuffled_df['math score'] >= 80) & (shuffled_df['reading score'] >= 80) & (shuffled_df['writing score'] >= 80)]"
   ]
  },
  {
   "cell_type": "markdown",
   "metadata": {
    "id": "3U2YPn9qHmZb"
   },
   "source": [
    "### 중복 제거"
   ]
  },
  {
   "cell_type": "code",
   "execution_count": 127,
   "metadata": {
    "id": "xDJnrs3jHbii"
   },
   "outputs": [],
   "source": [
    "# 데이터프레임에서 모든 변수값이 중복된 레코드\n",
    "# keep : {'first', 'last', False}, default 'first'\n",
    "#     Determines which duplicates (if any) to mark.\n",
    "#     first : Mark duplicates as True except for the first occurrence.\n",
    "#     last  : Mark duplicates as True except for the last occurrence.\n",
    "#     False : Mark all duplicates as True.\n",
    "\n"
   ]
  },
  {
   "cell_type": "code",
   "execution_count": 128,
   "metadata": {
    "id": "tIfl07WyKlrg"
   },
   "outputs": [],
   "source": [
    "# keep=False\n",
    "\n"
   ]
  },
  {
   "cell_type": "code",
   "execution_count": 179,
   "metadata": {
    "id": "Ce65-pI3LFCX"
   },
   "outputs": [
    {
     "data": {
      "text/html": [
       "<div>\n",
       "<style scoped>\n",
       "    .dataframe tbody tr th:only-of-type {\n",
       "        vertical-align: middle;\n",
       "    }\n",
       "\n",
       "    .dataframe tbody tr th {\n",
       "        vertical-align: top;\n",
       "    }\n",
       "\n",
       "    .dataframe thead th {\n",
       "        text-align: right;\n",
       "    }\n",
       "</style>\n",
       "<table border=\"1\" class=\"dataframe\">\n",
       "  <thead>\n",
       "    <tr style=\"text-align: right;\">\n",
       "      <th></th>\n",
       "      <th>gender</th>\n",
       "      <th>race/ethnicity</th>\n",
       "      <th>parental level of education</th>\n",
       "      <th>lunch</th>\n",
       "      <th>test preparation course</th>\n",
       "      <th>math score</th>\n",
       "      <th>reading score</th>\n",
       "      <th>writing score</th>\n",
       "    </tr>\n",
       "  </thead>\n",
       "  <tbody>\n",
       "    <tr>\n",
       "      <th>0</th>\n",
       "      <td>female</td>\n",
       "      <td>group B</td>\n",
       "      <td>bachelor's degree</td>\n",
       "      <td>standard</td>\n",
       "      <td>none</td>\n",
       "      <td>72</td>\n",
       "      <td>72</td>\n",
       "      <td>74</td>\n",
       "    </tr>\n",
       "    <tr>\n",
       "      <th>1</th>\n",
       "      <td>female</td>\n",
       "      <td>group C</td>\n",
       "      <td>some college</td>\n",
       "      <td>standard</td>\n",
       "      <td>completed</td>\n",
       "      <td>69</td>\n",
       "      <td>90</td>\n",
       "      <td>88</td>\n",
       "    </tr>\n",
       "    <tr>\n",
       "      <th>2</th>\n",
       "      <td>female</td>\n",
       "      <td>group B</td>\n",
       "      <td>master's degree</td>\n",
       "      <td>standard</td>\n",
       "      <td>none</td>\n",
       "      <td>90</td>\n",
       "      <td>95</td>\n",
       "      <td>93</td>\n",
       "    </tr>\n",
       "    <tr>\n",
       "      <th>3</th>\n",
       "      <td>male</td>\n",
       "      <td>group A</td>\n",
       "      <td>associate's degree</td>\n",
       "      <td>free/reduced</td>\n",
       "      <td>none</td>\n",
       "      <td>47</td>\n",
       "      <td>57</td>\n",
       "      <td>44</td>\n",
       "    </tr>\n",
       "    <tr>\n",
       "      <th>4</th>\n",
       "      <td>male</td>\n",
       "      <td>group C</td>\n",
       "      <td>some college</td>\n",
       "      <td>standard</td>\n",
       "      <td>none</td>\n",
       "      <td>76</td>\n",
       "      <td>78</td>\n",
       "      <td>75</td>\n",
       "    </tr>\n",
       "    <tr>\n",
       "      <th>...</th>\n",
       "      <td>...</td>\n",
       "      <td>...</td>\n",
       "      <td>...</td>\n",
       "      <td>...</td>\n",
       "      <td>...</td>\n",
       "      <td>...</td>\n",
       "      <td>...</td>\n",
       "      <td>...</td>\n",
       "    </tr>\n",
       "    <tr>\n",
       "      <th>995</th>\n",
       "      <td>female</td>\n",
       "      <td>group E</td>\n",
       "      <td>master's degree</td>\n",
       "      <td>standard</td>\n",
       "      <td>completed</td>\n",
       "      <td>88</td>\n",
       "      <td>99</td>\n",
       "      <td>95</td>\n",
       "    </tr>\n",
       "    <tr>\n",
       "      <th>996</th>\n",
       "      <td>male</td>\n",
       "      <td>group C</td>\n",
       "      <td>high school</td>\n",
       "      <td>free/reduced</td>\n",
       "      <td>none</td>\n",
       "      <td>62</td>\n",
       "      <td>55</td>\n",
       "      <td>55</td>\n",
       "    </tr>\n",
       "    <tr>\n",
       "      <th>997</th>\n",
       "      <td>female</td>\n",
       "      <td>group C</td>\n",
       "      <td>high school</td>\n",
       "      <td>free/reduced</td>\n",
       "      <td>completed</td>\n",
       "      <td>59</td>\n",
       "      <td>71</td>\n",
       "      <td>65</td>\n",
       "    </tr>\n",
       "    <tr>\n",
       "      <th>998</th>\n",
       "      <td>female</td>\n",
       "      <td>group D</td>\n",
       "      <td>some college</td>\n",
       "      <td>standard</td>\n",
       "      <td>completed</td>\n",
       "      <td>68</td>\n",
       "      <td>78</td>\n",
       "      <td>77</td>\n",
       "    </tr>\n",
       "    <tr>\n",
       "      <th>999</th>\n",
       "      <td>female</td>\n",
       "      <td>group D</td>\n",
       "      <td>some college</td>\n",
       "      <td>free/reduced</td>\n",
       "      <td>none</td>\n",
       "      <td>77</td>\n",
       "      <td>86</td>\n",
       "      <td>86</td>\n",
       "    </tr>\n",
       "  </tbody>\n",
       "</table>\n",
       "<p>1000 rows × 8 columns</p>\n",
       "</div>"
      ],
      "text/plain": [
       "     gender race/ethnicity parental level of education         lunch  \\\n",
       "0    female        group B           bachelor's degree      standard   \n",
       "1    female        group C                some college      standard   \n",
       "2    female        group B             master's degree      standard   \n",
       "3      male        group A          associate's degree  free/reduced   \n",
       "4      male        group C                some college      standard   \n",
       "..      ...            ...                         ...           ...   \n",
       "995  female        group E             master's degree      standard   \n",
       "996    male        group C                 high school  free/reduced   \n",
       "997  female        group C                 high school  free/reduced   \n",
       "998  female        group D                some college      standard   \n",
       "999  female        group D                some college  free/reduced   \n",
       "\n",
       "    test preparation course  math score  reading score  writing score  \n",
       "0                      none          72             72             74  \n",
       "1                 completed          69             90             88  \n",
       "2                      none          90             95             93  \n",
       "3                      none          47             57             44  \n",
       "4                      none          76             78             75  \n",
       "..                      ...         ...            ...            ...  \n",
       "995               completed          88             99             95  \n",
       "996                    none          62             55             55  \n",
       "997               completed          59             71             65  \n",
       "998               completed          68             78             77  \n",
       "999                    none          77             86             86  \n",
       "\n",
       "[1000 rows x 8 columns]"
      ]
     },
     "execution_count": 179,
     "metadata": {},
     "output_type": "execute_result"
    }
   ],
   "source": [
    "# 모든 변수값을 고려한 중복 행 제거, 581번이 제거됨\n",
    "\n",
    "df_no_duplicates = df_sp.drop_duplicates()\n",
    "df_no_duplicates"
   ]
  },
  {
   "cell_type": "code",
   "execution_count": 130,
   "metadata": {
    "id": "1wG0UIOZLaCk"
   },
   "outputs": [],
   "source": [
    "# 중복된 행 모두 제거, 195번, 581번 모두 제거\n",
    "\n"
   ]
  },
  {
   "cell_type": "code",
   "execution_count": 131,
   "metadata": {
    "id": "u5UmsI2fL06t"
   },
   "outputs": [],
   "source": [
    "# 특정 열만 기준으로 중복을 검사\n",
    "\n"
   ]
  },
  {
   "cell_type": "code",
   "execution_count": 132,
   "metadata": {
    "id": "M2GPuwewMDdE"
   },
   "outputs": [],
   "source": [
    "# 두 컬럼 기준 중복된 값 제거\n",
    "\n"
   ]
  },
  {
   "cell_type": "code",
   "execution_count": 195,
   "metadata": {},
   "outputs": [
    {
     "data": {
      "text/html": [
       "<div>\n",
       "<style scoped>\n",
       "    .dataframe tbody tr th:only-of-type {\n",
       "        vertical-align: middle;\n",
       "    }\n",
       "\n",
       "    .dataframe tbody tr th {\n",
       "        vertical-align: top;\n",
       "    }\n",
       "\n",
       "    .dataframe thead th {\n",
       "        text-align: right;\n",
       "    }\n",
       "</style>\n",
       "<table border=\"1\" class=\"dataframe\">\n",
       "  <thead>\n",
       "    <tr style=\"text-align: right;\">\n",
       "      <th></th>\n",
       "      <th>gender</th>\n",
       "      <th>race/ethnicity</th>\n",
       "      <th>parental level of education</th>\n",
       "      <th>lunch</th>\n",
       "      <th>test preparation course</th>\n",
       "      <th>math score</th>\n",
       "      <th>reading score</th>\n",
       "      <th>writing score</th>\n",
       "    </tr>\n",
       "  </thead>\n",
       "  <tbody>\n",
       "    <tr>\n",
       "      <th>327</th>\n",
       "      <td>male</td>\n",
       "      <td>group A</td>\n",
       "      <td>some college</td>\n",
       "      <td>free/reduced</td>\n",
       "      <td>none</td>\n",
       "      <td>28</td>\n",
       "      <td>23</td>\n",
       "      <td>19</td>\n",
       "    </tr>\n",
       "    <tr>\n",
       "      <th>902</th>\n",
       "      <td>female</td>\n",
       "      <td>group A</td>\n",
       "      <td>high school</td>\n",
       "      <td>free/reduced</td>\n",
       "      <td>completed</td>\n",
       "      <td>34</td>\n",
       "      <td>48</td>\n",
       "      <td>41</td>\n",
       "    </tr>\n",
       "    <tr>\n",
       "      <th>741</th>\n",
       "      <td>female</td>\n",
       "      <td>group A</td>\n",
       "      <td>associate's degree</td>\n",
       "      <td>free/reduced</td>\n",
       "      <td>none</td>\n",
       "      <td>37</td>\n",
       "      <td>57</td>\n",
       "      <td>56</td>\n",
       "    </tr>\n",
       "    <tr>\n",
       "      <th>384</th>\n",
       "      <td>female</td>\n",
       "      <td>group A</td>\n",
       "      <td>some high school</td>\n",
       "      <td>free/reduced</td>\n",
       "      <td>none</td>\n",
       "      <td>38</td>\n",
       "      <td>43</td>\n",
       "      <td>43</td>\n",
       "    </tr>\n",
       "    <tr>\n",
       "      <th>61</th>\n",
       "      <td>male</td>\n",
       "      <td>group A</td>\n",
       "      <td>some high school</td>\n",
       "      <td>free/reduced</td>\n",
       "      <td>none</td>\n",
       "      <td>39</td>\n",
       "      <td>39</td>\n",
       "      <td>34</td>\n",
       "    </tr>\n",
       "    <tr>\n",
       "      <th>...</th>\n",
       "      <td>...</td>\n",
       "      <td>...</td>\n",
       "      <td>...</td>\n",
       "      <td>...</td>\n",
       "      <td>...</td>\n",
       "      <td>...</td>\n",
       "      <td>...</td>\n",
       "      <td>...</td>\n",
       "    </tr>\n",
       "    <tr>\n",
       "      <th>149</th>\n",
       "      <td>male</td>\n",
       "      <td>group E</td>\n",
       "      <td>associate's degree</td>\n",
       "      <td>free/reduced</td>\n",
       "      <td>completed</td>\n",
       "      <td>100</td>\n",
       "      <td>100</td>\n",
       "      <td>93</td>\n",
       "    </tr>\n",
       "    <tr>\n",
       "      <th>451</th>\n",
       "      <td>female</td>\n",
       "      <td>group E</td>\n",
       "      <td>some college</td>\n",
       "      <td>standard</td>\n",
       "      <td>none</td>\n",
       "      <td>100</td>\n",
       "      <td>92</td>\n",
       "      <td>97</td>\n",
       "    </tr>\n",
       "    <tr>\n",
       "      <th>458</th>\n",
       "      <td>female</td>\n",
       "      <td>group E</td>\n",
       "      <td>bachelor's degree</td>\n",
       "      <td>standard</td>\n",
       "      <td>none</td>\n",
       "      <td>100</td>\n",
       "      <td>100</td>\n",
       "      <td>100</td>\n",
       "    </tr>\n",
       "    <tr>\n",
       "      <th>916</th>\n",
       "      <td>male</td>\n",
       "      <td>group E</td>\n",
       "      <td>bachelor's degree</td>\n",
       "      <td>standard</td>\n",
       "      <td>completed</td>\n",
       "      <td>100</td>\n",
       "      <td>100</td>\n",
       "      <td>100</td>\n",
       "    </tr>\n",
       "    <tr>\n",
       "      <th>962</th>\n",
       "      <td>female</td>\n",
       "      <td>group E</td>\n",
       "      <td>associate's degree</td>\n",
       "      <td>standard</td>\n",
       "      <td>none</td>\n",
       "      <td>100</td>\n",
       "      <td>100</td>\n",
       "      <td>100</td>\n",
       "    </tr>\n",
       "  </tbody>\n",
       "</table>\n",
       "<p>1000 rows × 8 columns</p>\n",
       "</div>"
      ],
      "text/plain": [
       "     gender race/ethnicity parental level of education         lunch  \\\n",
       "327    male        group A                some college  free/reduced   \n",
       "902  female        group A                 high school  free/reduced   \n",
       "741  female        group A          associate's degree  free/reduced   \n",
       "384  female        group A            some high school  free/reduced   \n",
       "61     male        group A            some high school  free/reduced   \n",
       "..      ...            ...                         ...           ...   \n",
       "149    male        group E          associate's degree  free/reduced   \n",
       "451  female        group E                some college      standard   \n",
       "458  female        group E           bachelor's degree      standard   \n",
       "916    male        group E           bachelor's degree      standard   \n",
       "962  female        group E          associate's degree      standard   \n",
       "\n",
       "    test preparation course  math score  reading score  writing score  \n",
       "327                    none          28             23             19  \n",
       "902               completed          34             48             41  \n",
       "741                    none          37             57             56  \n",
       "384                    none          38             43             43  \n",
       "61                     none          39             39             34  \n",
       "..                      ...         ...            ...            ...  \n",
       "149               completed         100            100             93  \n",
       "451                    none         100             92             97  \n",
       "458                    none         100            100            100  \n",
       "916               completed         100            100            100  \n",
       "962                    none         100            100            100  \n",
       "\n",
       "[1000 rows x 8 columns]"
      ]
     },
     "execution_count": 195,
     "metadata": {},
     "output_type": "execute_result"
    }
   ],
   "source": [
    "df_sp"
   ]
  },
  {
   "cell_type": "markdown",
   "metadata": {
    "id": "PYRJOvcuHqnz"
   },
   "source": [
    "### 정렬"
   ]
  },
  {
   "cell_type": "code",
   "execution_count": 196,
   "metadata": {
    "id": "4lMkiGzMGStA"
   },
   "outputs": [],
   "source": [
    "# age 순 정렬\n",
    "df_sorted = df_sp.sort_values(by=['race/ethnicity','math score'],ascending = True ,inplace=True)\n",
    "df_sorted"
   ]
  },
  {
   "cell_type": "code",
   "execution_count": 197,
   "metadata": {},
   "outputs": [],
   "source": [
    "df_sorted"
   ]
  },
  {
   "cell_type": "code",
   "execution_count": 135,
   "metadata": {
    "id": "2asFRoKCMlxo"
   },
   "outputs": [],
   "source": [
    "# 복수 기준 정렬\n",
    "\n"
   ]
  },
  {
   "cell_type": "markdown",
   "metadata": {
    "id": "WMrl1vo0Mxol"
   },
   "source": [
    "### 연습\n",
    "1. `nfl.csv` 파일을 Birthday 컬럼을 날짜형식으로 읽기\n",
    "2. 선수 이름을 인덱스로 설정하기\n",
    "3. 연봉이 가장 높은 5명 출력하기\n",
    "4. 팀 이름을 알파벳 순으로, 연봉은 내림차순으로 정렬하기\n",
    "5. `Philadelphia Eagles`에서 가장 나이가 만은 선수를 알아내기"
   ]
  },
  {
   "cell_type": "code",
   "execution_count": 213,
   "metadata": {
    "id": "gWgOupGYjYmC"
   },
   "outputs": [
    {
     "data": {
      "text/html": [
       "<div>\n",
       "<style scoped>\n",
       "    .dataframe tbody tr th:only-of-type {\n",
       "        vertical-align: middle;\n",
       "    }\n",
       "\n",
       "    .dataframe tbody tr th {\n",
       "        vertical-align: top;\n",
       "    }\n",
       "\n",
       "    .dataframe thead th {\n",
       "        text-align: right;\n",
       "    }\n",
       "</style>\n",
       "<table border=\"1\" class=\"dataframe\">\n",
       "  <thead>\n",
       "    <tr style=\"text-align: right;\">\n",
       "      <th></th>\n",
       "      <th>Name</th>\n",
       "      <th>Team</th>\n",
       "      <th>Position</th>\n",
       "      <th>Birthday</th>\n",
       "      <th>Salary</th>\n",
       "    </tr>\n",
       "  </thead>\n",
       "  <tbody>\n",
       "    <tr>\n",
       "      <th>0</th>\n",
       "      <td>Tremon Smith</td>\n",
       "      <td>Philadelphia Eagles</td>\n",
       "      <td>RB</td>\n",
       "      <td>1996-07-20</td>\n",
       "      <td>570000</td>\n",
       "    </tr>\n",
       "    <tr>\n",
       "      <th>1</th>\n",
       "      <td>Shawn Williams</td>\n",
       "      <td>Cincinnati Bengals</td>\n",
       "      <td>SS</td>\n",
       "      <td>1991-05-13</td>\n",
       "      <td>3500000</td>\n",
       "    </tr>\n",
       "    <tr>\n",
       "      <th>2</th>\n",
       "      <td>Adam Butler</td>\n",
       "      <td>New England Patriots</td>\n",
       "      <td>DT</td>\n",
       "      <td>1994-04-12</td>\n",
       "      <td>645000</td>\n",
       "    </tr>\n",
       "    <tr>\n",
       "      <th>3</th>\n",
       "      <td>Derek Wolfe</td>\n",
       "      <td>Denver Broncos</td>\n",
       "      <td>DE</td>\n",
       "      <td>1990-02-24</td>\n",
       "      <td>8000000</td>\n",
       "    </tr>\n",
       "    <tr>\n",
       "      <th>4</th>\n",
       "      <td>Jake Ryan</td>\n",
       "      <td>Jacksonville Jaguars</td>\n",
       "      <td>OLB</td>\n",
       "      <td>1992-02-27</td>\n",
       "      <td>1000000</td>\n",
       "    </tr>\n",
       "  </tbody>\n",
       "</table>\n",
       "</div>"
      ],
      "text/plain": [
       "             Name                  Team Position   Birthday   Salary\n",
       "0    Tremon Smith   Philadelphia Eagles       RB 1996-07-20   570000\n",
       "1  Shawn Williams    Cincinnati Bengals       SS 1991-05-13  3500000\n",
       "2     Adam Butler  New England Patriots       DT 1994-04-12   645000\n",
       "3     Derek Wolfe        Denver Broncos       DE 1990-02-24  8000000\n",
       "4       Jake Ryan  Jacksonville Jaguars      OLB 1992-02-27  1000000"
      ]
     },
     "execution_count": 213,
     "metadata": {},
     "output_type": "execute_result"
    }
   ],
   "source": [
    "# 1. `nfl.csv` 파일을 Birthday 컬럼을 날짜형식으로 읽기\n",
    "df = pd.read_csv(\"data/nfl.csv\",encoding=\"cp949\",parse_dates=['Birthday'])\n",
    "df.head()"
   ]
  },
  {
   "cell_type": "code",
   "execution_count": 214,
   "metadata": {
    "id": "TP4PIaTxiuvs"
   },
   "outputs": [
    {
     "data": {
      "text/html": [
       "<div>\n",
       "<style scoped>\n",
       "    .dataframe tbody tr th:only-of-type {\n",
       "        vertical-align: middle;\n",
       "    }\n",
       "\n",
       "    .dataframe tbody tr th {\n",
       "        vertical-align: top;\n",
       "    }\n",
       "\n",
       "    .dataframe thead th {\n",
       "        text-align: right;\n",
       "    }\n",
       "</style>\n",
       "<table border=\"1\" class=\"dataframe\">\n",
       "  <thead>\n",
       "    <tr style=\"text-align: right;\">\n",
       "      <th></th>\n",
       "      <th>Team</th>\n",
       "      <th>Position</th>\n",
       "      <th>Birthday</th>\n",
       "      <th>Salary</th>\n",
       "    </tr>\n",
       "    <tr>\n",
       "      <th>Name</th>\n",
       "      <th></th>\n",
       "      <th></th>\n",
       "      <th></th>\n",
       "      <th></th>\n",
       "    </tr>\n",
       "  </thead>\n",
       "  <tbody>\n",
       "    <tr>\n",
       "      <th>Tremon Smith</th>\n",
       "      <td>Philadelphia Eagles</td>\n",
       "      <td>RB</td>\n",
       "      <td>1996-07-20</td>\n",
       "      <td>570000</td>\n",
       "    </tr>\n",
       "    <tr>\n",
       "      <th>Shawn Williams</th>\n",
       "      <td>Cincinnati Bengals</td>\n",
       "      <td>SS</td>\n",
       "      <td>1991-05-13</td>\n",
       "      <td>3500000</td>\n",
       "    </tr>\n",
       "    <tr>\n",
       "      <th>Adam Butler</th>\n",
       "      <td>New England Patriots</td>\n",
       "      <td>DT</td>\n",
       "      <td>1994-04-12</td>\n",
       "      <td>645000</td>\n",
       "    </tr>\n",
       "    <tr>\n",
       "      <th>Derek Wolfe</th>\n",
       "      <td>Denver Broncos</td>\n",
       "      <td>DE</td>\n",
       "      <td>1990-02-24</td>\n",
       "      <td>8000000</td>\n",
       "    </tr>\n",
       "    <tr>\n",
       "      <th>Jake Ryan</th>\n",
       "      <td>Jacksonville Jaguars</td>\n",
       "      <td>OLB</td>\n",
       "      <td>1992-02-27</td>\n",
       "      <td>1000000</td>\n",
       "    </tr>\n",
       "    <tr>\n",
       "      <th>...</th>\n",
       "      <td>...</td>\n",
       "      <td>...</td>\n",
       "      <td>...</td>\n",
       "      <td>...</td>\n",
       "    </tr>\n",
       "    <tr>\n",
       "      <th>Bashaud Breeland</th>\n",
       "      <td>Kansas City Chiefs</td>\n",
       "      <td>CB</td>\n",
       "      <td>1992-01-30</td>\n",
       "      <td>805000</td>\n",
       "    </tr>\n",
       "    <tr>\n",
       "      <th>Craig James</th>\n",
       "      <td>Philadelphia Eagles</td>\n",
       "      <td>CB</td>\n",
       "      <td>1996-04-29</td>\n",
       "      <td>570000</td>\n",
       "    </tr>\n",
       "    <tr>\n",
       "      <th>Jonotthan Harrison</th>\n",
       "      <td>New York Jets</td>\n",
       "      <td>C</td>\n",
       "      <td>1991-08-25</td>\n",
       "      <td>1500000</td>\n",
       "    </tr>\n",
       "    <tr>\n",
       "      <th>Chuma Edoga</th>\n",
       "      <td>New York Jets</td>\n",
       "      <td>OT</td>\n",
       "      <td>1997-05-25</td>\n",
       "      <td>495000</td>\n",
       "    </tr>\n",
       "    <tr>\n",
       "      <th>Tajae Sharpe</th>\n",
       "      <td>Tennessee Titans</td>\n",
       "      <td>WR</td>\n",
       "      <td>1994-12-23</td>\n",
       "      <td>2025000</td>\n",
       "    </tr>\n",
       "  </tbody>\n",
       "</table>\n",
       "<p>1655 rows × 4 columns</p>\n",
       "</div>"
      ],
      "text/plain": [
       "                                    Team Position   Birthday   Salary\n",
       "Name                                                                 \n",
       "Tremon Smith         Philadelphia Eagles       RB 1996-07-20   570000\n",
       "Shawn Williams        Cincinnati Bengals       SS 1991-05-13  3500000\n",
       "Adam Butler         New England Patriots       DT 1994-04-12   645000\n",
       "Derek Wolfe               Denver Broncos       DE 1990-02-24  8000000\n",
       "Jake Ryan           Jacksonville Jaguars      OLB 1992-02-27  1000000\n",
       "...                                  ...      ...        ...      ...\n",
       "Bashaud Breeland      Kansas City Chiefs       CB 1992-01-30   805000\n",
       "Craig James          Philadelphia Eagles       CB 1996-04-29   570000\n",
       "Jonotthan Harrison         New York Jets        C 1991-08-25  1500000\n",
       "Chuma Edoga                New York Jets       OT 1997-05-25   495000\n",
       "Tajae Sharpe            Tennessee Titans       WR 1994-12-23  2025000\n",
       "\n",
       "[1655 rows x 4 columns]"
      ]
     },
     "execution_count": 214,
     "metadata": {},
     "output_type": "execute_result"
    }
   ],
   "source": [
    "# 2. 선수 이름을 인덱스로 설정하기\n",
    "df.set_index('Name',inplace=True)\n",
    "df\n"
   ]
  },
  {
   "cell_type": "code",
   "execution_count": 215,
   "metadata": {
    "id": "rgwn50Pujojd"
   },
   "outputs": [
    {
     "data": {
      "text/html": [
       "<div>\n",
       "<style scoped>\n",
       "    .dataframe tbody tr th:only-of-type {\n",
       "        vertical-align: middle;\n",
       "    }\n",
       "\n",
       "    .dataframe tbody tr th {\n",
       "        vertical-align: top;\n",
       "    }\n",
       "\n",
       "    .dataframe thead th {\n",
       "        text-align: right;\n",
       "    }\n",
       "</style>\n",
       "<table border=\"1\" class=\"dataframe\">\n",
       "  <thead>\n",
       "    <tr style=\"text-align: right;\">\n",
       "      <th></th>\n",
       "      <th>Team</th>\n",
       "      <th>Position</th>\n",
       "      <th>Birthday</th>\n",
       "      <th>Salary</th>\n",
       "    </tr>\n",
       "    <tr>\n",
       "      <th>Name</th>\n",
       "      <th></th>\n",
       "      <th></th>\n",
       "      <th></th>\n",
       "      <th></th>\n",
       "    </tr>\n",
       "  </thead>\n",
       "  <tbody>\n",
       "    <tr>\n",
       "      <th>Kirk Cousins</th>\n",
       "      <td>Minnesota Vikings</td>\n",
       "      <td>QB</td>\n",
       "      <td>1988-08-19</td>\n",
       "      <td>27500000</td>\n",
       "    </tr>\n",
       "    <tr>\n",
       "      <th>Marcus Mariota</th>\n",
       "      <td>Tennessee Titans</td>\n",
       "      <td>QB</td>\n",
       "      <td>1993-10-30</td>\n",
       "      <td>20922000</td>\n",
       "    </tr>\n",
       "    <tr>\n",
       "      <th>Jameis Winston</th>\n",
       "      <td>Tampa Bay Buccaneers</td>\n",
       "      <td>QB</td>\n",
       "      <td>1994-01-06</td>\n",
       "      <td>20922000</td>\n",
       "    </tr>\n",
       "    <tr>\n",
       "      <th>Derek Carr</th>\n",
       "      <td>Oakland Raiders</td>\n",
       "      <td>QB</td>\n",
       "      <td>1991-03-28</td>\n",
       "      <td>19900000</td>\n",
       "    </tr>\n",
       "    <tr>\n",
       "      <th>Jimmy Garoppolo</th>\n",
       "      <td>San Francisco 49Ers</td>\n",
       "      <td>QB</td>\n",
       "      <td>1991-11-02</td>\n",
       "      <td>17200000</td>\n",
       "    </tr>\n",
       "  </tbody>\n",
       "</table>\n",
       "</div>"
      ],
      "text/plain": [
       "                                 Team Position   Birthday    Salary\n",
       "Name                                                               \n",
       "Kirk Cousins        Minnesota Vikings       QB 1988-08-19  27500000\n",
       "Marcus Mariota       Tennessee Titans       QB 1993-10-30  20922000\n",
       "Jameis Winston   Tampa Bay Buccaneers       QB 1994-01-06  20922000\n",
       "Derek Carr            Oakland Raiders       QB 1991-03-28  19900000\n",
       "Jimmy Garoppolo   San Francisco 49Ers       QB 1991-11-02  17200000"
      ]
     },
     "execution_count": 215,
     "metadata": {},
     "output_type": "execute_result"
    }
   ],
   "source": [
    "# 3. 연봉이 가장 높은 5명 출력하기\n",
    "top_5_slary = df.nlargest(5,'Salary')\n",
    "top_5_slary\n"
   ]
  },
  {
   "cell_type": "code",
   "execution_count": 216,
   "metadata": {
    "id": "WWYcb0KDjq19"
   },
   "outputs": [
    {
     "data": {
      "text/html": [
       "<div>\n",
       "<style scoped>\n",
       "    .dataframe tbody tr th:only-of-type {\n",
       "        vertical-align: middle;\n",
       "    }\n",
       "\n",
       "    .dataframe tbody tr th {\n",
       "        vertical-align: top;\n",
       "    }\n",
       "\n",
       "    .dataframe thead th {\n",
       "        text-align: right;\n",
       "    }\n",
       "</style>\n",
       "<table border=\"1\" class=\"dataframe\">\n",
       "  <thead>\n",
       "    <tr style=\"text-align: right;\">\n",
       "      <th></th>\n",
       "      <th>Team</th>\n",
       "      <th>Position</th>\n",
       "      <th>Birthday</th>\n",
       "      <th>Salary</th>\n",
       "    </tr>\n",
       "    <tr>\n",
       "      <th>Name</th>\n",
       "      <th></th>\n",
       "      <th></th>\n",
       "      <th></th>\n",
       "      <th></th>\n",
       "    </tr>\n",
       "  </thead>\n",
       "  <tbody>\n",
       "    <tr>\n",
       "      <th>Chandler Jones</th>\n",
       "      <td>Arizona Cardinals</td>\n",
       "      <td>OLB</td>\n",
       "      <td>1990-02-27</td>\n",
       "      <td>16500000</td>\n",
       "    </tr>\n",
       "    <tr>\n",
       "      <th>Patrick Peterson</th>\n",
       "      <td>Arizona Cardinals</td>\n",
       "      <td>CB</td>\n",
       "      <td>1990-07-11</td>\n",
       "      <td>11000000</td>\n",
       "    </tr>\n",
       "    <tr>\n",
       "      <th>Larry Fitzgerald</th>\n",
       "      <td>Arizona Cardinals</td>\n",
       "      <td>WR</td>\n",
       "      <td>1983-08-31</td>\n",
       "      <td>11000000</td>\n",
       "    </tr>\n",
       "    <tr>\n",
       "      <th>David Johnson</th>\n",
       "      <td>Arizona Cardinals</td>\n",
       "      <td>RB</td>\n",
       "      <td>1991-12-16</td>\n",
       "      <td>5700000</td>\n",
       "    </tr>\n",
       "    <tr>\n",
       "      <th>Justin Pugh</th>\n",
       "      <td>Arizona Cardinals</td>\n",
       "      <td>G</td>\n",
       "      <td>1990-08-15</td>\n",
       "      <td>5000000</td>\n",
       "    </tr>\n",
       "    <tr>\n",
       "      <th>...</th>\n",
       "      <td>...</td>\n",
       "      <td>...</td>\n",
       "      <td>...</td>\n",
       "      <td>...</td>\n",
       "    </tr>\n",
       "    <tr>\n",
       "      <th>Ross Pierschbacher</th>\n",
       "      <td>Washington Redskins</td>\n",
       "      <td>C</td>\n",
       "      <td>1995-05-05</td>\n",
       "      <td>495000</td>\n",
       "    </tr>\n",
       "    <tr>\n",
       "      <th>Kelvin Harmon</th>\n",
       "      <td>Washington Redskins</td>\n",
       "      <td>WR</td>\n",
       "      <td>1996-12-15</td>\n",
       "      <td>495000</td>\n",
       "    </tr>\n",
       "    <tr>\n",
       "      <th>Wes Martin</th>\n",
       "      <td>Washington Redskins</td>\n",
       "      <td>G</td>\n",
       "      <td>1996-05-09</td>\n",
       "      <td>495000</td>\n",
       "    </tr>\n",
       "    <tr>\n",
       "      <th>Jimmy Moreland</th>\n",
       "      <td>Washington Redskins</td>\n",
       "      <td>CB</td>\n",
       "      <td>1995-08-26</td>\n",
       "      <td>495000</td>\n",
       "    </tr>\n",
       "    <tr>\n",
       "      <th>Jeremy Reaves</th>\n",
       "      <td>Washington Redskins</td>\n",
       "      <td>SS</td>\n",
       "      <td>1996-08-29</td>\n",
       "      <td>495000</td>\n",
       "    </tr>\n",
       "  </tbody>\n",
       "</table>\n",
       "<p>1655 rows × 4 columns</p>\n",
       "</div>"
      ],
      "text/plain": [
       "                                   Team Position   Birthday    Salary\n",
       "Name                                                                 \n",
       "Chandler Jones        Arizona Cardinals      OLB 1990-02-27  16500000\n",
       "Patrick Peterson      Arizona Cardinals       CB 1990-07-11  11000000\n",
       "Larry Fitzgerald      Arizona Cardinals       WR 1983-08-31  11000000\n",
       "David Johnson         Arizona Cardinals       RB 1991-12-16   5700000\n",
       "Justin Pugh           Arizona Cardinals        G 1990-08-15   5000000\n",
       "...                                 ...      ...        ...       ...\n",
       "Ross Pierschbacher  Washington Redskins        C 1995-05-05    495000\n",
       "Kelvin Harmon       Washington Redskins       WR 1996-12-15    495000\n",
       "Wes Martin          Washington Redskins        G 1996-05-09    495000\n",
       "Jimmy Moreland      Washington Redskins       CB 1995-08-26    495000\n",
       "Jeremy Reaves       Washington Redskins       SS 1996-08-29    495000\n",
       "\n",
       "[1655 rows x 4 columns]"
      ]
     },
     "execution_count": 216,
     "metadata": {},
     "output_type": "execute_result"
    }
   ],
   "source": [
    "# 4. 팀 이름을 알파벳 순으로, 연봉은 내림차순으로 정렬하기\n",
    "\n",
    "sorted_df = df.sort_values(by=[\"Team\",\"Salary\"],ascending=[True,False])\n",
    "sorted_df"
   ]
  },
  {
   "cell_type": "code",
   "execution_count": 219,
   "metadata": {
    "id": "LmDUkHQajvPM"
   },
   "outputs": [
    {
     "data": {
      "text/html": [
       "<div>\n",
       "<style scoped>\n",
       "    .dataframe tbody tr th:only-of-type {\n",
       "        vertical-align: middle;\n",
       "    }\n",
       "\n",
       "    .dataframe tbody tr th {\n",
       "        vertical-align: top;\n",
       "    }\n",
       "\n",
       "    .dataframe thead th {\n",
       "        text-align: right;\n",
       "    }\n",
       "</style>\n",
       "<table border=\"1\" class=\"dataframe\">\n",
       "  <thead>\n",
       "    <tr style=\"text-align: right;\">\n",
       "      <th></th>\n",
       "      <th>Team</th>\n",
       "      <th>Position</th>\n",
       "      <th>Birthday</th>\n",
       "      <th>Salary</th>\n",
       "    </tr>\n",
       "    <tr>\n",
       "      <th>Name</th>\n",
       "      <th></th>\n",
       "      <th></th>\n",
       "      <th></th>\n",
       "      <th></th>\n",
       "    </tr>\n",
       "  </thead>\n",
       "  <tbody>\n",
       "    <tr>\n",
       "      <th>Josh McCown</th>\n",
       "      <td>Philadelphia Eagles</td>\n",
       "      <td>QB</td>\n",
       "      <td>1979-07-04</td>\n",
       "      <td>2000000</td>\n",
       "    </tr>\n",
       "  </tbody>\n",
       "</table>\n",
       "</div>"
      ],
      "text/plain": [
       "                            Team Position   Birthday   Salary\n",
       "Name                                                         \n",
       "Josh McCown  Philadelphia Eagles       QB 1979-07-04  2000000"
      ]
     },
     "execution_count": 219,
     "metadata": {},
     "output_type": "execute_result"
    }
   ],
   "source": [
    "# 5. Philadelphia Eagles에서 가장 나이가 만은 선수를 알아내기\n",
    "df[(df['Team'] == \"Philadelphia Eagles\")].sort_values(by = [\"Birthday\"],ascending=[True]).head(1)\n"
   ]
  },
  {
   "cell_type": "markdown",
   "metadata": {
    "id": "6Ed7Q0DgSORJ"
   },
   "source": [
    "## 병합\n",
    "\n",
    "- `merge()`를 사용하여 두 데이터프레임을 key를 기준으로 병합"
   ]
  },
  {
   "cell_type": "code",
   "execution_count": 141,
   "metadata": {
    "id": "PLFIRz43NT_x"
   },
   "outputs": [],
   "source": [
    "data_A = pd.DataFrame({\n",
    "    \"ID\": [1, 2, 3, 4, 5],\n",
    "    \"Name\": [\"Anna\", \"Bob\", \"Charlie\", \"David\", \"Ella\"],\n",
    "    \"Value\": [100, 200, 300, 400, 500]\n",
    "})\n",
    "\n",
    "data_B = pd.DataFrame({\n",
    "    \"ID\": [3, 4, 5, 6, 7],\n",
    "    \"Description\": [\"Type C\",\"Type D\", \"Type E\", \"Type F\", \"Type G\"],\n",
    "    \"Quantity\": [30, 40, 50, 60, 70]\n",
    "})"
   ]
  },
  {
   "cell_type": "code",
   "execution_count": 142,
   "metadata": {
    "id": "hac8jw1rWEgN"
   },
   "outputs": [
    {
     "data": {
      "text/html": [
       "<div>\n",
       "<style scoped>\n",
       "    .dataframe tbody tr th:only-of-type {\n",
       "        vertical-align: middle;\n",
       "    }\n",
       "\n",
       "    .dataframe tbody tr th {\n",
       "        vertical-align: top;\n",
       "    }\n",
       "\n",
       "    .dataframe thead th {\n",
       "        text-align: right;\n",
       "    }\n",
       "</style>\n",
       "<table border=\"1\" class=\"dataframe\">\n",
       "  <thead>\n",
       "    <tr style=\"text-align: right;\">\n",
       "      <th></th>\n",
       "      <th>ID</th>\n",
       "      <th>Name</th>\n",
       "      <th>Value</th>\n",
       "    </tr>\n",
       "  </thead>\n",
       "  <tbody>\n",
       "    <tr>\n",
       "      <th>0</th>\n",
       "      <td>1</td>\n",
       "      <td>Anna</td>\n",
       "      <td>100</td>\n",
       "    </tr>\n",
       "    <tr>\n",
       "      <th>1</th>\n",
       "      <td>2</td>\n",
       "      <td>Bob</td>\n",
       "      <td>200</td>\n",
       "    </tr>\n",
       "    <tr>\n",
       "      <th>2</th>\n",
       "      <td>3</td>\n",
       "      <td>Charlie</td>\n",
       "      <td>300</td>\n",
       "    </tr>\n",
       "    <tr>\n",
       "      <th>3</th>\n",
       "      <td>4</td>\n",
       "      <td>David</td>\n",
       "      <td>400</td>\n",
       "    </tr>\n",
       "    <tr>\n",
       "      <th>4</th>\n",
       "      <td>5</td>\n",
       "      <td>Ella</td>\n",
       "      <td>500</td>\n",
       "    </tr>\n",
       "  </tbody>\n",
       "</table>\n",
       "</div>"
      ],
      "text/plain": [
       "   ID     Name  Value\n",
       "0   1     Anna    100\n",
       "1   2      Bob    200\n",
       "2   3  Charlie    300\n",
       "3   4    David    400\n",
       "4   5     Ella    500"
      ]
     },
     "metadata": {},
     "output_type": "display_data"
    },
    {
     "data": {
      "text/html": [
       "<div>\n",
       "<style scoped>\n",
       "    .dataframe tbody tr th:only-of-type {\n",
       "        vertical-align: middle;\n",
       "    }\n",
       "\n",
       "    .dataframe tbody tr th {\n",
       "        vertical-align: top;\n",
       "    }\n",
       "\n",
       "    .dataframe thead th {\n",
       "        text-align: right;\n",
       "    }\n",
       "</style>\n",
       "<table border=\"1\" class=\"dataframe\">\n",
       "  <thead>\n",
       "    <tr style=\"text-align: right;\">\n",
       "      <th></th>\n",
       "      <th>ID</th>\n",
       "      <th>Description</th>\n",
       "      <th>Quantity</th>\n",
       "    </tr>\n",
       "  </thead>\n",
       "  <tbody>\n",
       "    <tr>\n",
       "      <th>0</th>\n",
       "      <td>3</td>\n",
       "      <td>Type C</td>\n",
       "      <td>30</td>\n",
       "    </tr>\n",
       "    <tr>\n",
       "      <th>1</th>\n",
       "      <td>4</td>\n",
       "      <td>Type D</td>\n",
       "      <td>40</td>\n",
       "    </tr>\n",
       "    <tr>\n",
       "      <th>2</th>\n",
       "      <td>5</td>\n",
       "      <td>Type E</td>\n",
       "      <td>50</td>\n",
       "    </tr>\n",
       "    <tr>\n",
       "      <th>3</th>\n",
       "      <td>6</td>\n",
       "      <td>Type F</td>\n",
       "      <td>60</td>\n",
       "    </tr>\n",
       "    <tr>\n",
       "      <th>4</th>\n",
       "      <td>7</td>\n",
       "      <td>Type G</td>\n",
       "      <td>70</td>\n",
       "    </tr>\n",
       "  </tbody>\n",
       "</table>\n",
       "</div>"
      ],
      "text/plain": [
       "   ID Description  Quantity\n",
       "0   3      Type C        30\n",
       "1   4      Type D        40\n",
       "2   5      Type E        50\n",
       "3   6      Type F        60\n",
       "4   7      Type G        70"
      ]
     },
     "metadata": {},
     "output_type": "display_data"
    }
   ],
   "source": [
    "display(data_A)\n",
    "display(data_B)"
   ]
  },
  {
   "cell_type": "markdown",
   "metadata": {
    "id": "b0_55HghZuKP"
   },
   "source": [
    "- inner 병합 : key가 일치하는 데이터만 포함\n",
    "\n",
    "![image.png](data:image/png;base64,iVBORw0KGgoAAAANSUhEUgAAAOUAAAC6CAYAAABREYo0AAAgAElEQVR4Xu1dBYBU5RY+dJd0d0uLqCgIKg8VWxETDEJARJBGBAQU6e5WQBARu1sUCemU7u6u933nv//MndnZ3dllZ9ld5/r2ATt3bpz/P/WdSnYVh4SPMAXCFEgwFEgWZsoEsxbhBwlTQCkQZsrwRghTIIFRIMyUCWxBwo8TpkCYKcN7IEyBBEaBMFMmsAUJP06YAmGmDO+BMAUSGAXCTJnAFiT8OGEKhJkyvAfCFEhgFEgyTMkciGTJkol/LgR/xyPQ703ahPd7gb6vcaMor2G+b+/Bv169yn97czLs78yfMcvViOyZ/PeRPc8+S6B9Zu6dDM8b3HN47o0vmDfk90iPqxHeUT80F/bQw0uTwOtin8dNK0tvu57BXCOqd05g/BbU4yQJpvRfQPebR8ZQbmaz57sZ22xfPUv3mt0c3t+bTajsF2AjRnwG803LlFGxpmUA9zMG+p6b9d3fCfT+3t9F/xz2Wp7NjvcL9LyWFj408dt2/vS357oZie/mvoavkPO+WWQCN6idnohOShJM6ZamwdI+kMYKrG0i33L2Gm5tZhjYn0WMZrHMHewz+guLYL7nfiZ/urg1ZTDXst93C59Awsx9rStXrqimjIyx3OcGfB6XAAj2GmFNGexqxuN5Kmnxkzx5clm3aYesWr9VsmTOKDWqlJas+JPH0eMnZfGKjXLsxGkpUTifVK1QQq7QFnO+ZzcTz/1nzWbZuHmnFMyfW6reWFzSpU2j19i2c58sX7tFLl2+LNUrlpbCBXLJZWzC5M4m5DWSJ08mZ89dlIVL18jRYyelXKnCUq5kIcFH+tm6f3fKajxfihTJ9XuBOJXXSZcujd4jxw2Z5dKlS/LP6s2yffd+SZE8hSTDdSzDpEiZQjKkTSvZs2WWooVyS5ZMGfS9Img7fIHXpcDgc/y7bbcsX7NFUuL7bubnOSlTppTqlUtLvlw3mO84bkEK0JfHnn2HZduuA3Lw8DE5c/68ZEqXTnJkzyxFCuSRPLmy6TmWnnZdTp0+K78vMTSpVLaY0uUy6Jg8WQpZtHw9rrdPct6QVWpULS0Z0qX1sT7sNXbuOSh/LVsrqVOnlturl9d3NjQ3z5VUjiShKd3SeeD4edJ7yPtSoXRRGd+/jZQvXUTXauW6LfJK15HKtDdVKCVDejbHZ4U9m8duci5whz4TZcSUBfLY/bfLkB7NJVeOrHqN9z/+QboPnCYnT5yRpx6uI+91exkMm9pnA1Fq7z90VJ55tb8yUqdWDaVjiydwDjVIchkycb4+X1p878KFS0YwuA5+/8KFi1IwX06ZMrC93FKtjJw5e0469p0osz79RVKBYfi5x3TE99NgkxbOn1Oq3FhCGj10p9S+pYLj+5kLuzXOlStXVSCMff8LadNjtGTKmB40MM+QEu9OhuXvRvdrI/VqVXEYmQIlORjqlHz42S/y/W//yNpN22XfwaP6/Lxe3pw3SPlSReSBe2rIw/Vvk4zp0+p3eWUy89Yd+5QmS1dtkrffaCwdWz6h75E6dSp5ueNQ+RDvli93dunR9hnQ9k7jvOLgffl8fK5Pvv5DmrQbBEGVRWaN7gqhVdLzWVJhSF2vpJCQ7jbZuOn7DJ8pN2KDjOnXWiUyD2rP1t1Hyb9b96h12eDuGvJul5egSTNE8Am7vDtFRk37TB69t6YM7N5UcmbPoteY+clP0nPQdDDJBWymlNLxlYbS/Nn7nP1jAA4qvwOHj8vzbQeoJurQ4nFp3+xRh0mSyfDJC/B8H0jmjBmkaMHcYM40zv3ttkqmmjFn9qzSCden4Dh77rx0fmeyzFrws2TPmlmKFcojyVPQP8V38EMrYPP2vXIem7w4rIB+nV6QerWr+jAUr240pdnon377pwyH4EkPjaybHg9+9Pgp2QJrIFOG9DKyTyu5+/bKahWkTJFC9hw4Iu+MmC2ffLNQTpw6A7plkpJF8+I90qv1QboeP3lKGYaCoe1Ljyjd7Pe37dyvNFm2+l/p1e45ad/8Mbl48ZKkTJVSWnQeLh9/9bvStDCskxFvt5RqFchwxhTmY6fA+/KZX+owRHJkyyLvj+iEc0pA21IoROZRJ05W/Y8x5UjZhM2TApuMm/DVFx6Stk0fwd9p/nglMxkgEFN+MP8neQtMee78BWWIPDmzybtdX5J77vDVKAdg1vky5WMexh8BpuwJTVmsUF4Z1KOZlCqWTy5euuyHWMKExDNmw8anRuX9uuCZJn/4rdx2U3kZiU2bNm0qj/l9FkJiGUzuce9/CdP7X6l7W2WZOOB1yZbFCBxr3rmF16lTZ+XoiZNqCvNdUsOM/fLHJdJtwDRoynQyqk9rZUoeByFk3hw4XeaDIdOCcerVukmefLA23gFCJU0aOQehsWHLbhVaP/6xXE3npx+pI11fbSRZwLTJqCnB7I3bDozAlNT8zbsMl4+++E3ve/bcBal1cwUZ924buSFbpgiCxJ8prRZNnOwX+Kn/Y0w5SpkyIzTB6TNnJANMrP5dX5ZHYG65TeBO/SbJ6OmfB9SUb2LTXgITpUqVSk6ePiOVyxVTU7hcSeMjkeFpvjZ+faBLU3qZcviUT1XblipWQKYP6yCliuaPdD9ZJjp3/qJ06z9FJsz8Su66vYrMGdNNtYr/8fGXf0hHPDtdrKmD3pDbqpdTrUsf0R4mpBH4lp999xe01gjJlCkttFVrFTZ81xFTP5NB4+aqCdni2QbS5qWH1Tz1P45B0/Ya+oFq9LQwS3u8/qy80PAeFThbd+wFTQZFZEpoymbUlF/+BiGSSQUULYOWuE+XNo0gnJKrYCFdF3zzJ0xdX00ZZsoEKo6CNV9bdR8JM2uvPFTvVtkI5ly2ehN8zyIy/r22UqZ4AQ9TRaYpZy34EWbkFPW57rqtinz721I5cOiYPH7fHTKg+0tg9nSqlVRTvgbzFaCQMV9dmhJMSW1Lpnx/eEcpUSRfpFS1IAaZsss7k2TS7G+kzm2VZOaoLurLqn8IRrl0+Yr+uWbDdt3gW+C/TRrYVu6vezOY6goEiBfM8TKnsQxsOIKWwwKYh626jcL7pZXhvVtBI1ZVX7B5lxGy6J91cm+d6jJ54OswedMqrSzKSr+S16F23w0QiALp7+Ub5O6aVWTMO69K7pxZZcv2ffAHA2hKMGXzTsNkzue/Sp1bKwLgSie//LVSzeo+HRtLwwa1cC+8H5jz028Xwnwd6mO+hpkykTMlfcr1m3fBl3xR/abuA6bKEaCBj4Gp+nfl79LpG9JUVPP1vtsj+JRd3p2sGnbcO6/JdwA8xn3whaTCZuwCU61V4wdU4x48Ap/y9QGyYs3WCExJn7IXzNci8Cd7t38OiGleuazmq0EQGbEjgxTIl0P9NWo1w5STPUz5wcjOki4NmFLjo/AVsWkJmCxZuVGaYYMfOHRcmeceMBWZx2rKQCGcwEyZzmFKCJ5flkrbXmPl8JET6oO/8GQ91Z5kEncoyORhGFP53dFzZPC4eZIXwM1YMOWt1cqqz/sCQBp/nzKV41N+ANP32UfrSpMn6slbMJUX410qwQoZ+GZTIOAllOmpyV98YwhQWq9PGWbKRM+Uo2X9vzsAhLwozz5WV94eNlOmzPkGiGYq6QDg4ZXnG+hGU/N1xhfyGMzagW828wA9NMu6AgSi6ThrZBfJDVS2ZbeRCH+slfx5cgCxbC23VSsHVPKINIGpxtBKx1ee8NGUZMq3h32gAuAGgDbclAYFMsTlJksN07jXG8/BN6yk/74AQKQrhAHN17vvqCrzxr+ppqT7oDYZPOFjRXfz4LneH94JIFchj/aPbOlMOMmEawjiGE2ZDuZrKzVfp8/9XhHnDNBc4959Te6ocaOPqe9BdiGMCOLyOgu+XghGHodw0VUF2wiqbdm2R5q0HxyQKamJZy/4CRbH7XrfXxetltZ4jlNnz8i9d1aX/hCiueC/f4LrNu00VEMhH4zorEBPmCkTOVO+6mjKtzs0kaZP11eN9nrPcfLNr0sU0idqyQ3Use8kGTP9M3kEm2SQC32dhY3TBb5dutRpZNqQN+RmxEF/+3sN/LiJMIt3Iy5aRkYDIMkI869Ry3dlJRDfDs1hvoLhbdbPsEmfSN/hs2CmpVYNRq1I7WgT2aj9yJRDAALVr3OTMsCFi5dhNk+SqXO/lSrlSyjqmwaCgZueuvXwkZPy++LVMKeXySGAMi82+p+82/lFh3FNXNKaqr6JDibDiFfhc5ApWyJslDlTeg9TTp3zrYI8FCLj+7eVmvBTbRzUnSRgwx+8zuc/LJI2b45W/3BMv1cRJrklSqYk+jrr05+VKQl+Mdbaf9RcGTZlvtLl5Ub15a12z+p1X3pjsOTMBqEz0qCvYaZM5EzZujs05ZZd0g9M+WKjeqoVGb+kpN4Is7Zy+WIyrNcrMhsbZOiE+TBrYb76aUqar2lhOs4Y2lFuqlRSrzELplePwTPkJBDNRg/UlpZNHpC2PcfK0pWbpMMrj8sbzR73MKU1XwsXyK0xOaKwly5f8oklMq5XuEBObE6T+HAe8Uwy/hzE8tLg3t6sISY/iCYwnDmLIH6GtFLrlorydvvnpTDMY//sGrc/ScbS5AXHr6TZ6WbK4dBY9aApv/zhb2n39ng5cfI0/OZm8gxQ1UDmq/s6FDzvjJwt2WFm0ny94+YbozZfQf+Zn/yo/uOA7i9rwgfdig59JsgXP/4NUz0t1qWFWijPtRmgiQphTZlAmdG9yfh3MkhUccpXyZTI1OnTqYlKXxtDmz7vB+kBbXD6zFkgsTV1s9JUfajeLZDczX3NV2jKtAjWEzmtXqmUmoc0Hd8cMF0mffiN3JAlI4LfdWXh4jWyagN9SpivLk05wgX0zIS0J1NGdniBngswqU2cMjNMy2y4hye1DHx1ED4kmexhAFhdWjfSrBp3hlIg7Wh/52++0mzMjNjt8N4t1XylsCJ49M+aTfLEfbVkNJjMIqLuUIsmEYCxicDS72No5HYwI0MbBfLmiBLoaQGmpBVCwGwwNCU1NZ9vOZIv2vUZLysR762CuOWdAIJGIrZKTUq/OqwpEzBjBou+KlNCU/aFpnzpqf8pM3HxGQd8a9AMmfbR96ptmOJGsIQZLUPeahGYKYeCKSuXUhMtFWJ825F21hSZKUR0c+XIpoFxQvsMor8BBNaarwyJ9IJWLYlQyLShb3hCIoHyN70hEeNTTv7wa4Am5fSZGKfk8zNNbsDouWr+3Qd0dACAEcZP7f3c17VMzs/W/7tLypYs6LOqk4HudoXQ4fOTKWvfcqP6s32GzYI/+yXCIOmkW5unAfbc4/qeNzeY1x0IgGf45E+ULh3x3q/h/QkKRRUSsUz5xP13AFhrJlkRX9XwElIK5yJ+2R1hKApMJk4cPnZCMgKh/WBUmCkTMEt6y5CC0pRkyo5gSvhdJr3MIIbbd+2X9jCX/li8VpmMm/GumpVkaM9XotGUhrHpt/34+3K9xn4APfQXuUnbvPQQ/Eqm2ZmMH5M8MEOKF8kv4wGckDEu4V6BmJIMR1SVQkOBnllfI6BfReaO7e6Ts7oaoZDGQHt37D4obV54EClsT+o72LI0r0VhYpQEUnpACD0I//nxBndoVtP+g8cU4GI4onK54hrKKI0wEY/NAGna956guau54XsTJX0S38sNjZwSjEOLY/f+w/LBxz9qAgEzfJhR1B+JFQUAgPGINHmA6KujKZUpIVRovtqQCwXJe2PnyehpnyqNuWbMjWVYKKwpEzBbujXl0Enzpe+IWVK+ZBEZ3beVT5pdmzfHyIatu6QPci8JhjAfldUbJjidHLG1jfI64H8yKNmV6OdgP/OVYZS0qVLLVGg5mq/ckNY3Y2bQxNlfy7uj5oCpL+omYtaQb5ySaXYzNVDOxGyTe2oY2/946qE6QFsra5ZL9/emIiTytcYpiayaOKX5HjUK0eK+SN9jDJFpavXvJEhkQiYmVc2bjD54/MfSf8wc/bxw/lxAjrMrU+1CwjePls8/CDO4oTI+v8fAPdMU3xwwQ/5Eoj192EL5cmnIgkgoY7Ur1m2VXXsPKgB19x3VpDsC/4zF0v/kdZhm1wTxy2XIOOqJpIJ2iN3SmiD6zJzk2Z8a85VpjVkgJKzA5LMfhz/7Wg8Acr8s1gyn9EhNnAEahJkyATOlO6ez/5i58A+nScUyxWTyoNelQpmi+uTL126WZh2GyVqERLjwLZ6739nUNvfZaLsPPv5Jur43WQ4fPakbe1Tf1hr64DF93vfyxtsT1KecM7ab3FK1jG46i25yAxFwoRaaNvc7+HlXFORhupk1HWne8fnIVARwLOMEqlcc2K2ZtGx8v16zA8CWMWA8xh7nT3zLYUpTcKxJ8EgOf+2tsUgAWKgo8NTBHbRqxFax8PktynsIqDPN6E++/lP27D+kVgH9xFzIt723bnUVIkyI96/0YCIBE9l/W7RKdoCBmStr0viSwZfOpOBS/do3qcDL61SY0NdkUsEWxCkbvtIP4NdGRbkZ17UJ6UwynwHaPoWc2ZEAmLLCZ6ZpbjUjBeYKJGK8jPVbv3kH0g8zykcIC90M98EmFiTg7RnjR0tyaXZ/Llunm4Yb7P66NSRnDpNMzk371U+L5RCC4HfVrAzgwASkvaad2dzUSvNRjbB73yEpCROzXu1qmizAY9X6bQAw/tFN9jAAIWoYt5azeabcvN/8skSZ6Zaq5ZCvWtZjvi5ath5hlFWqPYx2jDyZujaQVCLCF5EqR9P4HyRzFymYB9Urd6h5ahmaz8ZrLUIWzZ8AmMgI9eFfli1R0BO+oIluQB1jrp+Bv/sXnmUVNBw1URqYySwxq4mSqBuyZvLQxg0I8Xs0pddu3CFrNrJK5Ij+m9qZTHgjkudZAED6+DM0GZhxRn6n9i2VlCY2LZGhjtWgLe/PLCIm6bvfTd8PPz8APCIN0sLnfxT0Z1VJOCQSY56Pny+4zdeY3NH3eyaIHsiMDPaaUT2H9SmDvVZw55lntkdkz+4WPqoxNchvt7pJWHAnI7hDKfa53QztfrZATBFZKCa4d/KISWVF9/0Dv58XaIrZ9RPu2UlCU7rJ678BPRkn7t3raBa3loyqd01U13DfL/h7Bb8h3OEM97fM773J5ZG9t89JngsYZrbbOcI9cG13mxM3Y/g/ufu7bvYIFIaJ+PyR91Uyy+Xb/yjwvSNPsA+eygnrzCTBlG4NFROm9P9eVAxgNIyv52fPdzNjoGu4z/O/RnTbIWqm9D5PVPdVnahMbM6P7JqBNr1bcAX1PVfjoKjeOyafRUeDa7FuoqP/9fg8STDl9SBc+J5hCoSKAmGmDBVlw9cNUyCWFAgzZSwJF/5amAKhokCYKUNF2fB1wxSIJQXCTBlLwoW/FqZAqCgQZspQUTZ83TAFYkmBMFPGknDhr4UpECoKhJkyVJQNXzdMgVhSIMyUsSRc+GthCoSKAmGmDBVlw9cNUyCWFAgzZSwJF/5amAKhokCYKUNF2fB1wxSIJQXCTBlLwoW/FqZAqCgQZspQUTZ83TAFYkmBMFPGknDhr4UpECoKhJkyVJQNXzdMgVhSIMyUsSRc+GthCoSKAmGmDBVlw9cNUyCWFAgzZSwJF/5amAKhosB/iilj2h8nWKL79+oJ9nuJ/TzTuItNuFyNeeLkpdC4y7lugB7VcXKHhHyRJMeUETuvRdwwppObaefmXXRuBO9SBepM5zRYw0ne1o62A7l7kQM1qUqszZ0CdbLzb2RlO8/pn+zIrsTwpWegboE+9ORX7Ho43fQsTZMSPYMRBomeKY328zKedwEth5kGxLrmTl9X/4GrgQgV016ytku72Y+mRSMZ1t4zUCe5hMioUXXs82E+I9b0HTmuIfrD9tU1DBvdofMuPULTMHggerrEqI9Qje76CfnzRM2UgaS4XUh3T1P/BWC3bnZKP3z0hBzB38+ikzlb6LN9P3/OY5z5uQsXlJlTYVAPh7hyylUa/MkZiakx/yIzWufnvCGz5MiWSW7AD8/xPa6iybF7IwXeBgmJMaOkp8MggZ6XczkPHz1uaHrslJw+fVbOg46cFXIBoxlIS9L30iUzJSxNGtASHdnT4k/SLVWqFDr+jlO1SMscmE+SHl3Q/Q/PiAc/C8f2h42pIE2ojJkomdJf61gJbuclWmJfxATkk6fP6OCZbTsPyLbd+/H3wxhJcET27D2km4gb5sqVy8pAGF+BA2PC8ae5h2kGrD/4F6/PzuL8N5mVg2jyo3U+p0/lQ9v+ogVz6TwNDs3hxkqHdv5uk9gO2bG/8zfLrtcmCURP6kHOm3QfnNtx6sw52YthQKQlabp910HZd+AwZpIcxe+PYOzDObmMGSqkoc4U4t/pKTgjE/jO1lLh9alkOSApRYqUOoaQtMyf+wZM68qOuZY5MTw3txTBTBSOjOf4CLdQuIoLQ5961se//+71oue13jfRMKVlPLdvYjeTZcbzmGvBuZI7lAn3ywYMPOXPZgyXOX7yjJyGRjRj57AZHPvSMJt3podhGJc/5HQSpy3lGMHYZ+bvlnGvXOFGE5XuGfDDjVUa8yc55q405nkUxDi43Dmz6uAa3Ti4FgfvJOOmdO7l9XGjN+2uddH5ff/O7pZp+JmlJzUdhwHtAbNtwyQyzrRcD3r+i9F4x6ART4Ke58+Z6WIkoQ6JpzkbFT313ub/PK2klXE5Zp7S0Dwb6URNSprmgEXCCV5lMJqvVLH8mKeSW4VgVgwVSpnSCI7Ll+2EMTt64trHUMQFnWNzjQTNlL4bx07HcmZhWKcNb83hPWs27JA/l63FAJjN2EAH5QimZp09f84xIbFpMHTGw4AOo9lxa2YkHs1NL4CjTGO1pOPP2A1rGIla04E0lM/MRfk9c50rOuYtW9aMkhdDXDkk9lZM6eKg2aLYVByTbpnDmtz+AEpcm7aBGNE8gzGz7f2OnTgl6zbulIVL18nSVZt0IO6Bw8d1cOslHbSbXLWo24ogi5lxn+bdzeQ94xeaH69P6aUrP+DaOMKJdHVoaoYqQNvifpedi3D6VmaMDsyVMwuGL+XD1K3SOnmLtM2YIZ05X29s38UX5ItresaG4YL5ToJkSisp7Ybxop1mYhQPSvENW3ZjyOlqDHpdI+s27dDxdfQJCTyo9E6h4tthFGfBuMD8DNdJiZ/MmdLpuG76jPRvrK+TCj4PzSrehyPrzsPMpa/J658+e06OQFPQT7JMaBQsZ0Xy2imM5tB7XzaSH/+lT59Gp2bVwGbilOSqFYpDC5ipYFYouMfquekQzGJGdo7/daxW5PNxo5vNfFW27NiL+ZOYCoahsivWbpV9h47qu3tNd0NPjvjj+V4wxvveGTOkwezNDCp0SEsOveWfnFuZCibqxcv02UnPi4am+PMctO2R4ycxCQyuBOZ9cmoYmZU3NqYt1pN2LsIkl3lf+hk4JV261Oo+VMUEtdq3VsCEs1I6icsCf9Se/vT0Muy1UDS0301QTGkktoFo3FKdi2T9G04JXrJio45FW7h4nWyBmXoBi0tTkNOTKXOvXL2scwsvOYuSHrMgs4LxcmTPgqnMmdX0yQO/hQuaF38qUzobiEAOzaY0mEHJTcH5kwpUgCG5QcmUZ8CU+zEodTf80n3Q0nsPHNXBqfw5fOSknKKZjPF1ZHxlUmhp+lYXL1GbcMhsch03V6lcUUxmrix3YkPRb+Lv3ZI+LjRnIPCGDGWZkeP6ONbu21+WyU9/rpKtMPUpdChE6OdRBqoWhAaij8414uDWLJmhsUDP3Bg5yHGD+XKBlnnoC+YAU2YEDVMrIKbAGOkJgccReZfIlCrkQE8KOQJBcDsOHjnm+KX0Tw+rG0LtzN+fPHVOhaPxR0FTmqwUeFhj0pNWb6aMGaRC2cJKyzq3VtIp1Ly3W9j5+KOOiRxa9ord1RMMU5rNQ43hNTn4O6sZjx47Kb/+vUa+/nkp5iquBbhwDIsiitxRGnq0EjYPF4MoXsE8OaUkfJDypQpJiSJ5wYQ5JDv8E/opHJLKCcXXclB80Ecl0ngCwoIMug2m3vp/d8qmrXvU99p34Ij6smYiMjY5XpJChv+mls2IZymPmY51MbH5bszNLF+6kL6zv6lptWmwJligEIzS04ktnDp9Thb9swHMuFQtja3wGS+A6QhgqQDEMnB+JP1n+m1kQtKzBOhJ/6508fxSMG8OyUUABoAWUVX+XOtBIcgp2CeA6FLI7dxzCBYRfFnQdDNoSv/2JNDdi3g2TrDms/K9SEv+ULgWL5wXlkgFDMC9Sapgvie1tYoWM8xaj4QCsgWiV4JgSq80162nphE1DLmU/iIl+Gff/YUpwJvk2PEzsGkEpqfZANzg/L5OIobvdlPFElKzWjkALPmB3uWARgIKCsnuf7g3fUw3kg23mMXV//e5BDczUcrdQHppEi5d9a+ahf9ugxbChuL59KP0wLPTT0uTOoWijfXrVJOH692qIBF90kCaMzrG9DX/DT3pq5EhTwDw4rDYeV/+IQuXrJWDCAtR65DxaGSTCRWywfk5smaRiuWKqC9cvnRhKVIgl0615lDXyOjppk1M6epwS4QoJt+HQoRCbzuEB6c6/4FnX7dplw68Ne9rXBYVzsqwySUfNHctuAkPgZ7V4CpkSJ/O0NMTR44fUC2mdLjuTOk2r9TXUSg+hU5BJuHfx7jzhYvXQnKeMb6F+pTw9WAekhEZeihWOI9UvbE4TJeKUuXGEnD6zeRls+mND2SPQBvaSs1gNrtlRC6++zD/NmAGN4f7WpTgO3YfgK+2Rn6Fv7YOk5D3QINyajTf1Wymq/pOZIYy0EQNG9wh9999sxTKn1NvY8ezRyfh/c1Vo6FTqInIqc2zP/1Vvv11mZqHvBdNSm7oi9BO/DdHl5P5KpYtKnVrVpKbKpWCYMvo867uRIlroaeRSYFnVDrkNAuIwz/cxbDMQgi6X/5apRO26UpQu6p5i33BdaDWpXlL9Pv+u2vIkw/eodOteQ4Z1wJOUe2NmDJUXN0q4ioAACAASURBVJx/XZgyEAro9hs3bN4t8776XeZ/9YfsgPlCragmHd6YvgU3BbVgnZoVpHaNCthARSQ/tAx9GLuBlUkcoMBLKGMaB8uE0RFYb0FB4khe93v5MqkTgsH5TFhYB1Ns6YpN8uPCldCim8Gc52F2pXaAKTLnZUUTa1QuKY0eriP3wLSlj+Y/Idl7P5sr6jXL3KY/fTRqxo+/WigbEdJwAzz0u+mT54aVUatGOfxUwEj34lK0UB6PhWHQZONe+ISLHALFGT0NqKDWg78/HZnQY6hrM9yE5UDdv8MIeo6YP37ijIJ2FNpcIzJgKlgCFeHDPw163ofR81kBRlnAy4bI3CZ/dGsfys+vC1PaF7JEsZLwOPyyT79bJB9Cmq/esE2BgBTwU4xJwjDxVQ0s/69WVal/101SqWwxyYoAvpW4dk3dks/ft4pOG8aW2P4S36aEed/VN+xA4bIN2vNnMOan3y6SFdBifF9uJJtxwKQGMst98I2ef/QuKQOT1godXynvNRqtFqMQo3bk9afN+0H9R6uZeQ1uVNI0e7aMcvvN5eWR+rdJjSqlNKvGc3/HHHACP45AsyEU7+jz2NIsqu9FTk8jWO1a2/XkezMxZOHStfL5d38jPLZeE0dSwo9XgAhfuwBLhO5MHZi0zzxaV267qax+ZpM6LFLrNv9D8W7RXTPemdJXm3jHZ69Ys0WGTJyv/iMhc4IGSjBsHLqPuYDy1atdFZLuTilXspAHVAjkI7gXNFRMGB1hvQLCVFEYJjWmmH0++2wHgTJ+//s/Muez32TFmq2K9jKswoMmGI/iRfJI82frwz+6BWhxxgjxOKLWGnfVDZhMtcf4mV/J/K8XCRHrlAgP8ZpG214FQpoZzFhOnn6oNkzUkgC/jMnvzjqyz2fexaLiHp6NjgRx+rkvPX2BGktXa+KeAjP+sWSdzPjoR1kMi4TMabRhMiPc4c7kBHL8/ON3SePH6wKsyhYr3z1OX9B1sXhjSrfGckvzUwA+vvvtHxkx+VNZi1gj/R9jujBwfFnhdkryRg/Ukjtq3Ogxa2juKpLoHG7NZL/v+jhU9Iv2ul6LzDCk2yyzJpndTAQy5oIxP/nmT9m4dbfmipIetBAugzmZLfTY/TWlxXP3SbFCeT3mlzEpDdPQ9F20bJ0MGv+JakcD8DCEQEDpMkIH6aQ6mPApCLd6d1TVPFQPMzpmuP9zJlx6+gs7FXke/5OW12ffL4Lp/jvAoe2wHM4rPSm8LBh0b52bpPULD0iFMoWdz7xJI9fLnI0XpnSbA+qfKJiTXLbDfPsAQM7H8B33IB+VpqrZWDBb8fktVcrI4w1qAnCorKifSW+zm5uAj2O2cUM62ihaLrnOJwQCNsic/D0BCsYCl6zcCA23UMM/DP0Q0qeAuQL/jygpEw9efqo+hFR5ZXIyGwGbY0iu/+iL32XGxz/Kpi17TKYMtYMmol6VcggNPVz/VrnvrupSrEAepWVUG+96WRkxWaJAKLrix04slp+v27RTvvjxb/nkawg70IUhM2pOXQucy7BJ44Z3SwMAa/TdqU3dYF18m7MhZ0p/dJUEp2YgEjhw3MfyO2KP5xBIViKBkEQgsyPG+PQjd8qzj9RBQnIug5bR7HK+e70kWEw2S7DnRqQPU81EwQqGLMbO+BIhjA3KYGQ8u5GYqvdio3rS8IE7NFF7975DMnra52Dmv/Dd0yZdDbuTfhSTJx699zbdeGWLF9JN6bZWkjI9TVgW/jXAtH/gIo2c8pn8/NdKjXHbJAS+f26Ysw2BzjZ7+l6NZVtQzVoNwa5nXJwXUqb033BW8nKzvTXoAzDmNklFqYX/KO2pHYmktmzcQOrfWU39xtjE6eKCMPF5DS+drN9p08OSAX0+IMMmLUCc9m9NqmdwnwfpxcSDJg3vkTq3VcRm+xThgTWqUY0Qo764gpBKLmy0+vIUfMd0ON+LOJqwTXxrgfigq79lZhF3vi/R78kffiezFvxsrDP67gr2wNqAFfIgQiedWj2hdPPNozVPHh/WQ0iZUi18hgwciJum2de/LJH3xnxkzAhuMAp0EIRpUjStXn7qf8i+yRdw87h9nfggTnxsIHsPQyPzL2vOWquCfvd8+JmTZ38Ls3S3BvktYzI7KSuybXbvPaIMa9xHJCPADKuLlLNmz9wvNwNV5eEOqbi1Y1JlTLNfvFlifE8KLFpjP/2xQsa+/yVSNjd5ADJboMAEjg4tHteYpsa4NfZskj3ig1YhYUq3ne8mxNzPfpdR0z7TfFXGHvkZU6oK5s+hZsMTCJgzJ/S/oB0jY3gL/tjPbZ4qafI3gJvxs76Wb35eplUYJumA6WXMaDJoLemZHcH+xk/cLc8gJlcI5n+Ynt64p2UqCnWm7o3/4CsF1jTx3vqZYGSGSzq0eAygWKl4N2XjnCl9TQeDZBHWZ2YOzbD9qDxQRBG7j5qzRNG80rnlE0IUzJqr7rKo+JBM8akRY3ovozVNCRSBoF37Dss7Iz+UBQAtHMjLY4bS784Jf7x988fU10yPKgoj/Y3ZlVTN1WBoGhm2wUL3sTO+kClzvtPUSFayWKuiMrLEurdppAwan6ZsnDKl74sb04EMOWn2NzJo3Hx9afqNDGfws5sBzbdr9qiGOtxmrskl9W6mYIie1M7xmpdec9Yy5kRoyz7DPtSKFXcskTB/OSQYjH2nNXJ/CzgoohrBnjhpUjP7Y7LuPr47exbA2qCgY4L79LnfywTQlWi3huVwYe7d8mUKSf+uLyKnuqQPOBZKUzbOmNIdj7P+EcGI2Qt+lXdHzdFaR5ZWqeTGyffVrS5vtHhUytBudxWmmk3jzVCJCdGT0rn+FoeyFgQaY7rd35uubThsjqcnHgu6shXH3chZ7de5iYIVFt63tPkvM6WXkYygs/82ubBXNAQ1ePzHGi9nogXpSnegGvKp3+nyAtIPi8WLKRsnTGmZ0AIUuvB46QXf/yV9h83S9CdrsvJcmqq92j+r+as21OE2rwLlVyYlhgv2Xay25P5hosQSVMl06z9NlgPap4DjzqKMc3fno6nLoxHQ1i6tG6K5V5YI4Y8wY3qzkkxM05sw8Asyyt4aPEP9zZQpTWIFLRDWab7V7hm0JPFVIvw8rukZJ0xpJI7xfYydJPID0sb6DJ+tmSnJkxkfkknB9WtXky6vPql9VqwUt2DQf91/tMzqYUZHnFOSs1yp1+CZmtNp6y1tpo3mgjqMa6U//ckmiEu2bvKg5gf7I69xvZGCFTQJ5Tx/MNIyF+nyLTRmnxGztR42GfausVKSSQMkXXRp/aRW7vjHeeOSntfMlN4NZLYGfcaFyDvsMXCGYwaYMhoy7N13VJKurRuptKGZ5U6TC4XESSgbINjnMC6AMd3di74RRb69Bn8gP/+5WoWe+t9MJwNayHYjLDLmpmHNIZMGTO+9q5pS9xJCTK0Q902HEIkbebTuRrDPllTPC8ScfNdv0ImhLxlz616Pj5kyVXJN3H/ztae1nM2U05HWcRvvvSam9Ee0KMG3I9jdrud4ZOqs1SJdHuxlU7N6OXmnUxOtdPCYrNprwpuUnlQXPvj3MsnrKt6cmNoRdFzoMfB9TUUkE2pKAD/TgDfjkam0iRT9y6079mvdqacUCWdnQDYPLZMmCJFYAM24CioGg3+0/8CZFmy01sbnPyyWt9X9QvmgRgz4yRVp1aSBxjE9GVYOsh1XJIo1U/ozJBf6NNBVJgZMnPWN2Rh4SjZKqlimiAzq0VQLZ33Sl4x6jJeAbFwRLJTXsZrShDEMc45DgLvfyDkmOd1Brh0oFe5ACi1IZksOHkdPnARjHkCBOKtMTAiEQEVxNOsa0rOp3FLNDe2b3OG4NLtCSZtQXtvtNnkZ0+zLGSh764cQFBM4kidPicIAlH8h7PROl8bIlb3Fk/Zo6RgX9Iw1U1pp4mbODz/9DTG02XLo6CnTBAomaiEkBvTt2FjuQoOoCIm+5iLhjaFksDWCprM6NR87FXToO1FbPBINtLQm06ZMmUzyo6I+H3rMaraJycnXTuVskmyC4abxsQHXqkmfDs9LHjQNC/uXEVncG4Jy3APHUmFN6uDx82XCzK9NZwiEl+gyVK9UQvrC8ruxdJE49y9jzZRuW5yL/ytaPb45YDqAnT1OCQxS51A9367ZI/Lik/U83dPcTaHiQqqEUoLG17W9gs0kCZBG7BDQDaEP1gXy35aRLNKdH/1n8qGLuM2MMkaHKXk7cBgNvMCYtpsfOTYd+uo0f/Zeee2lBzUdz+1fxtd7Job7uAUf6UbaHzx8Ai7EdBSj/6VdE3kO82Qf+R/8y7ZPoYDCm8AeFwkasWZKNxCxHRugy7tTAESs0naKyrAALFgD2Q3+TDakzrklUZgZA0tquyFY5dF/9Ecy85OfTJ9TNr5yzHxaHyxjKwqTVNtdOIiNGruO1cE/WRbHUQJeZr0KcCIDQIqntP+PE6bzWCnhNfGuidmrJoWRB62+Zav/le4DpqHZ9xYnvCfa7Oy1lx6Sls830Gy0uBJ0MWJK96LbV6BKHzxhvoya+rmaXTyo3u9CDeS7CGAXdODjuLS5E4PEDfYZ/dE/0mnOZ79K7yGztGOA2+emIGSz45JF8ksGNAdjVwalK4EGjwlspDu7FxD4OUxXwpl/whYkFWBuDX7rZfSrKebJonKHWIJ97qR/nnEnjNDTyLl89eNirW7aibg7mZD+JfsID+7ZDP17qzjWjIpBjzCMDZ2CZkoLoXvVO+Hg5Ahkb5bmXUaquUTggfmsZZDi1b/bC1qk7N/sKTYPmVS/46al1Wi7kdv66ptjNKzERmDUlGQ80pEboagL2PFIZjKki0gGuWU7ybOyacceOXMGFffMUFETV+S5x+pKtzZPelqAuLVpWGMaQrr3u6UzeyiNQZ7scHTJMJ34DZB2/103y8A3X9Ym1PZ712LGBs2UBqa3fosJVlPydoXZOn3ez9qanuqeowDebPs0CnDv8WyTsB8ZuVixmtIuPAu/+cPEaM/AG+freQHqFMqXw0lXdLWt8Mhmc6Ib4eaAni0QmBSWZFRaMexsPhTSnR0dzLlGuocZ0ned3JahEXTJtc9s27fGCcMl6dKk0abQTNR4B1bhE/ff7glXWUEXG4USNFNaVc4FtOVEn8Hx7fjOZDWzUhAuRvij9i0VZVivZur3UMq7ZznE5gGT6ndMzMvbjoMLTr+lacfh2sSZbf6ZO8z2lUwDY0vE4ujLw8bS/kihZaaIpjBR2SsaO96JekveQ8NUkO5sfTG0Z3NNMAj7+1ELTaP1vCAcQc1Xe4xBo/BjGosnPWveVE4FXUG/4ujYCLoYMKUxkKzEYCv5zu9MkUVLTasKMiqHqPbtxPjNzQGSzJMqe8X2vYzloYYnFp0J+z0HI0ngyz+1O7zbbGWCANt/sPG0fwlRZIvOdbJrxcbWm5DueBIZP7ZYl6Zx11cbyktoKeIv1WOzkWJLhcTwPUNLZ60g1jiYaODYeagq+VYFJ0UdQ1hEt9s3f1TdDmvGxkZjBs2UbjOH9vQEFIcOnbwA/ooTqMbdmTXSGUnQrIaPKyQqMSxabJ7RqynNtz9D8n5PgAjsXG57Etnr5sFsSw5PJbMGQ1e3r2oZjDNNOOdEi6PRbpJJ1pyxMgTSvUIZk9TBw78TeWzeLSl+x1iKXhqt3rBduvSbLEvRBJoxZNKzQN7smiRTC6WI7p5SMaVHUEzplhRcZCbqUksSjODQGj5QlfJFZQCcXQ6ricy8iunDJdXz/el5GKl0vYZ8gI7wf6ritHNoyCg0V0sVzQczM32Mgv5uX9UAEpfk3+17MP6crobJ10yN4UitGt+PFosPKibgPsLa0n/3OdqSWhMfMdVxKgqjB4yZh9RG1AlD0HG92PGh+6uNdOyhPWJKy6CYUhW3Z2RRMqQefY8KkA81rY4ShMnOnVo9rkkCRtKagSvhNK7IxYr6KMwPAcP8gHb7jPNy7LsirWglqb2LQNxC+XJKQYA7/kd0C+0BKbBRNOqG6x7FMNjN2/dps2v6+pyzUb1CKenXhZkphY22ZBaQQX7Ch4sC/mgs9znHQbTvPRHrt0LbgBJT4aTp97q9hG7zpWPtwkXLlF6Ja+B0jidr3nkk2h6u03ozIrC3Visjg6G2OWjHq7aNNA4fESlg/T0yyilMR+727jT5CLM+mGlDH4X5cpfBMMyIKo1FZjZObEqF9D5GoupD8P937jkouzFOzsZQ2H7ytZcf0gbPts9PbCV8Ul9r3xCWSWFkf5/O70zVtp5kVP6Ofjo74nEsH4/oBGgEgYsbuUNcAenKDcGz6MyytQcDqBaNZWyyM7Rki2fvd9bZ5rLaSoSkvlQxfz9DT4IDybTa/fVe47XPK+nL/GCzkqLJ5hxwG1MtafjQd0iOBX1OYjLVJrgfBH+4iTjclh3TR/VtpXWCdjuEfcvA6+ofwuJowXa9J8gCzIOhq0ElVaxwbm3JQl89GAwgRkxpH8CWCrGM6Pm2g9AOfz1M1nTwUy6oup4y6HU0wMoXL60SYs4CCecb/vKPweh2vcfLhxhVwNmJ7AljEwUyI1RRHINuM1BLOnIzNvFezyZy7BZaMixF2rPvqFMabZo/vwPUnLM1+Lk1X2Mq4RMOpUP7JIamzhxVpJV+jAlxHfpM0elpBH0YImHXh7YvP+zDE8F21IjWfHVrSfZsbdNjvJyEdGB2Cac4tXmxATp+Pe0EoGOuqkNLvoR5dRvc52SxF98YKjt3H/LMDKG5QROoAJLNmXBuhzPYVLqYMor6kzRjnXgnv8+BN+y7e04HKSWXU9CenEU5bWg77bbuBeq8I/wSJiWv31O5XRDOgGnVbTQmYpssrLOoLLm9elmZPrS9AnTWSjE+Q/QuXaRMGUGqoxSoz/CZMnHmt07e3xWdlDt5UFuphDxKdxZJbOzo60fe+Lmzm55maZLpVKy3h87yuAL8HRPOmddaEiPCOaNSO/8ZgnryW2PEmI5faduR2c20ecc+BL+PK1PSZKbpNXFAG83y8ZbYOXZ0/JAo0dzF3zXgg4+Z/oW8N3quVubQ2sgA9HVYr+aagsfohHEHgnPpAjKlf5yLm2ANpg+/AduZcRnC5wygPvtIXU0WSOtMborRZkk0SxB3D2qBFzLIESQLtH97onz50xIdcGqZhXfLnxvpdPlzO7XMxje0jBnTp/EAPSYVS2U1N8iR4ydRHobJXpz0zEnOMJ0JULChGa0gr1QP17sGorkbROP6cARHi64jZet2NBpHqIndNp57rA5qiZvo7BbLU8EwZrSa0sbUPkTlQh+0RuA8C144S6Z08naH5+Sxe5nv51QrqECPXj3HdGMlhfMt05EpTB+jtfI62qbs2HvQ01iM70nNxfYetlO8MiRNz6AMn8gppbiAw2o8izmbm8CUh4+d0kICSveqNxbTZIKSRfM7JqwtkjbIe/jwpYAb2WZ4sCtQdA48ZgYW48IcrzcU2pKxezsSwfb0iYqWkWpKL2dzAtRpeXv4LL0ha8suIR5zU8VSaFL7gunbSukbZsgo96wJaXj773D605BJn8ili1ec5tQm+ExhV6pYAVgjNlXr2tul+LgijjlLMGc34mzM8rHPxWZQPVBMwPER5nAM7TBHBl5bG3JyPp2DsRw9Bk5DmOu8uiSc8dKlVUOdBUpk3RzRm7CRMqVdEi7eSoytaw/TlSYsTZ+UACKef+IenbWQEf6PWTqbMBCWp4EooJqSZVig36HDx6QtwiA/YsiM6YdrQhhkyiJIaDY1qN6BP3FlfVhtqUIU8oG5sGwByvAIS7sYonkGG6grCtPpz9pgGXkyrp4hKe0OqylVgWFdt+3cpxUkHNabCi4JhRorR7ph9AHHO7qDj1HRMwqm9JZqUUMyNslAN488KCHqDd+DTqzNiWXczd0UOCkRPy7eRZkOPzRd/8BMztcRCtm557DTQ8cwJSsOyqEWNXOm9J54ZVzFCz3a0vqWzBzCPVkIvR/ooWnKdUWbm73X/UUthjZDhLgPGBSPCyokvWv4AHgQpAPGzcOc0M+0STabnVWrWBxlXS9oxpQqOroR0RAzIFNaU4vrR4eVbfamfPi99hRltTtHqw3o/pKOrOPNTfFs9Go56S1JcG/kjhXSrBj/wZcY5fCR0vKSoxGJ0LEKpCTivfQrvVoqbp05D5qrcvyq9p/Ztmu/biCuN31ZNth66H+3eNLu7PoG97b/rbPcvZPIbF8BuGON8YHDxzUzK3fOLNIb2EuDu2p4Qk1qxEbhEkRgSnfGgub3oRK+VfdRACbWa40fAYHH768JkOd5lejmoRjPulYoImkvppo4eMXjiAl26z9Vx6CnToVR3prdY5KqmOPKIuZQMaQFmzQJwWnVfwKtEzdv2wcTFmVd8HuYrM6gN3vP6MYxgU4nlzlpr1Fs3s6unU2wWbtxJxIJJujUaFofRLJfb/owEv8f8KktjhFTWhVruj8nl7+Xb5TmnUZgGtFRNa/oY3Zq9Zi8gmZBuns8HB/WlJEtqtvE2YL4YOvuY2Tpyn81iZl+JqAezTstgdxh1qSaKczW+ohbTekff74IS2gz5oUShWXXCFsATUuIDc+sZg37lJGzrDuR/yiy3jjvZYHT+Y65zI/fWxN9Ypuonx6MCRutpmS/S86w4KLwBtlQAc+8vlo1KujoAUoDN1IbG2mT1L/jTib/BrmuHfpOlsMwG4m20IQkqJMZgFkJptVhBIFNRg4VI3gYkwAT/uPMSzaDott4AbmwpYvlk9H9WpvKEWYYhYGeSLeov5Cj5TMSPXyGTvpU+UXH6ZUqKOP6tzHunmOhxEhTWq7nly4ii6cze/Bgdh9zM5mrydjLrFGdJAf6vISlaPTixAcIgGUxYvJnMmjCxwByFHKlPlTGyAF0rig0ZWptVWiuGwqm9GajmBANcYLDGJy6adteJ5MHoA6ep09n5MI+dldQmyh6KiTtM3xj0Ml0XGE7oOuHj6IbIY6MyO4Z3vsV+d+dVZWe2pYlNj4lv8Qpt626jZKfFq5E1k4aOX3uLBaqrgzs3tTYxy7zNRQbKKkspQmFJNPQw5to6jv7k18MMyoSys/gT2IsYH5UrrMDN2sto0PoroU2nuwh3J6WzmnE1dZh9NsZ5DJTKHC47yvP36cIu32O8PpGTXF3tharcJp1HCHrNu0EDoMePtCYbL3SuskD6strzWoUCGxA89VCNkTlXmw3BNOzcHFkKXCewnuYavvy0/XDBbFBcoVZLII8yYRVNmy4xKLmlClMrR3DEKyjLFYot/qTzpqFTFPax7aMSWYj8rsB8Ur2iGU3gnPnLkq92lVlTL+WAPM4Rs/bAC3I1/5PneaxPhzhy/K4F9sPkR8XrlItyQ54TZ/+HyIWLwdVSRWQKWnYpMBiLV31Lzh+uFZYM7jMPMlpQ16XerWqqqljsxTCUjQaEID6D5qSweWWXUeBrkDmoJEI4XDDp0uLyVkIhWTWigLHrAxxFo0vyp5MtgLsYdyUKXf0hVhcPRNuSr7crOcMo6/RSRm3puS5rBqZ45TknTh5Sh64p4ZMHNhWwVJqy1hryi/Q2/KNPhNRqnVW42nZs2WU94e1l6oVSkYY1hPdQ/9XPzeZOkgaQLhhyYpN0vrN0WBOMxqdB5HWLJlQFQIQIC3aqvCIDyHnZkrC9qyx3IxkalOzydEIWWTGsA5SoSyTCEx2UXw8V2LeJ4amxs7sP3oO+vfM11I41llWLldUZozoIHlyZkN8GnWzUfiVkaKvXICJs4C8DpmpriNrJ29E97NpYMoi6KwWDIqUmAkcV89u0usgGRHy+BqB5ba9xmmXATNFy5ivOQHyFEeplkpRB+WJDwawa0gBcRBNmzcgQd1gT1e0FcnIt1vKPX5WUVzRJSlex7gEJko485OfUXs8VrvQE4HleIMPR3c2ueJOzDoybRmYKZ0r9x81R6Fd5vGdQmEsC2EnDWgrWZBoa+3o+Ng8iXkBVVMytQpozvsf/yDd35uhZVKGbkaL5kOpFgWdpWV80NStKQn2nAResAbYAdtZ0NQmjsdRbxxxEAximJjXKK6e3VhFdOtSyE/Ia366zQDPoN90aVLK+8M7oJ9VWU93h8jWOSBTqq8Dju/87mQNh6RKmVqrqRs+cLsMRhvJtGhREZ8SPa6Idj2u4/Y1hqNPLpv4Evah3DNK8aoURgJ6AaCv18P6sJlGFyAo2MuUmT3ED1h61B5jDNkAKtwTNrid486YWr1+qzzV+j2kMZ4EqGf6MU2EQqPlcQWjI0wWXODEkMCakogcFqn92xNk9oJfPV3WXmh4t/R64zlteXA9NlBwpElYZ7mFV78RH8qIqZ+q9KTfYYe/FiuUR3LdkCXkSQP+lPHEUB0ElmGRY8fRwAu5t8x5fqHhPTqx2Dxv2KeMbmcZV8U0u96MuC/7WbFHMvmFqYqj+7ZWwIfzXEjTGDEl+ZeZHa++OVYbBLNy+sqVS2jLfh/68TzlgxzFh6kVHTES8uee0APijz2HzJCx73+FdDYukumlmwoMULxwPjOSIB79SW8SgclUoGW0EaMoDh45ieFCyeU8NOVTD92hPUwJQIXDItHvMrem3LX7oDRBWGTF2q0IJ4J+WOvhvZvL4/ehKUA0WT2BzVdITnaqa9ZppHwJBJYABM2sNkhS7tD8MZfUDEPl0S2Vdeq5qdlweeqc782sCZqwHJOeKjk6oOdHnmkGlbLxpZGsn6jaUv1eQQf1vVrdwGG0HM/+KCpFOHuRYyji67mio2dC/lx9Sjwgw4n70R/55TeGycKla0E/diq8JEMwF7TRQ3dqNhdzB2KmKXHRc+fPIwA6VL77dYWHKTu1fBzd6x700IUPEcrMk4S8AME+m9VIHK7brtcEmYVsnjRoUkVbldKTVkhpDIHNmhlB+njUlG6mNLryqmzZsVf27T+uMdRzMF/vr1NNRrzdwiQQMMvIMWODfff/2nkWfSVQxh5ILOT47tfloB/asULIYq8kOwAAIABJREFUcWZr48fvjiXQA6ZkSthzQI9+/XutSnaatD1ef0qaPXOvt8Na2M+Idt9ZTUlUk4kDH6Ojdvo0TDpn1zMkDgCVK108PxIHmDljyrjiQ9C5zVcyJdFWJhDswugEqynvqlkRiemttMaSz2pmkISPyCjgxg/Ys6dFl1Hy6TeLNFrB4bJ9Oj4nLz+FbDgnJBJjTXkKrSKebPWu/P3PRmVKLggbZbFhb7gnT/Ab8zIWgObMOaDXTTsMx7DRv5F6hdHo1JRs7YiBo2XRbYBBZtNcKX4BFbuRWJK3bTfmWO4xPWjPQ1PejnEU49B2Mlf2rPqsrLcMH5FTwCLtOlAJ9Gvdfaz2tcqKCc9nYXn2avcMcooxScDpDBBjpiSnP92qvyxctkGZkiqZF30BQ3xMLmf8bp7Euhls8Ss3efNOw1FnR6Zk13MzcTl9+lRgysKS3pkXEt/AmYcpwW/bwZA7djHbyDBl9YolZNLgtpI35w0K4zPhIXwEx5QUwky1YzF71syZlCnffuNZBUujCydGCvQwNagxIN2fF66WlPB7WGDUrc2T0pKcbgv+wowZ7R61C8CsjleR4TH38991LLfWUVJTpk+NvjwFNfPDxgPjgzEjmq/JZAeG/+wAamiZskblkjIJ+Zq5mRoWTb5mtIT4D5xgQDMoKyiwE6fOSAsMwmJf38wZjPnaD+VwnEwXXdpipEzJZssvdxiGATTLUM5D9FWkfYtH5XW0irBVJPHl/yTm9bSakkzJPOL3P/5Zm1drih3UZVr4lDRftRs6/h1fNPVhSifjaNtuJKWj2Nn6lLVqlJfx/Vsj5xm1s0QMEX8LH8FpSpY9NkUxxy9/sVIkHbK4LsoAhJeeRYaUtwN9DJIHKKnJ2S2hfhfAUWVNGGcZtkI9WOeWDX2Sk+NDqifmjeBOZ3sTKXYTMbXMdCDnuLsrGJeWUkMiWTNlVIQzvnxKf03J5BK2KtmLwT9EX2m+1qtdRUb1eQXmV0ZFDJmOFz6iZkrbsZCVVS+1HyaLV2zUUYak37BeTdFTt1bsNCVvS8netuc4+ejzPxBLSwVJCc2JOsoerz+j/WSstgwzZdTb1JM8AJOmz7DZ2n4wWTK4A6xvhmZMndqJUwIMiE+gx2pwC05QdTNOuR/j3a2mfOiem7XDt51pEh4mG8RaOxk924BkN2Et8sbtkprVP6AvBdxD/7s19skDVLEdYG7N/OQnZzjsRajeu6QfZodwloitoA4zZfQLpdoP/703bq4MnTBfmZIHGSJVymQo22LyAJv1xh/66hOnVF8omWzcthvJAycMUyKE8yQaCQ/sYTJ6rK8U1pTRmK9OSIvZUc+2GSjbgWiziJ39c8e+00buq1s9lrmvzn3fGjgDPUq/llRgQqKxDyFvbxSq0amOw5oyuO1pA8rUjGPf/1LnsbBxNYUZGSMVKv2Z+5oTfpszdzle6hbVfKVgcF6DmnMDcl8Poa9MKmQZMaPnuUfvxGiKFz0lZWEBHL0AtlUirJ1lSPHs2QtqFTF1ccqQdlLntkqx8ykt2DBs4ifSf8xH8CVSginPahPmabiwReO4SOGFCmahTJHzPMDjHfpM0mwZVgkYv06kSMHcOrE5upzI4MRA8GeZIhXDnBdhGdHUOoFWFnzWCxcuS8vG90lPhMG8YZOwTxkVdd25r59+95dmxBFpv4RwUiaAPbPHdMIQpRKxY0p747mf/6aThM6hix3ThAoVyCkzMAizLIqdo8t0D35rJO0zdaHY4wYb/ddFq6XNm2PUb7NZO2TEAmiYVRgzRNxHqIWdWjq21hMADkNgqzArhh0LmU7HuORbwA/YQMvOVwz1MyX2nWCFF99j9LTPMeznfcSh0ypoWgJFB7NGdsCcmFyeli8xKnI2aVfJ5Oc/V6JSZIw2VOJBFHbG8PZSs3p5DxoXXqggNCUIyowodjdrie6AbETGmkUtcsb/50FVetGCeRSVtahoqDeoe3wB42pH0Yx5PfwgTZZGmRFxg8E9mnqACcYuw0f0a22tzC7vTpUJcP0Yf+YMnto1bpSpsDKzIMc5ViERm+m+BuYMu3JtR5ZHSjDkOdjHE957VR6uf6suHgs3eYQZM/LFMn10KeTMCIiW3UbKn0s3OmERk9WTFQ2uKUk5/s4eoaapO1RDYbD3wBH5d+teXUv6tjcADZ4w4DWtlI9vszoxMr8bOyDTMUb56XeLFLk+dvwUGgTcgZjvq8aHx/9FNQwryhaTu/cfkaZvDNXpzUTgTsHf6NrmCXmj+eMe+J4Xd7qHJEZahvyZbZYHGZMDd99A4fgX3y82neVZXMxR3JCmpYvnw5/s6GAeKZRMaX1J3R/MzYVpvQMo4VY09CKDMhxWCN0QPoQPRA0e6ucJ+SKE+AbumC/X7SDK36jM/kSKKnObTyOP/DVUV70F/5xZXKbYJnI8JgBTelscss8rpw1/8s1fuHgarRypV6uKpl6lQ/lRfEL4IaZrSC9vF42+BadtTfjgK6dplhkbQLeAIwuyaazSTMUOJVPal7X34lOwQ/q+g8cUvr8Av/LmqqVl2uDXJbv2og1tc+iQEj+eLu4GeZau3KgVIjuQS8yYPkNM73RuguGxtc3UcxS8x0hTagCb7QSdl2ELi+GYjUAfgzWBBfLkRAOgN6QUyo3cGjI+NlE80TdOb+NJHnD6sXww/yd0CPwAAu6C3se2jyhSIJfkyZHN6UhAVDZ0jOkGJBg/PY+C9vXoZHcCrUQZDuGzNXqolgxCPyaue1hTRr4l3G6A0X4isxb8LG8N5Bqf1zKtvDmzyliYrtUrlXYEXNRrG0BTGqPX9ir95JuFMLkm6UKRURmjHIChoo/ce5tHqtuHidPdnIQu5pGisFsWLd8gryExnWPNKUU5UgQRS8mLQbyF8+dWUzLUYI+ar04rdjL/sROn0ApkD1DCyzBfwaTQlF1RfND2JeQ5x1Nz6MS83G7rhtUh74yYI5M//FZNVCqymtXLysi+rZQ5bQf8qJRYgKGxpnelNVnWbtoOp3WENgLS0W34kJUiHK3ujxaGtWV0EjWZdpsnU/6Gac6pOe8Tm577PluW9Nr71WqmUGonj6Y0cRE1W7fuPKAPz3XPcUMmGda7hdS5taLHGgqvbeC19WpK0+9178Ej0hGx6B//WKnVNgwnNX7ibunR9imdxwMKK01j2CHdaEorrQlOdOw7UT5DHWAK+Bu8yT21KmOmyEtIIsjqaZMYH9XyiVWaus1FdiB4F/10x6GBFrtkkyHJmDq6AH5lFm29wSUwHQjiWmu6n4X0ZLyZ5Vp7DxxT8Il+7203lUUbkFectpfh7uhR7TtbhmUbi/0FcIfpqVswtp6CLBNGHHZ/rZE880gdF4gXNZAX6Xh1hcYZ+MYGYSB04Ph5GgYhWli2eAG0HnxBalQxNrKVomFpGrWmNBIymXzy9ULpisGiJyDwHP5TGhYplEvyaUGxYYS41paWwXXNeHE8C5MGWB1iurYDFsS9m6CVaHdI9vjQ2olV0Nrn9mhKNVZFZsz7UfoOnyWn4U+SX0rA+nm3axON7QfrCgRkSnfMhZvle8zb69h3khw4eJx5yzqIpn3zR6CW71FkSXVrPPWWSayLSPpYabru312a2bMWGTTM9LHuQl6k2hUriIwPBdoMGBAqTakJIvg5Cn9y8/Z9yNq6pHHn9EDVu7VppG1fzIbjc4S7Fka27yyj8XO20Ok+YDoK2X8BLWFVQvjVuaWi9O34vBRGKqXlk+hAvIBMab5sQiP82YppUbSTFy5Zq3YyYfyH0X7wzbbPoH+LaSIcbg8StbhwQ+Ycldat/1T56MuFmjlFSrPqhr17yqDg2RZB2yvGlQXiNl1tEHs3fNyd6DhAScD8Io7k69/lRbkNkt2Ud5lO7lFB+IlVUF7rc7uRV1oZyzCljuWOG7fs1tBSSvT0fanR/6QtGgOwB1Ow6xmtpuSFzgNRGoawyNgZX2DWxGVFkIoXyY1GvS8j46NM2IQNYnWNmW83eHKZ/Slg80EfCBmUWtFWa5TCSDwKOkpZHnHlq/v7krw2/VvOpTx6ApUhTKODIP7fndXQIO15zDfJ7jKjDdQfPiJSwNKV6zsMYykGj0dpHgvYkSTAMYJ9UerIWZ/2vGDWMwpNqfrSMZ+Sy2+LVkkHmLDsdsYGSpSg7Zs/ium0DcLTfoPYrdYlIE2p+Wh9tOo+WpavxqxKTuDCNQii5UbnuOJF86oG5RFXWtKaTiZjiO0ik6NMC2PVt+7R9pE80iP7pD2abTfDgFOzeQymYLRkmCv9l1kZzTETdyOF8tXuY+SPJes0seb8hfNyV82qKBJvholbELK0OpwLRLemkTKljVVa+5cdn2nCsmcPczQ57ff2W8rJ2H6t9abBquYg9m+SPcWtrThApyc05TQMUKJfScVIl4EobOlitmdP3IFoPqar4ytugWDYi1RKuiSsCilVLJ8M7N5UqqNhlumCYDVkWFMGYkilqZPX/NVPi6V974mI+Z5xsIAraJ3zhE4VcA9ICiYlNVpNaR+GD0AUlmliOjAcz5M6dQrMMHxFGtxdw5iwRrTHuYRPClxqABtjvhpQLBnaTS6S9r0myhkgoPqZVgKIFMNYPLZ1NHR2QiNG1cVKc/r6kmYsH7NN1m/eCZTwgoJ1NGUfrn+LNndiR3QvyJMUqB+37+CDYmPhLl26Ij0GzTACVsNKl5H5doNMRnvOSmWLeQC+YC2fKDSleRHbtZvS9B8kpjPRdvf+o9oLlnD6A3ffrF20NRcW54f7uES/AUzIg4kEh+SFdkMxBGaLJhLw95fRoCwHhsgWYyIBfmcZKjqTJ9q7Ev0lU1NuYuOwKoSoqxYUcN3wwzCXmUfpjU3GNfob7XMmkhMMms5mYilk1fptyHUdAVfAJNichcB7vMFtMgpZPHbUQ0yAsiiZ0o0uOYJaXu89QWYif5MV1Rx+egNGrg/v1ULuvqOyD+ATTr2LuLsCgS1DJ30i743+SFPubINmbRECCD0Hx+M5jKQTYa5FU1o1jcdip7pNGNHGsXe8F6d0lymRX2aP6iT583BOppcpr1kYJBImC/Yx/XmC+3zA6LkyeOICT4YbK6qG926mFqStnQxWS+p5uIkF/iJ9LrdNvGjZemneZaTsP3jUGRF+FdnvtaQnqtRZO+ZFmcLgQGQEddOT8HlrxCxXQlumTGk0IysJOK+yKMIT7s6BMQ09+WwgF1PuP3xMtqNMy7SN5EiFixgQ+7B0bt3QD3ENgzvuNXSbrfw9TVX2NXql62gduEushYqKM1gG92yuKLo5YuaTR8uU/jzL8Ei396YjEx4BUqjuS0AMixbOJQO6vIyshXJmopAHrYudDxSs1Eqs57lpSq00Em0nh034RJtV2VpHTuMy5VyZPHnIsS2h0s6DRlRrGh3N1iPHTus6UZLzPqP6viIVyxb1MGUw0H1ipf+1PLdB0c2+Zt3psEkLtIrKNtLOlDGddMb0ayZfxDbTLVqmtC/gNWlEvgEC2wW9e/Yj+ZaLRyH8PEZ8dX31SU+dZXRZC9dCmKTwXSKtJtyQXFau24ru6ZNkzbpt/IVJbwSz5smVVYuMjYzz1VrBmJUeTen4HvzOoaPHNS/zIsAJJmPxso2fqCfdXm2ohexudDCYeySFtQjmHbyC1IaJksvyNZsx3nAi2rvsMNPOMVi5RuXSMhAlbyWK5POgrjHlhaCY0jyQeRhdWPQG7TN8psz7aqGqZjJsDhTD9mz/jDyCZrP+R3hxfSlipK2Xz1gqRW05dsaX2pLQobaiouyenh3AD8cG2FBhsPR0m68EdziK4l9U+xw7Di3JbnpyWUoiWaFvxyZy+83MzfRqgWDvEcyGTirn6PxQZ92Ogob9Rn4oczBVS+O8+CwtwlkMg7zYqJ7OE+F/xkCJmRsQFFPywlZTam9S/O+bX5YhI2WG7MLsCSYTsG6sBlpQDn6zqZTAQrv9pqSyKHH5HiY04s3aIYLH/OIVa7aa6hGtab2iDMmkZs5z0bS3ICtH/GF7at5d+w5hVsghj49Dpn8ODbY7YhhwJuAB9ojpJopLuiTUa/kIODDZ/K//lJ6D35dDGEfPNeGk5jtR6jbwzZec6prYZ2QFzZTuTcRFY3PmPsNna1a8TZxm2KR14wbyetOHdR6FRQvDixxoqxlt6fYvJ8z6WgtkaVoai9MMamVfWC2Tc0IpwTKPO5xy/ORpzd45C62cEkKUJVvsdjAAm+h2rWBwxURjifImVIa61ueytLFajyAnzdYfFy5XcI6JF0TK30XLj/vuYgd0b5VPSDWlNV/tZqF0YJVD884jZAMQRMbUqC1LwpZW0KBcMQV9fBPVY4ZCXSsxE/L3rfnqZYZkGBlwXJqjoPw3TM9Oy7gvFpdIbFZMAmYBNLs+uKvcLRrr/57+Up0pXtvhR+5VxNxgADynVeP7pV2zR80YChcjhoWooahbqOnwJQcDmDz7W+k1dKYCPfQpCHY+80ht6d3+OU0899Iydvs9RprSmsa6kfA4TBSYjClSPZAuZgPi3DRPP3wnBgE9jRIvEyLxInmRbaOEzD6heza7eG4t9RXmGbZjuhbaEnpNVVGTiE2bNXndYSB3BpV9yoiwPTAAjGXbjJpJZp6Q4bRFBQoJhiMbq2C+nGFXI5olVuakLwmrZSkqQdr1nKCKKCVivBdQ8lascG5ktrWQmyqV8qNl7PZ70EwZQXI4xc1Hjp1Eucp4ILJLkc2QWpOqieJxjmVLSGL2nPEesZMcoWOL639lf63GdDcCCJNmfWs6EOCgoGMMrChmjmTPmtnji9L3dCcU+DM5GZA9Y5hpwoJqk2N7BWl06dE54kU0Wr7lmk2t60/B0D2Be20oIFkM3hUld7/8udq0CFX4XKQjkvhfRQvJiHHk2O33GDGlWxq7zdgvf1iM2OU07fVCv5LqnE2Cend4Tu7HlCF/uzpsHkXcSG5TiVB753emIKFgmwP6gDFB08yZ0inUzj6xPmask/9hfXtrnZDBt+7ar2YxmhpqPx5+9ti9NVGe9Zx26/Zo3RgihKFjhet/Zbefb+lzAj75EMzWmTLnB80TZoyX4M4d6Hw+COAm++TGVXvQWDGlld50TmhCsS37EAS/J8GUvXSRzWYNGsWBQH1Qm2eC0qae0DvYJmYw8fVfqtA9gVvD8S70VT7ACML+SP5njyTLbPwsT84s2ADM9PH277FCzh3S4N/3HjiKUWwHVbNS0l/GdYmM9wMgcQdCILaIQNHeMLijC+ymgzeCkEzmfPYr2nx8KAcVbUUYEEkXhQCUsavAXbdXdvxP06HhWmkZa6Y0drYJ2nBT7AbU3hvO7xc//E3jWz+i5frwvbciBe9ZuQHzF/2le1hjehndH+Fja4lB4z/WVoUmW8RBY9GyoyiqSOzkM7cVYiU8GfDQseOybccBbfNhuthfRVOu9NqFkEnnbnTc35IJnfhJHFf2N1uXrtqkbVaZUpecOcqIGXM/v47UxOdJS52z4s1eu9Z9HWumtFJFtaZC90BjMbimA9ryL1u12Vl0EyBv9mx9HcueimPa/TqAX6tUSRzLHNxTuhmTjMX29+16j5dvf/kH0LuZM0L6sRiZaGyWjOx8Z1INVJviPyYFsEphIxLO6UfawTypAUo0RfHya+jlmj49xiO4wivXuomCe7uEf5bbbLV7ehP64bLFx9KV/2ryPv18oiTPghk7t3rcVeYWd10iYs2U/qCCakaoxi9/XIwUvCnYUCc0qYDAD0GKTq88Li8g0yEQ/B5mTF+NSSYh3chQS5ZvlLa9xjtlVgY0Y6gpM4L9xZCClxEIt+0QQTScFSBbMdr7ILoKkEEZ5+QGuwdVPBwAG54tGlE4uP15d9LLLlh/TBD4/LvFZiATFMwF0Jc53kPeaqbxY3c3x7iyOGLNlG772+3LcI7lwHHzNGVMJyDgRdhqL2f2TJqC9ESDOzzqPtjslIQvY+PmCf19SwvFT5/3g/RHedcxgA0pODsSTMaf7Jg9Uhjd7wj88Fx2M9iBJlgH0CWCO8gU3F7QVDqirWxz6O9HxtVGihsKXP+r2KT/o4gqvDd2nsxG4QWLls0+vqx9d/p3e1Huvr1KnAE7/m99TUwZGWPuA8DQb+RstNr7QxnQSv4i2EBdUB704D0Rofjw5jBLEyisceLUGRk55TMZh8FAl5nt45Rh0XDNiW7mLIim37hj9yEUTh/xXIMVIOyM1xXJ5i8+WU9DIu4Qyn/dbHWbq5b2FGQELtkAa/pHP5hxHU5FCEuxOsFkbfRgLfUt3bSMy/17zUwZaCPxxfahsv3tYbPk8+8XIURiknKJyBbIl0NrLxsgHUm9IY3FBZ/Tef1lafw9gbVASM+TYMyhKKSdOvc7FCVzPLvTLBu0yw/pTZ+T5pYxpwzzMYTS9On60uK5+zQbKBz+iOgm8Dduk5UCkJGE8Rj4yv4sFpnODmDnNfTbee7xuloREkpaxglTRsaYu/celH5o0f/5d39rJj03Em3yPBhmQ43JipI0kOQ2G8gD/Tuhlvjb/gnvTv4a00rwgTCppnz4nRbTeuF3ldM+fVqzYRDti0/eI83BkBnTpwsj364l9ncTLKhDC2/MjM/Qa+dH+Ob06TlWAv474rltX3oQnePvUUwk1FGEOGNKy5j2TypAIrKsrO/yzmT55a81yOdMo5YXNSZt8xbP3idPP1pXh6VqcbQTXqGU1+yI/3hA2715bIUIu8/1HmJCTwZ5deK9nmRa0SbAHD3QBlkmlPDmPIMO/pdBNTeg4490bwZaPWLKp7IA05fPO2Ek7cGDEFTL5xtoV7pASRuh2KNxypRWGPnHef7G+LeuKIpevnarNogyFe+XUVVPaV5PXsEULybyGjMCcU+tRfNNCE54uiy0TxQoiE2JRsE1fd730mvwTI8ZaxwAA9VTg95X9yYtIcqeLbN2FuDGccu3UGyk0FLj2q/upqc/Q7KwgqmNP/+5Sq02Ci9WfvDPJxrUxICep41wczXIDqVwi3OmDPTyWl2PHjT9x3wkv/612viR1JjYMOnSpJQnH6itfo9CzLYi32rNa1+PRHsFs3kMy5GGjD9+h7kugyfMl40Y8qq5r2pRmHpXWiZMNq91y43SE6O8y6B/LAWcnWHizvz5LzFmBHOVtIJpSoG1cMkaRAvmy98IPZEmtkVKJvjjz2JSFq25XDk4V9Lbg9fQPHQZaXHOlG4z1q05uam2onxo6KT5suCbRbp51Cfiy2Jv3Va1rLSAxrzz1gomJcwxZ/05KpTEuN7cGwgNtGYnO6pPn/uDfPz1H2jDcgw0SukZdqDfsymMTCTAT/lShTHHop52VKMV4qanO23vv0BPd06wpeeRYyeQOvebTJ3zvWzbjQG+iKmThmTU3GBCFlNwfJ214Cyd4oNeIWFK/83tRhEPHjqOxN752riW1gDTvbTpMIhRGLmEjdFw6ElAztkcc8GWiHk7gnnbklxvJoqr+7t9HSvULPjAzJvfIM1HT/0cUn2dJvuzYRk/Z2J0xbJFpCQ6m3+LThBMzSMKa+nN4a+P3VcTzFkfJVpsHYm+QDRzHSvE44YmsbzXSOlpkq9lDczVCTO/UgCSxfpKM/xHenKiNhtf2Xj69chACylT+mZKmHQwakH2Nxk49iOZ+8XvcgoDbswkLw6cuYgazAzyCDp1vwBfs2zJgrrvfbWm8Y9CadPHFbNFdx3DFF6whu/kNjXJZJ//sEg703P8OZPQaV2QMWlmVSlfTNo2fUSqVyypQo5xtd37MIaA2SegKOsnadLWw5Dflpj5UvXGEsZsc4rPTU6s1xRL7DQNSE8KHAoiJlIA+f/pz5UydvoX8veKTfruxn+8oj+cONYKnTMaPVzb9DByhFV8WxYhZUq3+WpQQrPpuDHYnmLuZ7/LJCRcb9m+10kyoI9kUNgK5YpIY/SP4cQitlnUDYsf38E31ucKrY0fHXPF9HOvsKJwMXSxGtL0e7ksy1b/Kx+iMuHrn5bJ4aMnFVHluZcvX1K0ugE60zd79l4VXNxATK/77td/ZMz0z/HdLaoRbM0f71eyWF55skEtJG7UQKw4pxF2sE7cnbvje/PFlG6RnR8dPfk9Np+e+/lvuufYHZ79dEkjAo4UdjVRNdMS7tNt1cqaUIjda048OD7MVvt+8cKU5mZGI7hNWUr8ZRiFMAGZKhwcRAIxX5Z+JjcMne2aN5WTRg/VktoYvqmjERT8MNcy1ohxuF3Bgbha65Bcx6uNvCCOldi84Rb0ZJ316S8wrf6SbbtQdoX3TMlQhmq+S5pWR2n+MGK8OordMUlTOKbZJoy2m4R2FXOwAc+cOe8xZ9mTJy1ibJXKFZWGD9RCL5mbJRvibzzcIEZiA4P8gUXbtkbHBWBrsJ/Op6DlPMwCXbNhh6LTmsdKcxX0zIUpZy88cbc8+VBtdIfP7tlfBrGO+6G9wWyqeGNKiyK6pTEfkP9m94JhKCD9COYsZyWSmpTyRGKpNThb45H7bpOnHroTJkYezU6h7WHjb0pAj75JmFrT15Q3PV/JR6bO8QoSyI+rz0gBtRxINbViKmhHnsSZoEzqrwiGYkeHujUrOczkqhBxxSI5EW3i7K81+2cf5r4wccOMRQA9Ifioae9F8XkT9OotjSG1TG7nfSzk796Qdo2C2UzxfY4bVTVTwkxRBH9/DPtoyYqNaon9sXit+osm5RP7isIf51HAvfbCg/L4/bc7ZqyXnteLIZXeeAHzNvF0+N/OBGhTyPFTp9XxnvflH2hyu0VzDlMpCGQSgYn+lylREInAlbWV342liwi7UfN6aobR33KYPOIrmRHh3OghRLIdH8TXJPUnq+kdShMe74Y/t6LFxEKMgvgBoQ7C8mxZSEmuvg7e6woG/hRB/eS9dW6ShgDAyhQvYLSj4w95yracZdSEatCCvWR/WrgS5tpv8ieuT8GXCjFivj/pxe8VyZ9LagHtrnNbRalWoaT27uVBQUizVrWmceD1OvA5AAALlElEQVQj7I742LTWR3Sb+P4PYv1wo/1ETdMlKzfK978tR/htDUb9oQUqaE1mJePy3djk+s5bKmgvqRpVytCp8sQnrRC6nv51vDNlQKJyk1JS4082eGK2yqz5P2vj4DQwWVkZwQW6jA7U1BjcpNUrlZYG99ys5q1dENWeqmcjHqpLHYDIfhrbjeUGFNwaMDr55vZLtgOG/+aXpYqart24XS0ESnGaqgRiOMIgDepP70WO8POA5qtVKulNsHAsAyNgfE0sa97be+2D+fY9GH4qQKAV8DWJNFrzjcxJX5UhgBqVS8kD8Ddvv/lGnQljj6jeydfquTbBZy0HX+TUixkE0hluerI52Le/LoUbtFRWrt8mB1EpYwSXY6pyAjksBTLjc4/V0YoZJle46ZVQTPfrwpTuhXYvrCGiSVxfhYEpI6d+Bg2yXEtn1PHGhuU+pOZkUDwH/IGq5YsqGHQHiJw71w06os+9oayQ92pIr7Z0mz/RMaiv5Iyode07ObF+1UTeLn4GLWZS+QqMKPjqxyXQXhtkG+oez547pxuHdY+20za1Ewe4vvzU/5CdU12r3K25bk1LvmMgl8CXnjY75ar2fJ0Gc3beV3/oSHdqH6MNmcQBeuK/7JigVrZEIZjHFbU0ie0umOvpoSc9W59hskYoGNpamnhDVtFpG1/6m2v5C4PI6Mn7nYbPvBE+NJu2sS3nhs27EBY6q+9F94dN5e0clVw5ssjzT9wlz0A75sHsTx42g8yCXb4CIZAYiJ/fXRemdL+av6NumYiEOotObGzKRUd9OQAhjgPn58YUMZuJ5gg3TpECObWJUS38lEImS06YYpT4Hi2qi6ARUWfpvczpZsjINIO/VmATKtrWPgKG28rJsuGHHMzK8M8u9MlZhmZYP/25HF0ZtujveD0KEN08utHZsS6V+swcK0gwht0FeMQk8B+Bng732rzXX/5aBd/9D1n0z3pU8hzVrCrbzoIhFIIfpC/jdbWhVWojO4huQ+4c2dRdcDOpBZkc1nSY0zdkFYymNbS1jG3+NIcRHPbg2IXjmJTM8jQ2F/vlr5Uw+TehfvS41u5yKBLpqQIMG4T/zo+2nLdVKwe/saaaqkpPH9TZi0bEJ8IaFXtfd6Y0e8Ysgjfzgr+zm8X4CQuXrFWJuBjxJZpkNPV0ATTOhxgnsvopsXNCIrI5VMnC+bTzW3FMlCqK9L082FTp0AbD/3DnhupzqA8ViGTeHiwmlshT3e0zmXd6SY4dO6WjAXbAPF2D9ihEQzfDDOe/OWQ3pTKi8X+Mj3NJgSvOh6xdo4LUv7OalIe/zA1lns3QJSamlS89VYd5IH5ehz1l6WeSnn+BOXftYckX3knjoMYcJrNSy2TLmlHjdyWK5EexdH74tPnRuCuX5EVBQeaM6f0IBf+e1UCO9oySnsoLThsTh97+g1WZf6pMiEFSW4FKs9cqE8ep9emLn4DGp/lt6OlFqIlFcM3pL9evXU0qly8OAc1CcPqOxhqz+y0h4vYJgintyno3kzHNrO9mSpREazSXrNykPuePADGOggEYt2SwnBA4N9Tlq5d0gzFtKgOYMCuq8wtgECo3FhmUQ1Hz5Mym8DcZmLVxsT2OYnOzaoNCgtA7R8xt3r5HdmKTH0J/HXYKYMCaeYR8NgPeXMYzYnPAtqJGqoSMnAfq1VAfh93lmdbFjRKhnM15yJhIc8MUamA6QsB43HZTHoblsQJFAj/8vlxpumvfYRV01Pb8kzTlZGmTCplcMkB4ZEUYJTe0KDU6hV5hxDyZG0rNmgeMyp6/sT2YLLEPDEiaUhDT7yZNd8LS4NofAb0ZjyUP63PiP+IQFF76jKBx8SJ5NCG/bs3KUq5kIW2jaQSgzV31anLznKEF/2JDiwTFlF7mdIN+Ni7pbUx0GEjiajjzX/20VBYC7ubgGqZLcVG40a1m4camtOXBDcbGXZyMxGE2dPJzopKcm4mmGSUpGYI/NHvTI2zAMMI5TDlmJTp/6MOcwX3IbGQ85qByYx8HSHMGWpCNj810LG4bxBcVnjdoLDc3WzyySiZH9szw3QrK/+ALM3m8MFpGWijfCCZvDDY6vyyYRfc1IS0wZDU/58Kcl3X/7kCiwlL5ffFq9Pg5oCEFfo9aRxmZGhT/WeSWNFZ6ogE3hR/9Xr5XXvhrLMsjjUnL9A5NM+HPVND+F4AKnwINDT3P6b3Z4IsF2vsBzhCwobA7ffYcEOQLqrHtQcGgz6HjHIyVwTWiNqeAqFerqtx5WwUdiJQGwoFakdCfTTgxdE34aZoJkim5CGYzmg1t/jQ2jgV8VPrhd9t3HZDFKA1jeRibF1O6cqHphykzqqnCxdQvgzloYjGk4LVRNZRC7eCYiRp31r8TKDD30TgY/9QfxTyNH4STTPqbyTa6ctX8nRvH+oJpsHE5hr5cqYLq19xSpbSULVVI6/PMOxlz3WrBmJiqwTCl7zmG6QPRk+ftP3RU/oH//ufS9eoqbEMiPMETBt35nHxX4zyaDU660GRl+MYhh1qEtApsWEX/VBob35H3Vn/UaZ1Jy8FZHn1U+rjGPVBxQArpPSyNaN1wvgpzfm+qWEpuxQiGimWLIfMro2ePuE14r3UR+rBYzNcj4jcSLFPazWolm/+jW6JbhPMcNNXm7fthjm2W9f/u0rQqVlbQjDx1hjMfbV2hYVA1d4kJmLktPskH5l6RS1QPkms3GDaZDoHlt7B5qA2zZE6HJPBcUhpxRU5KJqp5Y+lC2k3OHu7pTL5AkjkjJqZqMJvBamFfp9kAHVYj23sS4WZ20eoN26BFdyE8tUf9OZqVJ0+fd+J6zjPSv3d8XwevUYK65J6HnvydF+3kOnjpT7oaAWg0HE1SCmX6jZxLky93dm0CRq3IKpjyoCc7k5vVMz66E/ny8cHt6sY1PYOheWzOSdBMGeiFIoJCZkPZ/qb8O81Iml/Umhuwof4BUsc5EEQbGQ6gX0Ikj2gjxbHReiyudphBGcLRzjSXzHAljxTmhzTluBE5P4XxxHQwd3NhHBrRvrIlzIZhvmneXNklPXwxiwKbxsqmY7n3MIxxPTZNRPTbWAOaG+ocTEQgqLJr7wEVeKvAqIwh78Zs0qMnTuqQG9JTtalDKmvhWAFm3o3WizODg2/sCDUVSDQz8R9NYoJc6RGfzoq5Kew/VKpYfoA1RRVoImNmhCmc2gnV8PmNRWKmifkLt+tB09gwovs7iY4p7cMH2kyWc+zi2HNPwvw6gqTug4ePoe38CQVldsMPJZR+BGAR/Rv6LwzYc3Oxq/glpGWptoIoZxiAebdMXEibJo32FSKAkAN+aT4ARtwoDMHkBODBrJisQCWJsjps7NEY/tooLvzFa90Abnrq+zroK/9un8+t3fj7c8i2OnL8pM4o4bj2A/CtCRIRpGHyPCt/KPgoHM2fl7QCSAUPGQ+F7eng89GiSAdask0Mwy03oPCAqC6bq7FzHGmZE4KOYJ1/KMYsjlHHBALdLk5iZMQkwZR209iXCWT+eZjA2jSuN6d5xh61BGjOAsy5hASF82DEC9g87J9K1JTfp8ag5KZk5jRl/p0bhEAQkUZKdv9DzS7VwL6H21e0DBBXTBVX1/HxtV0MaujtuJMO87rvSQuAtON4+DNIiGC+rtLRoSX/NH2GIOTAjKoRHa3IRHkypmFUFG+7YpN2na0p7HEdnJu71z2xM6NnL2MRAkbl4mqR4+s6XqluASI/qW93lWtDXfsiGr/TfyObd/aapL7P5s+q8UWhmN/Hq8l9s3Xslbzv7VuxE/M7eb/Ba5odabale40sAzoK0qPVr30dr+WJ4/67idZ8jYoUVqJbYMNt2vh/zx+MiJ7ENvAc+ZnezXN9Sn+if4eYnWHoaRjT+r6RyXIXP3kYKwpKeT9SpDXwYehpGNX+3V9jxuyNEvbZSZIpIzKeXUyv9I1LA8HfhEpIvmIotp9b81ttFqZn3FH6/4XynoSRxkWdAAAAAElFTkSuQmCC)"
   ]
  },
  {
   "cell_type": "code",
   "execution_count": null,
   "metadata": {
    "id": "trV4INBKWEd9"
   },
   "outputs": [],
   "source": []
  },
  {
   "cell_type": "markdown",
   "metadata": {
    "id": "jk-dbUwgZ3HQ"
   },
   "source": [
    "- left 병합: inner 병합에 left 데이터프레임에 짝이 없는 데이터 추가\n",
    "\n",
    "![image.png](data:image/png;base64,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)"
   ]
  },
  {
   "cell_type": "code",
   "execution_count": null,
   "metadata": {
    "id": "oiF4ubnUWEbb"
   },
   "outputs": [],
   "source": []
  },
  {
   "cell_type": "markdown",
   "metadata": {
    "id": "6e1rZfgNZ-uE"
   },
   "source": [
    "- right 병합: inner 병합에 right 데이터프레임에 짝이없는 데이터 추가\n",
    "\n",
    "![image.png](data:image/png;base64,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)"
   ]
  },
  {
   "cell_type": "code",
   "execution_count": null,
   "metadata": {
    "id": "8DAIU0cgWEZJ"
   },
   "outputs": [],
   "source": []
  },
  {
   "cell_type": "markdown",
   "metadata": {
    "id": "9cs3QZhIaEHP"
   },
   "source": [
    "- outer 병합: inner  결과에 양쪽 데이터프레임에 짝이없는 데이터 추가\n",
    "\n",
    "![image.png](data:image/png;base64,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)"
   ]
  },
  {
   "cell_type": "code",
   "execution_count": null,
   "metadata": {
    "id": "8ngbbFG-WESG"
   },
   "outputs": [],
   "source": []
  },
  {
   "cell_type": "code",
   "execution_count": 220,
   "metadata": {
    "id": "WKOn9jMok-7E"
   },
   "outputs": [
    {
     "data": {
      "text/html": [
       "<div>\n",
       "<style scoped>\n",
       "    .dataframe tbody tr th:only-of-type {\n",
       "        vertical-align: middle;\n",
       "    }\n",
       "\n",
       "    .dataframe tbody tr th {\n",
       "        vertical-align: top;\n",
       "    }\n",
       "\n",
       "    .dataframe thead th {\n",
       "        text-align: right;\n",
       "    }\n",
       "</style>\n",
       "<table border=\"1\" class=\"dataframe\">\n",
       "  <thead>\n",
       "    <tr style=\"text-align: right;\">\n",
       "      <th></th>\n",
       "      <th>ID</th>\n",
       "      <th>Name</th>\n",
       "      <th>Value</th>\n",
       "      <th>Description</th>\n",
       "      <th>Quantity</th>\n",
       "    </tr>\n",
       "  </thead>\n",
       "  <tbody>\n",
       "    <tr>\n",
       "      <th>0</th>\n",
       "      <td>3</td>\n",
       "      <td>Charlie</td>\n",
       "      <td>300</td>\n",
       "      <td>Type C</td>\n",
       "      <td>30</td>\n",
       "    </tr>\n",
       "    <tr>\n",
       "      <th>1</th>\n",
       "      <td>4</td>\n",
       "      <td>David</td>\n",
       "      <td>400</td>\n",
       "      <td>Type D</td>\n",
       "      <td>40</td>\n",
       "    </tr>\n",
       "    <tr>\n",
       "      <th>2</th>\n",
       "      <td>5</td>\n",
       "      <td>Ella</td>\n",
       "      <td>500</td>\n",
       "      <td>Type E</td>\n",
       "      <td>50</td>\n",
       "    </tr>\n",
       "  </tbody>\n",
       "</table>\n",
       "</div>"
      ],
      "text/plain": [
       "   ID     Name  Value Description  Quantity\n",
       "0   3  Charlie    300      Type C        30\n",
       "1   4    David    400      Type D        40\n",
       "2   5     Ella    500      Type E        50"
      ]
     },
     "execution_count": 220,
     "metadata": {},
     "output_type": "execute_result"
    }
   ],
   "source": [
    "# 참고 : 좌우 데이터 프레임에 key가 되는 컬럼명이 다른 경우\n",
    "\n",
    "data_B2 = pd.DataFrame({\n",
    "    \"EMP_ID\": [3, 4, 5, 6, 7],\n",
    "    \"Description\": [\"Type C\", \"Type D\", \"Type E\", \"Type F\", \"Type G\"],\n",
    "    \"Quantity\": [30, 40, 50, 60, 70]\n",
    "})\n",
    "\n",
    "pd.merge(data_A, data_B2, left_on='ID', right_on='EMP_ID', how='inner').drop('EMP_ID', axis=1)"
   ]
  },
  {
   "cell_type": "markdown",
   "metadata": {
    "id": "jESA2HtXckrn"
   },
   "source": [
    "### 연습\n",
    "1. 어떤 식당의 1주, 2주차 영업자료인 `week_1_sales.csv`, `week_2_sales.csv`를 데이터프레임으로 읽기\n",
    "2. 1주차, 2주차에 모두 식당에 방문한 고객을 찾기\n",
    "3. 2항목에 해당하는 고객중 같은 음식을 먹은 고객 찾기\n",
    "4. `customers.csv`, `foods.csv`를 이용하여 찾은 고객의 이름과 먹은 메뉴 이름 알아내기"
   ]
  },
  {
   "cell_type": "code",
   "execution_count": 221,
   "metadata": {
    "id": "PcxqzMRmcxrk"
   },
   "outputs": [],
   "source": [
    "# 1. 어떤 식당의 1주, 2주차 영업자료인 `week_1_sales.csv`, `week_2_sales.csv`를 데이터프레임으로 읽기\n",
    "\n",
    "df1 = pd.read_csv(\"data/week_1_sales.csv\",encoding=\"cp949\")\n",
    "df2 = pd.read_csv(\"data/week_2_sales.csv\",encoding=\"cp949\")"
   ]
  },
  {
   "cell_type": "code",
   "execution_count": 227,
   "metadata": {
    "id": "DFbsqfVdcyjI"
   },
   "outputs": [
    {
     "data": {
      "text/html": [
       "<div>\n",
       "<style scoped>\n",
       "    .dataframe tbody tr th:only-of-type {\n",
       "        vertical-align: middle;\n",
       "    }\n",
       "\n",
       "    .dataframe tbody tr th {\n",
       "        vertical-align: top;\n",
       "    }\n",
       "\n",
       "    .dataframe thead th {\n",
       "        text-align: right;\n",
       "    }\n",
       "</style>\n",
       "<table border=\"1\" class=\"dataframe\">\n",
       "  <thead>\n",
       "    <tr style=\"text-align: right;\">\n",
       "      <th></th>\n",
       "      <th>Customer ID</th>\n",
       "      <th>Food ID_df1</th>\n",
       "      <th>Food ID_df2</th>\n",
       "    </tr>\n",
       "  </thead>\n",
       "  <tbody>\n",
       "    <tr>\n",
       "      <th>0</th>\n",
       "      <td>537</td>\n",
       "      <td>9</td>\n",
       "      <td>5</td>\n",
       "    </tr>\n",
       "    <tr>\n",
       "      <th>1</th>\n",
       "      <td>155</td>\n",
       "      <td>9</td>\n",
       "      <td>3</td>\n",
       "    </tr>\n",
       "    <tr>\n",
       "      <th>2</th>\n",
       "      <td>503</td>\n",
       "      <td>5</td>\n",
       "      <td>8</td>\n",
       "    </tr>\n",
       "    <tr>\n",
       "      <th>3</th>\n",
       "      <td>503</td>\n",
       "      <td>5</td>\n",
       "      <td>9</td>\n",
       "    </tr>\n",
       "    <tr>\n",
       "      <th>4</th>\n",
       "      <td>155</td>\n",
       "      <td>1</td>\n",
       "      <td>3</td>\n",
       "    </tr>\n",
       "    <tr>\n",
       "      <th>...</th>\n",
       "      <td>...</td>\n",
       "      <td>...</td>\n",
       "      <td>...</td>\n",
       "    </tr>\n",
       "    <tr>\n",
       "      <th>57</th>\n",
       "      <td>945</td>\n",
       "      <td>5</td>\n",
       "      <td>4</td>\n",
       "    </tr>\n",
       "    <tr>\n",
       "      <th>58</th>\n",
       "      <td>343</td>\n",
       "      <td>3</td>\n",
       "      <td>5</td>\n",
       "    </tr>\n",
       "    <tr>\n",
       "      <th>59</th>\n",
       "      <td>343</td>\n",
       "      <td>3</td>\n",
       "      <td>2</td>\n",
       "    </tr>\n",
       "    <tr>\n",
       "      <th>60</th>\n",
       "      <td>343</td>\n",
       "      <td>3</td>\n",
       "      <td>7</td>\n",
       "    </tr>\n",
       "    <tr>\n",
       "      <th>61</th>\n",
       "      <td>621</td>\n",
       "      <td>9</td>\n",
       "      <td>6</td>\n",
       "    </tr>\n",
       "  </tbody>\n",
       "</table>\n",
       "<p>62 rows × 3 columns</p>\n",
       "</div>"
      ],
      "text/plain": [
       "    Customer ID  Food ID_df1  Food ID_df2\n",
       "0           537            9            5\n",
       "1           155            9            3\n",
       "2           503            5            8\n",
       "3           503            5            9\n",
       "4           155            1            3\n",
       "..          ...          ...          ...\n",
       "57          945            5            4\n",
       "58          343            3            5\n",
       "59          343            3            2\n",
       "60          343            3            7\n",
       "61          621            9            6\n",
       "\n",
       "[62 rows x 3 columns]"
      ]
     },
     "execution_count": 227,
     "metadata": {},
     "output_type": "execute_result"
    }
   ],
   "source": [
    "# 2. 1주차, 2주차에 모두 식당에 방문한 고객을 찾기\n",
    "\n",
    "common_customers = pd.merge(df1,df2, on = \"Customer ID\", how = \"inner\", suffixes=(\"_df1\",\"_df2\"))\n",
    "common_customers"
   ]
  },
  {
   "cell_type": "code",
   "execution_count": 223,
   "metadata": {},
   "outputs": [
    {
     "data": {
      "text/html": [
       "<div>\n",
       "<style scoped>\n",
       "    .dataframe tbody tr th:only-of-type {\n",
       "        vertical-align: middle;\n",
       "    }\n",
       "\n",
       "    .dataframe tbody tr th {\n",
       "        vertical-align: top;\n",
       "    }\n",
       "\n",
       "    .dataframe thead th {\n",
       "        text-align: right;\n",
       "    }\n",
       "</style>\n",
       "<table border=\"1\" class=\"dataframe\">\n",
       "  <thead>\n",
       "    <tr style=\"text-align: right;\">\n",
       "      <th></th>\n",
       "      <th>Customer ID</th>\n",
       "      <th>Food ID</th>\n",
       "    </tr>\n",
       "  </thead>\n",
       "  <tbody>\n",
       "    <tr>\n",
       "      <th>0</th>\n",
       "      <td>688</td>\n",
       "      <td>10</td>\n",
       "    </tr>\n",
       "    <tr>\n",
       "      <th>1</th>\n",
       "      <td>813</td>\n",
       "      <td>7</td>\n",
       "    </tr>\n",
       "    <tr>\n",
       "      <th>2</th>\n",
       "      <td>495</td>\n",
       "      <td>10</td>\n",
       "    </tr>\n",
       "    <tr>\n",
       "      <th>3</th>\n",
       "      <td>189</td>\n",
       "      <td>5</td>\n",
       "    </tr>\n",
       "    <tr>\n",
       "      <th>4</th>\n",
       "      <td>267</td>\n",
       "      <td>3</td>\n",
       "    </tr>\n",
       "  </tbody>\n",
       "</table>\n",
       "</div>"
      ],
      "text/plain": [
       "   Customer ID  Food ID\n",
       "0          688       10\n",
       "1          813        7\n",
       "2          495       10\n",
       "3          189        5\n",
       "4          267        3"
      ]
     },
     "execution_count": 223,
     "metadata": {},
     "output_type": "execute_result"
    }
   ],
   "source": [
    "df2.head()"
   ]
  },
  {
   "cell_type": "code",
   "execution_count": 229,
   "metadata": {
    "id": "QjXRfH_kcyeh"
   },
   "outputs": [
    {
     "data": {
      "text/html": [
       "<div>\n",
       "<style scoped>\n",
       "    .dataframe tbody tr th:only-of-type {\n",
       "        vertical-align: middle;\n",
       "    }\n",
       "\n",
       "    .dataframe tbody tr th {\n",
       "        vertical-align: top;\n",
       "    }\n",
       "\n",
       "    .dataframe thead th {\n",
       "        text-align: right;\n",
       "    }\n",
       "</style>\n",
       "<table border=\"1\" class=\"dataframe\">\n",
       "  <thead>\n",
       "    <tr style=\"text-align: right;\">\n",
       "      <th></th>\n",
       "      <th>Customer ID</th>\n",
       "      <th>Food ID_df1</th>\n",
       "      <th>Food ID_df2</th>\n",
       "    </tr>\n",
       "  </thead>\n",
       "  <tbody>\n",
       "    <tr>\n",
       "      <th>12</th>\n",
       "      <td>304</td>\n",
       "      <td>3</td>\n",
       "      <td>3</td>\n",
       "    </tr>\n",
       "    <tr>\n",
       "      <th>19</th>\n",
       "      <td>540</td>\n",
       "      <td>3</td>\n",
       "      <td>3</td>\n",
       "    </tr>\n",
       "    <tr>\n",
       "      <th>21</th>\n",
       "      <td>937</td>\n",
       "      <td>10</td>\n",
       "      <td>10</td>\n",
       "    </tr>\n",
       "    <tr>\n",
       "      <th>23</th>\n",
       "      <td>233</td>\n",
       "      <td>3</td>\n",
       "      <td>3</td>\n",
       "    </tr>\n",
       "    <tr>\n",
       "      <th>24</th>\n",
       "      <td>21</td>\n",
       "      <td>4</td>\n",
       "      <td>4</td>\n",
       "    </tr>\n",
       "    <tr>\n",
       "      <th>32</th>\n",
       "      <td>922</td>\n",
       "      <td>1</td>\n",
       "      <td>1</td>\n",
       "    </tr>\n",
       "    <tr>\n",
       "      <th>52</th>\n",
       "      <td>21</td>\n",
       "      <td>4</td>\n",
       "      <td>4</td>\n",
       "    </tr>\n",
       "    <tr>\n",
       "      <th>53</th>\n",
       "      <td>578</td>\n",
       "      <td>5</td>\n",
       "      <td>5</td>\n",
       "    </tr>\n",
       "    <tr>\n",
       "      <th>54</th>\n",
       "      <td>578</td>\n",
       "      <td>5</td>\n",
       "      <td>5</td>\n",
       "    </tr>\n",
       "  </tbody>\n",
       "</table>\n",
       "</div>"
      ],
      "text/plain": [
       "    Customer ID  Food ID_df1  Food ID_df2\n",
       "12          304            3            3\n",
       "19          540            3            3\n",
       "21          937           10           10\n",
       "23          233            3            3\n",
       "24           21            4            4\n",
       "32          922            1            1\n",
       "52           21            4            4\n",
       "53          578            5            5\n",
       "54          578            5            5"
      ]
     },
     "execution_count": 229,
     "metadata": {},
     "output_type": "execute_result"
    }
   ],
   "source": [
    "# 3. 2항목에 해당하는 고객중 같은 음식을 먹은 고객 찾기\n",
    "\n",
    "common_customers[common_customers[\"Food ID_df1\"] == common_customers[\"Food ID_df2\"]]"
   ]
  },
  {
   "cell_type": "code",
   "execution_count": 232,
   "metadata": {
    "id": "8-Yx7ac1hRNx"
   },
   "outputs": [
    {
     "data": {
      "text/html": [
       "<div>\n",
       "<style scoped>\n",
       "    .dataframe tbody tr th:only-of-type {\n",
       "        vertical-align: middle;\n",
       "    }\n",
       "\n",
       "    .dataframe tbody tr th {\n",
       "        vertical-align: top;\n",
       "    }\n",
       "\n",
       "    .dataframe thead th {\n",
       "        text-align: right;\n",
       "    }\n",
       "</style>\n",
       "<table border=\"1\" class=\"dataframe\">\n",
       "  <thead>\n",
       "    <tr style=\"text-align: right;\">\n",
       "      <th></th>\n",
       "      <th>Customer ID_x</th>\n",
       "      <th>Food ID_df1_x</th>\n",
       "      <th>Food ID_df2_x</th>\n",
       "      <th>Customer ID_y</th>\n",
       "      <th>Food ID_df1_y</th>\n",
       "      <th>Food ID_df2_y</th>\n",
       "    </tr>\n",
       "  </thead>\n",
       "  <tbody>\n",
       "    <tr>\n",
       "      <th>0</th>\n",
       "      <td>537</td>\n",
       "      <td>9</td>\n",
       "      <td>5</td>\n",
       "      <td>503</td>\n",
       "      <td>5</td>\n",
       "      <td>9</td>\n",
       "    </tr>\n",
       "    <tr>\n",
       "      <th>1</th>\n",
       "      <td>537</td>\n",
       "      <td>9</td>\n",
       "      <td>5</td>\n",
       "      <td>574</td>\n",
       "      <td>10</td>\n",
       "      <td>9</td>\n",
       "    </tr>\n",
       "    <tr>\n",
       "      <th>2</th>\n",
       "      <td>155</td>\n",
       "      <td>9</td>\n",
       "      <td>3</td>\n",
       "      <td>503</td>\n",
       "      <td>5</td>\n",
       "      <td>9</td>\n",
       "    </tr>\n",
       "    <tr>\n",
       "      <th>3</th>\n",
       "      <td>155</td>\n",
       "      <td>9</td>\n",
       "      <td>3</td>\n",
       "      <td>574</td>\n",
       "      <td>10</td>\n",
       "      <td>9</td>\n",
       "    </tr>\n",
       "    <tr>\n",
       "      <th>4</th>\n",
       "      <td>503</td>\n",
       "      <td>5</td>\n",
       "      <td>8</td>\n",
       "      <td>537</td>\n",
       "      <td>9</td>\n",
       "      <td>5</td>\n",
       "    </tr>\n",
       "    <tr>\n",
       "      <th>...</th>\n",
       "      <td>...</td>\n",
       "      <td>...</td>\n",
       "      <td>...</td>\n",
       "      <td>...</td>\n",
       "      <td>...</td>\n",
       "      <td>...</td>\n",
       "    </tr>\n",
       "    <tr>\n",
       "      <th>364</th>\n",
       "      <td>343</td>\n",
       "      <td>3</td>\n",
       "      <td>7</td>\n",
       "      <td>304</td>\n",
       "      <td>2</td>\n",
       "      <td>3</td>\n",
       "    </tr>\n",
       "    <tr>\n",
       "      <th>365</th>\n",
       "      <td>343</td>\n",
       "      <td>3</td>\n",
       "      <td>7</td>\n",
       "      <td>479</td>\n",
       "      <td>6</td>\n",
       "      <td>3</td>\n",
       "    </tr>\n",
       "    <tr>\n",
       "      <th>366</th>\n",
       "      <td>343</td>\n",
       "      <td>3</td>\n",
       "      <td>7</td>\n",
       "      <td>321</td>\n",
       "      <td>1</td>\n",
       "      <td>3</td>\n",
       "    </tr>\n",
       "    <tr>\n",
       "      <th>367</th>\n",
       "      <td>621</td>\n",
       "      <td>9</td>\n",
       "      <td>6</td>\n",
       "      <td>503</td>\n",
       "      <td>5</td>\n",
       "      <td>9</td>\n",
       "    </tr>\n",
       "    <tr>\n",
       "      <th>368</th>\n",
       "      <td>621</td>\n",
       "      <td>9</td>\n",
       "      <td>6</td>\n",
       "      <td>574</td>\n",
       "      <td>10</td>\n",
       "      <td>9</td>\n",
       "    </tr>\n",
       "  </tbody>\n",
       "</table>\n",
       "<p>369 rows × 6 columns</p>\n",
       "</div>"
      ],
      "text/plain": [
       "     Customer ID_x  Food ID_df1_x  Food ID_df2_x  Customer ID_y  \\\n",
       "0              537              9              5            503   \n",
       "1              537              9              5            574   \n",
       "2              155              9              3            503   \n",
       "3              155              9              3            574   \n",
       "4              503              5              8            537   \n",
       "..             ...            ...            ...            ...   \n",
       "364            343              3              7            304   \n",
       "365            343              3              7            479   \n",
       "366            343              3              7            321   \n",
       "367            621              9              6            503   \n",
       "368            621              9              6            574   \n",
       "\n",
       "     Food ID_df1_y  Food ID_df2_y  \n",
       "0                5              9  \n",
       "1               10              9  \n",
       "2                5              9  \n",
       "3               10              9  \n",
       "4                9              5  \n",
       "..             ...            ...  \n",
       "364              2              3  \n",
       "365              6              3  \n",
       "366              1              3  \n",
       "367              5              9  \n",
       "368             10              9  \n",
       "\n",
       "[369 rows x 6 columns]"
      ]
     },
     "execution_count": 232,
     "metadata": {},
     "output_type": "execute_result"
    }
   ],
   "source": [
    "# 키를 복수로 두고도 할 수 있음\n",
    "same_food_customers = common_customers.merge(common_customers,left_on=[\"Food ID_df1\"], right_on=[\"Food ID_df2\"])\n",
    "same_food_customers"
   ]
  },
  {
   "cell_type": "code",
   "execution_count": 148,
   "metadata": {
    "id": "o5qGqncvcyYX"
   },
   "outputs": [],
   "source": [
    "# 4. `customers.csv`, `foods.csv`를 이용하여 찾은 고객의 이름과 먹은 메뉴 이름 알아내기\n",
    "\n"
   ]
  },
  {
   "cell_type": "code",
   "execution_count": 235,
   "metadata": {
    "id": "u5umP7iIcyQ_"
   },
   "outputs": [],
   "source": [
    "df1 = pd.read_csv('data/customers.csv',encoding = 'cp949')\n",
    "df2 = pd.read_csv('data/foods.csv',encoding = 'cp949')"
   ]
  },
  {
   "cell_type": "code",
   "execution_count": 239,
   "metadata": {
    "id": "P9ttAMskTXYZ"
   },
   "outputs": [
    {
     "data": {
      "text/html": [
       "<div>\n",
       "<style scoped>\n",
       "    .dataframe tbody tr th:only-of-type {\n",
       "        vertical-align: middle;\n",
       "    }\n",
       "\n",
       "    .dataframe tbody tr th {\n",
       "        vertical-align: top;\n",
       "    }\n",
       "\n",
       "    .dataframe thead th {\n",
       "        text-align: right;\n",
       "    }\n",
       "</style>\n",
       "<table border=\"1\" class=\"dataframe\">\n",
       "  <thead>\n",
       "    <tr style=\"text-align: right;\">\n",
       "      <th></th>\n",
       "      <th>ID</th>\n",
       "      <th>First Name</th>\n",
       "      <th>Last Name</th>\n",
       "      <th>Gender</th>\n",
       "      <th>Company</th>\n",
       "      <th>Occupation</th>\n",
       "    </tr>\n",
       "  </thead>\n",
       "  <tbody>\n",
       "    <tr>\n",
       "      <th>0</th>\n",
       "      <td>1</td>\n",
       "      <td>Joseph</td>\n",
       "      <td>Perkins</td>\n",
       "      <td>Male</td>\n",
       "      <td>Dynazzy</td>\n",
       "      <td>Community Outreach Specialist</td>\n",
       "    </tr>\n",
       "    <tr>\n",
       "      <th>1</th>\n",
       "      <td>2</td>\n",
       "      <td>Jennifer</td>\n",
       "      <td>Alvarez</td>\n",
       "      <td>Female</td>\n",
       "      <td>DabZ</td>\n",
       "      <td>Senior Quality Engineer</td>\n",
       "    </tr>\n",
       "    <tr>\n",
       "      <th>2</th>\n",
       "      <td>3</td>\n",
       "      <td>Roger</td>\n",
       "      <td>Black</td>\n",
       "      <td>Male</td>\n",
       "      <td>Tagfeed</td>\n",
       "      <td>Account Executive</td>\n",
       "    </tr>\n",
       "    <tr>\n",
       "      <th>3</th>\n",
       "      <td>4</td>\n",
       "      <td>Steven</td>\n",
       "      <td>Evans</td>\n",
       "      <td>Male</td>\n",
       "      <td>Fatz</td>\n",
       "      <td>Registered Nurse</td>\n",
       "    </tr>\n",
       "    <tr>\n",
       "      <th>4</th>\n",
       "      <td>5</td>\n",
       "      <td>Judy</td>\n",
       "      <td>Morrison</td>\n",
       "      <td>Female</td>\n",
       "      <td>Demivee</td>\n",
       "      <td>Legal Assistant</td>\n",
       "    </tr>\n",
       "  </tbody>\n",
       "</table>\n",
       "</div>"
      ],
      "text/plain": [
       "   ID First Name Last Name  Gender  Company                     Occupation\n",
       "0   1     Joseph   Perkins    Male  Dynazzy  Community Outreach Specialist\n",
       "1   2   Jennifer   Alvarez  Female     DabZ        Senior Quality Engineer\n",
       "2   3      Roger     Black    Male  Tagfeed              Account Executive\n",
       "3   4     Steven     Evans    Male     Fatz               Registered Nurse\n",
       "4   5       Judy  Morrison  Female  Demivee                Legal Assistant"
      ]
     },
     "execution_count": 239,
     "metadata": {},
     "output_type": "execute_result"
    }
   ],
   "source": [
    "df1.head()"
   ]
  },
  {
   "cell_type": "code",
   "execution_count": 238,
   "metadata": {},
   "outputs": [
    {
     "data": {
      "text/html": [
       "<div>\n",
       "<style scoped>\n",
       "    .dataframe tbody tr th:only-of-type {\n",
       "        vertical-align: middle;\n",
       "    }\n",
       "\n",
       "    .dataframe tbody tr th {\n",
       "        vertical-align: top;\n",
       "    }\n",
       "\n",
       "    .dataframe thead th {\n",
       "        text-align: right;\n",
       "    }\n",
       "</style>\n",
       "<table border=\"1\" class=\"dataframe\">\n",
       "  <thead>\n",
       "    <tr style=\"text-align: right;\">\n",
       "      <th></th>\n",
       "      <th>Food ID</th>\n",
       "      <th>Food Item</th>\n",
       "      <th>Price</th>\n",
       "    </tr>\n",
       "  </thead>\n",
       "  <tbody>\n",
       "    <tr>\n",
       "      <th>0</th>\n",
       "      <td>1</td>\n",
       "      <td>Sushi</td>\n",
       "      <td>3.99</td>\n",
       "    </tr>\n",
       "    <tr>\n",
       "      <th>1</th>\n",
       "      <td>2</td>\n",
       "      <td>Burrito</td>\n",
       "      <td>9.99</td>\n",
       "    </tr>\n",
       "    <tr>\n",
       "      <th>2</th>\n",
       "      <td>3</td>\n",
       "      <td>Taco</td>\n",
       "      <td>2.99</td>\n",
       "    </tr>\n",
       "    <tr>\n",
       "      <th>3</th>\n",
       "      <td>4</td>\n",
       "      <td>Quesadilla</td>\n",
       "      <td>4.25</td>\n",
       "    </tr>\n",
       "    <tr>\n",
       "      <th>4</th>\n",
       "      <td>5</td>\n",
       "      <td>Pizza</td>\n",
       "      <td>2.49</td>\n",
       "    </tr>\n",
       "  </tbody>\n",
       "</table>\n",
       "</div>"
      ],
      "text/plain": [
       "   Food ID   Food Item  Price\n",
       "0        1       Sushi   3.99\n",
       "1        2     Burrito   9.99\n",
       "2        3        Taco   2.99\n",
       "3        4  Quesadilla   4.25\n",
       "4        5       Pizza   2.49"
      ]
     },
     "execution_count": 238,
     "metadata": {},
     "output_type": "execute_result"
    }
   ],
   "source": [
    "df2.head()"
   ]
  },
  {
   "cell_type": "code",
   "execution_count": 243,
   "metadata": {},
   "outputs": [],
   "source": [
    "merged = pd.merge(df1,df2,left_on=\"ID\",right_on = \"Food ID\")"
   ]
  },
  {
   "cell_type": "code",
   "execution_count": 245,
   "metadata": {},
   "outputs": [
    {
     "data": {
      "text/html": [
       "<div>\n",
       "<style scoped>\n",
       "    .dataframe tbody tr th:only-of-type {\n",
       "        vertical-align: middle;\n",
       "    }\n",
       "\n",
       "    .dataframe tbody tr th {\n",
       "        vertical-align: top;\n",
       "    }\n",
       "\n",
       "    .dataframe thead th {\n",
       "        text-align: right;\n",
       "    }\n",
       "</style>\n",
       "<table border=\"1\" class=\"dataframe\">\n",
       "  <thead>\n",
       "    <tr style=\"text-align: right;\">\n",
       "      <th></th>\n",
       "      <th>ID</th>\n",
       "      <th>First Name</th>\n",
       "      <th>Last Name</th>\n",
       "      <th>Gender</th>\n",
       "      <th>Company</th>\n",
       "      <th>Occupation</th>\n",
       "      <th>Food ID</th>\n",
       "      <th>Food Item</th>\n",
       "      <th>Price</th>\n",
       "    </tr>\n",
       "  </thead>\n",
       "  <tbody>\n",
       "    <tr>\n",
       "      <th>0</th>\n",
       "      <td>1</td>\n",
       "      <td>Joseph</td>\n",
       "      <td>Perkins</td>\n",
       "      <td>Male</td>\n",
       "      <td>Dynazzy</td>\n",
       "      <td>Community Outreach Specialist</td>\n",
       "      <td>1</td>\n",
       "      <td>Sushi</td>\n",
       "      <td>3.99</td>\n",
       "    </tr>\n",
       "    <tr>\n",
       "      <th>1</th>\n",
       "      <td>2</td>\n",
       "      <td>Jennifer</td>\n",
       "      <td>Alvarez</td>\n",
       "      <td>Female</td>\n",
       "      <td>DabZ</td>\n",
       "      <td>Senior Quality Engineer</td>\n",
       "      <td>2</td>\n",
       "      <td>Burrito</td>\n",
       "      <td>9.99</td>\n",
       "    </tr>\n",
       "    <tr>\n",
       "      <th>2</th>\n",
       "      <td>3</td>\n",
       "      <td>Roger</td>\n",
       "      <td>Black</td>\n",
       "      <td>Male</td>\n",
       "      <td>Tagfeed</td>\n",
       "      <td>Account Executive</td>\n",
       "      <td>3</td>\n",
       "      <td>Taco</td>\n",
       "      <td>2.99</td>\n",
       "    </tr>\n",
       "    <tr>\n",
       "      <th>3</th>\n",
       "      <td>4</td>\n",
       "      <td>Steven</td>\n",
       "      <td>Evans</td>\n",
       "      <td>Male</td>\n",
       "      <td>Fatz</td>\n",
       "      <td>Registered Nurse</td>\n",
       "      <td>4</td>\n",
       "      <td>Quesadilla</td>\n",
       "      <td>4.25</td>\n",
       "    </tr>\n",
       "    <tr>\n",
       "      <th>4</th>\n",
       "      <td>5</td>\n",
       "      <td>Judy</td>\n",
       "      <td>Morrison</td>\n",
       "      <td>Female</td>\n",
       "      <td>Demivee</td>\n",
       "      <td>Legal Assistant</td>\n",
       "      <td>5</td>\n",
       "      <td>Pizza</td>\n",
       "      <td>2.49</td>\n",
       "    </tr>\n",
       "  </tbody>\n",
       "</table>\n",
       "</div>"
      ],
      "text/plain": [
       "   ID First Name Last Name  Gender  Company                     Occupation  \\\n",
       "0   1     Joseph   Perkins    Male  Dynazzy  Community Outreach Specialist   \n",
       "1   2   Jennifer   Alvarez  Female     DabZ        Senior Quality Engineer   \n",
       "2   3      Roger     Black    Male  Tagfeed              Account Executive   \n",
       "3   4     Steven     Evans    Male     Fatz               Registered Nurse   \n",
       "4   5       Judy  Morrison  Female  Demivee                Legal Assistant   \n",
       "\n",
       "   Food ID   Food Item  Price  \n",
       "0        1       Sushi   3.99  \n",
       "1        2     Burrito   9.99  \n",
       "2        3        Taco   2.99  \n",
       "3        4  Quesadilla   4.25  \n",
       "4        5       Pizza   2.49  "
      ]
     },
     "execution_count": 245,
     "metadata": {},
     "output_type": "execute_result"
    }
   ],
   "source": [
    "merged.head()"
   ]
  },
  {
   "cell_type": "code",
   "execution_count": 247,
   "metadata": {},
   "outputs": [
    {
     "data": {
      "text/html": [
       "<div>\n",
       "<style scoped>\n",
       "    .dataframe tbody tr th:only-of-type {\n",
       "        vertical-align: middle;\n",
       "    }\n",
       "\n",
       "    .dataframe tbody tr th {\n",
       "        vertical-align: top;\n",
       "    }\n",
       "\n",
       "    .dataframe thead th {\n",
       "        text-align: right;\n",
       "    }\n",
       "</style>\n",
       "<table border=\"1\" class=\"dataframe\">\n",
       "  <thead>\n",
       "    <tr style=\"text-align: right;\">\n",
       "      <th></th>\n",
       "      <th>First Name</th>\n",
       "      <th>Last Name</th>\n",
       "      <th>Food Item</th>\n",
       "      <th>Price</th>\n",
       "    </tr>\n",
       "  </thead>\n",
       "  <tbody>\n",
       "    <tr>\n",
       "      <th>0</th>\n",
       "      <td>Joseph</td>\n",
       "      <td>Perkins</td>\n",
       "      <td>Sushi</td>\n",
       "      <td>3.99</td>\n",
       "    </tr>\n",
       "    <tr>\n",
       "      <th>1</th>\n",
       "      <td>Jennifer</td>\n",
       "      <td>Alvarez</td>\n",
       "      <td>Burrito</td>\n",
       "      <td>9.99</td>\n",
       "    </tr>\n",
       "    <tr>\n",
       "      <th>2</th>\n",
       "      <td>Roger</td>\n",
       "      <td>Black</td>\n",
       "      <td>Taco</td>\n",
       "      <td>2.99</td>\n",
       "    </tr>\n",
       "    <tr>\n",
       "      <th>3</th>\n",
       "      <td>Steven</td>\n",
       "      <td>Evans</td>\n",
       "      <td>Quesadilla</td>\n",
       "      <td>4.25</td>\n",
       "    </tr>\n",
       "    <tr>\n",
       "      <th>4</th>\n",
       "      <td>Judy</td>\n",
       "      <td>Morrison</td>\n",
       "      <td>Pizza</td>\n",
       "      <td>2.49</td>\n",
       "    </tr>\n",
       "    <tr>\n",
       "      <th>5</th>\n",
       "      <td>Amanda</td>\n",
       "      <td>Howell</td>\n",
       "      <td>Pasta</td>\n",
       "      <td>13.99</td>\n",
       "    </tr>\n",
       "    <tr>\n",
       "      <th>6</th>\n",
       "      <td>Johnny</td>\n",
       "      <td>Reid</td>\n",
       "      <td>Steak</td>\n",
       "      <td>24.99</td>\n",
       "    </tr>\n",
       "    <tr>\n",
       "      <th>7</th>\n",
       "      <td>Frances</td>\n",
       "      <td>Adams</td>\n",
       "      <td>Salad</td>\n",
       "      <td>11.25</td>\n",
       "    </tr>\n",
       "    <tr>\n",
       "      <th>8</th>\n",
       "      <td>Gregory</td>\n",
       "      <td>Chapman</td>\n",
       "      <td>Donut</td>\n",
       "      <td>0.99</td>\n",
       "    </tr>\n",
       "    <tr>\n",
       "      <th>9</th>\n",
       "      <td>Steven</td>\n",
       "      <td>Ryan</td>\n",
       "      <td>Drink</td>\n",
       "      <td>1.75</td>\n",
       "    </tr>\n",
       "  </tbody>\n",
       "</table>\n",
       "</div>"
      ],
      "text/plain": [
       "  First Name Last Name   Food Item  Price\n",
       "0     Joseph   Perkins       Sushi   3.99\n",
       "1   Jennifer   Alvarez     Burrito   9.99\n",
       "2      Roger     Black        Taco   2.99\n",
       "3     Steven     Evans  Quesadilla   4.25\n",
       "4       Judy  Morrison       Pizza   2.49\n",
       "5     Amanda    Howell       Pasta  13.99\n",
       "6     Johnny      Reid       Steak  24.99\n",
       "7    Frances     Adams       Salad  11.25\n",
       "8    Gregory   Chapman       Donut   0.99\n",
       "9     Steven      Ryan       Drink   1.75"
      ]
     },
     "execution_count": 247,
     "metadata": {},
     "output_type": "execute_result"
    }
   ],
   "source": [
    "result = merged[[\"First Name\", \"Last Name\",\"Food Item\", \"Price\"]]\n",
    "result"
   ]
  },
  {
   "cell_type": "code",
   "execution_count": 251,
   "metadata": {},
   "outputs": [
    {
     "data": {
      "text/html": [
       "<div>\n",
       "<style scoped>\n",
       "    .dataframe tbody tr th:only-of-type {\n",
       "        vertical-align: middle;\n",
       "    }\n",
       "\n",
       "    .dataframe tbody tr th {\n",
       "        vertical-align: top;\n",
       "    }\n",
       "\n",
       "    .dataframe thead th {\n",
       "        text-align: right;\n",
       "    }\n",
       "</style>\n",
       "<table border=\"1\" class=\"dataframe\">\n",
       "  <thead>\n",
       "    <tr style=\"text-align: right;\">\n",
       "      <th></th>\n",
       "      <th>First Name</th>\n",
       "      <th>Last Name</th>\n",
       "      <th>Food Item</th>\n",
       "      <th>Price</th>\n",
       "    </tr>\n",
       "  </thead>\n",
       "  <tbody>\n",
       "    <tr>\n",
       "      <th>1</th>\n",
       "      <td>Jennifer</td>\n",
       "      <td>Alvarez</td>\n",
       "      <td>Burrito</td>\n",
       "      <td>9.99</td>\n",
       "    </tr>\n",
       "    <tr>\n",
       "      <th>5</th>\n",
       "      <td>Amanda</td>\n",
       "      <td>Howell</td>\n",
       "      <td>Pasta</td>\n",
       "      <td>13.99</td>\n",
       "    </tr>\n",
       "    <tr>\n",
       "      <th>6</th>\n",
       "      <td>Johnny</td>\n",
       "      <td>Reid</td>\n",
       "      <td>Steak</td>\n",
       "      <td>24.99</td>\n",
       "    </tr>\n",
       "    <tr>\n",
       "      <th>7</th>\n",
       "      <td>Frances</td>\n",
       "      <td>Adams</td>\n",
       "      <td>Salad</td>\n",
       "      <td>11.25</td>\n",
       "    </tr>\n",
       "  </tbody>\n",
       "</table>\n",
       "</div>"
      ],
      "text/plain": [
       "  First Name Last Name Food Item  Price\n",
       "1   Jennifer   Alvarez   Burrito   9.99\n",
       "5     Amanda    Howell     Pasta  13.99\n",
       "6     Johnny      Reid     Steak  24.99\n",
       "7    Frances     Adams     Salad  11.25"
      ]
     },
     "execution_count": 251,
     "metadata": {},
     "output_type": "execute_result"
    }
   ],
   "source": [
    "merged[merged['Price']>=5][[\"First Name\", \"Last Name\",\"Food Item\", \"Price\"]]"
   ]
  },
  {
   "cell_type": "code",
   "execution_count": 252,
   "metadata": {},
   "outputs": [
    {
     "data": {
      "text/html": [
       "<div>\n",
       "<style scoped>\n",
       "    .dataframe tbody tr th:only-of-type {\n",
       "        vertical-align: middle;\n",
       "    }\n",
       "\n",
       "    .dataframe tbody tr th {\n",
       "        vertical-align: top;\n",
       "    }\n",
       "\n",
       "    .dataframe thead th {\n",
       "        text-align: right;\n",
       "    }\n",
       "</style>\n",
       "<table border=\"1\" class=\"dataframe\">\n",
       "  <thead>\n",
       "    <tr style=\"text-align: right;\">\n",
       "      <th></th>\n",
       "      <th>First Name</th>\n",
       "      <th>Last Name</th>\n",
       "      <th>Food Item</th>\n",
       "      <th>Price</th>\n",
       "    </tr>\n",
       "  </thead>\n",
       "  <tbody>\n",
       "    <tr>\n",
       "      <th>5</th>\n",
       "      <td>Amanda</td>\n",
       "      <td>Howell</td>\n",
       "      <td>Pasta</td>\n",
       "      <td>13.99</td>\n",
       "    </tr>\n",
       "    <tr>\n",
       "      <th>7</th>\n",
       "      <td>Frances</td>\n",
       "      <td>Adams</td>\n",
       "      <td>Salad</td>\n",
       "      <td>11.25</td>\n",
       "    </tr>\n",
       "    <tr>\n",
       "      <th>8</th>\n",
       "      <td>Gregory</td>\n",
       "      <td>Chapman</td>\n",
       "      <td>Donut</td>\n",
       "      <td>0.99</td>\n",
       "    </tr>\n",
       "    <tr>\n",
       "      <th>1</th>\n",
       "      <td>Jennifer</td>\n",
       "      <td>Alvarez</td>\n",
       "      <td>Burrito</td>\n",
       "      <td>9.99</td>\n",
       "    </tr>\n",
       "    <tr>\n",
       "      <th>6</th>\n",
       "      <td>Johnny</td>\n",
       "      <td>Reid</td>\n",
       "      <td>Steak</td>\n",
       "      <td>24.99</td>\n",
       "    </tr>\n",
       "    <tr>\n",
       "      <th>0</th>\n",
       "      <td>Joseph</td>\n",
       "      <td>Perkins</td>\n",
       "      <td>Sushi</td>\n",
       "      <td>3.99</td>\n",
       "    </tr>\n",
       "    <tr>\n",
       "      <th>4</th>\n",
       "      <td>Judy</td>\n",
       "      <td>Morrison</td>\n",
       "      <td>Pizza</td>\n",
       "      <td>2.49</td>\n",
       "    </tr>\n",
       "    <tr>\n",
       "      <th>2</th>\n",
       "      <td>Roger</td>\n",
       "      <td>Black</td>\n",
       "      <td>Taco</td>\n",
       "      <td>2.99</td>\n",
       "    </tr>\n",
       "    <tr>\n",
       "      <th>3</th>\n",
       "      <td>Steven</td>\n",
       "      <td>Evans</td>\n",
       "      <td>Quesadilla</td>\n",
       "      <td>4.25</td>\n",
       "    </tr>\n",
       "    <tr>\n",
       "      <th>9</th>\n",
       "      <td>Steven</td>\n",
       "      <td>Ryan</td>\n",
       "      <td>Drink</td>\n",
       "      <td>1.75</td>\n",
       "    </tr>\n",
       "  </tbody>\n",
       "</table>\n",
       "</div>"
      ],
      "text/plain": [
       "  First Name Last Name   Food Item  Price\n",
       "5     Amanda    Howell       Pasta  13.99\n",
       "7    Frances     Adams       Salad  11.25\n",
       "8    Gregory   Chapman       Donut   0.99\n",
       "1   Jennifer   Alvarez     Burrito   9.99\n",
       "6     Johnny      Reid       Steak  24.99\n",
       "0     Joseph   Perkins       Sushi   3.99\n",
       "4       Judy  Morrison       Pizza   2.49\n",
       "2      Roger     Black        Taco   2.99\n",
       "3     Steven     Evans  Quesadilla   4.25\n",
       "9     Steven      Ryan       Drink   1.75"
      ]
     },
     "execution_count": 252,
     "metadata": {},
     "output_type": "execute_result"
    }
   ],
   "source": [
    "result = result.sort_values(by = \"First Name\")\n",
    "result"
   ]
  },
  {
   "cell_type": "code",
   "execution_count": null,
   "metadata": {},
   "outputs": [],
   "source": []
  },
  {
   "cell_type": "code",
   "execution_count": null,
   "metadata": {},
   "outputs": [],
   "source": []
  },
  {
   "cell_type": "code",
   "execution_count": null,
   "metadata": {},
   "outputs": [],
   "source": []
  },
  {
   "cell_type": "code",
   "execution_count": null,
   "metadata": {},
   "outputs": [],
   "source": []
  },
  {
   "cell_type": "code",
   "execution_count": null,
   "metadata": {},
   "outputs": [],
   "source": []
  },
  {
   "cell_type": "code",
   "execution_count": null,
   "metadata": {},
   "outputs": [],
   "source": []
  },
  {
   "cell_type": "code",
   "execution_count": null,
   "metadata": {},
   "outputs": [],
   "source": []
  },
  {
   "cell_type": "code",
   "execution_count": null,
   "metadata": {},
   "outputs": [],
   "source": []
  },
  {
   "cell_type": "code",
   "execution_count": null,
   "metadata": {},
   "outputs": [],
   "source": []
  },
  {
   "cell_type": "code",
   "execution_count": null,
   "metadata": {},
   "outputs": [],
   "source": []
  },
  {
   "cell_type": "code",
   "execution_count": null,
   "metadata": {},
   "outputs": [],
   "source": []
  },
  {
   "cell_type": "code",
   "execution_count": null,
   "metadata": {},
   "outputs": [],
   "source": []
  },
  {
   "cell_type": "code",
   "execution_count": null,
   "metadata": {},
   "outputs": [],
   "source": []
  },
  {
   "cell_type": "code",
   "execution_count": null,
   "metadata": {},
   "outputs": [],
   "source": []
  },
  {
   "cell_type": "code",
   "execution_count": null,
   "metadata": {},
   "outputs": [],
   "source": []
  },
  {
   "cell_type": "code",
   "execution_count": null,
   "metadata": {},
   "outputs": [],
   "source": []
  },
  {
   "cell_type": "code",
   "execution_count": null,
   "metadata": {},
   "outputs": [],
   "source": []
  },
  {
   "cell_type": "code",
   "execution_count": null,
   "metadata": {},
   "outputs": [],
   "source": []
  },
  {
   "cell_type": "code",
   "execution_count": null,
   "metadata": {},
   "outputs": [],
   "source": []
  },
  {
   "cell_type": "code",
   "execution_count": null,
   "metadata": {},
   "outputs": [],
   "source": []
  },
  {
   "cell_type": "code",
   "execution_count": null,
   "metadata": {},
   "outputs": [],
   "source": []
  },
  {
   "cell_type": "code",
   "execution_count": null,
   "metadata": {},
   "outputs": [],
   "source": []
  },
  {
   "cell_type": "code",
   "execution_count": null,
   "metadata": {},
   "outputs": [],
   "source": []
  },
  {
   "cell_type": "code",
   "execution_count": null,
   "metadata": {},
   "outputs": [],
   "source": []
  },
  {
   "cell_type": "code",
   "execution_count": null,
   "metadata": {},
   "outputs": [],
   "source": []
  },
  {
   "cell_type": "code",
   "execution_count": null,
   "metadata": {},
   "outputs": [],
   "source": []
  },
  {
   "cell_type": "code",
   "execution_count": null,
   "metadata": {},
   "outputs": [],
   "source": []
  },
  {
   "cell_type": "code",
   "execution_count": null,
   "metadata": {},
   "outputs": [],
   "source": []
  },
  {
   "cell_type": "code",
   "execution_count": null,
   "metadata": {},
   "outputs": [],
   "source": []
  },
  {
   "cell_type": "code",
   "execution_count": null,
   "metadata": {},
   "outputs": [],
   "source": []
  },
  {
   "cell_type": "code",
   "execution_count": null,
   "metadata": {},
   "outputs": [],
   "source": []
  },
  {
   "cell_type": "code",
   "execution_count": null,
   "metadata": {},
   "outputs": [],
   "source": []
  },
  {
   "cell_type": "code",
   "execution_count": null,
   "metadata": {},
   "outputs": [],
   "source": []
  },
  {
   "cell_type": "code",
   "execution_count": null,
   "metadata": {},
   "outputs": [],
   "source": []
  },
  {
   "cell_type": "code",
   "execution_count": null,
   "metadata": {},
   "outputs": [],
   "source": []
  },
  {
   "cell_type": "code",
   "execution_count": null,
   "metadata": {},
   "outputs": [],
   "source": []
  },
  {
   "cell_type": "code",
   "execution_count": null,
   "metadata": {},
   "outputs": [],
   "source": []
  },
  {
   "cell_type": "code",
   "execution_count": null,
   "metadata": {},
   "outputs": [],
   "source": []
  },
  {
   "cell_type": "code",
   "execution_count": null,
   "metadata": {},
   "outputs": [],
   "source": []
  },
  {
   "cell_type": "code",
   "execution_count": null,
   "metadata": {},
   "outputs": [],
   "source": []
  },
  {
   "cell_type": "code",
   "execution_count": null,
   "metadata": {},
   "outputs": [],
   "source": []
  },
  {
   "cell_type": "code",
   "execution_count": null,
   "metadata": {},
   "outputs": [],
   "source": []
  },
  {
   "cell_type": "code",
   "execution_count": null,
   "metadata": {},
   "outputs": [],
   "source": []
  },
  {
   "cell_type": "code",
   "execution_count": null,
   "metadata": {},
   "outputs": [],
   "source": []
  },
  {
   "cell_type": "code",
   "execution_count": null,
   "metadata": {},
   "outputs": [],
   "source": []
  },
  {
   "cell_type": "code",
   "execution_count": null,
   "metadata": {},
   "outputs": [],
   "source": []
  },
  {
   "cell_type": "code",
   "execution_count": null,
   "metadata": {},
   "outputs": [],
   "source": []
  },
  {
   "cell_type": "code",
   "execution_count": null,
   "metadata": {},
   "outputs": [],
   "source": []
  },
  {
   "cell_type": "code",
   "execution_count": null,
   "metadata": {},
   "outputs": [],
   "source": []
  },
  {
   "cell_type": "code",
   "execution_count": null,
   "metadata": {},
   "outputs": [],
   "source": []
  },
  {
   "cell_type": "code",
   "execution_count": null,
   "metadata": {},
   "outputs": [],
   "source": []
  },
  {
   "cell_type": "code",
   "execution_count": null,
   "metadata": {},
   "outputs": [],
   "source": []
  },
  {
   "cell_type": "code",
   "execution_count": null,
   "metadata": {},
   "outputs": [],
   "source": []
  },
  {
   "cell_type": "code",
   "execution_count": null,
   "metadata": {},
   "outputs": [],
   "source": []
  },
  {
   "cell_type": "code",
   "execution_count": null,
   "metadata": {},
   "outputs": [],
   "source": []
  },
  {
   "cell_type": "code",
   "execution_count": null,
   "metadata": {},
   "outputs": [],
   "source": []
  },
  {
   "cell_type": "code",
   "execution_count": null,
   "metadata": {},
   "outputs": [],
   "source": []
  },
  {
   "cell_type": "code",
   "execution_count": null,
   "metadata": {},
   "outputs": [],
   "source": []
  },
  {
   "cell_type": "code",
   "execution_count": null,
   "metadata": {},
   "outputs": [],
   "source": []
  }
 ],
 "metadata": {
  "colab": {
   "provenance": []
  },
  "kernelspec": {
   "display_name": "Python 3 (ipykernel)",
   "language": "python",
   "name": "python3"
  },
  "language_info": {
   "codemirror_mode": {
    "name": "ipython",
    "version": 3
   },
   "file_extension": ".py",
   "mimetype": "text/x-python",
   "name": "python",
   "nbconvert_exporter": "python",
   "pygments_lexer": "ipython3",
   "version": "3.12.2"
  }
 },
 "nbformat": 4,
 "nbformat_minor": 4
}
